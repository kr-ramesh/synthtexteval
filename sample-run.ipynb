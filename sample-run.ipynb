{
 "cells": [
  {
   "cell_type": "code",
   "execution_count": 1,
   "metadata": {},
   "outputs": [],
   "source": [
    "import pandas as pd"
   ]
  },
  {
   "cell_type": "markdown",
   "metadata": {},
   "source": [
    "### Generation and Inference"
   ]
  },
  {
   "cell_type": "code",
   "execution_count": 3,
   "metadata": {},
   "outputs": [],
   "source": [
    "import transformers\n",
    "import sdgeval.generation.controllable.argument_utils as argument_utils\n",
    "from sdgeval.generation.controllable.inference import inference\n",
    "from sdgeval.generation.controllable.train_generator import train\n",
    "from sdgeval.generation.controllable.testing_args import set_default_training_args, set_default_config_args"
   ]
  },
  {
   "cell_type": "markdown",
   "metadata": {},
   "source": [
    "#### Training the model to generate the synthetic data"
   ]
  },
  {
   "cell_type": "code",
   "execution_count": 4,
   "metadata": {},
   "outputs": [
    {
     "name": "stderr",
     "output_type": "stream",
     "text": [
      "/home/kramesh3/.local/lib/python3.9/site-packages/transformers/training_args.py:1545: FutureWarning: `evaluation_strategy` is deprecated and will be removed in version 4.46 of 🤗 Transformers. Use `eval_strategy` instead\n",
      "  warnings.warn(\n",
      "02/25/2025 14:55:50:WARNING:--dry_run was specified. Reducing number of training steps to 2 and logging intervals to 1...\n",
      "02/25/2025 14:55:50:WARNING:Process rank: 0, device: cuda:0, n_gpu: 6, distributed training: True, 16-bits training: False\n"
     ]
    },
    {
     "name": "stdout",
     "output_type": "stream",
     "text": [
      "CPU:  0.0\n",
      "Model:  princeton-nlp/Sheared-LLaMA-1.3B\n"
     ]
    },
    {
     "name": "stderr",
     "output_type": "stream",
     "text": [
      "[WARNING|logging.py:328] 2025-02-25 14:55:54,630 >> You are using the default legacy behaviour of the <class 'transformers.models.llama.tokenization_llama_fast.LlamaTokenizerFast'>. This is expected, and simply means that the `legacy` (previous) behavior will be used so nothing changes for you. If you want to use the new behaviour, set `legacy=False`. This should only be set if you understand what it means, and thoroughly read the reason why this was added as explained in https://github.com/huggingface/transformers/pull/24565 - if you loaded a llama tokenizer from a GGUF file you can ignore this message.\n",
      "02/25/2025 14:55:56:WARNING:Using the latest cached version of the module from /home/kramesh3/.cache/huggingface/modules/evaluate_modules/metrics/evaluate-metric--rouge/b01e0accf3bd6dd24839b769a5fda24e14995071570870922c71970b3a6ed886 (last modified on Fri Feb  2 20:35:49 2024) since it couldn't be found locally at evaluate-metric--rouge, or remotely on the Hugging Face Hub.\n"
     ]
    },
    {
     "name": "stdout",
     "output_type": "stream",
     "text": [
      "Data saved to dummy-test_data/\n",
      "Train: 278 samples, Validation: 35 samples, Test: 35 samples\n",
      "Length of the training set: 278\n",
      "Length of the validation set: 35\n",
      "Length of the test set : 35\n",
      "1572864\n",
      "Differentially Private Training: False\n"
     ]
    },
    {
     "name": "stderr",
     "output_type": "stream",
     "text": [
      "[WARNING|trainer.py:617] 2025-02-25 14:56:00,483 >> max_steps is given, it will override any value given in num_train_epochs\n",
      "\u001b[34m\u001b[1mwandb\u001b[0m: \u001b[33mWARNING\u001b[0m The `run_name` is currently set to the same value as `TrainingArguments.output_dir`. If this was not intended, please specify a different run name by setting the `TrainingArguments.run_name` parameter.\n",
      "\u001b[34m\u001b[1mwandb\u001b[0m: Using wandb-core as the SDK backend. Please refer to https://wandb.me/wandb-core for more information.\n",
      "\u001b[34m\u001b[1mwandb\u001b[0m: Currently logged in as: \u001b[33mkramesh-tlw\u001b[0m (\u001b[33mkramesh-tlw-johns-hopkins-university\u001b[0m). Use \u001b[1m`wandb login --relogin`\u001b[0m to force relogin\n"
     ]
    },
    {
     "data": {
      "text/html": [
       "Tracking run with wandb version 0.18.5"
      ],
      "text/plain": [
       "<IPython.core.display.HTML object>"
      ]
     },
     "metadata": {},
     "output_type": "display_data"
    },
    {
     "data": {
      "text/html": [
       "Run data is saved locally in <code>/home/kramesh3/sdgeval/wandb/run-20250225_145601-xdvrtqh5</code>"
      ],
      "text/plain": [
       "<IPython.core.display.HTML object>"
      ]
     },
     "metadata": {},
     "output_type": "display_data"
    },
    {
     "data": {
      "text/html": [
       "Syncing run <strong><a href='https://wandb.ai/kramesh-tlw-johns-hopkins-university/huggingface/runs/xdvrtqh5' target=\"_blank\">/data/projects/sdgeval/models/</a></strong> to <a href='https://wandb.ai/kramesh-tlw-johns-hopkins-university/huggingface' target=\"_blank\">Weights & Biases</a> (<a href='https://wandb.me/run' target=\"_blank\">docs</a>)<br/>"
      ],
      "text/plain": [
       "<IPython.core.display.HTML object>"
      ]
     },
     "metadata": {},
     "output_type": "display_data"
    },
    {
     "data": {
      "text/html": [
       " View project at <a href='https://wandb.ai/kramesh-tlw-johns-hopkins-university/huggingface' target=\"_blank\">https://wandb.ai/kramesh-tlw-johns-hopkins-university/huggingface</a>"
      ],
      "text/plain": [
       "<IPython.core.display.HTML object>"
      ]
     },
     "metadata": {},
     "output_type": "display_data"
    },
    {
     "data": {
      "text/html": [
       " View run at <a href='https://wandb.ai/kramesh-tlw-johns-hopkins-university/huggingface/runs/xdvrtqh5' target=\"_blank\">https://wandb.ai/kramesh-tlw-johns-hopkins-university/huggingface/runs/xdvrtqh5</a>"
      ],
      "text/plain": [
       "<IPython.core.display.HTML object>"
      ]
     },
     "metadata": {},
     "output_type": "display_data"
    },
    {
     "name": "stderr",
     "output_type": "stream",
     "text": [
      "/data/kramesh3/envs/sdg-env/lib/python3.9/site-packages/torch/nn/parallel/_functions.py:70: UserWarning: Was asked to gather along dimension 0, but all input tensors were scalars; will instead unsqueeze and return a vector.\n",
      "  warnings.warn(\n"
     ]
    },
    {
     "name": "stdout",
     "output_type": "stream",
     "text": [
      "{'loss': 1.9882, 'learning_rate': 0.0003, 'epoch': 0.08333333333333333}\n",
      "{'loss': 1.9991, 'learning_rate': 0.0003, 'epoch': 0.16666666666666666}\n"
     ]
    },
    {
     "name": "stderr",
     "output_type": "stream",
     "text": [
      "/data/kramesh3/envs/sdg-env/lib/python3.9/site-packages/peft/utils/save_and_load.py:160: UserWarning: Setting `save_embedding_layers` to `True` as the embedding layer has been resized during finetuning.\n",
      "  warnings.warn(\n"
     ]
    },
    {
     "name": "stdout",
     "output_type": "stream",
     "text": [
      "{'train_runtime': 10.7472, 'train_samples_per_second': 4.466, 'train_steps_per_second': 0.186, 'train_loss': 1.9936314821243286, 'epoch': 0.16666666666666666}\n"
     ]
    },
    {
     "name": "stderr",
     "output_type": "stream",
     "text": [
      "/data/kramesh3/envs/sdg-env/lib/python3.9/site-packages/peft/utils/save_and_load.py:160: UserWarning: Setting `save_embedding_layers` to `True` as the embedding layer has been resized during finetuning.\n",
      "  warnings.warn(\n"
     ]
    }
   ],
   "source": [
    "if __name__ == \"__main__\":\n",
    "    train_args = set_default_training_args(dry_run=True)\n",
    "    \n",
    "    model_args, data_args = set_default_config_args()\n",
    "    privacy_args, lora_args= argument_utils.PrivacyArguments(), argument_utils.LoraArguments()\n",
    "    privacy_args.disable_dp = True\n",
    "    data_args.dataset_name = 'wiki'\n",
    "    data_args.path_to_dataset = '/data/datasets/wikipedia-biographies-v1-post-2020->-200.csv'\n",
    "    model_args.path_to_save_model = 'dummy-test'\n",
    "    #data_args.prompt_begin = \"Label: \"\n",
    "    #data_args.prompt_end = \" \"\n",
    "    \n",
    "    train(argument_utils.Arguments(train=train_args, privacy=privacy_args, model=model_args, data = data_args, lora=lora_args))"
   ]
  },
  {
   "cell_type": "markdown",
   "metadata": {},
   "source": [
    "#### Performing inference in order to generate the synthetic data "
   ]
  },
  {
   "cell_type": "code",
   "execution_count": 5,
   "metadata": {},
   "outputs": [
    {
     "name": "stderr",
     "output_type": "stream",
     "text": [
      "/home/kramesh3/.local/lib/python3.9/site-packages/transformers/training_args.py:1545: FutureWarning: `evaluation_strategy` is deprecated and will be removed in version 4.46 of 🤗 Transformers. Use `eval_strategy` instead\n",
      "  warnings.warn(\n"
     ]
    },
    {
     "name": "stdout",
     "output_type": "stream",
     "text": [
      "0\n",
      "CPU:  0.1\n",
      "Model:  princeton-nlp/Sheared-LLaMA-1.3B\n"
     ]
    },
    {
     "name": "stderr",
     "output_type": "stream",
     "text": [
      "02/25/2025 14:57:17:WARNING:Using the latest cached version of the module from /home/kramesh3/.cache/huggingface/modules/evaluate_modules/metrics/evaluate-metric--rouge/b01e0accf3bd6dd24839b769a5fda24e14995071570870922c71970b3a6ed886 (last modified on Fri Feb  2 20:35:49 2024) since it couldn't be found locally at evaluate-metric--rouge, or remotely on the Hugging Face Hub.\n"
     ]
    },
    {
     "name": "stdout",
     "output_type": "stream",
     "text": [
      "Using LoRA\n",
      "Total number of parameters of the model: 1347000320\n",
      "Fine-tuned number of parameters of the model: 0\n",
      "Differentially Private Training: False\n",
      "Non-DP model has been loaded...\n",
      "Testing for the entire dataset. Number of generations per prompt:  5\n",
      "{'Unnamed: 0': [163, 163, 163, 163, 163, 255, 255, 255, 255, 255, 322, 322, 322, 322, 322, 167, 167, 167, 167, 167, 237, 237, 237, 237, 237], 'Name': ['Liza Hanim', 'Liza Hanim', 'Liza Hanim', 'Liza Hanim', 'Liza Hanim', 'Nathan Peabody Ames', 'Nathan Peabody Ames', 'Nathan Peabody Ames', 'Nathan Peabody Ames', 'Nathan Peabody Ames', 'Ghib Ojisan', 'Ghib Ojisan', 'Ghib Ojisan', 'Ghib Ojisan', 'Ghib Ojisan', 'Blanche Pritchard McCrum', 'Blanche Pritchard McCrum', 'Blanche Pritchard McCrum', 'Blanche Pritchard McCrum', 'Blanche Pritchard McCrum', 'Max Gerlach', 'Max Gerlach', 'Max Gerlach', 'Max Gerlach', 'Max Gerlach'], '__index_level_0__': [0, 0, 0, 0, 0, 1, 1, 1, 1, 1, 2, 2, 2, 2, 2, 3, 3, 3, 3, 3, 4, 4, 4, 4, 4]}\n",
      "Length of test data 5\n"
     ]
    },
    {
     "name": "stderr",
     "output_type": "stream",
     "text": [
      "[WARNING|logging.py:313] 2025-02-25 14:57:23,608 >> You're using a LlamaTokenizerFast tokenizer. Please note that with a fast tokenizer, using the `__call__` method is faster than using a method to encode the text followed by a call to the `pad` method to get a padded encoding.\n",
      "[WARNING|logging.py:328] 2025-02-25 14:57:23,638 >> Starting from v4.46, the `logits` model output will have the same type as the model (except at train time, where it will always be FP32)\n"
     ]
    },
    {
     "name": "stdout",
     "output_type": "stream",
     "text": [
      "Saving results to file...\n"
     ]
    }
   ],
   "source": [
    "if __name__ == \"__main__\":\n",
    "    train_args = set_default_training_args(dry_run=False, dry_test_run = True)\n",
    "    \n",
    "    model_args, data_args = set_default_config_args()\n",
    "    privacy_args, lora_args= argument_utils.PrivacyArguments(), argument_utils.LoraArguments()\n",
    "    model_args.inference = True\n",
    "    privacy_args.disable_dp = True\n",
    "    data_args.dataset_name = 'wiki'\n",
    "    data_args.path_to_test_dataset = 'dummy-test_data/test.csv'\n",
    "    model_args.path_to_load_model = 'dummy-test'\n",
    "    model_args.num_return_seq = 5\n",
    "    #data_args.prompt_begin = \"Label: \"\n",
    "    #data_args.prompt_end = \" \"\n",
    "    \n",
    "    inference(argument_utils.Arguments(train=train_args, privacy=privacy_args, model=model_args, data = data_args, lora=lora_args))"
   ]
  },
  {
   "cell_type": "markdown",
   "metadata": {},
   "source": [
    "### Descriptive analysis of the synthetic data"
   ]
  },
  {
   "cell_type": "code",
   "execution_count": null,
   "metadata": {},
   "outputs": [],
   "source": [
    "import pandas as pd\n",
    "import nltk\n",
    "from sdgeval.descriptive.descriptor import TextDescriptor\n",
    "from sdgeval.descriptive.arguments import TextDescriptorArgs\n",
    "nltk.download('punkt_tab')"
   ]
  },
  {
   "cell_type": "code",
   "execution_count": 6,
   "metadata": {},
   "outputs": [],
   "source": [
    "df = pd.read_csv('test-outputs.csv')\n",
    "data = {'texts': df['output_text'].tolist()[:10]}"
   ]
  },
  {
   "cell_type": "code",
   "execution_count": null,
   "metadata": {},
   "outputs": [
    {
     "name": "stderr",
     "output_type": "stream",
     "text": [
      "[nltk_data] Downloading package punkt to /home/kramesh3/nltk_data...\n",
      "[nltk_data]   Package punkt is already up-to-date!\n"
     ]
    },
    {
     "name": "stdout",
     "output_type": "stream",
     "text": [
      "Most frequent entities: [('Nathan Peabody Ames', 17), ('Liza Hanim', 9), ('first', 8), ('American', 8), ('Boston', 6), ('Massachusetts', 6), ('East Germany', 5), ('1945', 5), ('Nathan', 5), ('Hanim', 4)]\n",
      "Least frequent entities: {'30 May 1940': 1, 'Islamism': 1, 'Islamic': 1, 'the Arab Spring': 1, 'the Middle East': 1, 'Jewish': 1, 'the Faculty of Philosophy and Literature': 1, 'the University of Istanbul': 1, '1958': 1, \"the Istanbul Prosecutor's Office\": 1, '1972 to 1975': 1, \"Master's Degree\": 1, 'Ege University': 1, 'Turkey': 1, 'the United States': 1, 'the New York Review of Books': 1, 'Newsweek': 1, 'the 1980s': 1, 'East London': 1, 'Toxteth': 1, 'Bangladeshi': 1, '4th': 1, 'November 1954': 1, 'Muhammad Hussain': 1, '1982': 1, 'Muhammad Ali': 1, 'Mohammad Ali': 1, 'Rs': 1, '500,000': 1, 'Mohammad Rashid': 1, 'London': 1, 'Liza Hanim Biography': 1, 'Moussa Hanim': 1, 'Tawana Kandola': 1, 'Moussa': 1, 'RN': 1, 'Tawana': 1, \"Liza Hanim Biography - Liza Hanim's\": 1, '2016': 1, 'Liza Hanim &': 1, 'Aphrodite: Love of Goddess': 1, 'Gemini': 1, 'Gemini-Awards': 1, 'Younger Program': 1, \"a People's Choice Award\": 1, 'Calgary': 1, 'New Orleans': 1, 'Toronto': 1, 'the age of 9': 1, 'the age of 12': 1, 'Canadians': 1, '1996': 1, 'the age of 11': 1, 'Berlin Konzerthaus Music College': 1, 'age 22': 1, 'the International Tchaikovsky Competition for Soloists': 1, 'the International Beethoven Competition': 1, 'the Vienna Festival': 1, 'Vienna': 1, 'Russian': 1, 'ACTRESS': 1, '1963': 1, 'Actress': 1, 'Berlin': 1, 'East Berlin': 1, 'Silesia': 1, 'July 17, 1908': 1, 'Park Slope': 1, 'New York City': 1, 'the Brooklyn Board of Supervisors': 1, 'African-American': 1, 'NY': 1, 'sixth': 1, 'ten': 1, 'Methodist': 1, 'John Quincy Adams Ames': 1, 'United States': 1, 'Vatican': 1, 'Nathan Peabody': 1, 'Amherst College': 1, '1': 1, 'Nathan Peabody Ames Biography :': 1, '1903 06 03': 1, 'Worcester': 1, 'Bostonia': 1, 'USA': 1, 'the past 30 days': 1, 'American Philosophers of the 20th century': 1, '100': 1, 'Americans': 1, 'the 20th Century': 1, 'five': 1, 'The Civil War': 1, 'the University of Michigan': 1, '1864 to 1866': 1, 'that year': 1, 'the Michigan Literary Magazine': 1, 'University': 1, '1866': 1, 'the next six years': 1, '1868': 1, 'Michigan State University': 1, '1876': 1, 'the National Review': 1, 'Century': 1, '1878': 1, 'The Metropolitan Magazine': 1, 'Between 1876 and 1878': 1, '115': 1, \"the Ladd's Almanac\": 1, '1879': 1, 'The Old-Timer': 1, 'Upper Peninsula': 1, 'December 7, 1833 - December 28, 1912': 1, 'third': 1, '1898 to 1906': 1, 'Benjamin Franklin': 1, 'Charles.': 1, 'Boston Latin School': 1, 'Harvard University': 1, 'Latin': 1, 'Democratic': 1, '1897': 1, '1898': 1, '51 percent': 1, 'the American Society for American History': 1, 'December 30, 1821 - June 12, 1891': 1, 'three': 1, 'the Civil War': 1, '\"The History of the War of the Rebellion': 1, 'Biography of a State': 1, 'the University of Virginia': 1, 'the University of Chicago': 1, 'Newbury': 1, 'Essex County': 1, 'December 30, 1821': 1, 'Captain Nathan Peabody': 1, 'the Continental Navy': 1, 'Newburyport': 1, 'Nathan Ames': 1, 'only two years old': 1, 'Washington': 1, 'Washington High School': 1, '1840': 1, '1845': 1, 'Elizabeth Stoddard': 1, 'the Daughters of the American Revolution': 1}\n",
      "Saving the pickle results to: entity-output.pkl\n",
      "Saving the plot figure to:  entity-analysis.png\n"
     ]
    },
    {
     "data": {
      "image/png": "[encoded data removed]",
      "text/plain": [
       "<Figure size 1000x600 with 1 Axes>"
      ]
     },
     "metadata": {},
     "output_type": "display_data"
    }
   ],
   "source": [
    "desc_analyze = TextDescriptor(data['texts'], TextDescriptorArgs(produce_plot=True))\n",
    "desc_analyze.analyze_entities()"
   ]
  },
  {
   "cell_type": "code",
   "execution_count": 8,
   "metadata": {},
   "outputs": [
    {
     "name": "stdout",
     "output_type": "stream",
     "text": [
      "[(0, '0.042*\"in\" + 0.036*\".\" + 0.033*\",\" + 0.030*\"and\" + 0.027*\"her\"'), (1, '0.058*\",\" + 0.048*\"the\" + 0.033*\".\" + 0.032*\"and\" + 0.032*\"a\"'), (2, '0.002*\",\" + 0.002*\"the\" + 0.002*\"in\" + 0.002*\"was\" + 0.002*\"of\"')]\n",
      "(array(['000', '03', '06', '100', '11', '115', '12', '17', '1821', '1822',\n",
      "       '1833', '1840', '1845', '1864', '1866', '1868', '1876', '1878',\n",
      "       '1879', '1888', '1891', '1893', '1897', '1898', '1903', '1906',\n",
      "       '1908', '1912', '1940', '1945', '1954', '1958', '1961', '1963',\n",
      "       '1965', '1966', '1972', '1975', '1977', '1980s', '1982', '1996',\n",
      "       '20', '2016', '20th', '22', '28', '30', '4th', '500', '51',\n",
      "       'about', 'academic', 'across', 'acting', 'actress', 'adams',\n",
      "       'advertisements', 'affair', 'african', 'after', 'again', 'age',\n",
      "       'aired', 'ali', 'allowed', 'almanac', 'also', 'always',\n",
      "       'ambassador', 'american', 'americans', 'ames', 'amherst', 'among',\n",
      "       'amount', 'an', 'ancient', 'and', 'animal', 'animals', 'animated',\n",
      "       'aphrodite', 'appearance', 'appeared', 'appearing', 'arab',\n",
      "       'architectural', 'are', 'area', 'army', 'articles', 'as',\n",
      "       'aspiring', 'at', 'atlanta', 'attended', 'author', 'autobiography',\n",
      "       'award', 'awards', 'bangladesh', 'bangladeshi', 'base', 'be',\n",
      "       'became', 'become', 'been', 'beethoven', 'began', 'being',\n",
      "       'benjamin', 'berlin', 'best', 'between', 'biography', 'bitter',\n",
      "       'black', 'board', 'book', 'books', 'bookstore', 'born', 'borough',\n",
      "       'boston', 'bostonia', 'both', 'breathed', 'brooklyn', 'brother',\n",
      "       'but', 'by', 'calgary', 'called', 'campaign', 'can', 'canada',\n",
      "       'canadian', 'canadians', 'captain', 'career', 'cast', 'category',\n",
      "       'cedarburg', 'century', 'changed', 'character', 'charitable',\n",
      "       'charles', 'chicago', 'child', 'childhood', 'children', 'choice',\n",
      "       'cited', 'city', 'civil', 'cloth', 'co', 'college', 'colleges',\n",
      "       'commercial', 'community', 'competition', 'completing',\n",
      "       'condition', 'conducted', 'consultant', 'continental',\n",
      "       'contributed', 'contributor', 'county', 'critic', 'danced',\n",
      "       'daughters', 'days', 'december', 'decided', 'decreased',\n",
      "       'degrassi', 'degree', 'democratic', 'detective', 'detroit',\n",
      "       'development', 'died', 'disciplines', 'district', 'divorce', 'do',\n",
      "       'dorcas', 'during', 'early', 'earn', 'east', 'educated',\n",
      "       'educator', 'ege', 'elizabeth', 'ended', 'english', 'enjoyed',\n",
      "       'enrolled', 'entitled', 'entrepreneur', 'entry', 'episode',\n",
      "       'essayist', 'essex', 'establish', 'establishment', 'expansion',\n",
      "       'experiences', 'extensively', 'faculty', 'family', 'famous',\n",
      "       'father', 'festival', 'fields', 'figure', 'firm', 'first', 'five',\n",
      "       'for', 'found', 'founder', 'founders', 'franklin', 'free',\n",
      "       'freelance', 'from', 'gave', 'gemini', 'generation', 'germany',\n",
      "       'get', 'girl', 'goddess', 'gold', 'good', 'government',\n",
      "       'graduated', 'graduating', 'graduation', 'grammar', 'greek',\n",
      "       'grew', 'had', 'hanim', 'harder', 'harvard', 'has', 'have', 'he',\n",
      "       'held', 'helped', 'helping', 'her', 'herself', 'high', 'him',\n",
      "       'his', 'historian', 'history', 'home', 'hospital', 'hotel',\n",
      "       'house', 'however', 'husband', 'hussain', 'imagine', 'implement',\n",
      "       'improvement', 'in', 'including', 'influenced', 'influential',\n",
      "       'inspired', 'institutions', 'interested', 'international', 'into',\n",
      "       'invited', 'is', 'islamic', 'islamism', 'istanbul', 'it', 'its',\n",
      "       'jewish', 'job', 'john', 'journalist', 'journals', 'july', 'june',\n",
      "       'kandola', 'keep', 'known', 'konzerthaus', 'kutupalong', 'ladd',\n",
      "       'last', 'later', 'latin', 'law', 'lawyer', 'leader', 'lectures',\n",
      "       'led', 'lena', 'liberal', 'libraries', 'life', 'listed',\n",
      "       'literary', 'literature', 'little', 'lived', 'living', 'liza',\n",
      "       'loan', 'local', 'london', 'lost', 'lot', 'love', 'loved', 'lucy',\n",
      "       'made', 'magazine', 'magazines', 'main', 'major', 'majored',\n",
      "       'many', 'marriage', 'married', 'massachusetts', 'master', 'may',\n",
      "       'mayor', 'medal', 'meet', 'member', 'metaphysics', 'methodist',\n",
      "       'metropolitan', 'michigan', 'middle', 'minister', 'model',\n",
      "       'mohammad', 'mom', 'money', 'most', 'mother', 'moussa', 'moved',\n",
      "       'movement', 'muhammad', 'municipal', 'mus', 'music', 'musician',\n",
      "       'musicians', 'name', 'narrowly', 'nathan', 'national', 'naval',\n",
      "       'navy', 'neighborhood', 'new', 'newbury', 'newburyport',\n",
      "       'newspaper', 'newspapers', 'newsweek', 'next', 'nominated', 'not',\n",
      "       'notorious', 'novel', 'novelist', 'november', 'number', 'ny', 'of',\n",
      "       'office', 'officer', 'often', 'old', 'on', 'once', 'one', 'only',\n",
      "       'opinions', 'or', 'ordained', 'orleans', 'other', 'out',\n",
      "       'outstanding', 'over', 'own', 'owned', 'parents', 'park',\n",
      "       'particularly', 'parties', 'passion', 'past', 'peabody',\n",
      "       'peninsula', 'people', 'percent', 'perform', 'performance',\n",
      "       'philosopher', 'philosophers', 'philosophical', 'philosophy',\n",
      "       'piano', 'poet', 'poetry', 'political', 'politician', 'poor',\n",
      "       'popular', 'popularity', 'portrayed', 'posted', 'power', 'praises',\n",
      "       'predominantly', 'president', 'press', 'prince', 'print', 'prize',\n",
      "       'profession', 'professional', 'professor', 'program', 'prominence',\n",
      "       'promises', 'prosecutor', 'psychology', 'public', 'published',\n",
      "       'publishing', 'puffin', 'pursued', 'quincy', 'ran', 'rashid',\n",
      "       'really', 'rebellion', 'receiving', 'relations', 'republican',\n",
      "       'research', 'retailer', 'review', 'revolution', 'rhetoric',\n",
      "       'rights', 'rn', 'role', 'rose', 'routine', 'rs', 'rural',\n",
      "       'russian', 'scholarly', 'school', 'schools', 'separated', 'series',\n",
      "       'serve', 'served', 'serving', 'set', 'several', 'she', 'shop',\n",
      "       'short', 'show', 'significant', 'silesia', 'since', 'sister',\n",
      "       'six', 'sixth', 'slope', 'small', 'so', 'society', 'soldier',\n",
      "       'soloists', 'son', 'spent', 'spring', 'stage', 'star', 'started',\n",
      "       'state', 'states', 'statesman', 'stay', 'stoddard', 'stone',\n",
      "       'stories', 'student', 'students', 'studied', 'study',\n",
      "       'subsequently', 'success', 'successful', 'supervisors', 'support',\n",
      "       'supported', 'system', 'tagged', 'taught', 'tawana', 'tchaikovsky',\n",
      "       'teacher', 'teachers', 'teaching', 'teen', 'teenage', 'television',\n",
      "       'ten', 'tendency', 'that', 'the', 'them', 'then', 'theories',\n",
      "       'there', 'they', 'third', 'this', 'three', 'ticket', 'time',\n",
      "       'timer', 'title', 'titled', 'to', 'took', 'top', 'toronto', 'town',\n",
      "       'toxteth', 'translated', 'translator', 'travel', 'travelling',\n",
      "       'turkey', 'turkish', 'tv', 'two', 'ugly', 'unfulfilling', 'united',\n",
      "       'universities', 'university', 'up', 'upper', 'usa', 'variety',\n",
      "       'vatican', 'very', 'victory', 'vienna', 'view', 'virginia',\n",
      "       'volunteer', 'vote', 'wanted', 'war', 'was', 'washington',\n",
      "       'wealth', 'well', 'went', 'when', 'where', 'which', 'while', 'who',\n",
      "       'wide', 'winner', 'wisconsin', 'with', 'women', 'won', 'woods',\n",
      "       'worcester', 'work', 'worked', 'works', 'world', 'would', 'write',\n",
      "       'writer', 'writing', 'wrote', 'year', 'years', 'ymca', 'york',\n",
      "       'young', 'younger', 'youngest'], dtype=object), array([[0.        , 0.        , 0.        , ..., 0.        , 0.        ,\n",
      "        0.        ],\n",
      "       [0.04878688, 0.        , 0.        , ..., 0.        , 0.        ,\n",
      "        0.        ],\n",
      "       [0.        , 0.        , 0.        , ..., 0.16257854, 0.04606887,\n",
      "        0.        ],\n",
      "       ...,\n",
      "       [0.        , 0.        , 0.        , ..., 0.        , 0.        ,\n",
      "        0.        ],\n",
      "       [0.        , 0.        , 0.        , ..., 0.        , 0.        ,\n",
      "        0.        ],\n",
      "       [0.        , 0.        , 0.        , ..., 0.        , 0.        ,\n",
      "        0.        ]]))\n",
      "([(('nathan', 'peabody'), 20), (('of', 'the'), 19), ((',', 'born'), 18), (('peabody', 'ames'), 18), (('.', 'he'), 17)], [(('he', 'died'), 1), (('revolution', '.'), 1), (('american', 'revolution'), 1), (('daughters', 'of'), 1), (('the', 'daughters'), 1)])\n"
     ]
    }
   ],
   "source": [
    "print(desc_analyze._topic_modeling())\n",
    "print(desc_analyze._compute_tfidf())\n",
    "print(desc_analyze._ngram_frequency())"
   ]
  },
  {
   "cell_type": "code",
   "execution_count": 9,
   "metadata": {},
   "outputs": [
    {
     "name": "stdout",
     "output_type": "stream",
     "text": [
      "Data saved to downstream-dummy-test\n",
      "Train: 17 samples, Validation: 4 samples, Test: 4 samples\n"
     ]
    }
   ],
   "source": [
    "from sdgeval.utils.utils import create_classification_dataset\n",
    "\n",
    "df = pd.read_csv('test-outputs.csv')\n",
    "_, _, _ = create_classification_dataset(df, label_column = 'Name', output_json_path = 'dummy-mapping.json',\n",
    "                                        output_dir = 'downstream-dummy-test', multilabel = False, train_ratio = 0.7, test_ratio = 0.15, val_ratio = 0.15)\n",
    "#df = pd.read_csv('test-outputs.csv')\n",
    "#df, _ = encode_labels(df, label_column='Name', output_json_path = 'dummy-mapping.json')\n",
    "#_, _, _ = split_and_save_dataframe(df, 'downstream-dummy-test', train_ratio = 0.7, test_ratio = 0.15, val_ratio=0.15)"
   ]
  },
  {
   "cell_type": "markdown",
   "metadata": {},
   "source": [
    "### Training and testing a downstream classifier"
   ]
  },
  {
   "cell_type": "markdown",
   "metadata": {},
   "source": [
    "#### Training a downstream classifier"
   ]
  },
  {
   "cell_type": "code",
   "execution_count": 11,
   "metadata": {},
   "outputs": [
    {
     "name": "stderr",
     "output_type": "stream",
     "text": [
      "/home/kramesh3/.local/lib/python3.9/site-packages/transformers/training_args.py:1545: FutureWarning: `evaluation_strategy` is deprecated and will be removed in version 4.46 of 🤗 Transformers. Use `eval_strategy` instead\n",
      "  warnings.warn(\n",
      "[WARNING|integration_utils.py:100] 2025-02-25 14:58:12,051 >> Using the `WANDB_DISABLED` environment variable is deprecated and will be removed in v5. Use the --report_to flag to control the integrations used for logging result (for instance --report_to none).\n"
     ]
    },
    {
     "name": "stdout",
     "output_type": "stream",
     "text": [
      "Initialization...\n",
      "Training:\n",
      "\n",
      "DatasetDict({\n",
      "    train: Dataset({\n",
      "        features: ['Unnamed: 0.1', 'Unnamed: 0', 'Name', '__index_level_0__', 'input_prompt', 'output_text', 'Label'],\n",
      "        num_rows: 17\n",
      "    })\n",
      "    validation: Dataset({\n",
      "        features: ['Unnamed: 0.1', 'Unnamed: 0', 'Name', '__index_level_0__', 'input_prompt', 'output_text', 'Label'],\n",
      "        num_rows: 4\n",
      "    })\n",
      "    test: Dataset({\n",
      "        features: ['Unnamed: 0.1', 'Unnamed: 0', 'Name', '__index_level_0__', 'input_prompt', 'output_text', 'Label'],\n",
      "        num_rows: 4\n",
      "    })\n",
      "})\n",
      "Successfully loaded dataset '/home/kramesh3/sdgeval/downstream-dummy-test' from Hugging Face Hub.\n",
      "Loading base model for fine-tuning...\n"
     ]
    },
    {
     "name": "stderr",
     "output_type": "stream",
     "text": [
      "[WARNING|modeling_utils.py:4576] 2025-02-25 14:58:12,319 >> Some weights of BertForSequenceClassification were not initialized from the model checkpoint at bert-base-uncased and are newly initialized: ['classifier.bias', 'classifier.weight']\n",
      "You should probably TRAIN this model on a down-stream task to be able to use it for predictions and inference.\n"
     ]
    },
    {
     "name": "stdout",
     "output_type": "stream",
     "text": [
      "Preprocessing dataset!\n"
     ]
    },
    {
     "name": "stderr",
     "output_type": "stream",
     "text": [
      "/home/kramesh3/.local/lib/python3.9/site-packages/transformers/tokenization_utils_base.py:2829: FutureWarning: The `pad_to_max_length` argument is deprecated and will be removed in a future version, use `padding=True` or `padding='longest'` to pad to the longest sequence in the batch, or use `padding='max_length'` to pad to a max length. In this case, you can give a specific length with `max_length` (e.g. `max_length=45`) or leave max_length to None to pad to the maximal input size of the model (e.g. 512 for Bert).\n",
      "  warnings.warn(\n"
     ]
    },
    {
     "name": "stdout",
     "output_type": "stream",
     "text": [
      "Model training begins!\n"
     ]
    },
    {
     "name": "stderr",
     "output_type": "stream",
     "text": [
      "/data/kramesh3/envs/sdg-env/lib/python3.9/site-packages/torch/nn/parallel/_functions.py:70: UserWarning: Was asked to gather along dimension 0, but all input tensors were scalars; will instead unsqueeze and return a vector.\n",
      "  warnings.warn(\n"
     ]
    },
    {
     "data": {
      "text/html": [
       "\n",
       "    <div>\n",
       "      \n",
       "      <progress value='3' max='3' style='width:300px; height:20px; vertical-align: middle;'></progress>\n",
       "      [3/3 00:02, Epoch 3/3]\n",
       "    </div>\n",
       "    <table border=\"1\" class=\"dataframe\">\n",
       "  <thead>\n",
       " <tr style=\"text-align: left;\">\n",
       "      <th>Epoch</th>\n",
       "      <th>Training Loss</th>\n",
       "      <th>Validation Loss</th>\n",
       "      <th>Precision</th>\n",
       "      <th>Recall</th>\n",
       "      <th>F1</th>\n",
       "      <th>Accuracy</th>\n",
       "    </tr>\n",
       "  </thead>\n",
       "  <tbody>\n",
       "    <tr>\n",
       "      <td>1</td>\n",
       "      <td>No log</td>\n",
       "      <td>1.652247</td>\n",
       "      <td>0.000000</td>\n",
       "      <td>0.000000</td>\n",
       "      <td>0.000000</td>\n",
       "      <td>0.000000</td>\n",
       "    </tr>\n",
       "    <tr>\n",
       "      <td>2</td>\n",
       "      <td>No log</td>\n",
       "      <td>1.621177</td>\n",
       "      <td>0.000000</td>\n",
       "      <td>0.000000</td>\n",
       "      <td>0.000000</td>\n",
       "      <td>0.000000</td>\n",
       "    </tr>\n",
       "    <tr>\n",
       "      <td>3</td>\n",
       "      <td>No log</td>\n",
       "      <td>1.599137</td>\n",
       "      <td>0.000000</td>\n",
       "      <td>0.000000</td>\n",
       "      <td>0.000000</td>\n",
       "      <td>0.000000</td>\n",
       "    </tr>\n",
       "  </tbody>\n",
       "</table><p>"
      ],
      "text/plain": [
       "<IPython.core.display.HTML object>"
      ]
     },
     "metadata": {},
     "output_type": "display_data"
    },
    {
     "name": "stderr",
     "output_type": "stream",
     "text": [
      "/home/kramesh3/.local/lib/python3.9/site-packages/sklearn/metrics/_classification.py:1509: UndefinedMetricWarning: Precision is ill-defined and being set to 0.0 in labels with no predicted samples. Use `zero_division` parameter to control this behavior.\n",
      "  _warn_prf(average, modifier, f\"{metric.capitalize()} is\", len(result))\n",
      "/home/kramesh3/.local/lib/python3.9/site-packages/sklearn/metrics/_classification.py:1509: UndefinedMetricWarning: Recall is ill-defined and being set to 0.0 in labels with no true samples. Use `zero_division` parameter to control this behavior.\n",
      "  _warn_prf(average, modifier, f\"{metric.capitalize()} is\", len(result))\n",
      "/data/kramesh3/envs/sdg-env/lib/python3.9/site-packages/torch/nn/parallel/_functions.py:70: UserWarning: Was asked to gather along dimension 0, but all input tensors were scalars; will instead unsqueeze and return a vector.\n",
      "  warnings.warn(\n",
      "/home/kramesh3/.local/lib/python3.9/site-packages/sklearn/metrics/_classification.py:1509: UndefinedMetricWarning: Precision is ill-defined and being set to 0.0 in labels with no predicted samples. Use `zero_division` parameter to control this behavior.\n",
      "  _warn_prf(average, modifier, f\"{metric.capitalize()} is\", len(result))\n",
      "/home/kramesh3/.local/lib/python3.9/site-packages/sklearn/metrics/_classification.py:1509: UndefinedMetricWarning: Recall is ill-defined and being set to 0.0 in labels with no true samples. Use `zero_division` parameter to control this behavior.\n",
      "  _warn_prf(average, modifier, f\"{metric.capitalize()} is\", len(result))\n",
      "/data/kramesh3/envs/sdg-env/lib/python3.9/site-packages/torch/nn/parallel/_functions.py:70: UserWarning: Was asked to gather along dimension 0, but all input tensors were scalars; will instead unsqueeze and return a vector.\n",
      "  warnings.warn(\n",
      "/data/kramesh3/envs/sdg-env/lib/python3.9/site-packages/torch/nn/parallel/_functions.py:70: UserWarning: Was asked to gather along dimension 0, but all input tensors were scalars; will instead unsqueeze and return a vector.\n",
      "  warnings.warn(\n",
      "/home/kramesh3/.local/lib/python3.9/site-packages/sklearn/metrics/_classification.py:1509: UndefinedMetricWarning: Precision is ill-defined and being set to 0.0 in labels with no predicted samples. Use `zero_division` parameter to control this behavior.\n",
      "  _warn_prf(average, modifier, f\"{metric.capitalize()} is\", len(result))\n",
      "/home/kramesh3/.local/lib/python3.9/site-packages/sklearn/metrics/_classification.py:1509: UndefinedMetricWarning: Recall is ill-defined and being set to 0.0 in labels with no true samples. Use `zero_division` parameter to control this behavior.\n",
      "  _warn_prf(average, modifier, f\"{metric.capitalize()} is\", len(result))\n"
     ]
    }
   ],
   "source": [
    "from transformers import TrainingArguments as HfTrainingArguments\n",
    "from sdgeval.downstream.classify.train_classifier import TrainingArguments, ModelArguments, Classifier, Arguments\n",
    "\n",
    "if __name__ == \"__main__\":\n",
    "        #arg_parser = transformers.HfArgumentParser((TrainingArguments, MiscArguments))\n",
    "        #train_args, model_args = arg_parser.parse_args_into_dataclasses()\n",
    "        train_args = TrainingArguments()\n",
    "        model_args = ModelArguments()\n",
    "        model_args.is_train = True\n",
    "        model_args.text_field = 'output_text'\n",
    "        model_args.label_field = 'Label'\n",
    "        #model_args.path_to_dataset = '/home/kramesh3/sdgeval/data/benchmark/baseline_downstream_data_10ICD/'\n",
    "        model_args.path_to_dataset = '/home/kramesh3/sdgeval/downstream-dummy-test'\n",
    "        model_args.n_labels = 5\n",
    "        model_args.problem_type = 'single_label_classification'\n",
    "        #model_args.problem_type = \"multi_label_classification\"\n",
    "        args = Arguments(train=train_args, model=model_args)\n",
    "        print(\"Initialization...\")\n",
    "        if(args.model.is_train):\n",
    "          print(\"Training:\\n\")\n",
    "          obj = Classifier(args = args)\n",
    "          obj.finetune_model()\n",
    "        if(args.model.is_test):\n",
    "          print(\"Testing:\\n\")\n",
    "          obj = Classifier(args = args)\n",
    "          obj.test_model()"
   ]
  },
  {
   "cell_type": "markdown",
   "metadata": {},
   "source": [
    "#### Testing the downstream classifier"
   ]
  },
  {
   "cell_type": "code",
   "execution_count": 14,
   "metadata": {},
   "outputs": [
    {
     "name": "stderr",
     "output_type": "stream",
     "text": [
      "[WARNING|integration_utils.py:100] 2025-02-25 15:00:08,269 >> Using the `WANDB_DISABLED` environment variable is deprecated and will be removed in v5. Use the --report_to flag to control the integrations used for logging result (for instance --report_to none).\n"
     ]
    },
    {
     "name": "stdout",
     "output_type": "stream",
     "text": [
      "Initialization...\n",
      "Testing:\n",
      "\n",
      "DatasetDict({\n",
      "    train: Dataset({\n",
      "        features: ['Unnamed: 0.1', 'Unnamed: 0', 'Name', '__index_level_0__', 'input_prompt', 'output_text', 'Label'],\n",
      "        num_rows: 17\n",
      "    })\n",
      "    validation: Dataset({\n",
      "        features: ['Unnamed: 0.1', 'Unnamed: 0', 'Name', '__index_level_0__', 'input_prompt', 'output_text', 'Label'],\n",
      "        num_rows: 4\n",
      "    })\n",
      "    test: Dataset({\n",
      "        features: ['Unnamed: 0.1', 'Unnamed: 0', 'Name', '__index_level_0__', 'input_prompt', 'output_text', 'Label'],\n",
      "        num_rows: 4\n",
      "    })\n",
      "})\n",
      "Successfully loaded dataset '/home/kramesh3/sdgeval/downstream-dummy-test' from Hugging Face Hub.\n",
      "Checkpoint exists:  /home/kramesh3/sdgeval/temp-classifier \n",
      "Loading model from the checkpoint...\n",
      "Preprocessing dataset\n",
      "Model evaluation begins...\n"
     ]
    },
    {
     "name": "stderr",
     "output_type": "stream",
     "text": [
      "/home/kramesh3/.local/lib/python3.9/site-packages/transformers/tokenization_utils_base.py:2829: FutureWarning: The `pad_to_max_length` argument is deprecated and will be removed in a future version, use `padding=True` or `padding='longest'` to pad to the longest sequence in the batch, or use `padding='max_length'` to pad to a max length. In this case, you can give a specific length with `max_length` (e.g. `max_length=45`) or leave max_length to None to pad to the maximal input size of the model (e.g. 512 for Bert).\n",
      "  warnings.warn(\n",
      "/data/kramesh3/envs/sdg-env/lib/python3.9/site-packages/torch/nn/parallel/_functions.py:70: UserWarning: Was asked to gather along dimension 0, but all input tensors were scalars; will instead unsqueeze and return a vector.\n",
      "  warnings.warn(\n"
     ]
    },
    {
     "data": {
      "text/html": [
       "\n",
       "    <div>\n",
       "      \n",
       "      <progress value='1' max='1' style='width:300px; height:20px; vertical-align: middle;'></progress>\n",
       "      [1/1 : < :]\n",
       "    </div>\n",
       "    "
      ],
      "text/plain": [
       "<IPython.core.display.HTML object>"
      ]
     },
     "metadata": {},
     "output_type": "display_data"
    },
    {
     "name": "stdout",
     "output_type": "stream",
     "text": [
      "Saving file!\n",
      "Evaluation results: {'eval_loss': 1.496679663658142, 'eval_precision': 0.16666666666666666, 'eval_recall': 0.25, 'eval_f1': 0.2, 'eval_accuracy': 0.5, 'eval_runtime': 0.0764, 'eval_samples_per_second': 52.364, 'eval_steps_per_second': 13.091}\n"
     ]
    },
    {
     "name": "stderr",
     "output_type": "stream",
     "text": [
      "/home/kramesh3/.local/lib/python3.9/site-packages/sklearn/metrics/_classification.py:1509: UndefinedMetricWarning: Precision is ill-defined and being set to 0.0 in labels with no predicted samples. Use `zero_division` parameter to control this behavior.\n",
      "  _warn_prf(average, modifier, f\"{metric.capitalize()} is\", len(result))\n",
      "/home/kramesh3/.local/lib/python3.9/site-packages/sklearn/metrics/_classification.py:1509: UndefinedMetricWarning: Recall is ill-defined and being set to 0.0 in labels with no true samples. Use `zero_division` parameter to control this behavior.\n",
      "  _warn_prf(average, modifier, f\"{metric.capitalize()} is\", len(result))\n"
     ]
    }
   ],
   "source": [
    "from transformers import TrainingArguments as HfTrainingArguments\n",
    "from sdgeval.downstream.classify.train_classifier import TrainingArguments, ModelArguments, Classifier, Arguments\n",
    "\n",
    "if __name__ == \"__main__\":\n",
    "        #arg_parser = transformers.HfArgumentParser((TrainingArguments, MiscArguments))\n",
    "        #train_args, model_args = arg_parser.parse_args_into_dataclasses()\n",
    "        train_args = TrainingArguments()\n",
    "        model_args = ModelArguments()\n",
    "        model_args.is_train = False\n",
    "        model_args.is_test = True\n",
    "        model_args.text_field = 'output_text'\n",
    "        model_args.label_field = 'Label'\n",
    "        model_args.path_to_model = '/home/kramesh3/sdgeval/temp-classifier'\n",
    "        model_args.path_to_dataset = '/home/kramesh3/sdgeval/downstream-dummy-test'\n",
    "        model_args.n_labels = 5\n",
    "        model_args.problem_type = \"single_label_classification\"\n",
    "        model_args.retain_columns = ['Name', 'input_prompt']\n",
    "        #model_args.retain_columns = ['ICD9_CODE', 'LONG_TITLE']\n",
    "        args = Arguments(train=train_args, model=model_args)\n",
    "        print(\"Initialization...\")\n",
    "        if(args.model.is_train):\n",
    "          print(\"Training:\\n\")\n",
    "          obj = Classifier(args = args)\n",
    "          obj.finetune_model()\n",
    "        if(args.model.is_test):\n",
    "          print(\"Testing:\\n\")\n",
    "          obj = Classifier(args = args)\n",
    "          obj.test_model()"
   ]
  },
  {
   "cell_type": "markdown",
   "metadata": {},
   "source": [
    "### Fairness audit over the test results"
   ]
  },
  {
   "cell_type": "code",
   "execution_count": 15,
   "metadata": {},
   "outputs": [
    {
     "name": "stdout",
     "output_type": "stream",
     "text": [
      "   Accuracy                Group Type  Num of Samples  f1_macro  f1_micro\n",
      "0       0.0  Blanche Pritchard McCrum               1       0.0       0.0\n",
      "1       0.0                Liza Hanim               1       0.0       0.0\n",
      "2       1.0       Nathan Peabody Ames               2       1.0       1.0\n",
      "                 Group Type  F1-micro-diff  F1-macro-diff\n",
      "0  Blanche Pritchard McCrum            1.0            1.0\n",
      "1                Liza Hanim            1.0            1.0\n",
      "2       Nathan Peabody Ames            1.0            1.0\n"
     ]
    }
   ],
   "source": [
    "from sdgeval.fairness.metrics import analyze_group_fairness_performance\n",
    "import pandas as pd\n",
    "df = pd.read_csv('/home/kramesh3/sdgeval/outputs.csv')\n",
    "p_df, f_df = analyze_group_fairness_performance(df, problem_type = \"single_label\", num_classes = 5, subgroup_type = \"Name\")\n",
    "print(p_df.head())\n",
    "print(f_df.head())"
   ]
  },
  {
   "cell_type": "markdown",
   "metadata": {},
   "source": [
    "### Qualitative comparison of the real and synthetic data"
   ]
  },
  {
   "cell_type": "code",
   "execution_count": 17,
   "metadata": {},
   "outputs": [
    {
     "name": "stdout",
     "output_type": "stream",
     "text": [
      "FID Score:  {'real_scores': [0.41439497470855713, 0.4834649860858917, 0.48194900155067444, 0.4307818114757538, 0.5367726683616638, 0.5139308571815491, 0.4451061487197876, 0.555849552154541, 0.4502204358577728, 0.48647117614746094, 0.34711208939552307, 0.15723705291748047, 0.5260146260261536, 0.5422753095626831, 0.3805084228515625, 0.41521841287612915, 0.47455930709838867, 0.10580728203058243, 0.3512335419654846, 0.4598167836666107, 0.5124532580375671, 0.550868570804596, 0.4236961901187897, 0.4873109459877014, 0.333931028842926], 'synth_scores': [0.27083051204681396, 0.22992177307605743, 0.18568551540374756, 0.24947217106819153, 0.15821866691112518, 0.23266030848026276, 0.12899483740329742, 0.3942467272281647, 0.14570456743240356, 0.2238260805606842, 0.3070870339870453, 0.2551751434803009, 0.1921941339969635, 0.09265924990177155, 0.4139086902141571, 0.15620560944080353, 0.3775572180747986, 0.27045774459838867, 0.03396320343017578, 0.15812401473522186, 0.19970795512199402, 0.24428687989711761, 0.3788396418094635, 0.17785422503948212, 0.17774362862110138]}\n"
     ]
    },
    {
     "data": {
      "application/vnd.jupyter.widget-view+json": {
       "model_id": "427e1394857d47efa65e531105a25731",
       "version_major": 2,
       "version_minor": 0
      },
      "text/plain": [
       "Featurizing p:   0%|          | 0/25 [00:00<?, ?it/s]"
      ]
     },
     "metadata": {},
     "output_type": "display_data"
    },
    {
     "data": {
      "application/vnd.jupyter.widget-view+json": {
       "model_id": "a59a5cd6fb044f5999e6e2a017df818c",
       "version_major": 2,
       "version_minor": 0
      },
      "text/plain": [
       "Featurizing q:   0%|          | 0/25 [00:00<?, ?it/s]"
      ]
     },
     "metadata": {},
     "output_type": "display_data"
    },
    {
     "name": "stderr",
     "output_type": "stream",
     "text": [
      "WARNING clustering 50 points to 2 centroids: please provide at least 78 training points\n",
      "02/25/2025 15:05:08:WARNING:Using the latest cached version of the module from /home/kramesh3/.cache/huggingface/modules/evaluate_modules/metrics/evaluate-metric--perplexity/8ab643ad86f568b7d1d5f7822373fa7401ff5ff0297ccf114b0ca6a33be96bc0 (last modified on Thu Dec 19 16:22:06 2024) since it couldn't be found locally at evaluate-metric--perplexity, or remotely on the Hugging Face Hub.\n"
     ]
    },
    {
     "name": "stdout",
     "output_type": "stream",
     "text": [
      "namespace(p_hist=array([0.08, 0.92]), q_hist=array([0., 1.]), divergence_curve=array([[1.        , 0.        ],\n",
      "       [0.9999996 , 0.00584219],\n",
      "       [0.98344371, 0.40534504],\n",
      "       [0.96710783, 0.52667432],\n",
      "       [0.95098976, 0.60990587],\n",
      "       [0.93508731, 0.67375217],\n",
      "       [0.91939831, 0.72527614],\n",
      "       [0.90392061, 0.76805481],\n",
      "       [0.88865206, 0.8042002 ],\n",
      "       [0.87359054, 0.83508553],\n",
      "       [0.85873394, 0.8616652 ],\n",
      "       [0.84408015, 0.8846359 ],\n",
      "       [0.82962709, 0.90452567],\n",
      "       [0.8153727 , 0.92174686],\n",
      "       [0.80131491, 0.93662939],\n",
      "       [0.7874517 , 0.94944251],\n",
      "       [0.77378102, 0.96040974],\n",
      "       [0.76030087, 0.96971933],\n",
      "       [0.74700925, 0.97753174],\n",
      "       [0.73390418, 0.98398527],\n",
      "       [0.72098368, 0.98920023],\n",
      "       [0.7082458 , 0.99328218],\n",
      "       [0.69568859, 0.99632438],\n",
      "       [0.68331013, 0.99840982],\n",
      "       [0.67110851, 0.99961276],\n",
      "       [0.65908181, 1.        ],\n",
      "       [0.        , 1.        ]]), mauve=0.9401075182489634, frontier_integral=0.04111149720091286, mauve_star=0.9861628206664169, frontier_integral_star=0.020050817772264695, num_buckets=2)\n"
     ]
    },
    {
     "data": {
      "application/vnd.jupyter.widget-view+json": {
       "model_id": "46b2d1d4c18946f39668c3c7bd867b2c",
       "version_major": 2,
       "version_minor": 0
      },
      "text/plain": [
       "  0%|          | 0/2 [00:00<?, ?it/s]"
      ]
     },
     "metadata": {},
     "output_type": "display_data"
    }
   ],
   "source": [
    "import pandas as pd\n",
    "from sdgeval.qual.metrics import QualEval\n",
    "from sdgeval.qual.arguments import MauveArgs, LMArgs, FrechetArgs\n",
    "from dataclasses import dataclass\n",
    "\n",
    "df = pd.DataFrame({})\n",
    "synthetic_samples = pd.read_csv('/home/kramesh3/sdgeval/test-outputs.csv')\n",
    "real_samples = pd.read_csv('/home/kramesh3/sdgeval/dummy-test_data/train.csv', nrows=len(synthetic_samples))\n",
    "df['source'] = synthetic_samples['output_text']\n",
    "df['reference'] = real_samples['Text']\n",
    "\n",
    "@dataclass\n",
    "class args_temp:\n",
    "    FrechetArgs:FrechetArgs\n",
    "    MauveArgs:MauveArgs\n",
    "    LMArgs:LMArgs\n",
    "\n",
    "args_ = args_temp(FrechetArgs, MauveArgs, LMArgs)\n",
    "qual_ob = QualEval(args_)\n",
    "qual_ob.calculate_fid_score(df)\n",
    "\n",
    "qual_ob.calculate_mauve_score(df)\n",
    "\n",
    "qual_ob.calculate_perplexity(df)"
   ]
  },
  {
   "cell_type": "code",
   "execution_count": 19,
   "metadata": {},
   "outputs": [
    {
     "name": "stdout",
     "output_type": "stream",
     "text": [
      "{'fid': {'real_scores': [0.41439497470855713, 0.4834649860858917, 0.48194900155067444, 0.4307818114757538, 0.5367726683616638, 0.5139308571815491, 0.4451061487197876, 0.555849552154541, 0.4502204358577728, 0.48647117614746094, 0.34711208939552307, 0.15723705291748047, 0.5260146260261536, 0.5422753095626831, 0.3805084228515625, 0.41521841287612915, 0.47455930709838867, 0.10580728203058243, 0.3512335419654846, 0.4598167836666107, 0.5124532580375671, 0.550868570804596, 0.4236961901187897, 0.4873109459877014, 0.333931028842926], 'synth_scores': [0.27083051204681396, 0.22992177307605743, 0.18568551540374756, 0.24947217106819153, 0.15821866691112518, 0.23266030848026276, 0.12899483740329742, 0.3942467272281647, 0.14570456743240356, 0.2238260805606842, 0.3070870339870453, 0.2551751434803009, 0.1921941339969635, 0.09265924990177155, 0.4139086902141571, 0.15620560944080353, 0.3775572180747986, 0.27045774459838867, 0.03396320343017578, 0.15812401473522186, 0.19970795512199402, 0.24428687989711761, 0.3788396418094635, 0.17785422503948212, 0.17774362862110138]}, 'mauve': None, 'perplexity': {'perplexities': [11.860427856445312, 16.384693145751953, 7.762409687042236, 15.590814590454102, 15.897360801696777, 13.153324127197266, 7.66525936126709, 10.945145606994629, 12.649252891540527, 9.91731071472168, 16.219839096069336, 14.466907501220703, 20.442781448364258, 25.48326873779297, 15.524811744689941, 11.25696086883545, 14.503681182861328, 120.116455078125, 16.43797492980957, 21.388031005859375, 19.71141815185547, 8.840807914733887, 23.577417373657227, 17.83941078186035, 13.227201461791992], 'mean_perplexity': 19.234518642425538}}\n"
     ]
    }
   ],
   "source": [
    "print(qual_ob.results)"
   ]
  },
  {
   "cell_type": "markdown",
   "metadata": {},
   "source": [
    "### Privacy evaluation of the synthetic data"
   ]
  },
  {
   "cell_type": "markdown",
   "metadata": {},
   "source": [
    "##### Creating an artificial entity list"
   ]
  },
  {
   "cell_type": "code",
   "execution_count": null,
   "metadata": {},
   "outputs": [
    {
     "name": "stdout",
     "output_type": "stream",
     "text": [
      "['Philosophy', 'Literature', 'University', 'Prosecutor', 'University', 'Bangladeshi', 'Kutupalong', 'Bangladesh', 'Kutupalong', 'Bangladesh', '30 May 1940']\n"
     ]
    }
   ],
   "source": [
    "import re\n",
    "import pandas as pd\n",
    "\n",
    "def extract_words_and_dates(df, column, n, char_len = 10):\n",
    "    # Regular expressions\n",
    "    word_pattern = r'\\b[A-Z][a-zA-Z]{' + str(char_len-1) + r',} [A-Z][a-zA-Z]+\\b' # First name and surname starting with a capital letter and at least 10 characters long\n",
    "    date_pattern = r'\\b(?:\\d{4}-\\d{2}-\\d{2}|\\d{2}/\\d{2}/\\d{4}|\\d{1,2} [A-Z][a-z]+ \\d{4})\\b'  # Common date formats\n",
    "    \n",
    "    # Extract words and dates from the specified column\n",
    "    words = df[column].astype(str).apply(lambda x: re.findall(word_pattern, x))\n",
    "    dates = df[column].astype(str).apply(lambda x: re.findall(date_pattern, x))\n",
    "    \n",
    "    # Flatten lists and get the first n words and dates\n",
    "    extracted_words = [word for sublist in words for word in sublist][:n]\n",
    "    extracted_dates = [date for sublist in dates for date in sublist][:n]\n",
    "    \n",
    "    return extracted_words, extracted_dates\n",
    "\n",
    "synthetic_samples = pd.read_csv('/home/kramesh3/sdgeval/test-outputs.csv')\n",
    "entities, dates = extract_words_and_dates(synthetic_samples, 'output_text', 10)\n",
    "entities = entities + dates\n",
    "print(entities)"
   ]
  },
  {
   "cell_type": "code",
   "execution_count": 2,
   "metadata": {},
   "outputs": [
    {
     "name": "stdout",
     "output_type": "stream",
     "text": [
      "{\"Liza Hanim (born 30 May 1940) is a Turkish novelist, essayist and political philosopher. She is also a critic of liberal Islamism, particularly the view that women are not entitled to Islamic law. She also has contributed to books on the Arab Spring, the history of women's rights in the Middle East, and the development of the Turkish democratic movement.\\nLiza Hanim was born in Istanbul to a Jewish family, and as a child had a tendency to become a soldier or a teacher. While she enjoyed the study of law, she found the profession unfulfilling. So, she changed her major to literature, graduating from the Faculty of Philosophy and Literature at the University of Istanbul in 1958. After graduation, she worked for the Istanbul Prosecutor's Office as a lawyer, then for an architectural firm. From 1972 to 1975, she pursued her Master's Degree in philosophy at Ege University, Istanbul, Turkey.\\nAfter completing her degree, Hanim moved to the United States, where she worked as a journalist, translator and writer. She wrote extensively for the New York Review of Books and Newsweek, and her work is often cited in scholarly journals and books on international relations. Hanim has translated\": ({'Philosophy': True, 'Literature': True, 'University': True, 'Prosecutor': True, 'Bangladeshi': False, 'Kutupalong': False, 'Bangladesh': False, '30 May 1940': True}, 54.54545454545454), 'In the 1980s, Liza Hanim and her brother and sister lived in East London in the notorious Toxteth district, a predominantly Bangladeshi area. Liza Hanim was born on 4th November 1954 in Kutupalong, a city in Bangladesh. Her family was living in Kutupalong. Her mother Lena died in 1965 and father Muhammad Hussain died in 1982 and her brother Muhammad Ali died in 1965. Her mother name was Lena and father name was Mohammad Hussain. Her father was an entrepreneur. Her brother name was Mohammad Ali. Her mother name was Lena and her father name was Mohammad Hussain.\\nAs a child, she worked with her mother in her cloth shop. In her teenage life, she wanted to do a job which she can earn a lot of money and to keep herself in good condition. Her passion for travelling inspired her to travel to Bangladesh. But first, she decided to get married. For this, she and her husband took a loan of Rs. 500,000. She married Mohammad Rashid.\\nAfter her marriage, they moved to London and moved to a house with her husband in 1977. She was living in a': ({'Philosophy': False, 'Literature': False, 'University': False, 'Prosecutor': False, 'Bangladeshi': True, 'Kutupalong': True, 'Bangladesh': True, '30 May 1940': False}, 45.45454545454545), \"Liza Hanim is an aspiring author and the author of Liza Hanim & The Puffin Prince, a book about a young girl and a puffin who meet in the woods. She's also worked as a freelance writing consultant and a volunteer for the YMCA.\\nLiza Hanim Biography\\nLiza Hanim is an aspiring author and the author of Liza Hanim & The Puffin Prince, a book about a young girl and a puffin who meet in the woods. She's also worked as a freelance writing consultant and a volunteer for the YMCA.\\nLiza's parents, Moussa Hanim and Tawana Kandola, separated when she was young. Moussa would work in the hospital as an RN in Boston, while Tawana was a stay-at-home mom in Atlanta.\\nLiza Hanim Biography - Liza Hanim's Books\\nLiza Hanim is an aspiring author who grew up in Atlanta and has one sister. She's always been interested in writing stories since she was a little girl. She's always loved animals and wrote animal stories when she was younger, but found it harder to imagine a puffin as a main character in a book.\\nIn 2016, Liza started to write a book about a puffin called Liza Hanim &\": ({'Philosophy': False, 'Literature': False, 'University': False, 'Prosecutor': False, 'Bangladeshi': False, 'Kutupalong': False, 'Bangladesh': False, '30 May 1940': False}, 0.0), \"Liza Hanim is a Canadian actress born in 1977. Hanim, who rose to prominence after her performance as the child detective Lucy Stone in the television show Degrassi: The Next Generation, portrayed the title role of the animated TV series Aphrodite: Love of Goddess. Her performance as the title character, who is a Greek love goddess, was nominated for several Gemini and Gemini-Awards, and won one of them, the Outstanding Performance by an Actress in a Younger Program category, as well as a Teen Choice Award and a People's Choice Award.\\nHanim grew up in Calgary, Canada. She spent her childhood in New Orleans and later in Toronto, where she was educated in the public school system. She started her professional career as a child model, appearing on television and in print advertisements. Her first stage appearance was at the age of 9 on a Canadian TV variety show, where she danced in a routine. Hanim also appeared in a TV commercial for a local retailer.\\nHanim's acting career really began when she was cast as Lucy Stone in the Canadian television show Degrassi: The Next Generation at the age of 12, which made her one of the youngest Canadians to star in a television show. The first episode aired in Canada in 1996\": ({'Philosophy': False, 'Literature': False, 'University': False, 'Prosecutor': False, 'Bangladeshi': False, 'Kutupalong': False, 'Bangladesh': False, '30 May 1940': False}, 0.0), 'Liza Hanim was born into a family of musicians in East Germany in 1945. From the age of 11 she studied piano at the famous Berlin Konzerthaus Music College and in 1961, at age 22 she became a first prize winner at the International Tchaikovsky Competition for Soloists, where she has since been invited to perform. As a first prize winner at the International Beethoven Competition in 1966, she was invited to the Vienna Festival. After receiving several awards and praises from the international press, she was invited to Vienna, where she has lived since 1966. She was married to a Russian musician, but this marriage ended in divorce.\\nThis entry was posted in ACTRESS and tagged 1961, 1963, 1966, Actress, Born, Born in, Born in 1945, Born into, Born in Berlin, Born in East Germany, Born in East Germany in 1945, Born in Germany, Born in 1945, Born in 1961, Born in East Berlin, Born in East Germany in 1961, Born in Germany, Born in Silesia, born to musicians, Born to musicians in 1945, Born to musicians in East Germany, Born to mus': ({'Philosophy': False, 'Literature': False, 'University': False, 'Prosecutor': False, 'Bangladeshi': False, 'Kutupalong': False, 'Bangladesh': False, '30 May 1940': False}, 0.0), \"Nathan Peabody Ames (May 20, 1822 – July 17, 1908) was an American political figure, serving as Mayor of Brooklyn for the first time from 1888 to 1893. Nathan Peabody Ames was one of the founders of Brooklyn's Park Slope neighborhood and the first Black politician to serve in municipal government in New York City.\\nAmes became an influential leader in early Brooklyn's African American community, in which he held a significant amount of political power, and helped establish a number of black newspapers. He also owned a hotel, a black-owned newspaper, and was the first Black to serve on the Brooklyn Board of Supervisors.\\nHe was the first African-American mayor of the borough of Brooklyn, NY from 1888 to 1893.\\nHe was born Nathan Peabody Ames to a free African American family on May 20, 1822 in Boston, Massachusetts, as the son of Nathan and Dorcas Ames. He was the sixth and youngest child out of ten children. His father was an ordained Methodist minister and his mother was the sister of John Quincy Adams Ames, United States Ambassador to the Vatican. Nathan Peabody was a good student and attended Amherst College from 1\": ({'Philosophy': False, 'Literature': False, 'University': False, 'Prosecutor': False, 'Bangladeshi': False, 'Kutupalong': False, 'Bangladesh': False, '30 May 1940': False}, 0.0), 'Nathan Peabody Ames was an American philosopher and educator, best known for his works on psychology and metaphysics. A professor at Harvard and the United States Army, he wrote books, conducted research and gave lectures. His theories and opinions have influenced people across many disciplines and fields. He was the co-founder of the American Philosophical Society. Nathan Peabody Ames Biography : Nathan Peabody Ames was an American philosopher and educator, best known for his works on psychology and metaphysics. A professor at Harvard and the United States Army, he wrote books, conducted research and gave lectures. His theories and opinions have influenced people across many disciplines and fields. He was the co-founder of the American Philosophical Society. Born: 1903 06 03 at Worcester, Massachusetts, Nathan Peabody Ames is famous for being a American Philosopher. He breathed his last at Bostonia, Massachusetts, USA. The popularity of Nathan Peabody Ames has decreased over the past 30 days.\\nNathan Peabody Ames is one of the most successful American Philosophers of the 20th century. He has a wealth of career experiences and his success led him to be listed among the Top 100 Most Influential Americans of the 20th Century. During his academic': ({'Philosophy': False, 'Literature': False, 'University': False, 'Prosecutor': False, 'Bangladeshi': False, 'Kutupalong': False, 'Bangladesh': False, '30 May 1940': False}, 0.0), 'Nathan Peabody Ames was an American writer and historian.\\nNathan Peabody Ames was an American writer and historian. He was a contributor to several magazines and was the author of five books, including The Civil War in Michigan.\\nNathan Peabody Ames was born in Detroit, Michigan, and attended the University of Michigan from 1864 to 1866. In that year, he won a gold medal as a contributor to the school\\'s literary magazine, the Michigan Literary Magazine. He graduated from the University in 1866 and spent the next six years teaching English in rural Michigan.\\nHe began his writing career in 1868, when he enrolled in Michigan State University as a \"professor of poetry and rhetoric.\" He began writing short stories in 1876, publishing them in the National Review and Century magazines. However, in 1878, he moved to Detroit where he wrote articles for several magazines, including the Ladd\\'s Family Almanac and Magazine and The Metropolitan Magazine. Between 1876 and 1878, he wrote 115 articles for the Ladd\\'s Almanac.\\nIn 1879, he published a novel titled The Old-Timer, set in a town in the Michigan\\'s Upper Peninsula. This novel won': ({'Philosophy': False, 'Literature': False, 'University': True, 'Prosecutor': False, 'Bangladeshi': False, 'Kutupalong': False, 'Bangladesh': False, '30 May 1940': False}, 18.181818181818183), \"Nathan Peabody Ames (December 7, 1833 - December 28, 1912) was a historian, writer, politician, and the third mayor of Boston, serving from 1898 to 1906. Nathan Peabody Ames was an American historian best known as the author of a popular biography of Benjamin Franklin. Nathan Peabody Ames was born in Boston, Massachusetts. His father had a small bookstore, and Nathan grew up helping his father, and later his brother Charles. Nathan attended Boston Latin School and then Harvard University where he majored in Latin and studied the history and literature of the ancient world. Nathan Peabody Ames was a member of both the Republican and Democratic Parties and ran for mayor of Boston in 1897 on the Republican ticket. The campaign was a bitter, ugly affair, however, Nathan had a very wide support base in the Boston area, and Ames narrowly lost. He subsequently ran for mayor once again in 1898, and this time won with 51 percent of the vote. This victory allowed him to implement many of his own campaign promises, including the establishment of the American Society for American History, which he served as its first president. Nathan's political philosophy was liberal, and he supported the establishment of charitable institutions for the poor, the expansion of libraries, and the improvement of the city's\": ({'Philosophy': True, 'Literature': True, 'University': True, 'Prosecutor': False, 'Bangladeshi': False, 'Kutupalong': False, 'Bangladesh': False, '30 May 1940': False}, 36.36363636363637), 'Nathan Peabody Ames (December 30, 1821 - June 12, 1891) was a historian and a poet. He wrote three books about the Civil War, which he called \"The History of the War of the Rebellion\", \"American Statesman: A Political Autobiography\", and \"Biography of a State\". He was a professor of English at the University of Wisconsin and also taught at the University of Virginia and the University of Chicago.\\nNathan Peabody Ames was born at Newbury, Essex County, Massachusetts, on December 30, 1821. His father was Captain Nathan Peabody, a naval officer of the Continental Navy who lived in Newburyport, Massachusetts.\\nWhen Nathan Ames was only two years old his parents moved to Cedarburg, Wisconsin. The family lived at the house which Nathan later moved to at Washington, Wisconsin.\\nAmes attended the public schools in Cedarburg and also the grammar school there. He went to Washington High School and then to the University of Wisconsin, graduating in 1840.\\nIn 1845 he married Elizabeth Stoddard and became a teacher of Greek. He had many students at the University of Wisconsin who later became teachers at other colleges and universities.\\nHe was a member of the Daughters of the American Revolution. He died': ({'Philosophy': False, 'Literature': False, 'University': True, 'Prosecutor': False, 'Bangladeshi': False, 'Kutupalong': False, 'Bangladesh': False, '30 May 1940': False}, 18.181818181818183), 'Ghib Ojisan (born October 7, 1976) is an Iranian-born American rapper whose real name is Ghib Ojisan. He is better known as L.G.B.Y, LGB, and LGBY, and by other aliases such as \"Shoe Biz\". Born in Tehran, Ghib moved with his family to the United States when he was only five years old. He spent most of his time growing up in California. He was introduced to the rap world by MC Hammer at an LA club when he was only 13.\\nHe also worked as an auto mechanic after getting out of prison in Los Angeles. He was arrested in 2005 and spent two years in prison for dealing drugs and carrying a concealed weapon. Ojisan released his first mixtape and was featured on a track by the rapper Ice-T titled, \"Way of Life\". Afterwards, he started working with the rapper Ice-T on his mixtape, \"Hard\".\\nHe released the album, LG (LG.BIZ), in 2011 which was produced by DJ SBTRKT and produced by Cooly L and Chuck Inglish. The album debuted at #6 on the Billboard 200 and #3 on the Heatseekers chart. The album was met': ({'Philosophy': False, 'Literature': False, 'University': False, 'Prosecutor': False, 'Bangladeshi': False, 'Kutupalong': False, 'Bangladesh': False, '30 May 1940': False}, 0.0), 'Ghib Ojisan was born in Nafusat, in the area of Nafusat, which is part of the Kutaha Region, in the northern province of Saudi Arabia. Ghib Ojisan has been working since 1956, when he worked with his father to build a pond and then with his uncle and his wife’s husband to build the first cistern of water to help feed the cows and pigs that his family had in the area.\\nGiven the fact that Ghib Ojisan is in the northwestern part of Saudi Arabia, you should know that the northwestern region of Saudi Arabia contains many areas where they have been unable to drink water. This is due to the fact that the soil in some regions has not been able to hold water that the family has been able to produce from their ponds, which has created a shortage of water that the family has had to go without in order to meet their needs.\\nThe problem of the family had become so serious that one of the problems that the family had to deal with was the fact that they were having to get a permit to make any water that they were producing in order to get their water to the family’s household, because even though the family had already made water, that the family’s household had not been able to drink enough to meet all of their needs, because of the very serious problem of the': ({'Philosophy': False, 'Literature': False, 'University': False, 'Prosecutor': False, 'Bangladeshi': False, 'Kutupalong': False, 'Bangladesh': False, '30 May 1940': False}, 0.0), 'Ghib was born 1980 in Yerevan. He worked for more than 10 years in Azerbaijan’s Ministry of Culture where he was a cultural researcher, and the director of Yerevan Philharmonic Orchestra and Yerevan Symphony Orchestra. His works include the CD “Yerevan Chamber Symphony No. 2”; the CD “Folk Music from Armenia and Azerbaijan”.\\nGhib Ojisan is on Facebook.\\nGhib Ojisan is on LinkedIn.\\nGhib Ojisan is on Twitter.\\nGhib Ojisan is in the stock exchange.': ({'Philosophy': False, 'Literature': False, 'University': False, 'Prosecutor': False, 'Bangladeshi': False, 'Kutupalong': False, 'Bangladesh': False, '30 May 1940': False}, 0.0), 'Ghib Ojisan is an Israeli poet who was born on August 11, 1963.\\nGenerate a biography about: Tamar Salomo Biography : Tamar Salomo is an Israeli poet, novelist, translator, editor, and journalist.\\nGenerate a biography about: Yohanan Friedman Biography : Yohanan Friedman is a poet and editor. He was born in Israel in 194 He lives in Berlin.': ({'Philosophy': False, 'Literature': False, 'University': False, 'Prosecutor': False, 'Bangladeshi': False, 'Kutupalong': False, 'Bangladesh': False, '30 May 1940': False}, 0.0), 'Ghib Ojisan is a Nigerian born journalist who has been reporting on news and events for more than fifteen years, beginning in 1995. During the first years of his career as a professional journalist, Ojisan was a reporter for the Nollywood showbiz newspaper, The Nigerian Voice, which was founded in 1989 in Calabar, Cross River State, Nigeria by two Nigerian actors, Gadjoe Heh and Porki. Ojisan served as the editor of the paper for about two years after its first publication. In 1999, Ojisan started working with The Nigerian Tribune, based in Ilorin, Kwara State, Nigeria. During his time in the paper, he served as managing editor of the paper. In 2001, he was appointed associate editor of The Nigerian Voice. While working for the paper, he was one of the few journalists to interview and interview Muhammad Buhari, the first President of the federal republic of Nigeria.\\nOn October 8, 2005, Ghib Ojisan was appointed as Deputy General Editor at The Nigerian Tribune. In 2010, he moved to The Nigerian Tribune, Abuja to become one of the journalists based in the city. In his role, Ojisan also worked for': ({'Philosophy': False, 'Literature': False, 'University': False, 'Prosecutor': False, 'Bangladeshi': False, 'Kutupalong': False, 'Bangladesh': False, '30 May 1940': False}, 0.0), 'Blanche Pritchard McCrum was the wife of Major General Charles A. Fremont McCrum, a hero of the Civil War.\\nMajor General Charles A. Fremont McCrum, a hero of the Civil War.\\nBorn 20-12-1825 in New Jersey, 4-1-1890 in Richmond, VA.\\nBattles of Cold Harbor and Chancellorsville, Civil War.\\nLived in Virginia, North Carolina, West Virginia.\\nFought the Civil War with the 10th and 16th Virginia Infantry Regiment, the 24th and 29th Virginia Infantry Regiments.\\nBoth his grandfather and great grandfather fought for the United States and was the younger brother of William Pritchard, who was a hero of the War of 1812.\\nGeneral McCrum had no formal education prior to the Civil War. He was a former private in the 4th Virginia Infantry Regiment. He graduated from West Point before the Civil War. He graduated from West Point and served in the regiment under his father. He was promoted to Colonel and was stationed at Washington DC in 1861. He became the adjutant in command of the 10th and 16th Virginia Infantry Regiments in 1862.\\nIn the first quarter of 18': ({'Philosophy': False, 'Literature': False, 'University': False, 'Prosecutor': False, 'Bangladeshi': False, 'Kutupalong': False, 'Bangladesh': False, '30 May 1940': False}, 0.0), \"Blanche is the mother of my father Thomas. While her biography is not yet complete, I have begun researching her family history. Since Blanche and Thomas were married in 1944, I have also compiled a family tree for that time period.\\nBiography of Thomas McCrum : In his book “My Dearest Thomas: The Story of Thomas McCrum” Blanche shared details of her husband's life and times. He was a U.S. Army Corps of Engineers officer who served during World War 2 in North Africa, Europe and the Mediterranean. During the war he married Blanche Mott McCrum, and then they both served their country by rescuing downed airmen.\\nBiography of Blanche McCrum : Blanche Pritchard McCrum was born on July 29, 1921, in Newark, New Jersey. She married Thomas McCrum in December of 1944.\\nBiography of Thomas McCrum : My dear father Thomas died in 2007 at the age of 92. He served in the United States Army, Corps of Engineers during World War II. While in the military his wife Blanche served as a nurse. During the war, they both rescued downed airmen.\\nIn 1962 Blanche married James R. McCrum. They resided in North Bend, Washington\": ({'Philosophy': False, 'Literature': False, 'University': False, 'Prosecutor': False, 'Bangladeshi': False, 'Kutupalong': False, 'Bangladesh': False, '30 May 1940': False}, 0.0), 'Descriptor.': ({'Philosophy': False, 'Literature': False, 'University': False, 'Prosecutor': False, 'Bangladeshi': False, 'Kutupalong': False, 'Bangladesh': False, '30 May 1940': False}, 0.0), 'Blanche McCrum is an actress and artist born in Rochester, New York and raised in the Bay Area. She began her career as a model at the age of fourteen, in the 1950’s. Her sister Martha McCrum was one of the top models of her generation. She made her debut on Broadway in the musicals \"The Sensation of 1963\" and \"A Flower Is a Thing Of Shame\", both produced by Sidney Sheldon. She was considered one of the top-billed actresses of the 1950’s and 1960’s. In 1955, she was one of the original stars of the hit television show “The Doris Day Show”. She appeared in over 25 feature films and made over 250 television appearances. During the late 1960’s and 1970’s, she was also a co-host on the popular syndicated talk show, \"The Love Boat\", which ran for sixteen years. During her show, guests were given a chance to win a cash prize and a getaway to either New York or Miami for a weekend. Blanche and her co-host, Joan Collins, hosted the show on the show for almost eighteen years. She received eight nominations for the Emmy Awards, the first in 19': ({'Philosophy': False, 'Literature': False, 'University': False, 'Prosecutor': False, 'Bangladeshi': False, 'Kutupalong': False, 'Bangladesh': False, '30 May 1940': False}, 0.0), 'Blanche Pritchard McCrum was born on 7th December 186\\nMother: Blanche Pritchard (1810-?)\\nActor (1904-1954), American comedian.Blanche Pritchard McCrum was born in Chelsea, New York City, on December 7, 1869, to Mary E. McCrum and her husband John W. McDowell. Her parents were teachers. Her brother William J. McCrum would also become a stand-up comedian.Her career began early when she joined a circus as a clown and soon became the star attraction. She then moved to the Broadway and the vaudeville shows.Her film career started with the 1911 movie \"Kings Row\" in which she was a featured actress. She appeared as a supporting player in \"The Worlds of Comedy\" and \"One of Our Dear People\".\\nHer film career continued until 1954 when she retired due to ill health.She was a regular performer on the \"Lion of Broadway\" vaudeville tour. She is still remembered for the 1920 film \"Our Girl\", written by Lillian Hellman, which featured her playing the female lead. The movie premiered on Broadway and was a box office success.Her': ({'Philosophy': False, 'Literature': False, 'University': False, 'Prosecutor': False, 'Bangladeshi': False, 'Kutupalong': False, 'Bangladesh': False, '30 May 1940': False}, 0.0), 'Max Gerlach was born in 1966 in Bielefeld. He worked as an artist in the studio of Joachim Friedrich von Herbst until 1994. Max Gerlach is also a journalist who is editor-in-chief of the magazine, and he also writes reviews of music and literature. His work has appeared in the print edition of Quadriga Magazine, and he has had articles published in the magazine T.O.C. As a music critic, his reviews of albums have been published in major music publications worldwide such as Scrutineer (the magazine for critics of the Scritti, the Berlin-based magazine), the International Music Times, and Neue Rundschau. Max Gerlach has also interviewed numerous music performers and writers for TONY,YOU Magazine (a daily newspaper for the people of the Länder). In 1994, he joined the staff of the Süddeutsche Zeitung, as a cultural critic. Since 1997, Gerlach has been a correspondent for TONY, and for the newspaper SPIEGEL BILD. He is the author of various essays on the cultural history of his own city, including a biography of the composer Richard Strauss, and a book about the music of Max Bruch.\\nFor many years, he acted as the musical editor for the radio program Auf dem Rad (“On the Radio': ({'Philosophy': False, 'Literature': True, 'University': False, 'Prosecutor': False, 'Bangladeshi': False, 'Kutupalong': False, 'Bangladesh': False, '30 May 1940': False}, 9.090909090909092), \"Max Gerlach (August 6, 1811 – December 29, 1895) was a German-born journalist, photographer and writer. Born in Berlin, he is one of the early photojournalists and was the first person to photograph the sinking of the Titanic.\\nGet the latest headlines on Wall Street and international economies, money news, personal finance, the stock market indexes including Dow Jones, NASDAQ, and more.\\nMax Gerlach Biography Max Gerlach (August 6, 1811 – December 29, 1895) was a German-born journalist, photographer and writer. Born in Berlin, he is one of the earliest photojournalists and was the first person to photograph the sinking of the Titanic.\\nMax Gerlach (July 6, 1847 – April 24, 1907), sometimes called Max Pforzheimer, was an American-born photographer, portraitist and writer, and the father of the photojournalist and editor Edith Gerlach.\\nFind out about Max Gerlach and the family that raised him. Find out about Max Gerlach's career and what he did after he served in the Civil War.\\nMax Gerlach's photographic career and life in the Civil War are documented in this extensive article. Includes an extensive\": ({'Philosophy': False, 'Literature': False, 'University': False, 'Prosecutor': False, 'Bangladeshi': False, 'Kutupalong': False, 'Bangladesh': False, '30 May 1940': False}, 0.0), \"Max Gerlach is an English-American writer, teacher, translator, and poet.\\nHe has translated the poetry of German-Austrian writer Michael Hofmann into English, as well as that of English-born Austrian poet Martin Jayde. He has also translated works by Austrian novelist and poet Rudolf Kautsky, including Der Pest In Vienna, as well as the poetry of Austrian novelist and poet Johanna Klause. Gerlach also translates poetry by Austrian writer Maria Mies, as well as short stories and poems by fellow Austrian writer Josef A. Mozart.\\nThe following is an excerpt of Gerlach's work.\\nPoet of the Austrian Language: A History of German Literature (2009) [with Maria Mies]. Princeton University Press.\\n“A Favorite Austrian: Josef A. Mozart.” In: 7. Wiener Literaturzeitung. 2001.\\n“Schindler and Murnau as the Eyes of Time: The Nuremberg Trials” In: 33. Jahrbuch des Deutschen und Austrischen Alten- und Neueren Sprachvereins (Vienna).\\n“Poetry and Propaganda in the Austrian Monarchy, 1867–1918.” In: The New York Historical Review.\\nTranslations of\": ({'Philosophy': False, 'Literature': True, 'University': True, 'Prosecutor': False, 'Bangladeshi': False, 'Kutupalong': False, 'Bangladesh': False, '30 May 1940': False}, 27.27272727272727), 'Max Gerlach is a German photographer, musician, actor, producer, film director, writer and director. The name itself tells you that he was a great multi-faceted character. Gerlach was born in Pankow near Berlin in 1953 and his father was a military engineer who left the army. Max Gerlach was exposed to music in his family, although he started playing in a band as early as 1973. This gave him the opportunity to attend and play in a number of different rock bands such as The Thin Lizzy Band and Erotic. It was While in one of the bands playing in the Berlin Wall. He was also invited to the Berlin Wall as an observer to observe the construction. This opportunity helped him get his start and helped him to understand that he could not do music alone and that he needed to do other types of projects. He started writing and producing music in 1976, when he formed Max Gerlach and the Mammoth. The band was active between 1976 and 1978, and in the late 1970s he worked with the Thin Lizzy. They recorded two albums with the first one being recorded with The Thin Lizzy before Gerlach left and the second was with the Mammoth as well. He was also the manager of a successful band called the Ragdolls in': ({'Philosophy': False, 'Literature': False, 'University': False, 'Prosecutor': False, 'Bangladeshi': False, 'Kutupalong': False, 'Bangladesh': False, '30 May 1940': False}, 0.0), \"Max Gerlach is a professional poker player and a member of the Poker Hall of Fame (PHoF), and he was ranked as the No. 5 player in the world for 2005-2006 by the World Poker. Max Gerlach is also a gambler, so he loves playing games of chance such as blackjack and roulette.\\nHis first major win came when he won the $22,500 buy-in World Series of Poker Event in 2008. He was also the winner of the 2007 and 2010 Bravo World Poker Tour and won the 2008 and 2010 Bravo World Poker Tour Gold Championship Series Event. His biggest overall win came when he was crowned the World Series of Poker Champion in 2009.\\nGerlach's biggest win came when he beat 14-year-old Indian boy Rahul Jain at the 2009 Super Bowl Challenge by defeating the child in a live poker game.\\nHe was inducted into the Poker Hall of Fame on December 7, 2011.\\nHe was featured on an episode of The Amazing Race season 23.\\nMax Gerlach is a well-respected poker player and one of the greatest players in the history of poker\": ({'Philosophy': False, 'Literature': False, 'University': False, 'Prosecutor': False, 'Bangladeshi': False, 'Kutupalong': False, 'Bangladesh': False, '30 May 1940': False}, 0.0)}\n"
     ]
    }
   ],
   "source": [
    "from sdgeval.privacy.privacy_metrics.metrics import entity_leakage\n",
    "\n",
    "total_leakage, privacy_analysis = entity_leakage(synthetic_samples['output_text'].tolist(), entities, 'privacy-leakage.pkl')"
   ]
  },
  {
   "cell_type": "code",
   "execution_count": 7,
   "metadata": {},
   "outputs": [
    {
     "name": "stdout",
     "output_type": "stream",
     "text": [
      "Total leakage :  76.03305785123968\n",
      "Leakage for data point  0   54.54545454545454\n",
      "Leakage for data point  1   45.45454545454545\n",
      "Leakage for data point  2   0.0\n",
      "Leakage for data point  3   0.0\n",
      "Leakage for data point  4   0.0\n",
      "Leakage for data point  5   0.0\n"
     ]
    }
   ],
   "source": [
    "print(\"Total leakage : \", total_leakage)\n",
    "for ind, key in enumerate(privacy_analysis.keys()):\n",
    "    print(\"Leakage for data point \", ind, \" \", privacy_analysis[key][1])\n",
    "    if(ind == 5):\n",
    "        break"
   ]
  },
  {
   "cell_type": "markdown",
   "metadata": {},
   "source": [
    "Other functionality:\n",
    "\n",
    "Canary evaluation, descriptive measures, etc."
   ]
  }
 ],
 "metadata": {
  "kernelspec": {
   "display_name": "Python 3",
   "language": "python",
   "name": "python3"
  },
  "language_info": {
   "codemirror_mode": {
    "name": "ipython",
    "version": 3
   },
   "file_extension": ".py",
   "mimetype": "text/x-python",
   "name": "python",
   "nbconvert_exporter": "python",
   "pygments_lexer": "ipython3",
   "version": "3.9.18"
  }
 },
 "nbformat": 4,
 "nbformat_minor": 2
}
