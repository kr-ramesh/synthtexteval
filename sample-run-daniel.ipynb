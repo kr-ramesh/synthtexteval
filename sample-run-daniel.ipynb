{
 "cells": [
  {
   "cell_type": "code",
   "execution_count": 1,
   "metadata": {},
   "outputs": [],
   "source": [
    "import pandas as pd\n",
    "import seaborn as sns\n",
    "import matplotlib.pyplot as plt\n",
    "import os"
   ]
  },
  {
   "cell_type": "markdown",
   "metadata": {
    "jp-MarkdownHeadingCollapsed": true,
    "tags": []
   },
   "source": [
    "### Generation and Inference"
   ]
  },
  {
   "cell_type": "code",
   "execution_count": 3,
   "metadata": {},
   "outputs": [],
   "source": [
    "import transformers\n",
    "import sdgeval.generation.controllable.argument_utils as argument_utils\n",
    "from sdgeval.generation.controllable.inference import inference\n",
    "from sdgeval.generation.controllable.train_generator import train\n",
    "from sdgeval.generation.controllable.testing_args import set_default_training_args, set_default_config_args"
   ]
  },
  {
   "cell_type": "markdown",
   "metadata": {},
   "source": [
    "#### Training the model to generate the synthetic data"
   ]
  },
  {
   "cell_type": "code",
   "execution_count": 4,
   "metadata": {},
   "outputs": [],
   "source": [
    "os.environ['WANDB_DISABLED'] = \"true\""
   ]
  },
  {
   "cell_type": "code",
   "execution_count": 5,
   "metadata": {
    "scrolled": true,
    "tags": []
   },
   "outputs": [
    {
     "name": "stderr",
     "output_type": "stream",
     "text": [
      "/data/afield6/umd-dsmolyak/sdg-eval/venv/lib64/python3.11/site-packages/transformers/training_args.py:1594: FutureWarning: `evaluation_strategy` is deprecated and will be removed in version 4.46 of 🤗 Transformers. Use `eval_strategy` instead\n",
      "  warnings.warn(\n",
      "Using the `WANDB_DISABLED` environment variable is deprecated and will be removed in v5. Use the --report_to flag to control the integrations used for logging result (for instance --report_to none).\n",
      "03/17/2025 10:37:10:WARNING:--dry_run was specified. Reducing number of training steps to 2 and logging intervals to 1...\n",
      "03/17/2025 10:37:10:WARNING:Process rank: 0, device: cuda:0, n_gpu: 1, distributed training: True, 16-bits training: False\n"
     ]
    },
    {
     "name": "stdout",
     "output_type": "stream",
     "text": [
      "CPU:  0.0\n",
      "Model:  gpt2\n"
     ]
    },
    {
     "name": "stderr",
     "output_type": "stream",
     "text": [
      "[WARNING|logging.py:329] 2025-03-17 10:37:15,851 >> The new embeddings will be initialized from a multivariate normal distribution that has old embeddings' mean and covariance. As described in this article: https://nlp.stanford.edu/~johnhew/vocab-expansion.html. To disable this, use `mean_resizing=False`\n"
     ]
    },
    {
     "name": "stdout",
     "output_type": "stream",
     "text": [
      "Directory exists:  dummy-test-wiki_data/train.csv\n"
     ]
    },
    {
     "name": "stderr",
     "output_type": "stream",
     "text": [
      "[WARNING|tokenization_utils_base.py:3945] 2025-03-17 10:37:18,845 >> Token indices sequence length is longer than the specified maximum sequence length for this model (1509 > 1024). Running this sequence through the model will result in indexing errors\n",
      "[WARNING|tokenization_utils_base.py:3945] 2025-03-17 10:37:19,110 >> Token indices sequence length is longer than the specified maximum sequence length for this model (1212 > 1024). Running this sequence through the model will result in indexing errors\n",
      "[WARNING|tokenization_utils_base.py:3945] 2025-03-17 10:37:19,441 >> Token indices sequence length is longer than the specified maximum sequence length for this model (1842 > 1024). Running this sequence through the model will result in indexing errors\n",
      "/data/afield6/umd-dsmolyak/sdg-eval/venv/lib64/python3.11/site-packages/peft/tuners/lora/layer.py:1264: UserWarning: fan_in_fan_out is set to False but the target module is `Conv1D`. Setting fan_in_fan_out to True.\n",
      "  warnings.warn(\n",
      "/data/afield6/umd-dsmolyak/sdg-eval/sdgeval/generation/controllable/train_generator.py:140: FutureWarning: `tokenizer` is deprecated and will be removed in version 5.0.0 for `Trainer.__init__`. Use `processing_class` instead.\n",
      "  trainer = Trainer(\n",
      "03/17/2025 10:37:23:WARNING:Detected kernel version 4.18.0, which is below the recommended minimum of 5.5.0; this can cause the process to hang. It is recommended to upgrade the kernel to the minimum version or higher.\n",
      "[WARNING|trainer.py:781] 2025-03-17 10:37:23,404 >> No label_names provided for model class `PeftModelForCausalLM`. Since `PeftModel` hides base models input arguments, if label_names is not given, label_names can't be set automatically within `Trainer`. Note that empty label_names list will be used instead.\n"
     ]
    },
    {
     "name": "stdout",
     "output_type": "stream",
     "text": [
      "294912\n",
      "Differentially Private Training: False\n"
     ]
    },
    {
     "name": "stderr",
     "output_type": "stream",
     "text": [
      "/data/afield6/umd-dsmolyak/sdg-eval/venv/lib64/python3.11/site-packages/torch/utils/data/dataloader.py:624: UserWarning: This DataLoader will create 2 worker processes in total. Our suggested max number of worker in current system is 1, which is smaller than what this DataLoader is going to create. Please be aware that excessive worker creation might get DataLoader running slow or even freeze, lower the worker number to avoid potential slowness/freeze if necessary.\n",
      "  warnings.warn(\n",
      "[WARNING|logging.py:329] 2025-03-17 10:37:24,296 >> `loss_type=None` was set in the config but it is unrecognised.Using the default loss: `ForCausalLMLoss`.\n"
     ]
    },
    {
     "name": "stdout",
     "output_type": "stream",
     "text": [
      "{'loss': 9.9448, 'learning_rate': 0.0003, 'epoch': 0.014285714285714285}\n",
      "{'loss': 9.8244, 'learning_rate': 0.0003, 'epoch': 0.02857142857142857}\n"
     ]
    },
    {
     "name": "stderr",
     "output_type": "stream",
     "text": [
      "/data/afield6/umd-dsmolyak/sdg-eval/venv/lib64/python3.11/site-packages/peft/utils/save_and_load.py:260: UserWarning: Setting `save_embedding_layers` to `True` as the embedding layer has been resized during finetuning.\n",
      "  warnings.warn(\n"
     ]
    },
    {
     "name": "stdout",
     "output_type": "stream",
     "text": [
      "{'train_runtime': 1.8041, 'train_samples_per_second': 4.434, 'train_steps_per_second': 1.109, 'train_loss': 9.884635925292969, 'epoch': 0.02857142857142857}\n"
     ]
    },
    {
     "name": "stderr",
     "output_type": "stream",
     "text": [
      "/data/afield6/umd-dsmolyak/sdg-eval/venv/lib64/python3.11/site-packages/peft/utils/save_and_load.py:260: UserWarning: Setting `save_embedding_layers` to `True` as the embedding layer has been resized during finetuning.\n",
      "  warnings.warn(\n"
     ]
    }
   ],
   "source": [
    "if __name__ == \"__main__\":\n",
    "    train_args = set_default_training_args(dry_run=True)\n",
    "    \n",
    "    model_args, data_args = set_default_config_args()\n",
    "    privacy_args, lora_args= argument_utils.PrivacyArguments(), argument_utils.LoraArguments()\n",
    "    privacy_args.disable_dp = True\n",
    "    data_args.dataset_name = 'wiki'\n",
    "    data_args.path_to_dataset = '/home/umd-dsmolyak/data_afield6/datasets/wikipedia-biographies-v1-post-2020-200.csv'\n",
    "    model_args.path_to_save_model = 'dummy-test-wiki'\n",
    "    train_args.output_dir = \"models-wiki/\"\n",
    "    model_args.model_name = 'gpt2'\n",
    "    #data_args.prompt_begin = \"Label: \"\n",
    "    #data_args.prompt_end = \" \"\n",
    "    \n",
    "    train(argument_utils.Arguments(train=train_args, privacy=privacy_args, model=model_args, data = data_args, lora=lora_args))"
   ]
  },
  {
   "cell_type": "code",
   "execution_count": 5,
   "metadata": {
    "scrolled": true,
    "tags": []
   },
   "outputs": [
    {
     "name": "stderr",
     "output_type": "stream",
     "text": [
      "/data/afield6/umd-dsmolyak/sdg-eval/venv/lib64/python3.11/site-packages/transformers/training_args.py:1594: FutureWarning: `evaluation_strategy` is deprecated and will be removed in version 4.46 of 🤗 Transformers. Use `eval_strategy` instead\n",
      "  warnings.warn(\n",
      "[WARNING|integration_utils.py:100] 2025-03-13 22:19:01,519 >> Using the `WANDB_DISABLED` environment variable is deprecated and will be removed in v5. Use the --report_to flag to control the integrations used for logging result (for instance --report_to none).\n",
      "03/13/2025 22:19:01:WARNING:--dry_run was specified. Reducing number of training steps to 2 and logging intervals to 1...\n",
      "03/13/2025 22:19:01:WARNING:Process rank: 0, device: cuda:0, n_gpu: 1, distributed training: True, 16-bits training: False\n"
     ]
    },
    {
     "name": "stdout",
     "output_type": "stream",
     "text": [
      "DataArguments(dataset_name='hfhub', path_to_dataset='fancyzhx/ag_news', path_to_test_dataset='/data/test.csv', control_field='label', text_field='label', label_field='text', prompt_begin='', prompt_end='')\n",
      "CPU:  0.0\n",
      "Model:  gpt2\n"
     ]
    },
    {
     "name": "stderr",
     "output_type": "stream",
     "text": [
      "/data/afield6/umd-dsmolyak/sdg-eval/venv/lib64/python3.11/site-packages/peft/tuners/lora/layer.py:1264: UserWarning: fan_in_fan_out is set to False but the target module is `Conv1D`. Setting fan_in_fan_out to True.\n",
      "  warnings.warn(\n",
      "/data/afield6/umd-dsmolyak/sdg-eval/sdgeval/generation/controllable/train_generator.py:140: FutureWarning: `tokenizer` is deprecated and will be removed in version 5.0.0 for `Trainer.__init__`. Use `processing_class` instead.\n",
      "  trainer = Trainer(\n",
      "03/13/2025 22:20:53:WARNING:Detected kernel version 4.18.0, which is below the recommended minimum of 5.5.0; this can cause the process to hang. It is recommended to upgrade the kernel to the minimum version or higher.\n",
      "[WARNING|trainer.py:781] 2025-03-13 22:20:53,535 >> No label_names provided for model class `PeftModelForCausalLM`. Since `PeftModel` hides base models input arguments, if label_names is not given, label_names can't be set automatically within `Trainer`. Note that empty label_names list will be used instead.\n"
     ]
    },
    {
     "name": "stdout",
     "output_type": "stream",
     "text": [
      "294912\n",
      "Differentially Private Training: False\n"
     ]
    },
    {
     "name": "stderr",
     "output_type": "stream",
     "text": [
      "/data/afield6/umd-dsmolyak/sdg-eval/venv/lib64/python3.11/site-packages/torch/utils/data/dataloader.py:624: UserWarning: This DataLoader will create 2 worker processes in total. Our suggested max number of worker in current system is 1, which is smaller than what this DataLoader is going to create. Please be aware that excessive worker creation might get DataLoader running slow or even freeze, lower the worker number to avoid potential slowness/freeze if necessary.\n",
      "  warnings.warn(\n",
      "[WARNING|logging.py:329] 2025-03-13 22:20:54,374 >> `loss_type=None` was set in the config but it is unrecognised.Using the default loss: `ForCausalLMLoss`.\n"
     ]
    },
    {
     "name": "stdout",
     "output_type": "stream",
     "text": [
      "{'loss': 11.9658, 'learning_rate': 0.0003, 'epoch': 3.3333333333333335e-05}\n",
      "{'loss': 11.7521, 'learning_rate': 0.0003, 'epoch': 6.666666666666667e-05}\n"
     ]
    },
    {
     "name": "stderr",
     "output_type": "stream",
     "text": [
      "/data/afield6/umd-dsmolyak/sdg-eval/venv/lib64/python3.11/site-packages/peft/utils/save_and_load.py:260: UserWarning: Setting `save_embedding_layers` to `True` as the embedding layer has been resized during finetuning.\n",
      "  warnings.warn(\n"
     ]
    },
    {
     "name": "stdout",
     "output_type": "stream",
     "text": [
      "{'train_runtime': 1.1915, 'train_samples_per_second': 6.714, 'train_steps_per_second': 1.679, 'train_loss': 11.858931064605713, 'epoch': 6.666666666666667e-05}\n"
     ]
    },
    {
     "name": "stderr",
     "output_type": "stream",
     "text": [
      "/data/afield6/umd-dsmolyak/sdg-eval/venv/lib64/python3.11/site-packages/peft/utils/save_and_load.py:260: UserWarning: Setting `save_embedding_layers` to `True` as the embedding layer has been resized during finetuning.\n",
      "  warnings.warn(\n"
     ]
    }
   ],
   "source": [
    "train_args = set_default_training_args(dry_run=True)\n",
    "\n",
    "model_args, data_args = set_default_config_args()\n",
    "privacy_args, lora_args= argument_utils.PrivacyArguments(), argument_utils.LoraArguments()\n",
    "\n",
    "print(data_args)\n",
    "# data_args.dataset_name = 'dummy-test'\n",
    "train_args.output_dir = \"models-dummy/\"\n",
    "privacy_args.disable_dp = True\n",
    "model_args.model_name = 'gpt2'\n",
    "model_args.path_to_save_model = 'dummy-test'\n",
    "data_args.prompt_begin = \"Label: \"\n",
    "data_args.prompt_end = \" \"\n",
    "\n",
    "train(argument_utils.Arguments(train=train_args, privacy=privacy_args, model=model_args, data = data_args, lora=lora_args))"
   ]
  },
  {
   "cell_type": "markdown",
   "metadata": {},
   "source": [
    "#### Performing inference in order to generate the synthetic data "
   ]
  },
  {
   "cell_type": "code",
   "execution_count": 6,
   "metadata": {
    "scrolled": true,
    "tags": []
   },
   "outputs": [
    {
     "name": "stderr",
     "output_type": "stream",
     "text": [
      "/data/afield6/umd-dsmolyak/sdg-eval/venv/lib64/python3.11/site-packages/transformers/training_args.py:1594: FutureWarning: `evaluation_strategy` is deprecated and will be removed in version 4.46 of 🤗 Transformers. Use `eval_strategy` instead\n",
      "  warnings.warn(\n",
      "[WARNING|integration_utils.py:100] 2025-03-17 10:37:52,117 >> Using the `WANDB_DISABLED` environment variable is deprecated and will be removed in v5. Use the --report_to flag to control the integrations used for logging result (for instance --report_to none).\n"
     ]
    },
    {
     "name": "stdout",
     "output_type": "stream",
     "text": [
      "0\n",
      "CPU:  0.0\n",
      "Model:  gpt2\n",
      "Using LoRA\n"
     ]
    },
    {
     "name": "stderr",
     "output_type": "stream",
     "text": [
      "/data/afield6/umd-dsmolyak/sdg-eval/sdgeval/generation/controllable/inference.py:72: FutureWarning: `tokenizer` is deprecated and will be removed in version 5.0.0 for `Trainer.__init__`. Use `processing_class` instead.\n",
      "  trainer = Trainer(\n",
      "03/17/2025 10:37:58:WARNING:Detected kernel version 4.18.0, which is below the recommended minimum of 5.5.0; this can cause the process to hang. It is recommended to upgrade the kernel to the minimum version or higher.\n"
     ]
    },
    {
     "name": "stdout",
     "output_type": "stream",
     "text": [
      "Total number of parameters of the model: 124735488\n",
      "Fine-tuned number of parameters of the model: 0\n",
      "Differentially Private Training: False\n",
      "Non-DP model has been loaded...\n",
      "Testing for the entire dataset. Number of generations per prompt:  5\n",
      "Length of test data 5\n"
     ]
    },
    {
     "name": "stderr",
     "output_type": "stream",
     "text": [
      "[WARNING|trainer.py:814] 2025-03-17 10:38:00,624 >> Trainer.tokenizer is now deprecated. You should use Trainer.processing_class instead.\n",
      "[WARNING|trainer.py:814] 2025-03-17 10:38:00,635 >> Trainer.tokenizer is now deprecated. You should use Trainer.processing_class instead.\n",
      "[WARNING|trainer.py:814] 2025-03-17 10:38:00,637 >> Trainer.tokenizer is now deprecated. You should use Trainer.processing_class instead.\n",
      "[WARNING|trainer.py:814] 2025-03-17 10:38:00,639 >> Trainer.tokenizer is now deprecated. You should use Trainer.processing_class instead.\n",
      "[WARNING|logging.py:314] 2025-03-17 10:38:00,641 >> You're using a GPT2TokenizerFast tokenizer. Please note that with a fast tokenizer, using the `__call__` method is faster than using a method to encode the text followed by a call to the `pad` method to get a padded encoding.\n",
      "[WARNING|utils.py:1843] 2025-03-17 10:38:00,644 >> Setting `pad_token_id` to `eos_token_id`:50256 for open-end generation.\n",
      "[WARNING|utils.py:1843] 2025-03-17 10:38:04,034 >> Setting `pad_token_id` to `eos_token_id`:50256 for open-end generation.\n",
      "[WARNING|trainer.py:814] 2025-03-17 10:38:06,930 >> Trainer.tokenizer is now deprecated. You should use Trainer.processing_class instead.\n",
      "[WARNING|trainer.py:814] 2025-03-17 10:38:06,932 >> Trainer.tokenizer is now deprecated. You should use Trainer.processing_class instead.\n",
      "[WARNING|trainer.py:814] 2025-03-17 10:38:06,934 >> Trainer.tokenizer is now deprecated. You should use Trainer.processing_class instead.\n",
      "[WARNING|trainer.py:814] 2025-03-17 10:38:06,936 >> Trainer.tokenizer is now deprecated. You should use Trainer.processing_class instead.\n",
      "[WARNING|trainer.py:814] 2025-03-17 10:38:06,938 >> Trainer.tokenizer is now deprecated. You should use Trainer.processing_class instead.\n",
      "[WARNING|trainer.py:814] 2025-03-17 10:38:06,939 >> Trainer.tokenizer is now deprecated. You should use Trainer.processing_class instead.\n",
      "[WARNING|trainer.py:814] 2025-03-17 10:38:06,941 >> Trainer.tokenizer is now deprecated. You should use Trainer.processing_class instead.\n",
      "[WARNING|trainer.py:814] 2025-03-17 10:38:06,943 >> Trainer.tokenizer is now deprecated. You should use Trainer.processing_class instead.\n",
      "[WARNING|trainer.py:814] 2025-03-17 10:38:06,944 >> Trainer.tokenizer is now deprecated. You should use Trainer.processing_class instead.\n",
      "[WARNING|trainer.py:814] 2025-03-17 10:38:06,946 >> Trainer.tokenizer is now deprecated. You should use Trainer.processing_class instead.\n",
      "[WARNING|trainer.py:814] 2025-03-17 10:38:06,948 >> Trainer.tokenizer is now deprecated. You should use Trainer.processing_class instead.\n",
      "[WARNING|trainer.py:814] 2025-03-17 10:38:06,949 >> Trainer.tokenizer is now deprecated. You should use Trainer.processing_class instead.\n",
      "[WARNING|trainer.py:814] 2025-03-17 10:38:06,951 >> Trainer.tokenizer is now deprecated. You should use Trainer.processing_class instead.\n",
      "[WARNING|trainer.py:814] 2025-03-17 10:38:06,953 >> Trainer.tokenizer is now deprecated. You should use Trainer.processing_class instead.\n",
      "[WARNING|trainer.py:814] 2025-03-17 10:38:06,954 >> Trainer.tokenizer is now deprecated. You should use Trainer.processing_class instead.\n",
      "[WARNING|trainer.py:814] 2025-03-17 10:38:06,956 >> Trainer.tokenizer is now deprecated. You should use Trainer.processing_class instead.\n",
      "[WARNING|trainer.py:814] 2025-03-17 10:38:06,958 >> Trainer.tokenizer is now deprecated. You should use Trainer.processing_class instead.\n",
      "[WARNING|trainer.py:814] 2025-03-17 10:38:06,959 >> Trainer.tokenizer is now deprecated. You should use Trainer.processing_class instead.\n",
      "[WARNING|trainer.py:814] 2025-03-17 10:38:06,961 >> Trainer.tokenizer is now deprecated. You should use Trainer.processing_class instead.\n",
      "[WARNING|trainer.py:814] 2025-03-17 10:38:06,963 >> Trainer.tokenizer is now deprecated. You should use Trainer.processing_class instead.\n",
      "[WARNING|trainer.py:814] 2025-03-17 10:38:06,964 >> Trainer.tokenizer is now deprecated. You should use Trainer.processing_class instead.\n",
      "[WARNING|trainer.py:814] 2025-03-17 10:38:06,966 >> Trainer.tokenizer is now deprecated. You should use Trainer.processing_class instead.\n",
      "[WARNING|trainer.py:814] 2025-03-17 10:38:06,968 >> Trainer.tokenizer is now deprecated. You should use Trainer.processing_class instead.\n",
      "[WARNING|trainer.py:814] 2025-03-17 10:38:06,968 >> Trainer.tokenizer is now deprecated. You should use Trainer.processing_class instead.\n",
      "[WARNING|trainer.py:814] 2025-03-17 10:38:06,971 >> Trainer.tokenizer is now deprecated. You should use Trainer.processing_class instead.\n",
      "[WARNING|trainer.py:814] 2025-03-17 10:38:06,972 >> Trainer.tokenizer is now deprecated. You should use Trainer.processing_class instead.\n",
      "[WARNING|trainer.py:814] 2025-03-17 10:38:06,973 >> Trainer.tokenizer is now deprecated. You should use Trainer.processing_class instead.\n",
      "[WARNING|trainer.py:814] 2025-03-17 10:38:06,973 >> Trainer.tokenizer is now deprecated. You should use Trainer.processing_class instead.\n",
      "[WARNING|trainer.py:814] 2025-03-17 10:38:06,974 >> Trainer.tokenizer is now deprecated. You should use Trainer.processing_class instead.\n",
      "[WARNING|trainer.py:814] 2025-03-17 10:38:06,978 >> Trainer.tokenizer is now deprecated. You should use Trainer.processing_class instead.\n",
      "[WARNING|trainer.py:814] 2025-03-17 10:38:06,979 >> Trainer.tokenizer is now deprecated. You should use Trainer.processing_class instead.\n",
      "[WARNING|trainer.py:814] 2025-03-17 10:38:06,979 >> Trainer.tokenizer is now deprecated. You should use Trainer.processing_class instead.\n",
      "[WARNING|trainer.py:814] 2025-03-17 10:38:06,980 >> Trainer.tokenizer is now deprecated. You should use Trainer.processing_class instead.\n",
      "[WARNING|trainer.py:814] 2025-03-17 10:38:06,980 >> Trainer.tokenizer is now deprecated. You should use Trainer.processing_class instead.\n",
      "[WARNING|trainer.py:814] 2025-03-17 10:38:06,981 >> Trainer.tokenizer is now deprecated. You should use Trainer.processing_class instead.\n",
      "[WARNING|trainer.py:814] 2025-03-17 10:38:06,981 >> Trainer.tokenizer is now deprecated. You should use Trainer.processing_class instead.\n",
      "[WARNING|trainer.py:814] 2025-03-17 10:38:06,982 >> Trainer.tokenizer is now deprecated. You should use Trainer.processing_class instead.\n",
      "[WARNING|trainer.py:814] 2025-03-17 10:38:06,982 >> Trainer.tokenizer is now deprecated. You should use Trainer.processing_class instead.\n",
      "[WARNING|trainer.py:814] 2025-03-17 10:38:06,983 >> Trainer.tokenizer is now deprecated. You should use Trainer.processing_class instead.\n",
      "[WARNING|trainer.py:814] 2025-03-17 10:38:06,983 >> Trainer.tokenizer is now deprecated. You should use Trainer.processing_class instead.\n",
      "[WARNING|trainer.py:814] 2025-03-17 10:38:06,984 >> Trainer.tokenizer is now deprecated. You should use Trainer.processing_class instead.\n",
      "[WARNING|trainer.py:814] 2025-03-17 10:38:06,984 >> Trainer.tokenizer is now deprecated. You should use Trainer.processing_class instead.\n",
      "[WARNING|trainer.py:814] 2025-03-17 10:38:06,985 >> Trainer.tokenizer is now deprecated. You should use Trainer.processing_class instead.\n",
      "[WARNING|trainer.py:814] 2025-03-17 10:38:06,985 >> Trainer.tokenizer is now deprecated. You should use Trainer.processing_class instead.\n",
      "[WARNING|trainer.py:814] 2025-03-17 10:38:06,986 >> Trainer.tokenizer is now deprecated. You should use Trainer.processing_class instead.\n",
      "[WARNING|trainer.py:814] 2025-03-17 10:38:06,986 >> Trainer.tokenizer is now deprecated. You should use Trainer.processing_class instead.\n",
      "[WARNING|trainer.py:814] 2025-03-17 10:38:06,986 >> Trainer.tokenizer is now deprecated. You should use Trainer.processing_class instead.\n",
      "[WARNING|trainer.py:814] 2025-03-17 10:38:06,987 >> Trainer.tokenizer is now deprecated. You should use Trainer.processing_class instead.\n",
      "[WARNING|trainer.py:814] 2025-03-17 10:38:06,987 >> Trainer.tokenizer is now deprecated. You should use Trainer.processing_class instead.\n",
      "[WARNING|trainer.py:814] 2025-03-17 10:38:06,988 >> Trainer.tokenizer is now deprecated. You should use Trainer.processing_class instead.\n"
     ]
    },
    {
     "name": "stdout",
     "output_type": "stream",
     "text": [
      "Saving results to file...\n"
     ]
    }
   ],
   "source": [
    "train_args = set_default_training_args(dry_run=False, dry_test_run = True)\n",
    "\n",
    "model_args, data_args = set_default_config_args()\n",
    "privacy_args, lora_args= argument_utils.PrivacyArguments(), argument_utils.LoraArguments()\n",
    "model_args.inference = True\n",
    "privacy_args.disable_dp = True\n",
    "data_args.dataset_name = 'wiki'\n",
    "data_args.path_to_test_dataset = 'dummy-test-wiki_data/test.csv'\n",
    "model_args.path_to_load_model = 'dummy-test-wiki'\n",
    "model_args.num_return_seq = 5\n",
    "train_args.output_dir = \"data/projects/sdgeval/models/\"\n",
    "model_args.model_name = 'gpt2'\n",
    "#data_args.prompt_begin = \"Label: \"\n",
    "#data_args.prompt_end = \" \"\n",
    "\n",
    "inference(argument_utils.Arguments(train=train_args, privacy=privacy_args, model=model_args, data = data_args, lora=lora_args))"
   ]
  },
  {
   "cell_type": "code",
   "execution_count": 7,
   "metadata": {
    "scrolled": true,
    "tags": []
   },
   "outputs": [
    {
     "name": "stderr",
     "output_type": "stream",
     "text": [
      "/data/afield6/umd-dsmolyak/sdg-eval/venv/lib64/python3.11/site-packages/transformers/training_args.py:1594: FutureWarning: `evaluation_strategy` is deprecated and will be removed in version 4.46 of 🤗 Transformers. Use `eval_strategy` instead\n",
      "  warnings.warn(\n",
      "[WARNING|integration_utils.py:100] 2025-03-13 22:27:06,239 >> Using the `WANDB_DISABLED` environment variable is deprecated and will be removed in v5. Use the --report_to flag to control the integrations used for logging result (for instance --report_to none).\n"
     ]
    },
    {
     "name": "stdout",
     "output_type": "stream",
     "text": [
      "0\n",
      "CPU:  0.0\n",
      "Model:  gpt2\n",
      "Using LoRA\n"
     ]
    },
    {
     "name": "stderr",
     "output_type": "stream",
     "text": [
      "/data/afield6/umd-dsmolyak/sdg-eval/sdgeval/generation/controllable/inference.py:72: FutureWarning: `tokenizer` is deprecated and will be removed in version 5.0.0 for `Trainer.__init__`. Use `processing_class` instead.\n",
      "  trainer = Trainer(\n",
      "03/13/2025 22:27:13:WARNING:Detected kernel version 4.18.0, which is below the recommended minimum of 5.5.0; this can cause the process to hang. It is recommended to upgrade the kernel to the minimum version or higher.\n"
     ]
    },
    {
     "name": "stdout",
     "output_type": "stream",
     "text": [
      "Total number of parameters of the model: 124735488\n",
      "Fine-tuned number of parameters of the model: 0\n",
      "Differentially Private Training: False\n",
      "Non-DP model has been loaded...\n",
      "Testing for the entire dataset. Number of generations per prompt:  5\n",
      "Length of test data 5\n"
     ]
    },
    {
     "name": "stderr",
     "output_type": "stream",
     "text": [
      "[WARNING|trainer.py:814] 2025-03-13 22:27:15,684 >> Trainer.tokenizer is now deprecated. You should use Trainer.processing_class instead.\n",
      "[WARNING|trainer.py:814] 2025-03-13 22:27:15,703 >> Trainer.tokenizer is now deprecated. You should use Trainer.processing_class instead.\n",
      "[WARNING|trainer.py:814] 2025-03-13 22:27:15,704 >> Trainer.tokenizer is now deprecated. You should use Trainer.processing_class instead.\n",
      "[WARNING|trainer.py:814] 2025-03-13 22:27:15,706 >> Trainer.tokenizer is now deprecated. You should use Trainer.processing_class instead.\n",
      "[WARNING|logging.py:314] 2025-03-13 22:27:15,708 >> You're using a GPT2TokenizerFast tokenizer. Please note that with a fast tokenizer, using the `__call__` method is faster than using a method to encode the text followed by a call to the `pad` method to get a padded encoding.\n",
      "[WARNING|utils.py:1843] 2025-03-13 22:27:15,711 >> Setting `pad_token_id` to `eos_token_id`:50256 for open-end generation.\n",
      "[WARNING|utils.py:1843] 2025-03-13 22:27:18,946 >> Setting `pad_token_id` to `eos_token_id`:50256 for open-end generation.\n",
      "[WARNING|trainer.py:814] 2025-03-13 22:27:21,854 >> Trainer.tokenizer is now deprecated. You should use Trainer.processing_class instead.\n",
      "[WARNING|trainer.py:814] 2025-03-13 22:27:21,856 >> Trainer.tokenizer is now deprecated. You should use Trainer.processing_class instead.\n",
      "[WARNING|trainer.py:814] 2025-03-13 22:27:21,858 >> Trainer.tokenizer is now deprecated. You should use Trainer.processing_class instead.\n",
      "[WARNING|trainer.py:814] 2025-03-13 22:27:21,860 >> Trainer.tokenizer is now deprecated. You should use Trainer.processing_class instead.\n",
      "[WARNING|trainer.py:814] 2025-03-13 22:27:21,861 >> Trainer.tokenizer is now deprecated. You should use Trainer.processing_class instead.\n",
      "[WARNING|trainer.py:814] 2025-03-13 22:27:21,863 >> Trainer.tokenizer is now deprecated. You should use Trainer.processing_class instead.\n",
      "[WARNING|trainer.py:814] 2025-03-13 22:27:21,865 >> Trainer.tokenizer is now deprecated. You should use Trainer.processing_class instead.\n",
      "[WARNING|trainer.py:814] 2025-03-13 22:27:21,866 >> Trainer.tokenizer is now deprecated. You should use Trainer.processing_class instead.\n",
      "[WARNING|trainer.py:814] 2025-03-13 22:27:21,868 >> Trainer.tokenizer is now deprecated. You should use Trainer.processing_class instead.\n",
      "[WARNING|trainer.py:814] 2025-03-13 22:27:21,870 >> Trainer.tokenizer is now deprecated. You should use Trainer.processing_class instead.\n",
      "[WARNING|trainer.py:814] 2025-03-13 22:27:21,871 >> Trainer.tokenizer is now deprecated. You should use Trainer.processing_class instead.\n",
      "[WARNING|trainer.py:814] 2025-03-13 22:27:21,873 >> Trainer.tokenizer is now deprecated. You should use Trainer.processing_class instead.\n",
      "[WARNING|trainer.py:814] 2025-03-13 22:27:21,875 >> Trainer.tokenizer is now deprecated. You should use Trainer.processing_class instead.\n",
      "[WARNING|trainer.py:814] 2025-03-13 22:27:21,876 >> Trainer.tokenizer is now deprecated. You should use Trainer.processing_class instead.\n",
      "[WARNING|trainer.py:814] 2025-03-13 22:27:21,878 >> Trainer.tokenizer is now deprecated. You should use Trainer.processing_class instead.\n",
      "[WARNING|trainer.py:814] 2025-03-13 22:27:21,880 >> Trainer.tokenizer is now deprecated. You should use Trainer.processing_class instead.\n",
      "[WARNING|trainer.py:814] 2025-03-13 22:27:21,881 >> Trainer.tokenizer is now deprecated. You should use Trainer.processing_class instead.\n",
      "[WARNING|trainer.py:814] 2025-03-13 22:27:21,883 >> Trainer.tokenizer is now deprecated. You should use Trainer.processing_class instead.\n",
      "[WARNING|trainer.py:814] 2025-03-13 22:27:21,885 >> Trainer.tokenizer is now deprecated. You should use Trainer.processing_class instead.\n",
      "[WARNING|trainer.py:814] 2025-03-13 22:27:21,886 >> Trainer.tokenizer is now deprecated. You should use Trainer.processing_class instead.\n",
      "[WARNING|trainer.py:814] 2025-03-13 22:27:21,888 >> Trainer.tokenizer is now deprecated. You should use Trainer.processing_class instead.\n",
      "[WARNING|trainer.py:814] 2025-03-13 22:27:21,890 >> Trainer.tokenizer is now deprecated. You should use Trainer.processing_class instead.\n",
      "[WARNING|trainer.py:814] 2025-03-13 22:27:21,891 >> Trainer.tokenizer is now deprecated. You should use Trainer.processing_class instead.\n",
      "[WARNING|trainer.py:814] 2025-03-13 22:27:21,892 >> Trainer.tokenizer is now deprecated. You should use Trainer.processing_class instead.\n",
      "[WARNING|trainer.py:814] 2025-03-13 22:27:21,893 >> Trainer.tokenizer is now deprecated. You should use Trainer.processing_class instead.\n",
      "[WARNING|trainer.py:814] 2025-03-13 22:27:21,897 >> Trainer.tokenizer is now deprecated. You should use Trainer.processing_class instead.\n",
      "[WARNING|trainer.py:814] 2025-03-13 22:27:21,897 >> Trainer.tokenizer is now deprecated. You should use Trainer.processing_class instead.\n",
      "[WARNING|trainer.py:814] 2025-03-13 22:27:21,898 >> Trainer.tokenizer is now deprecated. You should use Trainer.processing_class instead.\n",
      "[WARNING|trainer.py:814] 2025-03-13 22:27:21,898 >> Trainer.tokenizer is now deprecated. You should use Trainer.processing_class instead.\n",
      "[WARNING|trainer.py:814] 2025-03-13 22:27:21,899 >> Trainer.tokenizer is now deprecated. You should use Trainer.processing_class instead.\n",
      "[WARNING|trainer.py:814] 2025-03-13 22:27:21,899 >> Trainer.tokenizer is now deprecated. You should use Trainer.processing_class instead.\n",
      "[WARNING|trainer.py:814] 2025-03-13 22:27:21,900 >> Trainer.tokenizer is now deprecated. You should use Trainer.processing_class instead.\n",
      "[WARNING|trainer.py:814] 2025-03-13 22:27:21,900 >> Trainer.tokenizer is now deprecated. You should use Trainer.processing_class instead.\n",
      "[WARNING|trainer.py:814] 2025-03-13 22:27:21,901 >> Trainer.tokenizer is now deprecated. You should use Trainer.processing_class instead.\n",
      "[WARNING|trainer.py:814] 2025-03-13 22:27:21,901 >> Trainer.tokenizer is now deprecated. You should use Trainer.processing_class instead.\n",
      "[WARNING|trainer.py:814] 2025-03-13 22:27:21,901 >> Trainer.tokenizer is now deprecated. You should use Trainer.processing_class instead.\n",
      "[WARNING|trainer.py:814] 2025-03-13 22:27:21,902 >> Trainer.tokenizer is now deprecated. You should use Trainer.processing_class instead.\n",
      "[WARNING|trainer.py:814] 2025-03-13 22:27:21,912 >> Trainer.tokenizer is now deprecated. You should use Trainer.processing_class instead.\n",
      "[WARNING|trainer.py:814] 2025-03-13 22:27:21,912 >> Trainer.tokenizer is now deprecated. You should use Trainer.processing_class instead.\n",
      "[WARNING|trainer.py:814] 2025-03-13 22:27:21,913 >> Trainer.tokenizer is now deprecated. You should use Trainer.processing_class instead.\n",
      "[WARNING|trainer.py:814] 2025-03-13 22:27:21,913 >> Trainer.tokenizer is now deprecated. You should use Trainer.processing_class instead.\n",
      "[WARNING|trainer.py:814] 2025-03-13 22:27:21,914 >> Trainer.tokenizer is now deprecated. You should use Trainer.processing_class instead.\n",
      "[WARNING|trainer.py:814] 2025-03-13 22:27:21,914 >> Trainer.tokenizer is now deprecated. You should use Trainer.processing_class instead.\n",
      "[WARNING|trainer.py:814] 2025-03-13 22:27:21,915 >> Trainer.tokenizer is now deprecated. You should use Trainer.processing_class instead.\n",
      "[WARNING|trainer.py:814] 2025-03-13 22:27:21,915 >> Trainer.tokenizer is now deprecated. You should use Trainer.processing_class instead.\n",
      "[WARNING|trainer.py:814] 2025-03-13 22:27:21,916 >> Trainer.tokenizer is now deprecated. You should use Trainer.processing_class instead.\n",
      "[WARNING|trainer.py:814] 2025-03-13 22:27:21,916 >> Trainer.tokenizer is now deprecated. You should use Trainer.processing_class instead.\n",
      "[WARNING|trainer.py:814] 2025-03-13 22:27:21,916 >> Trainer.tokenizer is now deprecated. You should use Trainer.processing_class instead.\n",
      "[WARNING|trainer.py:814] 2025-03-13 22:27:21,917 >> Trainer.tokenizer is now deprecated. You should use Trainer.processing_class instead.\n",
      "[WARNING|trainer.py:814] 2025-03-13 22:27:21,917 >> Trainer.tokenizer is now deprecated. You should use Trainer.processing_class instead.\n"
     ]
    },
    {
     "name": "stdout",
     "output_type": "stream",
     "text": [
      "Saving results to file...\n"
     ]
    }
   ],
   "source": [
    "train_args = set_default_training_args(dry_run=False, dry_test_run = True)\n",
    "\n",
    "model_args, data_args = set_default_config_args()\n",
    "privacy_args, lora_args= argument_utils.PrivacyArguments(), argument_utils.LoraArguments()\n",
    "model_args.inference = True\n",
    "privacy_args.disable_dp = True\n",
    "model_args.model_name = 'gpt2'\n",
    "data_args.path_to_test_dataset = 'dummy-test/test.csv'\n",
    "model_args.path_to_load_model = 'dummy-test'\n",
    "model_args.num_return_seq = 5\n",
    "train_args.output_dir = \"data/\"\n",
    "#data_args.prompt_begin = \"Label: \"\n",
    "#data_args.prompt_end = \" \"\n",
    "\n",
    "inference(argument_utils.Arguments(train=train_args, privacy=privacy_args, model=model_args, data = data_args, lora=lora_args))"
   ]
  },
  {
   "cell_type": "markdown",
   "metadata": {
    "tags": []
   },
   "source": [
    "### Descriptive analysis of the synthetic data"
   ]
  },
  {
   "cell_type": "code",
   "execution_count": 6,
   "metadata": {},
   "outputs": [
    {
     "name": "stderr",
     "output_type": "stream",
     "text": [
      "[nltk_data] Downloading package punkt_tab to /home/umd-\n",
      "[nltk_data]     dsmolyak/nltk_data...\n",
      "[nltk_data]   Package punkt_tab is already up-to-date!\n"
     ]
    },
    {
     "data": {
      "text/plain": [
       "True"
      ]
     },
     "execution_count": 6,
     "metadata": {},
     "output_type": "execute_result"
    }
   ],
   "source": [
    "import pandas as pd\n",
    "import nltk\n",
    "from syntheval.descriptive.descriptor import TextDescriptor\n",
    "from syntheval.descriptive.arguments import TextDescriptorArgs\n",
    "import pyLDAvis\n",
    "nltk.download('punkt_tab')"
   ]
  },
  {
   "cell_type": "code",
   "execution_count": 3,
   "metadata": {},
   "outputs": [],
   "source": [
    "df = pd.read_csv('/home/umd-dsmolyak/scr4_afield6/umd-dsmolyak/sdg-eval-scr/data/mimiciii/train.csv').head(100)\n",
    "data = {'texts': df['TEXT'].tolist()} # [:10]"
   ]
  },
  {
   "cell_type": "code",
   "execution_count": 4,
   "metadata": {},
   "outputs": [],
   "source": [
    "synthetic_df = pd.read_csv('/home/umd-dsmolyak/scr4_afield6/umd-dsmolyak/sdg-eval-scr/data/mimiciii/synthetic.csv').head(100)"
   ]
  },
  {
   "cell_type": "code",
   "execution_count": 5,
   "metadata": {
    "scrolled": true,
    "tags": []
   },
   "outputs": [],
   "source": [
    "desc_analyze = TextDescriptor(texts=data['texts'], args=TextDescriptorArgs(produce_plot=True), reference_texts = synthetic_df['TEXT'])"
   ]
  },
  {
   "cell_type": "code",
   "execution_count": 6,
   "metadata": {
    "scrolled": true,
    "tags": []
   },
   "outputs": [
    {
     "name": "stdout",
     "output_type": "stream",
     "text": [
      "Most frequent entities: [('1', 586), ('2', 366), ('One', 263), ('Tablet', 235), ('3', 225), ('5', 152), ('4', 147), ('daily', 104), ('First', 98), ('CT', 88)]\n",
      "Least frequent entities: {'2093-9-25': 1, 'Presyncope': 1, '21-mm St.': 1, '1-14': 1, '2164': 1, 'PPM': 1, '2169-12-6': 1, 'Identifier 26722': 1, '0.9cm2': 1, 'past couple years': 1}\n",
      "Saving the pickle results to: entity-output.pkl\n",
      "Saving the plot figure to:  entity-analysis.png\n"
     ]
    },
    {
     "data": {
      "image/png": "[encoded data removed]",
      "text/plain": [
       "<Figure size 1000x600 with 1 Axes>"
      ]
     },
     "metadata": {},
     "output_type": "display_data"
    }
   ],
   "source": [
    "desc_analyze.analyze_entities()"
   ]
  },
  {
   "cell_type": "code",
   "execution_count": 7,
   "metadata": {},
   "outputs": [
    {
     "data": {
      "text/html": [
       "\n",
       "<link rel=\"stylesheet\" type=\"text/css\" href=\"https://cdn.jsdelivr.net/gh/bmabey/pyLDAvis@3.4.0/pyLDAvis/js/ldavis.v1.0.0.css\">\n",
       "\n",
       "\n",
       "<div id=\"ldavis_el2047868234514046333608256234091\" style=\"background-color:white;\"></div>\n",
       "<script type=\"text/javascript\">\n",
       "\n",
       "var ldavis_el2047868234514046333608256234091_data = {\"mdsDat\": {\"x\": [0.18865353124776318, 0.21276350594376509, 0.20359061108358822, 0.10448832353675021, -0.06469671600581153, -0.09987627240821269, -0.1310491031769832, -0.13042352168811855, -0.14219103520520876, -0.14125932332753224], \"y\": [-0.053876276264495426, -0.10038138096694883, 0.20571198138854427, -0.07751747917558088, 0.02090833835720485, -0.00523838288457881, -0.00030252543384483825, 0.003886457379244956, 0.001383756632967777, 0.005425510967486924], \"topics\": [1, 2, 3, 4, 5, 6, 7, 8, 9, 10], \"cluster\": [1, 1, 1, 1, 1, 1, 1, 1, 1, 1], \"Freq\": [70.17494113944983, 21.433892884301674, 5.527537526571508, 2.657705280414169, 0.14306731346581567, 0.03187011193306492, 0.007746440456518535, 0.007746440425032615, 0.007746431769140259, 0.007746431213245627]}, \"tinfo\": {\"Term\": [\"*\", \".\", \":\", \",\", \"the\", \")\", \"(\", \"[\", \"]\", \"to\", \"and\", \"is\", \"of\", \"with\", \"no\", \"in\", \"was\", \"for\", \"left\", \"a\", \"normal\", \"valve\", \"on\", \"right\", \"aortic\", \"name\", \"?\", \"there\", \"tablet\", \"are\", \"hematoma\", \"cath\", \"aneurysm\", \"2118-3-27\", \"order\", \"adrenal\", \"mri\", \"9-17\", \"2110\", \"?\", \"2148-9-16\", \"plavix\", \"follow-up\", \"rca\", \"subdural\", \"nameis\", \"2142-6-1\", \"cyst\", \"tablets\", \"name10\", \"prescribed\", \"cerebral\", \"ear\", \"unchanged\", \"fracture\", \"replacement\", \"next\", \"07:15am\", \"appearance\", \"mouth\", \"cervical\", \"call\", \"assess\", \"leg\", \"carotid\", \"s\", \"refills\", \"disp\", \"surgery\", \"urine\", \"when\", \"*\", \"x\", \"hemorrhage\", \"lad\", \"[\", \"]\", \"the\", \"ct\", \",\", \"and\", \"was\", \"(\", \")\", \"a\", \".\", \":\", \"of\", \"or\", \"in\", \"patient\", \"name\", \"as\", \"right\", \"with\", \"your\", \"to\", \"tablet\", \"last\", \"on\", \"for\", \"no\", \"1\", \"blood\", \"is\", \"mg\", \"at\", \"q.\", \"2171-10-25\", \"2167-2-12\", \"thoracentesis\", \"percentile\", \"08:44pm\", \"2167-2-20\", \"2151-5-21\", \"screens\", \"32\", \"mac\", \"ounce\", \"gestational\", \"10-9\", \"preterm\", \"2177\", \"prematurity\", \"mtb\", \"immunizations\", \"temporary\", \"glaucoma\", \"immunization\", \"hypercoagulable\", \"disorder\", \"guided\", \"personality\", \"metastatic\", \"ampullary\", \"0.4\", \"pleuroscopy\", \"milk\", \"twin\", \"enfamil\", \"circumference\", \"screening\", \"hydroxychloroquine\", \"block\", \"life\", \"respiratory\", \"nodules\", \".\", \"*\", \"to\", \",\", \"cardiovascular\", \":\", \"on\", \"mg\", \"of\", \"#\", \"and\", \"]\", \"daily\", \"[\", \"was\", \")\", \"(\", \"his\", \"for\", \"po\", \"with\", \"day\", \"admission\", \"sig\", \"the\", \"one\", \"discharge\", \"1\", \"a\", \"at\", \"tablet\", \"he\", \"in\", \"no\", \"patient\", \"is\", \"hypo\", \"m2\", \"patient/test\", \"pericardium\", \"interpretation\", \"lb\", \"atrium/interatrial\", \"bsa\", \"valve/pulmonary\", \"trivial/physiologic\", \"tricuspid\", \"la\", \"quality\", \"acoustic\", \"shadowing\", \"underestimated\", \"akinetic\", \"pulmonic\", \"cpb\", \"chordae\", \"seated\", \"technical\", \"windows\", \"conclusions\", \"annuloplasty\", \"certify\", \"regulations\", \"hcfa\", \"trivial\", \"dimensions\", \"doppler\", \"ar\", \"lv\", \"thickness\", \"hg\", \"inpatient\", \"leaflets\", \"thickened\", \"valve\", \"mitral\", \"cavity\", \"mildly\", \"diameter\", \"wall\", \"motion\", \"ventricle\", \"chamber\", \"atrium\", \"size\", \"dilated\", \"aortic\", \"ventricular\", \"regurgitation\", \"pericardial\", \"normal\", \"aorta\", \"systolic\", \"is\", \"left\", \".\", \":\", \"seen\", \"are\", \"the\", \"(\", \")\", \"no\", \"there\", \"*\", \"and\", \"right\", \"-\", \"in\", \"intrapartum\", \"ptd\", \"100.4\", \"nr\", \"pns\", \"embolectomy\", \"compartment\", \"1-20\", \"aga\", \"g1\", \"r/o\", \"flaring\", \"remove\", \"ant\", \"amp/gent\", \"clavicles\", \"lga\", \"afof\", \"font\", \"remarkable\", \"chd\", \"354\", \"ob-\", \"edc\", \"2165-2-4\", \"25-100\", \"anticoagulated\", \"2-2.5.\", \"3mg\", \"fasciotomies\", \"term\", \"nbn\", \"electrical\", \"triage\", \"maternal\", \"nicu\", \"infant\", \"gbs\", \"rle\", \"parents\", \"nursery\", \"genitalia\", \"2170-1-18\", \"vaginal\", \"flutter\", \"hips\", \"pink\", \"start\", \"fetal\", \"delivery\", \"palate\", \"neonatology\", \"sepsis\", \"risk\", \"rom\", \"cbc\", \".\", \",\", \"*\", \"will\", \"murmur\", \"to\", \"antibiotics\", \"soft\", \")\", \"[\", \"]\", \"(\", \"lastname\", \"atrial\", \"for\", \"no\", \"with\", \":\", \"and\", \"of\", \"by\", \"the\", \"name\", \"in\", \"a\", \"was\", \"is\", \"normal\", \"at\", \"last\", \"board\", \"2196-1-28\", \"hemiblock\", \"centrally\", \"3/4\", \"72/32\", \"reassuring\", \"tcom\", \"69/36\", \"70/38\", \"rl\", \"ll\", \"71/42\", \"21/11mm/hg\", \"pubic\", \"23848\", \"symphysis\", \"si\", \"peak/mean\", \"joints\", \"7:12\", \"displaced\", \"ra/raa\", \"variant\", \"impression/plan\", \"suggestion\", \"cyanotic\", \"comm\", \"non-specific\", \"port\", \"trauma\", \"st-t\", \"fractures\", \"deviation\", \"bundle-branch\", \"wave\", \"mean\", \"portable\", \".\", \":\", \"block\", \"pelvis\", \"bs\", \"*\", \"underlying\", \"changes\", \"clip\", \"the\", \"cardiac\", \"+\", \"pneumothorax\", \"ra\", \"normal\", \"sinus\", \"and\", \"[\", \"anterior\", \")\", \"of\", \"no\", \"to\", \"with\", \"(\", \"]\", \",\", \"inversion\", \"vi-v2\", \"flattening\", \"biphasic\", \"waves\", \"avl\", \"lead\", \"hemiblock\", \"2196-1-28\", \"centrally\", \"3/4\", \"tcom\", \"72/32\", \"reassuring\", \"69/36\", \"70/38\", \"ll\", \"rl\", \"71/42\", \"21/11mm/hg\", \"pubic\", \"23848\", \"peak/mean\", \"symphysis\", \"si\", \"joints\", \"7:12\", \"correlation\", \"suggested\", \"ra/raa\", \"anterolateral\", \"leads\", \"st-t\", \"suggest\", \"wave\", \"elevation\", \"segment\", \"ischemia\", \"t\", \"st\", \"available\", \"clinical\", \"comparison\", \"tracing\", \"these\", \"previous\", \"i\", \"rhythm\", \"acute\", \".\", \"in\", \"*\", \"and\", \":\", \",\", \")\", \"for\", \"]\", \"[\", \"to\", \"the\", \"with\", \"was\", \"inversion\", \"vi-v2\", \"flattening\", \"biphasic\", \"2196-1-28\", \"hemiblock\", \"72/32\", \"centrally\", \"3/4\", \"reassuring\", \"tcom\", \"71/42\", \"69/36\", \"rl\", \"ll\", \"70/38\", \"21/11mm/hg\", \"pubic\", \"23848\", \"peak/mean\", \"symphysis\", \"si\", \"joints\", \"7:12\", \"ra/raa\", \"board\", \"la/laa\", \"15:39.\", \"59724\", \"3-day-old\", \"molding\", \"3495\", \"*\", \".\", \",\", \"the\", \"of\", \"]\", \"[\", \":\", \"and\", \"(\", \")\", \"to\", \"with\", \"a\", \"on\", \"was\", \"in\", \"for\", \"is\", \"mg\", \"left\", \"name\", \"blood\", \"no\", \"or\", \"1\", \"at\", \"right\", \"-\", \"patient\", \"tablet\", \"inversion\", \"vi-v2\", \"flattening\", \"biphasic\", \"2196-1-28\", \"hemiblock\", \"21/11mm/hg\", \"centrally\", \"3/4\", \"72/32\", \"reassuring\", \"tcom\", \"69/36\", \"70/38\", \"rl\", \"ll\", \"71/42\", \"pubic\", \"peak/mean\", \"23848\", \"symphysis\", \"si\", \"joints\", \"7:12\", \"ra/raa\", \"board\", \"la/laa\", \"hr=140\", \"2243\", \"apneic\", \".\", \"*\", \"the\", \",\", \":\", \"]\", \"[\", \")\", \"is\", \"of\", \"(\", \"to\", \"with\", \"was\", \"and\", \"a\", \"?\", \"in\", \"on\", \"right\", \"for\", \"left\", \"are\", \"mg\", \"no\", \"normal\", \"patient\", \"there\", \"or\", \"--\", \"aortic\", \"he\", \"inversion\", \"vi-v2\", \"flattening\", \"biphasic\", \"2196-1-28\", \"hemiblock\", \"centrally\", \"3/4\", \"72/32\", \"reassuring\", \"tcom\", \"69/36\", \"70/38\", \"rl\", \"ll\", \"71/42\", \"21/11mm/hg\", \"pubic\", \"23848\", \"symphysis\", \"peak/mean\", \"si\", \"joints\", \"7:12\", \"ra/raa\", \"board\", \"la/laa\", \"fh-otherwise\", \"simavastatin\", \"alcohol-related\", \"peeling\", \"3675\", \"*\", \".\", \":\", \",\", \"[\", \")\", \"the\", \"of\", \"]\", \"to\", \"was\", \"with\", \"and\", \"(\", \"on\", \"no\", \"a\", \"for\", \"is\", \"at\", \"mg\", \"she\", \"tablet\", \"in\", \"patient\", \"1\", \"discharge\", \"name\", \"as\", \"he\", \"inversion\", \"vi-v2\", \"flattening\", \"biphasic\", \"2196-1-28\", \"hemiblock\", \"centrally\", \"3/4\", \"72/32\", \"tcom\", \"reassuring\", \"70/38\", \"rl\", \"71/42\", \"69/36\", \"ll\", \"21/11mm/hg\", \"pubic\", \"23848\", \"peak/mean\", \"symphysis\", \"si\", \"joints\", \"7:12\", \"ra/raa\", \"board\", \"la/laa\", \"47\", \"rds\", \"genetalia\", \"*\", \".\", \":\", \"the\", \"is\", \",\", \")\", \"of\", \"[\", \"]\", \"(\", \"and\", \"no\", \"was\", \"in\", \"to\", \"with\", \"for\", \"on\", \"left\", \"valve\", \"are\", \"right\", \"?\", \"mg\", \"tablet\", \"or\", \"patient\", \"a\", \"ventricular\", \"po\"], \"Freq\": [11031.0, 6068.0, 3457.0, 3561.0, 2333.0, 2222.0, 2191.0, 2544.0, 2545.0, 1579.0, 1934.0, 845.0, 1590.0, 1158.0, 801.0, 844.0, 1364.0, 806.0, 431.0, 957.0, 312.0, 241.0, 859.0, 395.0, 225.0, 444.0, 429.0, 294.0, 597.0, 258.0, 30.410012369001734, 30.388302231010726, 23.588235110415777, 23.613042582372458, 24.548097073635947, 27.433388027295784, 22.592312639410974, 23.555850559425572, 22.590197131512188, 422.68425916935934, 20.62057025884553, 19.64494409629542, 27.349791428656747, 22.510195325379378, 23.41996583176839, 18.644113804057604, 16.72760372160954, 17.67147239275083, 23.400947206302074, 16.698299486266514, 15.743109706023304, 23.41329988732494, 14.770261456691772, 14.765928330983245, 16.6783854354272, 14.760227194288186, 16.677508337474112, 13.81097026169182, 14.754391220146609, 47.38577982907482, 17.603236790203596, 58.89160837811762, 19.45512831733484, 22.28409780049376, 47.75581043716325, 146.30559389286535, 106.8350863588071, 106.47039164811684, 66.85755337099695, 54.29486629793408, 42.39976073168902, 8619.558764540125, 88.04518709303383, 48.701636214931206, 45.76523794173633, 1959.8470681611752, 1952.263914897051, 1793.2073799101593, 115.01171289822051, 2594.5036269215793, 1426.094957875936, 1026.1930850179285, 1579.1868497606342, 1598.6967757544141, 727.5079179791957, 3972.884623714627, 2359.815967012016, 1148.7371266266455, 351.2496316579507, 638.9543073120907, 435.1252469377794, 352.80702249266704, 286.90968454227436, 312.3470332666028, 829.1945597907197, 191.9661927396971, 1073.0286704647424, 448.9093937113239, 245.40949379869008, 595.4752160213627, 562.5140948734354, 554.3601733890941, 386.24335792977917, 290.6446451560155, 540.5405447305938, 386.1769184143836, 318.734736057308, 17.628186973585283, 12.80068261618125, 11.8194775698493, 9.895012822218282, 11.7254162974898, 7.911585246769253, 7.904667918328063, 6.945996569200257, 7.880615607631453, 7.879078601242555, 6.926467311643921, 8.793884491759425, 6.913277205827853, 6.90358894755444, 6.902008757843482, 5.970819194905932, 16.237282558276757, 6.894503656407578, 6.889039366784613, 5.9477620998445895, 5.950602602806799, 6.879903695095346, 5.01632583218749, 5.013712441511673, 5.945311446317651, 5.01367325664536, 6.87232422238256, 5.9441454966220135, 5.935783126274091, 5.006109777755559, 7.781756188376332, 5.933194526023903, 6.83417415641546, 6.83485389389234, 6.821854914260948, 6.715412823528443, 15.864276217993309, 17.087850058463875, 44.819835618592435, 13.351099638239212, 1461.7084938873109, 2115.1136382436116, 442.31232224589195, 816.4800060039546, 14.43111452297503, 722.0815454707491, 249.07797256994147, 180.27299391374893, 380.31921515965286, 89.28527370994495, 416.42594868731175, 505.656766628756, 134.06129904861575, 498.1567640236198, 310.7379986962156, 437.5234901527755, 428.9689700155069, 103.90417810612088, 209.30238400001332, 121.17726382425488, 265.61433162113394, 106.87093630697662, 77.06303729060359, 100.80415937215069, 360.86763000526366, 101.47253483718181, 109.72705563794848, 136.10209806649576, 188.53372671536314, 123.02701982533874, 138.30644352069535, 103.85777682687561, 144.90090145851434, 133.32239722174816, 114.58750167286442, 119.83525412519505, 21.06050964832369, 14.020665924057838, 9.3732438723349, 11.148162702888735, 10.233592223685031, 8.432577808276186, 13.80013290692535, 7.510182118288685, 9.254747941169125, 6.556724812567144, 31.929529445720462, 10.092899289380902, 22.9968376811991, 3.807061974660894, 3.8043710788590017, 3.8038794253035366, 3.8020443861523074, 18.46803364910873, 3.788420798117898, 2.87527867148347, 2.865897451439612, 13.03324327690555, 3.690146181725812, 14.397823595488916, 5.277972686139525, 4.43596565215888, 4.424649371162451, 4.397428592599964, 20.70687380488009, 1.946682248504286, 52.25236572908125, 10.864440654969945, 28.738734167322367, 13.130419922018568, 14.374983153133678, 24.475520395987825, 72.2534131105459, 47.234123882213545, 159.77659574735415, 90.1146258335879, 38.49602793500766, 62.98526843491243, 20.16217446043729, 57.96700349022667, 31.650699185694137, 37.12069475720367, 22.477161522916504, 37.41181635611663, 57.46074551438233, 40.31835998662512, 111.71074913464317, 75.27201415544096, 44.78952671347999, 28.24817940805828, 122.378087034118, 44.126365259676405, 48.40441112988219, 170.77326893584828, 105.03381667760891, 486.27358528937725, 340.20902902078046, 53.53307044605549, 65.9222813871066, 155.9020753577185, 141.1297404408085, 141.881515023686, 89.54801655888812, 59.945008236070564, 118.66686161866265, 64.48248219914741, 46.05836245166894, 43.17173244000094, 44.90653695999242, 4.937153144222036, 6.236153571435081, 2.8659285300015163, 2.8467124898504914, 2.8436362099749273, 2.1542234861236595, 2.153574397416032, 2.132644112599949, 2.132328988262515, 2.0940537760227125, 1.4734460417090673, 1.471216968359316, 2.079426572903707, 1.4716274827573572, 1.4705503286738006, 1.4706846878548023, 1.470354888123429, 1.4698636590587193, 1.4702671332339925, 1.4713491460628398, 1.4643011889652582, 1.4695317770079357, 1.4691382186393787, 1.468637073767953, 1.465059649020963, 1.4638705454795833, 1.4609670981150782, 1.4621430136335258, 1.4621344860397503, 1.4608630813026278, 9.571401397942578, 2.9267808442367915, 2.0246637538888472, 3.913096619100508, 7.489651551525317, 8.417470412881071, 24.004227734320477, 4.4348663684951815, 6.216467522045719, 3.918390073357765, 6.076145371517521, 4.272349866110748, 1.976788454218905, 2.914385292577284, 3.7655006293977378, 3.685055672672365, 6.24370227677182, 9.490917571254878, 3.5397438882046877, 8.110665833914318, 5.154897913588578, 4.590545723832816, 9.874329293115654, 8.16876294209549, 4.788086838699422, 6.766908231611236, 145.03107035934218, 107.44590466175585, 176.46575783194535, 14.593151445478101, 8.753748735730394, 47.29003702698411, 7.456057591636127, 10.580667109134287, 43.6217977692375, 44.980672613827494, 44.825614781254814, 41.326762886682275, 9.973138323879015, 10.63624639567414, 24.225036091329983, 23.83521003242078, 25.003901290727416, 33.64382767106193, 26.976721637414723, 25.262399232432085, 15.006182078631767, 22.672531719306708, 15.0008735523483, 15.778696402143751, 15.212841769354384, 15.751036854257938, 14.087638859510404, 12.199827120431433, 12.066698292727272, 11.02746463384627, 0.2750630249492394, 0.14648139918136274, 0.14639519383878316, 0.1464776093489645, 0.14646865253380362, 0.1464067981988307, 0.14639048590614195, 0.1463635834339066, 0.14632941088881715, 0.14630919133230375, 0.1462384228845068, 0.1462421486633997, 0.1461950479858194, 0.14276634925059026, 0.14411430189217703, 0.14292978176942012, 0.1420091727641753, 0.14085218497312277, 0.13886716684318456, 0.14051919215012054, 0.1392432142973476, 0.4024776812548174, 0.11614668391680502, 0.14740850961739776, 0.13162440213353888, 0.14646689106240726, 0.1456375903289994, 0.14548150261211315, 0.2536981063559957, 0.13682362516055024, 0.6041511249158379, 0.4767490444484715, 0.2555310187619619, 0.2529919591621542, 0.2667104905575479, 0.5766152916198436, 0.4983400719155029, 0.3964528512465384, 2.0416193942372676, 1.5893898608168264, 0.36462632984302423, 0.25023061254770973, 0.2762061665075581, 1.6611566038453678, 0.23696895345461158, 0.3398283995785264, 0.2464820946604063, 0.5608823415355687, 0.3470000435460959, 0.27514093536287976, 0.2440005764595465, 0.27646799588614723, 0.3783308762230892, 0.29952785563489276, 0.4593315725788939, 0.4618373457071024, 0.2811191344192841, 0.42619618184762376, 0.39107880485233404, 0.36610041451217484, 0.3723730461813774, 0.35751308132114024, 0.3402112900821747, 0.3332822807927661, 0.31440870193786497, 0.03858820347790458, 0.03857565886450261, 0.0385521463350798, 0.03853018909990626, 0.038607530505983784, 0.03862069818833577, 0.07213830947601899, 0.0035906830413245175, 0.0035870656147726546, 0.003537105056937837, 0.003536901132653625, 0.003539385976810665, 0.003535660048270847, 0.0035364605848559535, 0.003538029256062641, 0.003536989123306871, 0.003538415998764915, 0.003537552441847078, 0.0035383577346837117, 0.0035326540973059004, 0.003522413887768669, 0.003522413887768669, 0.0035314335242578316, 0.003522413887768669, 0.003522413887768669, 0.003522413887768669, 0.003522413887768669, 0.03865801573781515, 0.03879897438618959, 0.0035335884034651986, 0.03536337933019706, 0.03882983294609556, 0.03883455590386168, 0.03867380411475842, 0.07200669448376898, 0.038888446611786254, 0.038813026731325556, 0.03902212343907313, 0.07451002856861948, 0.03889051320307465, 0.031511655071872036, 0.03009656798323698, 0.031430541958333745, 0.03722216998939132, 0.039220582790280976, 0.0372282413444653, 0.028108780648258225, 0.037370852790245296, 0.03980702146915988, 0.22961445388401414, 0.08758968221734634, 0.19715756516496066, 0.07568894160956481, 0.07238802694993131, 0.06474714216586497, 0.055021102443688706, 0.04778888905956082, 0.05241105709958261, 0.04945372929399465, 0.04654305080338169, 0.04685892297978047, 0.044543494123999834, 0.04431681593248339, 0.0009173006463181164, 0.0009173006463181164, 0.0009173006463181164, 0.0009173006463181164, 0.0009310720183552469, 0.0009300166727027971, 0.0009211541825143444, 0.0009201415391267583, 0.0009200549062746915, 0.0009200334467608768, 0.0009199575797928449, 0.00092093084461131, 0.0009200850362991383, 0.0009205200791701092, 0.0009205301225115915, 0.0009198412504418629, 0.0009199539670800815, 0.0009173005740638611, 0.0009173005740638611, 0.0009197001378813237, 0.0009173005740638611, 0.0009173005740638611, 0.0009173005740638611, 0.0009173005740638611, 0.0009200759322629745, 0.0009173005740638611, 0.0009196265830494606, 0.0009229052643907734, 0.0009227984726014868, 0.0009224723168932054, 0.0009250981810381685, 0.0009241642225345695, 0.023825194432686204, 0.017010168451501117, 0.008725880513101773, 0.0072596879166513155, 0.006480201496373582, 0.007045974280418528, 0.00696906049273641, 0.0070711066225370356, 0.0055091540164943, 0.0055637146497325525, 0.005550741253690606, 0.0043100573671199655, 0.004038122119042988, 0.0037398192700994343, 0.003572367143344774, 0.0038127515592992437, 0.0033568506189345297, 0.0031792112202210713, 0.003073689371725016, 0.002535044014295048, 0.002394680874891563, 0.0023219065334937703, 0.002275130718226643, 0.00247509986100526, 0.0022264651651672266, 0.0022632437371669116, 0.002222846238537855, 0.00205707026599691, 0.0019792652943303123, 0.0021016410259017573, 0.002115131328885894, 0.0009171580849446221, 0.0009171580849446221, 0.0009171580849446221, 0.0009171580126903672, 0.000926082135722291, 0.000926438782724846, 0.0009297626952164467, 0.0009171580126903672, 0.0009171580126903672, 0.0009171580126903672, 0.0009171580126903672, 0.0009171580126903672, 0.0009171580126903672, 0.0009171580126903672, 0.0009171580126903672, 0.0009171580126903672, 0.0009171580126903672, 0.0009171580126903672, 0.0009305422463733686, 0.0009171580126903672, 0.0009171580126903672, 0.0009171580126903672, 0.0009171580126903672, 0.0009171580126903672, 0.0009295603110482625, 0.0009171580849446221, 0.0009285305434063633, 0.0009354984547391024, 0.0009350348714391848, 0.0009346358111889596, 0.019294170468767177, 0.016359021129006824, 0.009372234672732191, 0.009795428422152983, 0.009684026811833007, 0.007550459818387413, 0.006340817809881841, 0.005914074931456692, 0.004599518299642772, 0.005151697165857159, 0.005385892281353439, 0.004894456989262232, 0.004342010493287419, 0.00443780980880518, 0.004286465179284137, 0.0037597414870973326, 0.0029798807929471037, 0.0031326736867548595, 0.002958786596732773, 0.002587885274756303, 0.0026981949787751006, 0.0024289608848713953, 0.002232897807929498, 0.002421109304000316, 0.002518769166583675, 0.002195104352813927, 0.002313457111479487, 0.002101307491718535, 0.002084687712497767, 0.0016759234268124406, 0.001866676972081778, 0.0019546507182602504, 0.0009284323962537825, 0.0009284323962537825, 0.0009284323962537825, 0.0009284323239996083, 0.0009284323962537825, 0.0009284323239996083, 0.0009284338413372672, 0.000928433769083093, 0.000928433769083093, 0.000928433769083093, 0.0009284336968289188, 0.0009284338413372672, 0.0009284338413372672, 0.0009284336968289188, 0.00092843405809979, 0.0009284342026081384, 0.0009298112226607587, 0.0009284323239996083, 0.0009284323239996083, 0.0009284323239996083, 0.0009294440269472831, 0.0009284323239996083, 0.0009284323239996083, 0.0009284323239996083, 0.0009297802978741849, 0.0009284323962537825, 0.0009296170756945822, 0.0009325743667919529, 0.0009295904139042886, 0.000929460139628138, 0.0009320089778785437, 0.0009315675048739519, 0.019370940645791437, 0.008414425178613141, 0.006830363968898799, 0.005715527147017365, 0.004842312330020221, 0.004427967588671041, 0.004078826459237356, 0.0036132682482052625, 0.003876235292226127, 0.003402004268151946, 0.0033178402938664146, 0.0030006120990932954, 0.003207172910437138, 0.0030895382014944784, 0.0026489692411308073, 0.002409497086946783, 0.00241417438866188, 0.002261763890167012, 0.002068076171522037, 0.0019343212672902714, 0.0018415453179773608, 0.0017402558038223822, 0.0017937845862645652, 0.0018335246711119418, 0.001729284151972751, 0.0016633910907266816, 0.0016170835349661526, 0.0016064258997577582, 0.001577920905479283, 0.0015767632490996481, 0.0009278891950394246, 0.0009278891950394246, 0.0009278891950394246, 0.0009278891950394246, 0.0009278891950394246, 0.0009278891950394246, 0.0009290150595016013, 0.0009291757527735741, 0.0009293604344296724, 0.0009296380349471723, 0.0009295322548436794, 0.0009296365176096222, 0.0009296579048436618, 0.0009297370954129433, 0.0009289929497258712, 0.000929458844607922, 0.0009345621565681029, 0.0009278891227852556, 0.0009278891227852556, 0.0009337313781323368, 0.0009278891227852556, 0.0009278891227852556, 0.0009278891227852556, 0.0009278891227852556, 0.0009339731405819866, 0.0009278891950394246, 0.000935823353088915, 0.0009386744303455592, 0.0009363029762630857, 0.0009361075287357987, 0.015231442419484154, 0.008735698402224356, 0.005842965750071359, 0.005297632322430808, 0.004204345241963185, 0.005414923382103825, 0.004841286262345337, 0.004038504872003709, 0.004182147316146864, 0.004093706768143173, 0.003976702413012957, 0.0033717332844032015, 0.0028482844885019606, 0.0029191369266748815, 0.0027253532683927024, 0.0027576641767262933, 0.0025860689067101206, 0.0024525749941354097, 0.0022987770820235825, 0.0020966625180496457, 0.001954642613526735, 0.0019440056437754964, 0.0020213096567031183, 0.001967096342104631, 0.0018494181445938304, 0.0018229767314290534, 0.001751419526091194, 0.0017828352052702242, 0.0018426018307937519, 0.001560003925945543, 0.001669685899075637], \"Total\": [11031.0, 6068.0, 3457.0, 3561.0, 2333.0, 2222.0, 2191.0, 2544.0, 2545.0, 1579.0, 1934.0, 845.0, 1590.0, 1158.0, 801.0, 844.0, 1364.0, 806.0, 431.0, 957.0, 312.0, 241.0, 859.0, 395.0, 225.0, 444.0, 429.0, 294.0, 597.0, 258.0, 30.78255387800216, 30.776673544052354, 23.914096752635423, 23.93970165985733, 24.904524960687816, 27.83853152754038, 22.932803043225352, 23.91365216903127, 22.94227680835863, 429.59447170095353, 20.967104041179464, 19.99262780392827, 27.842104085115096, 22.93584240798216, 23.86897893644761, 19.005420941378915, 17.056203482575718, 18.02262124051365, 23.867016376625894, 17.039621029493112, 16.06621546352254, 23.903448021852576, 15.085508479207473, 15.082723392099444, 17.038065572937494, 15.084915184280984, 17.048240551430254, 14.118976485656614, 15.085195857020341, 48.456822592657666, 18.006777838267645, 61.19697781197822, 19.95849502003026, 22.92773490893174, 49.9522683623351, 157.07722668249502, 114.07357350464795, 114.13461312109972, 70.94833294521293, 57.281105634315225, 44.47740917919525, 11031.738123001982, 94.89616494088531, 51.379430148538475, 48.45072361814095, 2544.701836752387, 2545.462057201568, 2333.2833666383344, 128.98546325273742, 3561.924315432468, 1934.531505439389, 1364.0342291042584, 2191.00766059891, 2222.2255300544402, 957.0916607491665, 6068.222461561281, 3457.4415755255272, 1590.7900830000976, 439.41677956278176, 844.842383288796, 557.829915050471, 444.526575374027, 359.00615908676633, 395.78567445500113, 1158.763585666885, 231.83019025718204, 1579.6335299842735, 597.2102857554421, 304.7839065180014, 859.464122949964, 806.6711037207583, 801.4730232398057, 529.4860095268539, 380.1560501214887, 845.5445471404513, 570.3172515874454, 475.6957284553025, 18.150004503127157, 13.210694183138848, 12.216487730476278, 10.2472818648347, 12.220623714879137, 8.271552838067688, 8.269230799605037, 7.287733823240773, 8.27491840543008, 8.273304978348765, 7.288582316261882, 9.259215321495988, 7.2851191347953295, 7.282232203135989, 7.286854567485765, 6.3038638823634034, 17.149920980752963, 7.291224819280535, 7.286558833182924, 6.293289325030262, 6.300047056827192, 7.284809725863231, 5.3150876157581965, 5.314754724750563, 6.302471290521667, 5.3152801175367514, 7.28729519105783, 6.303402696881507, 6.295035261363169, 5.311477853375991, 8.271088372270771, 6.30029156658496, 7.284660122399849, 7.287035088959829, 7.284581572875691, 7.21735667258184, 18.775645737332912, 21.083767967625523, 73.70120237544708, 17.133697415978496, 6068.222461561281, 11031.738123001982, 1579.6335299842735, 3561.924315432468, 19.097324993897313, 3457.4415755255272, 859.464122949964, 570.3172515874454, 1590.7900830000976, 230.91614033447047, 1934.531505439389, 2545.462057201568, 414.49849206730295, 2544.701836752387, 1364.0342291042584, 2222.2255300544402, 2191.00766059891, 298.648040766915, 806.6711037207583, 375.9818724645239, 1158.763585666885, 322.6535770332026, 209.61134482069957, 325.19519712973374, 2333.2833666383344, 333.757151371532, 377.38483084319074, 529.4860095268539, 957.0916607491665, 475.6957284553025, 597.2102857554421, 398.8041634951719, 844.842383288796, 801.4730232398057, 557.829915050471, 845.5445471404513, 21.473281069223574, 14.338144357290227, 9.683024440587847, 11.542934324558631, 10.608285096852052, 8.748859130210814, 14.347865396869729, 7.822637501971958, 9.689487950681805, 6.885445567673349, 33.93871803992959, 10.750537941732041, 24.50583598799256, 4.105057668328921, 4.1028614696287065, 4.103803842675125, 4.102492988163982, 19.946284121620117, 4.097416096339932, 3.1705229291132095, 3.1627581730856758, 14.384682037383229, 4.109270548235634, 16.273971576719912, 5.982213933494827, 5.031522248943623, 5.03588460894175, 5.039173095462075, 23.777226195974478, 2.238710514484963, 61.24823305060864, 12.54193533441032, 34.11420218354525, 15.353944871041167, 17.254253473807008, 30.45783986512148, 96.46843893226865, 61.51504148771265, 241.53956090561906, 131.79593714074932, 52.21066410100421, 91.23156205317942, 25.754908047554583, 83.536038395911, 42.76793492474137, 54.29146475453413, 29.569094449570613, 56.11110074526915, 96.33027537198191, 61.9256930020831, 225.6239046382896, 139.76921506990436, 74.37732517740176, 41.01531814439126, 312.90162415202644, 81.27265210157402, 105.20259233261591, 845.5445471404513, 431.3337394151705, 6068.222461561281, 3457.4415755255272, 154.95495455512804, 258.329547408603, 2333.2833666383344, 2191.00766059891, 2222.2255300544402, 801.4730232398057, 294.86429696773075, 11031.738123001982, 1934.531505439389, 395.78567445500113, 299.3162296108563, 844.842383288796, 5.32912484707449, 6.781245619791199, 3.202334952411866, 3.2091136255035315, 3.2097473552798186, 2.503774222304722, 2.503261823588568, 2.5087302423055253, 2.509523157303005, 2.524270217750592, 1.790556002884894, 1.7889547070042182, 2.5288973676364646, 1.7907870069551652, 1.7901669148016783, 1.7903630548675946, 1.7902078807451043, 1.7899872530326475, 1.7906219118492481, 1.7919732832007698, 1.7839228507044764, 1.7905617369305213, 1.790584035263175, 1.7902087563161249, 1.7933325274993595, 1.7940439603445841, 1.791886048330235, 1.7944075093323992, 1.7945282687681257, 1.7949006970009167, 12.04909245646821, 3.6430868671100773, 2.548686883111525, 5.3178237017933325, 11.205360948192846, 13.502751455362827, 46.90733155440908, 6.513075660858697, 9.720241106280978, 5.734121696378125, 9.812944275218323, 6.54261459249661, 2.567301490767626, 4.1673885879176, 5.792150001481247, 5.830094950367963, 12.347950274231167, 22.204905706062654, 5.883039880905166, 21.81360557760524, 11.129424143159241, 9.376921199727814, 33.8669068150691, 25.547522458900502, 10.288332948655208, 20.358327290170564, 6068.222461561281, 3561.924315432468, 11031.738123001982, 107.58596163242004, 37.521930478686265, 1579.6335299842735, 29.89365508714947, 69.6334960355533, 2222.2255300544402, 2544.701836752387, 2545.462057201568, 2191.00766059891, 63.297767913990185, 80.33932970698156, 806.6711037207583, 801.4730232398057, 1158.763585666885, 3457.4415755255272, 1934.531505439389, 1590.7900830000976, 301.6727889261151, 2333.2833666383344, 444.526575374027, 844.842383288796, 957.0916607491665, 1364.0342291042584, 845.5445471404513, 312.90162415202644, 475.6957284553025, 304.7839065180014, 0.6890126107604617, 0.516719137613386, 0.5171798590888654, 0.5199590824053143, 0.5200504211179824, 0.5202221502882085, 0.5204166339943841, 0.5204586617740803, 0.5207864148009892, 0.5208660783307663, 0.5210492669858409, 0.5210894308173666, 0.5211910874974237, 0.5259590372794556, 0.535255866164771, 0.5425301867024416, 0.5481618310813364, 0.5552261331792988, 0.5489157881134562, 0.5572565082001973, 0.5650246480619688, 1.8354657780677506, 0.6858945223315258, 1.2249840549585496, 1.2885520310691396, 1.4847707574346078, 1.505561272768041, 1.5058221829098466, 2.7709479749104102, 1.5500075830227023, 12.344094446937925, 9.24048952264537, 3.746862657738353, 3.7579920695119475, 4.1333020109032566, 22.34910118937373, 16.85612066653338, 17.025503073439406, 6068.222461561281, 3457.4415755255272, 18.775645737332912, 4.762248220661058, 7.550377083109621, 11031.738123001982, 7.783887530363553, 59.204079217206186, 11.092836719773391, 2333.2833666383344, 117.39124325882037, 29.013680696137143, 13.662514208326458, 35.29949457478745, 312.90162415202644, 66.41962866335308, 1934.531505439389, 2544.701836752387, 63.06353332759884, 2222.2255300544402, 1590.7900830000976, 801.4730232398057, 1579.6335299842735, 1158.763585666885, 2191.00766059891, 2545.462057201568, 3561.924315432468, 0.4208493760502439, 0.42117683606662476, 0.4217846990623396, 0.42234342531999297, 1.3852107324498548, 2.368646404131307, 8.274242458463783, 0.5171798590888654, 0.516719137613386, 0.5199590824053143, 0.5200504211179824, 0.5204586617740803, 0.5202221502882085, 0.5204166339943841, 0.5207864148009892, 0.5208660783307663, 0.5210894308173666, 0.5210492669858409, 0.5211910874974237, 0.5259590372794556, 0.535255866164771, 0.5425301867024416, 0.5489157881134562, 0.5481618310813364, 0.5552261331792988, 0.5572565082001973, 0.5650246480619688, 6.296627380769241, 7.262117228308899, 0.6858945223315258, 7.134366137814575, 8.450730691100768, 9.24048952264537, 9.942479082487491, 22.34910118937373, 12.191405680844538, 13.159109221426911, 15.61941032694648, 47.077434183583115, 19.05739961370124, 14.834651994429757, 19.199152365463398, 20.71863196512762, 29.9062741747804, 33.74577268556237, 38.11908013065063, 30.206452351938722, 61.7371688179787, 109.81224273414313, 6068.222461561281, 844.842383288796, 11031.738123001982, 1934.531505439389, 3457.4415755255272, 3561.924315432468, 2222.2255300544402, 806.6711037207583, 2545.462057201568, 2544.701836752387, 1579.6335299842735, 2333.2833666383344, 1158.763585666885, 1364.0342291042584, 0.4208493760502439, 0.42117683606662476, 0.4217846990623396, 0.42234342531999297, 0.516719137613386, 0.5171798590888654, 0.5202221502882085, 0.5199590824053143, 0.5200504211179824, 0.5204166339943841, 0.5204586617740803, 0.5211910874974237, 0.5207864148009892, 0.5210492669858409, 0.5210894308173666, 0.5208660783307663, 0.5259590372794556, 0.535255866164771, 0.5425301867024416, 0.5489157881134562, 0.5481618310813364, 0.5552261331792988, 0.5572565082001973, 0.5650246480619688, 0.6858945223315258, 0.6890126107604617, 1.008289033611786, 1.0824621496023137, 1.0824825549775448, 1.0822905849536997, 1.086509325833397, 1.086341027549678, 11031.738123001982, 6068.222461561281, 3561.924315432468, 2333.2833666383344, 1590.7900830000976, 2545.462057201568, 2544.701836752387, 3457.4415755255272, 1934.531505439389, 2191.00766059891, 2222.2255300544402, 1579.6335299842735, 1158.763585666885, 957.0916607491665, 859.464122949964, 1364.0342291042584, 844.842383288796, 806.6711037207583, 845.5445471404513, 570.3172515874454, 431.3337394151705, 444.526575374027, 380.1560501214887, 801.4730232398057, 439.41677956278176, 529.4860095268539, 475.6957284553025, 395.78567445500113, 299.3162296108563, 557.829915050471, 597.2102857554421, 0.4208493760502439, 0.42117683606662476, 0.4217846990623396, 0.42234342531999297, 0.516719137613386, 0.5171798590888654, 0.5259590372794556, 0.5199590824053143, 0.5200504211179824, 0.5202221502882085, 0.5204166339943841, 0.5204586617740803, 0.5207864148009892, 0.5208660783307663, 0.5210492669858409, 0.5210894308173666, 0.5211910874974237, 0.535255866164771, 0.5489157881134562, 0.5425301867024416, 0.5481618310813364, 0.5552261331792988, 0.5572565082001973, 0.5650246480619688, 0.6858945223315258, 0.6890126107604617, 1.008289033611786, 1.0851646420156118, 1.0851958166565416, 1.085176376337435, 6068.222461561281, 11031.738123001982, 2333.2833666383344, 3561.924315432468, 3457.4415755255272, 2545.462057201568, 2544.701836752387, 2222.2255300544402, 845.5445471404513, 1590.7900830000976, 2191.00766059891, 1579.6335299842735, 1158.763585666885, 1364.0342291042584, 1934.531505439389, 957.0916607491665, 429.59447170095353, 844.842383288796, 859.464122949964, 395.78567445500113, 806.6711037207583, 431.3337394151705, 258.329547408603, 570.3172515874454, 801.4730232398057, 312.90162415202644, 557.829915050471, 294.86429696773075, 439.41677956278176, 73.47243048747474, 225.6239046382896, 398.8041634951719, 0.4208493760502439, 0.42117683606662476, 0.4217846990623396, 0.42234342531999297, 0.516719137613386, 0.5171798590888654, 0.5199590824053143, 0.5200504211179824, 0.5202221502882085, 0.5204166339943841, 0.5204586617740803, 0.5207864148009892, 0.5208660783307663, 0.5210492669858409, 0.5210894308173666, 0.5211910874974237, 0.5259590372794556, 0.535255866164771, 0.5425301867024416, 0.5481618310813364, 0.5489157881134562, 0.5552261331792988, 0.5572565082001973, 0.5650246480619688, 0.6858945223315258, 0.6890126107604617, 1.008289033611786, 1.0853694650120123, 1.0819630016323287, 1.0819639970402886, 1.0853853558259432, 1.0858626347759324, 11031.738123001982, 6068.222461561281, 3457.4415755255272, 3561.924315432468, 2544.701836752387, 2222.2255300544402, 2333.2833666383344, 1590.7900830000976, 2545.462057201568, 1579.6335299842735, 1364.0342291042584, 1158.763585666885, 1934.531505439389, 2191.00766059891, 859.464122949964, 801.4730232398057, 957.0916607491665, 806.6711037207583, 845.5445471404513, 475.6957284553025, 570.3172515874454, 388.890550416312, 597.2102857554421, 844.842383288796, 557.829915050471, 529.4860095268539, 377.38483084319074, 444.526575374027, 359.00615908676633, 398.8041634951719, 0.4208493760502439, 0.42117683606662476, 0.4217846990623396, 0.42234342531999297, 0.516719137613386, 0.5171798590888654, 0.5199590824053143, 0.5200504211179824, 0.5202221502882085, 0.5204586617740803, 0.5204166339943841, 0.5208660783307663, 0.5210492669858409, 0.5211910874974237, 0.5207864148009892, 0.5210894308173666, 0.5259590372794556, 0.535255866164771, 0.5425301867024416, 0.5489157881134562, 0.5481618310813364, 0.5552261331792988, 0.5572565082001973, 0.5650246480619688, 0.6858945223315258, 0.6890126107604617, 1.008289033611786, 1.0847372556871353, 1.0851014111120343, 1.0850488578595259, 11031.738123001982, 6068.222461561281, 3457.4415755255272, 2333.2833666383344, 845.5445471404513, 3561.924315432468, 2222.2255300544402, 1590.7900830000976, 2544.701836752387, 2545.462057201568, 2191.00766059891, 1934.531505439389, 801.4730232398057, 1364.0342291042584, 844.842383288796, 1579.6335299842735, 1158.763585666885, 806.6711037207583, 859.464122949964, 431.3337394151705, 241.53956090561906, 258.329547408603, 395.78567445500113, 429.59447170095353, 570.3172515874454, 597.2102857554421, 439.41677956278176, 557.829915050471, 957.0916607491665, 139.76921506990436, 375.9818724645239], \"Category\": [\"Default\", \"Default\", \"Default\", \"Default\", \"Default\", \"Default\", \"Default\", \"Default\", \"Default\", \"Default\", \"Default\", \"Default\", \"Default\", \"Default\", \"Default\", \"Default\", \"Default\", \"Default\", \"Default\", \"Default\", \"Default\", \"Default\", \"Default\", \"Default\", \"Default\", \"Default\", \"Default\", \"Default\", \"Default\", \"Default\", \"Topic1\", \"Topic1\", \"Topic1\", \"Topic1\", \"Topic1\", \"Topic1\", \"Topic1\", \"Topic1\", \"Topic1\", \"Topic1\", \"Topic1\", \"Topic1\", \"Topic1\", \"Topic1\", \"Topic1\", \"Topic1\", \"Topic1\", \"Topic1\", \"Topic1\", \"Topic1\", \"Topic1\", \"Topic1\", \"Topic1\", \"Topic1\", \"Topic1\", \"Topic1\", \"Topic1\", \"Topic1\", \"Topic1\", \"Topic1\", \"Topic1\", \"Topic1\", \"Topic1\", \"Topic1\", \"Topic1\", \"Topic1\", \"Topic1\", \"Topic1\", \"Topic1\", \"Topic1\", \"Topic1\", \"Topic1\", \"Topic1\", \"Topic1\", \"Topic1\", \"Topic1\", \"Topic1\", \"Topic1\", \"Topic1\", \"Topic1\", \"Topic1\", \"Topic1\", \"Topic1\", \"Topic1\", \"Topic1\", \"Topic1\", \"Topic1\", \"Topic1\", \"Topic1\", \"Topic1\", \"Topic1\", \"Topic1\", \"Topic1\", \"Topic1\", \"Topic1\", \"Topic1\", \"Topic1\", \"Topic1\", \"Topic1\", \"Topic1\", \"Topic1\", \"Topic1\", \"Topic1\", \"Topic1\", \"Topic1\", \"Topic1\", \"Topic1\", \"Topic2\", \"Topic2\", \"Topic2\", \"Topic2\", \"Topic2\", \"Topic2\", \"Topic2\", \"Topic2\", \"Topic2\", \"Topic2\", \"Topic2\", \"Topic2\", \"Topic2\", \"Topic2\", \"Topic2\", \"Topic2\", \"Topic2\", \"Topic2\", \"Topic2\", \"Topic2\", \"Topic2\", \"Topic2\", \"Topic2\", \"Topic2\", \"Topic2\", \"Topic2\", \"Topic2\", \"Topic2\", \"Topic2\", \"Topic2\", \"Topic2\", \"Topic2\", \"Topic2\", \"Topic2\", \"Topic2\", \"Topic2\", \"Topic2\", \"Topic2\", \"Topic2\", \"Topic2\", \"Topic2\", \"Topic2\", \"Topic2\", \"Topic2\", \"Topic2\", \"Topic2\", \"Topic2\", \"Topic2\", \"Topic2\", \"Topic2\", \"Topic2\", \"Topic2\", \"Topic2\", \"Topic2\", \"Topic2\", \"Topic2\", \"Topic2\", \"Topic2\", \"Topic2\", \"Topic2\", \"Topic2\", \"Topic2\", \"Topic2\", \"Topic2\", \"Topic2\", \"Topic2\", \"Topic2\", \"Topic2\", \"Topic2\", \"Topic2\", \"Topic2\", \"Topic2\", \"Topic2\", \"Topic2\", \"Topic2\", \"Topic2\", \"Topic3\", \"Topic3\", \"Topic3\", \"Topic3\", \"Topic3\", \"Topic3\", \"Topic3\", \"Topic3\", \"Topic3\", \"Topic3\", \"Topic3\", \"Topic3\", \"Topic3\", \"Topic3\", \"Topic3\", \"Topic3\", \"Topic3\", \"Topic3\", \"Topic3\", \"Topic3\", \"Topic3\", \"Topic3\", \"Topic3\", \"Topic3\", \"Topic3\", \"Topic3\", \"Topic3\", \"Topic3\", \"Topic3\", \"Topic3\", \"Topic3\", \"Topic3\", \"Topic3\", \"Topic3\", \"Topic3\", \"Topic3\", \"Topic3\", \"Topic3\", \"Topic3\", \"Topic3\", \"Topic3\", \"Topic3\", \"Topic3\", \"Topic3\", \"Topic3\", \"Topic3\", \"Topic3\", \"Topic3\", \"Topic3\", \"Topic3\", \"Topic3\", \"Topic3\", \"Topic3\", \"Topic3\", \"Topic3\", \"Topic3\", \"Topic3\", \"Topic3\", \"Topic3\", \"Topic3\", \"Topic3\", \"Topic3\", \"Topic3\", \"Topic3\", \"Topic3\", \"Topic3\", \"Topic3\", \"Topic3\", \"Topic3\", \"Topic3\", \"Topic3\", \"Topic3\", \"Topic3\", \"Topic4\", \"Topic4\", \"Topic4\", \"Topic4\", \"Topic4\", \"Topic4\", \"Topic4\", \"Topic4\", \"Topic4\", \"Topic4\", \"Topic4\", \"Topic4\", \"Topic4\", \"Topic4\", \"Topic4\", \"Topic4\", \"Topic4\", \"Topic4\", \"Topic4\", \"Topic4\", \"Topic4\", \"Topic4\", \"Topic4\", \"Topic4\", \"Topic4\", \"Topic4\", \"Topic4\", \"Topic4\", \"Topic4\", \"Topic4\", \"Topic4\", \"Topic4\", \"Topic4\", \"Topic4\", \"Topic4\", \"Topic4\", \"Topic4\", \"Topic4\", \"Topic4\", \"Topic4\", \"Topic4\", \"Topic4\", \"Topic4\", \"Topic4\", \"Topic4\", \"Topic4\", \"Topic4\", \"Topic4\", \"Topic4\", \"Topic4\", \"Topic4\", \"Topic4\", \"Topic4\", \"Topic4\", \"Topic4\", \"Topic4\", \"Topic4\", \"Topic4\", \"Topic4\", \"Topic4\", \"Topic4\", \"Topic4\", \"Topic4\", \"Topic4\", \"Topic4\", \"Topic4\", \"Topic4\", \"Topic4\", \"Topic4\", \"Topic4\", \"Topic4\", \"Topic4\", \"Topic4\", \"Topic4\", \"Topic4\", \"Topic4\", \"Topic4\", \"Topic4\", \"Topic4\", \"Topic4\", \"Topic4\", \"Topic4\", \"Topic4\", \"Topic4\", \"Topic4\", \"Topic4\", \"Topic5\", \"Topic5\", \"Topic5\", \"Topic5\", \"Topic5\", \"Topic5\", \"Topic5\", \"Topic5\", \"Topic5\", \"Topic5\", \"Topic5\", \"Topic5\", \"Topic5\", \"Topic5\", \"Topic5\", \"Topic5\", \"Topic5\", \"Topic5\", \"Topic5\", \"Topic5\", \"Topic5\", \"Topic5\", \"Topic5\", \"Topic5\", \"Topic5\", \"Topic5\", \"Topic5\", \"Topic5\", \"Topic5\", \"Topic5\", \"Topic5\", \"Topic5\", \"Topic5\", \"Topic5\", \"Topic5\", \"Topic5\", \"Topic5\", \"Topic5\", \"Topic5\", \"Topic5\", \"Topic5\", \"Topic5\", \"Topic5\", \"Topic5\", \"Topic5\", \"Topic5\", \"Topic5\", \"Topic5\", \"Topic5\", \"Topic5\", \"Topic5\", \"Topic5\", \"Topic5\", \"Topic5\", \"Topic5\", \"Topic5\", \"Topic5\", \"Topic5\", \"Topic5\", \"Topic5\", \"Topic5\", \"Topic5\", \"Topic5\", \"Topic5\", \"Topic5\", \"Topic6\", \"Topic6\", \"Topic6\", \"Topic6\", \"Topic6\", \"Topic6\", \"Topic6\", \"Topic6\", \"Topic6\", \"Topic6\", \"Topic6\", \"Topic6\", \"Topic6\", \"Topic6\", \"Topic6\", \"Topic6\", \"Topic6\", \"Topic6\", \"Topic6\", \"Topic6\", \"Topic6\", \"Topic6\", \"Topic6\", \"Topic6\", \"Topic6\", \"Topic6\", \"Topic6\", \"Topic6\", \"Topic6\", \"Topic6\", \"Topic6\", \"Topic6\", \"Topic6\", \"Topic6\", \"Topic6\", \"Topic6\", \"Topic6\", \"Topic6\", \"Topic6\", \"Topic6\", \"Topic6\", \"Topic6\", \"Topic6\", \"Topic6\", \"Topic6\", \"Topic6\", \"Topic6\", \"Topic6\", \"Topic6\", \"Topic6\", \"Topic6\", \"Topic6\", \"Topic6\", \"Topic6\", \"Topic6\", \"Topic6\", \"Topic6\", \"Topic6\", \"Topic6\", \"Topic6\", \"Topic6\", \"Topic6\", \"Topic6\", \"Topic7\", \"Topic7\", \"Topic7\", \"Topic7\", \"Topic7\", \"Topic7\", \"Topic7\", \"Topic7\", \"Topic7\", \"Topic7\", \"Topic7\", \"Topic7\", \"Topic7\", \"Topic7\", \"Topic7\", \"Topic7\", \"Topic7\", \"Topic7\", \"Topic7\", \"Topic7\", \"Topic7\", \"Topic7\", \"Topic7\", \"Topic7\", \"Topic7\", \"Topic7\", \"Topic7\", \"Topic7\", \"Topic7\", \"Topic7\", \"Topic7\", \"Topic7\", \"Topic7\", \"Topic7\", \"Topic7\", \"Topic7\", \"Topic7\", \"Topic7\", \"Topic7\", \"Topic7\", \"Topic7\", \"Topic7\", \"Topic7\", \"Topic7\", \"Topic7\", \"Topic7\", \"Topic7\", \"Topic7\", \"Topic7\", \"Topic7\", \"Topic7\", \"Topic7\", \"Topic7\", \"Topic7\", \"Topic7\", \"Topic7\", \"Topic7\", \"Topic7\", \"Topic7\", \"Topic7\", \"Topic7\", \"Topic7\", \"Topic7\", \"Topic8\", \"Topic8\", \"Topic8\", \"Topic8\", \"Topic8\", \"Topic8\", \"Topic8\", \"Topic8\", \"Topic8\", \"Topic8\", \"Topic8\", \"Topic8\", \"Topic8\", \"Topic8\", \"Topic8\", \"Topic8\", \"Topic8\", \"Topic8\", \"Topic8\", \"Topic8\", \"Topic8\", \"Topic8\", \"Topic8\", \"Topic8\", \"Topic8\", \"Topic8\", \"Topic8\", \"Topic8\", \"Topic8\", \"Topic8\", \"Topic8\", \"Topic8\", \"Topic8\", \"Topic8\", \"Topic8\", \"Topic8\", \"Topic8\", \"Topic8\", \"Topic8\", \"Topic8\", \"Topic8\", \"Topic8\", \"Topic8\", \"Topic8\", \"Topic8\", \"Topic8\", \"Topic8\", \"Topic8\", \"Topic8\", \"Topic8\", \"Topic8\", \"Topic8\", \"Topic8\", \"Topic8\", \"Topic8\", \"Topic8\", \"Topic8\", \"Topic8\", \"Topic8\", \"Topic8\", \"Topic8\", \"Topic8\", \"Topic9\", \"Topic9\", \"Topic9\", \"Topic9\", \"Topic9\", \"Topic9\", \"Topic9\", \"Topic9\", \"Topic9\", \"Topic9\", \"Topic9\", \"Topic9\", \"Topic9\", \"Topic9\", \"Topic9\", \"Topic9\", \"Topic9\", \"Topic9\", \"Topic9\", \"Topic9\", \"Topic9\", \"Topic9\", \"Topic9\", \"Topic9\", \"Topic9\", \"Topic9\", \"Topic9\", \"Topic9\", \"Topic9\", \"Topic9\", \"Topic9\", \"Topic9\", \"Topic9\", \"Topic9\", \"Topic9\", \"Topic9\", \"Topic9\", \"Topic9\", \"Topic9\", \"Topic9\", \"Topic9\", \"Topic9\", \"Topic9\", \"Topic9\", \"Topic9\", \"Topic9\", \"Topic9\", \"Topic9\", \"Topic9\", \"Topic9\", \"Topic9\", \"Topic9\", \"Topic9\", \"Topic9\", \"Topic9\", \"Topic9\", \"Topic9\", \"Topic9\", \"Topic9\", \"Topic9\", \"Topic9\", \"Topic9\", \"Topic10\", \"Topic10\", \"Topic10\", \"Topic10\", \"Topic10\", \"Topic10\", \"Topic10\", \"Topic10\", \"Topic10\", \"Topic10\", \"Topic10\", \"Topic10\", \"Topic10\", \"Topic10\", \"Topic10\", \"Topic10\", \"Topic10\", \"Topic10\", \"Topic10\", \"Topic10\", \"Topic10\", \"Topic10\", \"Topic10\", \"Topic10\", \"Topic10\", \"Topic10\", \"Topic10\", \"Topic10\", \"Topic10\", \"Topic10\", \"Topic10\", \"Topic10\", \"Topic10\", \"Topic10\", \"Topic10\", \"Topic10\", \"Topic10\", \"Topic10\", \"Topic10\", \"Topic10\", \"Topic10\", \"Topic10\", \"Topic10\", \"Topic10\", \"Topic10\", \"Topic10\", \"Topic10\", \"Topic10\", \"Topic10\", \"Topic10\", \"Topic10\", \"Topic10\", \"Topic10\", \"Topic10\", \"Topic10\", \"Topic10\", \"Topic10\", \"Topic10\", \"Topic10\", \"Topic10\", \"Topic10\"], \"logprob\": [30.0, 29.0, 28.0, 27.0, 26.0, 25.0, 24.0, 23.0, 22.0, 21.0, 20.0, 19.0, 18.0, 17.0, 16.0, 15.0, 14.0, 13.0, 12.0, 11.0, 10.0, 9.0, 8.0, 7.0, 6.0, 5.0, 4.0, 3.0, 2.0, 1.0, -7.9924, -7.9931, -8.2464, -8.2453, -8.2065, -8.0954, -8.2895, -8.2478, -8.2896, -5.3605, -8.3808, -8.4293, -8.0984, -8.2932, -8.2535, -8.4816, -8.5901, -8.5352, -8.2544, -8.5918, -8.6507, -8.2538, -8.7145, -8.7148, -8.593, -8.7152, -8.5931, -8.7817, -8.7156, -7.5488, -8.539, -7.3314, -8.439, -8.3033, -7.541, -6.4214, -6.7358, -6.7393, -7.2046, -7.4127, -7.66, -2.3453, -6.9293, -7.5214, -7.5836, -3.8265, -3.8304, -3.9154, -6.6621, -3.546, -4.1444, -4.4735, -4.0425, -4.0302, -4.8175, -3.1199, -3.6408, -4.3607, -5.5456, -4.9473, -5.3315, -5.5412, -5.748, -5.663, -4.6867, -6.1498, -4.4289, -5.3003, -5.9042, -5.0178, -5.0747, -5.0893, -5.4507, -5.735, -5.1146, -5.4508, -5.6428, -7.3516, -7.6716, -7.7514, -7.9291, -7.7594, -8.1528, -8.1537, -8.2829, -8.1567, -8.1569, -8.2858, -8.0471, -8.2877, -8.2891, -8.2893, -8.4342, -7.4338, -8.2904, -8.2912, -8.4381, -8.4376, -8.2925, -8.6084, -8.6089, -8.4385, -8.6089, -8.2936, -8.4387, -8.4401, -8.6105, -8.1693, -8.4405, -8.2992, -8.2991, -8.301, -8.3167, -7.457, -7.3827, -6.4185, -7.6295, -2.9337, -2.5642, -4.1291, -3.5161, -7.5517, -3.639, -4.7033, -5.0266, -4.2801, -5.7293, -4.1894, -3.9953, -5.3228, -4.0102, -4.4822, -4.14, -4.1597, -5.5776, -4.8773, -5.4239, -4.6391, -5.5495, -5.8765, -5.6079, -4.3326, -5.6013, -5.5231, -5.3077, -4.9818, -5.4087, -5.2916, -5.5781, -5.2451, -5.3283, -5.4798, -5.435, -5.8185, -6.2253, -6.628, -6.4546, -6.5402, -6.7338, -6.2412, -6.8496, -6.6407, -6.9854, -5.4023, -6.554, -5.7305, -7.529, -7.5297, -7.5299, -7.5303, -5.9498, -7.5339, -7.8097, -7.813, -6.2984, -7.5602, -6.1988, -7.2023, -7.3761, -7.3787, -7.3849, -5.8354, -8.1998, -4.9098, -6.4804, -5.5076, -6.2909, -6.2004, -5.6682, -4.5857, -5.0108, -3.7921, -4.3648, -5.2153, -4.723, -5.8621, -4.806, -5.4111, -5.2517, -5.7534, -5.2439, -4.8148, -5.1691, -4.15, -4.5448, -5.0639, -5.5249, -4.0588, -5.0788, -4.9863, -3.7255, -4.2116, -2.6791, -3.0363, -4.8856, -4.6774, -3.8167, -3.9162, -3.9109, -4.3711, -4.7725, -4.0896, -4.6995, -5.036, -5.1007, -5.0613, -6.5368, -6.3032, -7.0807, -7.0874, -7.0885, -7.3662, -7.3665, -7.3762, -7.3764, -7.3945, -7.746, -7.7475, -7.4015, -7.7472, -7.748, -7.7479, -7.7481, -7.7484, -7.7482, -7.7474, -7.7522, -7.7487, -7.7489, -7.7493, -7.7517, -7.7525, -7.7545, -7.7537, -7.7537, -7.7546, -5.8748, -7.0597, -7.4282, -6.7693, -6.1201, -6.0033, -4.9554, -6.6441, -6.3064, -6.7679, -6.3292, -6.6814, -7.4521, -7.0639, -6.8077, -6.8293, -6.302, -5.8833, -6.8695, -6.0404, -6.4937, -6.6096, -5.8437, -6.0333, -6.5675, -6.2216, -3.1567, -3.4566, -2.9605, -5.453, -5.9641, -4.2773, -6.1246, -5.7746, -4.358, -4.3274, -4.3308, -4.4121, -5.8337, -5.7693, -4.9462, -4.9624, -4.9146, -4.6178, -4.8386, -4.9043, -5.4251, -5.0124, -5.4255, -5.3749, -5.4115, -5.3767, -5.4883, -5.6322, -5.6432, -5.7332, -6.5025, -7.1326, -7.1331, -7.1326, -7.1326, -7.1331, -7.1332, -7.1334, -7.1336, -7.1337, -7.1342, -7.1342, -7.1345, -7.1582, -7.1488, -7.1571, -7.1636, -7.1717, -7.1859, -7.1741, -7.1832, -6.1218, -7.3646, -7.1262, -7.2395, -7.1327, -7.1383, -7.1394, -6.5833, -7.2008, -5.7156, -5.9525, -6.5761, -6.5861, -6.5333, -5.7623, -5.9082, -6.1369, -4.498, -4.7483, -6.2206, -6.5971, -6.4983, -4.7042, -6.6515, -6.291, -6.6122, -5.7899, -6.2701, -6.5022, -6.6223, -6.4974, -6.1837, -6.4172, -5.9897, -5.9842, -6.4807, -6.0646, -6.1505, -6.2165, -6.1996, -6.2403, -6.2899, -6.3105, -6.3688, -6.9649, -6.9652, -6.9658, -6.9664, -6.9644, -6.964, -6.3392, -9.3395, -9.3405, -9.3545, -9.3546, -9.3539, -9.3549, -9.3547, -9.3542, -9.3545, -9.3541, -9.3544, -9.3541, -9.3558, -9.3587, -9.3587, -9.3561, -9.3587, -9.3587, -9.3587, -9.3587, -6.9631, -6.9594, -9.3555, -7.0521, -6.9586, -6.9585, -6.9626, -6.341, -6.9571, -6.9591, -6.9537, -6.3069, -6.9571, -7.1674, -7.2134, -7.17, -7.0009, -6.9486, -7.0007, -7.2817, -6.9969, -6.9338, -5.1814, -6.1451, -5.3338, -6.2912, -6.3358, -6.4473, -6.6101, -6.751, -6.6587, -6.7168, -6.7774, -6.7707, -6.8213, -6.8264, -9.2897, -9.2897, -9.2897, -9.2897, -9.2748, -9.2759, -9.2855, -9.2866, -9.2867, -9.2867, -9.2868, -9.2857, -9.2867, -9.2862, -9.2862, -9.2869, -9.2868, -9.2897, -9.2897, -9.2871, -9.2897, -9.2897, -9.2897, -9.2897, -9.2867, -9.2897, -9.2872, -9.2836, -9.2837, -9.2841, -9.2812, -9.2822, -6.0326, -6.3696, -7.0371, -7.221, -7.3346, -7.2509, -7.2619, -7.2474, -7.497, -7.4871, -7.4894, -7.7424, -7.8076, -7.8843, -7.9301, -7.865, -7.9924, -8.0467, -8.0805, -8.2732, -8.3301, -8.361, -8.3813, -8.2971, -8.403, -8.3866, -8.4046, -8.4821, -8.5206, -8.4607, -8.4543, -9.2898, -9.2898, -9.2898, -9.2898, -9.2802, -9.2798, -9.2762, -9.2898, -9.2898, -9.2898, -9.2898, -9.2898, -9.2898, -9.2898, -9.2898, -9.2898, -9.2898, -9.2898, -9.2754, -9.2898, -9.2898, -9.2898, -9.2898, -9.2898, -9.2764, -9.2898, -9.2775, -9.27, -9.2705, -9.271, -6.2436, -6.4086, -6.9656, -6.9215, -6.9329, -7.1818, -7.3564, -7.426, -7.6774, -7.564, -7.5196, -7.6153, -7.735, -7.7132, -7.7479, -7.879, -8.1115, -8.0615, -8.1186, -8.2525, -8.2108, -8.3159, -8.4001, -8.3191, -8.2796, -8.4171, -8.3646, -8.4608, -8.4688, -8.687, -8.5792, -8.5332, -9.2776, -9.2776, -9.2776, -9.2776, -9.2776, -9.2776, -9.2776, -9.2776, -9.2776, -9.2776, -9.2776, -9.2776, -9.2776, -9.2776, -9.2776, -9.2776, -9.2761, -9.2776, -9.2776, -9.2776, -9.2765, -9.2776, -9.2776, -9.2776, -9.2762, -9.2776, -9.2764, -9.2732, -9.2764, -9.2765, -9.2738, -9.2743, -6.2396, -7.0734, -7.282, -7.4602, -7.626, -7.7154, -7.7976, -7.9188, -7.8485, -7.979, -8.0041, -8.1046, -8.038, -8.0753, -8.2292, -8.324, -8.322, -8.3872, -8.4768, -8.5436, -8.5928, -8.6493, -8.619, -8.5971, -8.6557, -8.6945, -8.7227, -8.7294, -8.7473, -8.748, -9.2782, -9.2782, -9.2782, -9.2782, -9.2782, -9.2782, -9.277, -9.2768, -9.2766, -9.2763, -9.2764, -9.2763, -9.2763, -9.2762, -9.277, -9.2765, -9.271, -9.2782, -9.2782, -9.2719, -9.2782, -9.2782, -9.2782, -9.2782, -9.2717, -9.2782, -9.2697, -9.2667, -9.2692, -9.2694, -6.48, -7.036, -7.4381, -7.5361, -7.7673, -7.5142, -7.6262, -7.8075, -7.7725, -7.7939, -7.8229, -7.9879, -8.1567, -8.1321, -8.2008, -8.189, -8.2532, -8.3062, -8.371, -8.463, -8.5332, -8.5386, -8.4996, -8.5268, -8.5885, -8.6029, -8.6429, -8.6252, -8.5922, -8.7587, -8.6907], \"loglift\": [30.0, 29.0, 28.0, 27.0, 26.0, 25.0, 24.0, 23.0, 22.0, 21.0, 20.0, 19.0, 18.0, 17.0, 16.0, 15.0, 14.0, 13.0, 12.0, 11.0, 10.0, 9.0, 8.0, 7.0, 6.0, 5.0, 4.0, 3.0, 2.0, 1.0, 0.342, 0.3415, 0.3405, 0.3404, 0.3398, 0.3395, 0.3392, 0.3391, 0.3387, 0.338, 0.3375, 0.3366, 0.3363, 0.3354, 0.3352, 0.335, 0.3347, 0.3345, 0.3345, 0.3339, 0.3339, 0.3335, 0.3331, 0.333, 0.3328, 0.3324, 0.3322, 0.3321, 0.332, 0.3318, 0.3315, 0.3158, 0.3286, 0.3257, 0.3092, 0.2831, 0.2886, 0.2847, 0.2948, 0.3006, 0.3063, 0.1074, 0.2792, 0.3007, 0.2972, 0.093, 0.0889, 0.0909, 0.2395, 0.0373, 0.0493, 0.0696, 0.0267, 0.0249, 0.0799, -0.0694, -0.0278, 0.0286, 0.1302, 0.0749, 0.1058, 0.1231, 0.13, 0.1174, 0.0195, 0.1655, -0.0325, 0.0687, 0.1375, -0.0128, -0.0063, -0.0145, 0.0387, 0.0857, -0.0932, -0.0357, -0.0462, 1.511, 1.5087, 1.5072, 1.5052, 1.4988, 1.4957, 1.4951, 1.4922, 1.4914, 1.4914, 1.4892, 1.4886, 1.4878, 1.4868, 1.4859, 1.4859, 1.4855, 1.4842, 1.4841, 1.4837, 1.4831, 1.483, 1.4823, 1.4819, 1.4819, 1.4818, 1.4816, 1.4815, 1.4814, 1.481, 1.4792, 1.4802, 1.4764, 1.4761, 1.4746, 1.4681, 1.3717, 1.3301, 1.0428, 1.2907, 0.1167, -0.1115, 0.2673, 0.0671, 1.26, -0.0259, 0.3017, 0.3885, 0.1092, 0.59, 0.0043, -0.076, 0.4114, -0.0907, 0.0609, -0.0849, -0.0905, 0.4844, 0.1911, 0.4079, 0.0671, 0.4352, 0.5396, 0.369, -0.3263, 0.3496, 0.3049, 0.1817, -0.0844, 0.1878, 0.0774, 0.1947, -0.2229, -0.2535, -0.0425, -0.4137, 2.876, 2.873, 2.8629, 2.8606, 2.8595, 2.8586, 2.8565, 2.8547, 2.8495, 2.8465, 2.8344, 2.8323, 2.8319, 2.8201, 2.8199, 2.8195, 2.8194, 2.8184, 2.817, 2.7977, 2.7969, 2.7968, 2.7878, 2.7729, 2.7702, 2.7695, 2.766, 2.7592, 2.7572, 2.7557, 2.7366, 2.7518, 2.724, 2.739, 2.7129, 2.6768, 2.6064, 2.6313, 2.4822, 2.5153, 2.5907, 2.5249, 2.6506, 2.53, 2.5944, 2.5152, 2.6212, 2.4901, 2.3787, 2.4663, 2.1925, 2.2765, 2.3883, 2.5225, 1.9567, 2.2847, 2.1191, 1.2958, 1.4828, 0.3714, 0.5767, 1.8326, 1.5297, 0.1896, 0.153, 0.1442, 0.7038, 1.3023, -1.6368, -0.5058, 0.7445, 0.9591, -0.0391, 3.5513, 3.5439, 3.5167, 3.5079, 3.5066, 3.4773, 3.4772, 3.4653, 3.4648, 3.4409, 3.4328, 3.4322, 3.432, 3.4314, 3.431, 3.431, 3.4309, 3.4307, 3.4306, 3.4306, 3.4303, 3.4301, 3.4298, 3.4297, 3.4255, 3.4243, 3.4235, 3.4229, 3.4229, 3.4218, 3.3975, 3.4088, 3.3975, 3.321, 3.2248, 3.1551, 2.9578, 3.2434, 3.1807, 3.247, 3.1484, 3.2015, 3.3663, 3.2701, 3.1971, 3.169, 2.9458, 2.7777, 3.1197, 2.6384, 2.8581, 2.9135, 2.3952, 2.4875, 2.8628, 2.5263, -0.1062, 0.1266, -0.5077, 1.63, 2.1723, 0.1191, 2.2391, 1.7435, -0.303, -0.4078, -0.4116, -0.3429, 1.7798, 1.6057, 0.1222, 0.1124, -0.2084, -1.0047, -0.6449, -0.515, 0.6268, -1.0062, 0.2388, -0.3528, -0.5141, -0.8336, -0.467, 0.3832, -0.0466, 0.3085, 5.6314, 5.289, 5.2875, 5.2827, 5.2825, 5.2817, 5.2813, 5.281, 5.2801, 5.2798, 5.279, 5.279, 5.2784, 5.2456, 5.2375, 5.2157, 5.1989, 5.1779, 5.1752, 5.1719, 5.149, 5.0322, 4.7737, 4.4321, 4.2683, 4.2334, 4.2138, 4.2126, 4.1588, 4.1223, 3.5325, 3.5853, 3.8643, 3.8513, 3.8089, 2.8922, 3.0284, 2.7897, -1.4475, -1.1353, 2.6082, 3.6035, 3.2414, -2.2514, 3.0577, 1.3893, 2.7428, -1.7837, 0.7257, 1.8914, 2.5244, 1.7001, -0.1683, 1.1481, -1.796, -2.0647, 1.1365, -2.0095, -1.7612, -1.1417, -1.8032, -1.5341, -2.2207, -2.3912, -2.7855, 5.6619, 5.6608, 5.6588, 5.6569, 4.4711, 3.935, 3.3089, 3.0812, 3.0811, 3.0608, 3.0606, 3.0605, 3.0599, 3.0598, 3.0595, 3.059, 3.059, 3.0588, 3.0588, 3.0481, 3.0277, 3.0142, 3.005, 3.0038, 2.991, 2.9874, 2.9735, 2.9582, 2.8192, 2.7828, 2.7443, 2.6684, 2.5792, 2.5018, 2.3135, 2.3035, 2.2251, 2.0591, 1.6026, 1.8568, 1.8969, 1.593, 1.5602, 1.3623, 1.2938, 1.1199, 1.0715, 0.6415, 0.1288, -2.1309, -1.123, -2.881, -2.0975, -2.7227, -2.8641, -2.555, -1.6826, -2.7394, -2.7972, -2.3811, -2.7644, -2.1151, -2.2833, 3.3371, 3.3363, 3.3349, 3.3336, 3.1468, 3.1447, 3.1293, 3.1287, 3.1284, 3.1277, 3.1276, 3.1272, 3.1271, 3.127, 3.127, 3.1266, 3.117, 3.0966, 3.0831, 3.074, 3.0728, 3.06, 3.0563, 3.0425, 2.8517, 2.8441, 2.4659, 2.3985, 2.3983, 2.3982, 2.3971, 2.3963, -3.5799, -3.3191, -3.4538, -3.2148, -2.9453, -3.3317, -3.3424, -3.6343, -3.3033, -3.4179, -3.4344, -3.3461, -3.1014, -2.9869, -2.9251, -3.3219, -2.9702, -2.9783, -3.0592, -2.858, -2.6357, -2.6967, -2.5606, -3.2222, -2.7271, -2.8972, -2.8081, -2.7017, -2.4608, -3.0234, -3.0852, 3.3369, 3.3362, 3.3347, 3.3334, 3.1414, 3.1409, 3.1276, 3.1255, 3.1253, 3.125, 3.1246, 3.1245, 3.1239, 3.1237, 3.1234, 3.1233, 3.1231, 3.0965, 3.0858, 3.083, 3.0726, 3.0598, 3.0562, 3.0423, 2.8619, 2.844, 2.4755, 2.4095, 2.409, 2.4086, -3.1931, -3.9558, -2.9593, -3.3382, -3.3199, -3.2625, -3.4368, -3.371, -2.6561, -3.1747, -3.4504, -3.2189, -3.0288, -3.1701, -3.5542, -2.9816, -2.413, -3.0393, -3.1136, -2.4721, -3.1424, -2.6215, -2.193, -2.904, -3.2047, -2.4017, -2.9274, -2.386, -2.7929, -1.2226, -2.2368, -2.7603, 3.3492, 3.3484, 3.3469, 3.3456, 3.1439, 3.143, 3.1377, 3.1375, 3.1372, 3.1368, 3.1367, 3.1361, 3.1359, 3.1356, 3.1355, 3.1353, 3.1277, 3.1087, 3.0952, 3.0849, 3.0846, 3.0721, 3.0684, 3.0546, 2.8622, 2.8562, 2.4767, 2.4062, 2.4061, 2.406, 2.4056, 2.4047, -3.7868, -4.0229, -3.669, -3.8769, -3.7064, -3.6604, -3.7913, -3.5294, -3.9293, -3.5826, -3.4609, -3.3984, -3.8443, -4.0062, -3.2242, -3.2491, -3.4246, -3.3188, -3.4554, -2.9471, -3.1776, -2.8513, -3.25, -3.575, -3.2184, -3.2051, -2.8947, -3.0651, -2.8693, -2.9752, 3.3486, 3.3478, 3.3464, 3.345, 3.1434, 3.1425, 3.1383, 3.1383, 3.1382, 3.138, 3.138, 3.1372, 3.1369, 3.1367, 3.1367, 3.1366, 3.1328, 3.1081, 3.0946, 3.0892, 3.0843, 3.0715, 3.0678, 3.054, 2.8667, 2.8556, 2.4834, 2.4133, 2.4104, 2.4103, -4.0272, -3.9855, -3.8251, -3.5298, -2.7459, -3.931, -3.5711, -3.4182, -3.853, -3.8747, -3.7537, -3.7943, -3.0818, -3.589, -3.1786, -3.7926, -3.547, -3.2378, -3.366, -2.7686, -2.2589, -2.3315, -2.7192, -2.8283, -3.1734, -3.2339, -2.9671, -3.1879, -3.6948, -1.9374, -2.859]}, \"token.table\": {\"Topic\": [1, 2, 3, 4, 1, 2, 3, 4, 1, 2, 3, 4, 1, 2, 3, 4, 5, 1, 2, 3, 1, 2, 3, 4, 1, 2, 3, 4, 1, 2, 4, 1, 2, 3, 4, 5, 2, 1, 2, 1, 2, 4, 4, 2, 4, 4, 4, 1, 1, 1, 1, 2, 4, 2, 2, 4, 2, 2, 4, 4, 4, 2, 4, 4, 4, 4, 4, 4, 1, 1, 2, 3, 4, 5, 1, 2, 3, 1, 2, 3, 4, 1, 2, 3, 4, 1, 2, 3, 4, 3, 1, 2, 4, 1, 2, 4, 1, 4, 4, 3, 4, 4, 2, 1, 2, 3, 4, 1, 1, 3, 4, 1, 2, 3, 1, 2, 3, 1, 2, 4, 4, 1, 2, 3, 1, 2, 3, 4, 4, 1, 1, 3, 1, 2, 3, 4, 1, 2, 3, 4, 1, 1, 2, 3, 4, 1, 2, 3, 4, 1, 2, 3, 3, 1, 2, 3, 4, 1, 1, 2, 1, 2, 4, 1, 2, 3, 2, 4, 1, 2, 3, 4, 1, 2, 1, 2, 3, 4, 1, 2, 1, 2, 4, 1, 1, 2, 3, 1, 2, 4, 1, 3, 1, 1, 2, 3, 1, 2, 4, 3, 2, 4, 1, 3, 4, 1, 3, 4, 2, 1, 3, 4, 4, 1, 3, 1, 3, 1, 2, 2, 1, 1, 2, 4, 1, 2, 4, 1, 2, 4, 1, 2, 1, 3, 1, 2, 3, 3, 1, 2, 4, 2, 1, 2, 1, 1, 2, 3, 1, 4, 4, 1, 2, 4, 2, 4, 2, 4, 4, 4, 2, 4, 1, 4, 1, 2, 3, 4, 1, 1, 4, 2, 4, 4, 2, 4, 2, 2, 2, 3, 1, 2, 4, 1, 1, 2, 1, 3, 2, 4, 1, 2, 4, 4, 2, 2, 3, 1, 2, 3, 4, 2, 2, 4, 1, 2, 3, 4, 1, 2, 4, 1, 2, 3, 3, 4, 1, 2, 3, 4, 1, 2, 4, 3, 3, 1, 2, 1, 2, 3, 4, 1, 2, 4, 3, 1, 3, 1, 2, 1, 2, 3, 1, 2, 3, 4, 1, 4, 1, 2, 1, 2, 3, 3, 2, 2, 4, 1, 2, 3, 4, 2, 1, 2, 3, 4, 1, 2, 3, 2, 1, 2, 3, 4, 1, 2, 3, 1, 2, 1, 2, 1, 2, 3, 4, 1, 2, 3, 4, 1, 1, 4, 2, 4, 1, 2, 4, 1, 2, 3, 4, 1, 2, 1, 1, 2, 3, 4, 4, 2, 4, 4, 1, 2, 3, 4, 1, 2, 3, 4, 1, 2, 3, 4, 1, 2, 3, 4, 1, 2, 1, 2, 4, 2, 4, 1, 2, 3, 4, 3, 4, 1, 2, 1, 2, 3, 3, 2, 1, 2, 4, 1, 2, 1, 2, 4, 1, 2, 4, 1, 1, 2, 3, 1, 2, 1, 2, 1, 2, 3, 4, 4, 1, 3, 2, 1, 3, 4, 1, 2, 3, 1, 4, 1, 2, 3, 1, 2, 3, 4, 4, 1, 1, 2, 4, 1, 2, 3, 4, 1, 2, 3, 4, 1, 2, 3, 4, 1, 4, 1, 4, 1, 2, 4, 2, 2, 3, 1, 2, 3, 4, 1, 1, 2, 4, 3, 1, 2, 4, 1, 2, 4, 4, 1, 2, 3, 4, 1, 2, 3, 1, 2, 4, 1, 2, 1, 1, 2, 4, 1, 1, 4, 1, 1, 1, 2, 1, 2, 3, 4, 1, 2, 4, 1, 2, 3, 4, 1, 2, 3, 2, 2, 4, 1, 2, 3, 4, 5, 1, 2, 3, 4, 1, 2, 1, 2, 3, 1, 3, 2, 1, 2, 3, 4, 1, 3, 4, 1, 5, 2, 4, 1, 3, 1, 3, 3, 2, 1, 3, 1, 2, 1, 2, 2, 4, 1, 2, 3, 3, 4, 1, 3, 1, 2, 3, 4, 1, 2, 3, 1, 2, 3, 4, 1, 3, 5, 1, 1, 2, 1, 2, 4, 3, 1, 2, 3, 4, 1, 2, 4, 1, 2, 4], \"Freq\": [0.5759666682777399, 0.385421304336232, 0.02598345871929654, 0.01299172935964827, 0.7206729708870034, 0.19580031951268176, 0.06435395116850379, 0.01871285104899756, 0.7195489289337917, 0.19709970661225815, 0.06389990488342616, 0.01979997052725881, 0.781381855142724, 0.19171956190566836, 0.010787058093037604, 0.015953968272055617, 0.000181295094000632, 0.6548634831612262, 0.2067989946824925, 0.10339949734124625, 0.7285387813426716, 0.22908965147422736, 0.012072126241901687, 0.030039942043801872, 0.6080525611211254, 0.22050257710985866, 0.14366076993521096, 0.026727585104225293, 0.9119066778581916, 0.040831642292157834, 0.05444218972287711, 0.6547222065714767, 0.24092722527246385, 0.08008935121916377, 0.023894971042754624, 0.0003295858074862707, 0.9531320716860798, 0.9915732924566111, 0.9671702710018443, 0.7290088747480368, 0.25685286778687305, 0.013220368194912582, 0.7972160443053448, 0.9612437237287695, 0.9368164306923997, 0.923819830898836, 0.5572870124535119, 1.0025160184459259, 1.0025187590471847, 0.9967048069851456, 1.0015689319209715, 0.9605180663537434, 0.5576210684107815, 0.9822790530918138, 0.9674418569115405, 0.7790280990340552, 0.9840512405920528, 0.951797201203291, 0.9214926786955118, 0.5573999423112959, 0.9239662747715577, 0.9669654413727037, 0.920521249441875, 0.5584839547137059, 0.9209267986335582, 0.5572495108625184, 0.9218822297815725, 0.9238024164008298, 1.0036108173840779, 0.6825856485055087, 0.20882493144956665, 0.09833861037791228, 0.009833861037791228, 0.0005784624139877193, 0.9846495424514121, 0.009311106784410517, 0.0046555533922052585, 0.7702277617331396, 0.19570072721586912, 0.016111907260744244, 0.017683800652036365, 0.766854879835055, 0.19878512766216075, 0.016499951307926388, 0.017678519258492557, 0.7606377005000291, 0.1974732491682768, 0.027165632160715325, 0.01567248009272038, 0.974407748485617, 0.7740484838815842, 0.20944841328560515, 0.0182129055030961, 0.6154247047570155, 0.367346529196048, 0.014312202436209662, 0.9698787442609598, 0.558663196235488, 0.7969641539986458, 0.9750169010746192, 0.9242451714987735, 0.5586071286044206, 0.9518668389960854, 0.7371293752469094, 0.21503914453205772, 0.03308294531262426, 0.013956867553763361, 1.003592159396742, 0.16716219298024954, 0.8358109649012477, 0.5584137008567409, 0.7135661074719136, 0.14271322149438273, 0.12685619688389577, 0.4204998653067406, 0.28033324353782707, 0.28033324353782707, 0.40142297638131574, 0.33451914698442975, 0.23416340288910084, 0.5580712015319544, 0.44295342983279834, 0.012304261939799954, 0.5413875253511979, 0.4698083750032364, 0.03545723584930086, 0.49640130189021203, 0.004432154481162608, 0.9215091867140413, 0.9943523532721855, 0.07973251123822803, 0.8770576236205082, 0.5883957198267364, 0.1432279054841398, 0.25548761518792507, 0.011613073417632956, 0.7994291817445852, 0.169913519464877, 0.022283740257688787, 0.011141870128844393, 0.9519755863822238, 0.670596730048153, 0.2585686451282847, 0.04624805034814848, 0.025226209280808265, 0.4729937396614571, 0.23649686983072854, 0.14936644410361802, 0.13691924042831652, 0.30297035299977265, 0.03564357094114972, 0.6594060624112699, 0.975754902402024, 0.5392779016996091, 0.06740973771245114, 0.33704868856225567, 0.06740973771245114, 0.8443641045415949, 0.1065209701961548, 0.8521677615692383, 0.7654751250361619, 0.2130703956286224, 0.023674488403180264, 0.5297748650127817, 0.3973311487595863, 1.0226729792839477, 0.48387463454743707, 0.24193731727371853, 0.7193224180824179, 0.20883554073360522, 0.019889099117486212, 0.04972274779371553, 0.9640998969143832, 0.0326813524377757, 0.7751855885823288, 0.19592602788344574, 0.008518522951454163, 0.017037045902908325, 0.2094534182812634, 0.7330869639844219, 0.9609173231498904, 0.020019110898956048, 0.020019110898956048, 0.9747642141071335, 0.24899127838808624, 0.01915317526062202, 0.7278206599036366, 0.24559974543753932, 0.44207954178757075, 0.34383964361255503, 0.9622042802767767, 0.7949880378328461, 0.9996235951635255, 0.2029145671076555, 0.033819094517942586, 0.7440200793947368, 0.8276456732015076, 0.15201655222068508, 0.5605623581788288, 0.9462161501664633, 0.9606101678589829, 0.5585459313859414, 0.6250275934882589, 0.2604281639534412, 0.10417126558137647, 0.7211861313833011, 0.09014826642291264, 0.09014826642291264, 0.6640890347807221, 0.7239860250062415, 0.2413286750020805, 0.0482657350004161, 0.7989575765322408, 0.12289563064378342, 0.860269414506484, 0.9528910696422689, 0.9762249930079225, 0.891573337800602, 0.10853936286268198, 0.6642041198107174, 0.9987448418178595, 0.6634523532967346, 0.32328223760640884, 0.012062770059940628, 0.6570514480246539, 0.3316250232954621, 0.00929789784940548, 0.04584294863324392, 0.5959583322321709, 0.36674358906595134, 0.5321991007447073, 0.26609955037235367, 0.19413775389016572, 0.7765510155606629, 0.27452256367043226, 0.06459354439304289, 0.6459354439304289, 0.8933714238886842, 0.6995511701149856, 0.29147965421457733, 0.010599260153257357, 0.9407771870854613, 0.9287279038439576, 0.06133108798969531, 0.5448208361872754, 0.1306160129287273, 0.01632700161609091, 0.8490040840367273, 0.9943317469659488, 0.5585940726029018, 0.7847178142017709, 0.6561999665526522, 0.3280999832763261, 0.7987940694424922, 0.9609233488430657, 0.5571338858305036, 0.3399602995198937, 0.6799205990397874, 0.9213452490013919, 0.5589856445692798, 0.34529492493953595, 0.6905898498790719, 0.9697542943399418, 0.558465186526875, 0.6979300453470701, 0.25908948397431203, 0.012396626027479044, 0.029751902465949706, 0.9977658512479283, 0.8006698601039283, 0.7923082029554762, 0.30707458413531097, 0.6141491682706219, 0.9216174854768276, 0.3056881880668468, 0.6113763761336936, 0.9608628040914886, 0.9523738387791819, 0.9520075099784182, 0.7937810280028125, 0.7271739528955817, 0.2607796244866914, 0.010029985557180437, 0.974578006714336, 0.9536890514032655, 0.038926083730745534, 0.1738701708859314, 0.8113941308010132, 0.3430475861930467, 0.6860951723860934, 0.6462456592863777, 0.3482360029315196, 0.0066968462102215305, 0.9215191513635895, 0.969884171942401, 0.9407182649587895, 0.9779595364258562, 0.5296881544903793, 0.06621101931129741, 0.26484407724518966, 0.13242203862259483, 0.9609036149767821, 0.9606729541689916, 0.7760648975658967, 0.756354099462323, 0.17162964698284325, 0.05326437320157204, 0.018938443805003393, 0.021318629025828786, 0.4690098385682333, 0.5116470966198908, 0.1313290771017732, 0.0656645385508866, 0.7879744626106392, 0.9426594316330584, 0.9382403571845069, 0.63982436150716, 0.14192037593504472, 0.20223653570743874, 0.016557377192421886, 0.704251938437323, 0.25609161397720837, 0.06402290349430209, 0.9301860106164026, 0.9917791096248524, 0.9494182246387886, 0.04127905324516472, 0.803848217574866, 0.1509266041160973, 0.00984303939887591, 0.036091144462545, 0.6319338156497479, 0.22117683547741177, 0.15798345391243698, 0.914404939082295, 0.8459988978011695, 0.12085698540016708, 0.8283307391834777, 0.1183329627404968, 0.22805386138202563, 0.020732169216547785, 0.7463580917957202, 0.6630596539648784, 0.09041722554066524, 0.24343099184025258, 0.002318390398478596, 0.9595365650982675, 0.5585943458051301, 0.18971940908010687, 0.8063074885904542, 0.11725321842435969, 0.029313304606089923, 0.8500858335766078, 0.9764164490980105, 0.9604062486036532, 0.26772899274465833, 0.6247009830708694, 0.5339306818008758, 0.2373025252448337, 0.059325631311208424, 0.17797689393362526, 0.9605758812391232, 0.6768162788791521, 0.3156138088037497, 0.0017534100489097204, 0.005260230146729161, 0.28498909165716624, 0.02192223781978202, 0.6905504913231336, 0.9672245827792617, 0.25797456839424615, 0.05311241113999185, 0.682873857514181, 0.9203786624039872, 0.23382003404178797, 0.0233820034041788, 0.7482241089337216, 0.9699356558125128, 0.02063692884707474, 1.0029301676139628, 0.9600581758896757, 0.4530683731653034, 0.2931618885187257, 0.02665108077442961, 0.23985972696986652, 0.7941032540135176, 0.1619700688072897, 0.008998337155960538, 0.03374376433485202, 0.9976747704996177, 0.999714768675967, 0.8234774819903722, 0.4265792486467849, 0.5332240608084812, 0.9971703501434811, 0.3702949000082626, 0.5924718400132202, 0.6912272577317176, 0.1659444499608636, 0.11229323681562198, 0.02994486315083253, 0.2334580740447588, 0.7587387406454661, 0.7217746482824758, 0.46340443387903374, 0.1054644573655732, 0.38989890298787666, 0.03835071176929934, 0.9348375751354955, 0.30571864221997275, 0.6114372844399455, 0.5584769998538621, 0.7222826017579149, 0.23887501189556803, 0.02263026428484329, 0.01571546130891895, 0.6922918410576162, 0.289715409114868, 0.011635156992564979, 0.005817578496282489, 0.6741428582890029, 0.3026152386097302, 0.005992380962568915, 0.017977142887706743, 0.7987860644494365, 0.15019908904177437, 0.03413615660040327, 0.015930206413521525, 1.0038336422583, 0.9720046124325245, 0.35940763408308246, 0.17970381704154123, 0.4492595426038531, 0.3487892489730853, 0.6975784979461706, 0.7798075869786265, 0.20615602874147598, 0.012548627836437669, 0.0017926611194910955, 0.9294616630600613, 0.9213317598513501, 0.8399394182449296, 0.9819466076342308, 0.26819248265429396, 0.024381134786753994, 0.6826717740291118, 0.9529639250044515, 0.9406841952700583, 0.16197020198354564, 0.3239404039670913, 0.48591060595063695, 1.0003687457268766, 0.9413575916205665, 0.5123507938044033, 0.4391578232609171, 0.9346530016031329, 0.6649256741057082, 0.3218240262671628, 0.013298513482114166, 0.6451581340330471, 0.23494166267780892, 0.11747083133890446, 0.6460895723639746, 0.05830930656311953, 0.9329489050099125, 0.9958785898475669, 0.9606339656117577, 0.7870074486891336, 0.10493432649188449, 0.05246716324594224, 0.05246716324594224, 0.8847931982420577, 0.050134651341704445, 0.90242372415068, 0.9917352911344286, 0.04080660625044512, 0.9385519437602377, 0.5584857431930796, 0.4815932977165683, 0.14164508756369654, 0.33994821015287174, 1.0027972633782796, 0.9215728500206993, 0.9379911289939581, 0.06136390563511875, 0.7942993755054621, 0.37645881904485734, 0.01344495782303062, 0.6050231020363779, 0.5580440341241191, 0.7908585083740358, 0.9943708543771285, 0.29850259277898983, 0.610573485229752, 0.0814097980306336, 0.6803033051909084, 0.19437237291168813, 0.03239539548528136, 0.08098848871320338, 0.7883054393760602, 0.08843169993000675, 0.11622451990800887, 0.005053239996000386, 0.3522846496946513, 0.23485643312976753, 0.07828547770992252, 0.31314191083969006, 0.3086343195809695, 0.617268639161939, 0.4859873824994701, 0.4859873824994701, 0.9294791045369947, 0.06366295236554757, 0.006366295236554758, 0.9609337104638463, 0.9667769043801476, 0.9485391660763983, 0.6324418620969923, 0.01290697677748964, 0.34848837299222024, 0.00645348838874482, 0.9879088151979288, 0.2952734967679568, 0.4133828954751395, 0.2952734967679568, 0.9749293339806535, 0.7405682644941939, 0.2468560881647313, 0.010285670340197138, 0.6857419850239551, 0.31058269276869716, 0.0030750761660267045, 0.9242460218060383, 0.49684107942337374, 0.2559484348544653, 0.2258368542833517, 0.03011158057111356, 0.3425714280642262, 0.06228571419349567, 0.5917142848382089, 0.6175189017946932, 0.22977447508639748, 0.15796995162189825, 0.8920419545475616, 0.10494611229971314, 0.865754999277328, 0.27021055974859676, 0.31524565304002955, 0.40531583962289514, 0.963593795161439, 0.905206832755871, 0.10057853697287455, 0.9639062245804676, 0.6735046437254755, 0.944349179447784, 0.05637905548941993, 0.41824064430738084, 0.10456016107684521, 0.4562625210625973, 0.01901093837760822, 0.6372479834608664, 0.2761407928330421, 0.08496639779478218, 0.751828980025079, 0.23107438584289733, 0.001674452071325343, 0.015070068641928086, 0.9636730304725057, 0.06951839445607334, 0.9037391279289534, 0.9533964974621834, 0.1659876050603593, 0.8299380253017966, 0.7684450271392691, 0.15471759888303185, 0.06685857458657332, 0.009857353945456324, 0.000428580606324188, 0.7088006318475121, 0.08478476457506126, 0.203483434980147, 0.0033913905830024503, 0.8297335568783519, 0.17780004790250398, 0.19507424053996525, 0.032512373423327544, 0.7640407754481973, 0.13025968354049314, 0.8466879430132054, 0.9758685407411998, 0.6792714763472275, 0.27981173582989244, 0.010761989839611246, 0.0297537366153958, 0.7690693887704548, 0.0668755990235178, 0.16718899755879452, 0.8911143743499678, 0.08101039766817889, 0.18804685075640426, 0.752187403025617, 0.05892974500825162, 0.9428759201320259, 0.1261711511373814, 0.8831980579616697, 1.0166371850885694, 0.9523368778394916, 0.9945153544257945, 0.9747054570211964, 0.770823059376831, 0.256941019792277, 0.9427192335416511, 0.05237329075231395, 0.2399584245393563, 0.7198752736180689, 0.31464824940083747, 0.020700542723739307, 0.6624173671596578, 0.928841652501019, 0.8163371563508535, 0.31312472553211507, 0.6815067555698975, 0.35057791499718355, 0.10731976989709702, 0.5365988494854851, 0.007154651326473134, 0.23941762602162106, 0.07182528780648632, 0.6943111154627011, 0.7521805377814891, 0.22800014351856054, 0.008064313757891208, 0.01172991092056903, 0.8948905743694672, 0.08948905743694673, 0.04474452871847336, 0.7219118193167771, 0.9442996068135623, 0.04496664794350297, 0.6971169738320157, 0.16730807371968376, 0.13942339476640314, 0.973408772444406, 0.7154177178625255, 0.2295550216543206, 0.03365656332525753, 0.02157472008029329, 0.9273293610423433, 0.052689168241042236, 0.021075667296416894, 0.8281923928328911, 0.168226579794181, 0.004313502046004641], \"Term\": [\"#\", \"#\", \"#\", \"#\", \"(\", \"(\", \"(\", \"(\", \")\", \")\", \")\", \")\", \"*\", \"*\", \"*\", \"*\", \"*\", \"+\", \"+\", \"+\", \",\", \",\", \",\", \",\", \"-\", \"-\", \"-\", \"-\", \"--\", \"--\", \"--\", \".\", \".\", \".\", \".\", \".\", \"0.4\", \"07:15am\", \"08:44pm\", \"1\", \"1\", \"1\", \"1-20\", \"10-9\", \"100.4\", \"15:39.\", \"2-2.5.\", \"2110\", \"2118-3-27\", \"2142-6-1\", \"2148-9-16\", \"2151-5-21\", \"2165-2-4\", \"2167-2-12\", \"2167-2-20\", \"2170-1-18\", \"2171-10-25\", \"2177\", \"2243\", \"25-100\", \"3-day-old\", \"32\", \"3495\", \"354\", \"3675\", \"3mg\", \"47\", \"59724\", \"9-17\", \":\", \":\", \":\", \":\", \":\", \"?\", \"?\", \"?\", \"[\", \"[\", \"[\", \"[\", \"]\", \"]\", \"]\", \"]\", \"a\", \"a\", \"a\", \"a\", \"acoustic\", \"acute\", \"acute\", \"acute\", \"admission\", \"admission\", \"admission\", \"adrenal\", \"afof\", \"aga\", \"akinetic\", \"alcohol-related\", \"amp/gent\", \"ampullary\", \"and\", \"and\", \"and\", \"and\", \"aneurysm\", \"annuloplasty\", \"annuloplasty\", \"ant\", \"anterior\", \"anterior\", \"anterior\", \"anterolateral\", \"anterolateral\", \"anterolateral\", \"antibiotics\", \"antibiotics\", \"antibiotics\", \"anticoagulated\", \"aorta\", \"aorta\", \"aorta\", \"aortic\", \"aortic\", \"aortic\", \"aortic\", \"apneic\", \"appearance\", \"ar\", \"ar\", \"are\", \"are\", \"are\", \"are\", \"as\", \"as\", \"as\", \"as\", \"assess\", \"at\", \"at\", \"at\", \"at\", \"atrial\", \"atrial\", \"atrial\", \"atrial\", \"atrium\", \"atrium\", \"atrium\", \"atrium/interatrial\", \"available\", \"available\", \"available\", \"available\", \"avl\", \"block\", \"block\", \"blood\", \"blood\", \"blood\", \"bs\", \"bs\", \"bsa\", \"bundle-branch\", \"bundle-branch\", \"by\", \"by\", \"by\", \"by\", \"call\", \"call\", \"cardiac\", \"cardiac\", \"cardiac\", \"cardiac\", \"cardiovascular\", \"cardiovascular\", \"carotid\", \"carotid\", \"carotid\", \"cath\", \"cavity\", \"cavity\", \"cavity\", \"cbc\", \"cbc\", \"cbc\", \"cerebral\", \"certify\", \"cervical\", \"chamber\", \"chamber\", \"chamber\", \"changes\", \"changes\", \"chd\", \"chordae\", \"circumference\", \"clavicles\", \"clinical\", \"clinical\", \"clinical\", \"clip\", \"clip\", \"clip\", \"comm\", \"comparison\", \"comparison\", \"comparison\", \"compartment\", \"conclusions\", \"conclusions\", \"correlation\", \"cpb\", \"ct\", \"ct\", \"cyanotic\", \"cyst\", \"daily\", \"daily\", \"daily\", \"day\", \"day\", \"day\", \"delivery\", \"delivery\", \"delivery\", \"deviation\", \"deviation\", \"diameter\", \"diameter\", \"dilated\", \"dilated\", \"dilated\", \"dimensions\", \"discharge\", \"discharge\", \"discharge\", \"disorder\", \"disp\", \"disp\", \"displaced\", \"doppler\", \"doppler\", \"doppler\", \"ear\", \"edc\", \"electrical\", \"elevation\", \"elevation\", \"embolectomy\", \"enfamil\", \"fasciotomies\", \"fetal\", \"fetal\", \"fh-otherwise\", \"flaring\", \"flutter\", \"flutter\", \"follow-up\", \"font\", \"for\", \"for\", \"for\", \"for\", \"fracture\", \"fractures\", \"g1\", \"gbs\", \"gbs\", \"genetalia\", \"genitalia\", \"genitalia\", \"gestational\", \"glaucoma\", \"guided\", \"hcfa\", \"he\", \"he\", \"he\", \"hematoma\", \"hemorrhage\", \"hemorrhage\", \"hg\", \"hg\", \"hips\", \"hips\", \"his\", \"his\", \"his\", \"hr=140\", \"hydroxychloroquine\", \"hypercoagulable\", \"hypo\", \"i\", \"i\", \"i\", \"i\", \"immunization\", \"immunizations\", \"impression/plan\", \"in\", \"in\", \"in\", \"in\", \"infant\", \"infant\", \"infant\", \"inpatient\", \"inpatient\", \"inpatient\", \"interpretation\", \"intrapartum\", \"is\", \"is\", \"is\", \"is\", \"ischemia\", \"ischemia\", \"ischemia\", \"la\", \"la/laa\", \"lad\", \"lad\", \"last\", \"last\", \"last\", \"last\", \"lastname\", \"lastname\", \"lastname\", \"lb\", \"lead\", \"lead\", \"leads\", \"leads\", \"leaflets\", \"leaflets\", \"leaflets\", \"left\", \"left\", \"left\", \"left\", \"leg\", \"lga\", \"life\", \"life\", \"lv\", \"lv\", \"lv\", \"m2\", \"mac\", \"maternal\", \"maternal\", \"mean\", \"mean\", \"mean\", \"mean\", \"metastatic\", \"mg\", \"mg\", \"mg\", \"mg\", \"mildly\", \"mildly\", \"mildly\", \"milk\", \"mitral\", \"mitral\", \"mitral\", \"molding\", \"motion\", \"motion\", \"motion\", \"mouth\", \"mouth\", \"mri\", \"mtb\", \"murmur\", \"murmur\", \"murmur\", \"murmur\", \"name\", \"name\", \"name\", \"name\", \"name10\", \"nameis\", \"nbn\", \"neonatology\", \"neonatology\", \"next\", \"nicu\", \"nicu\", \"no\", \"no\", \"no\", \"no\", \"nodules\", \"nodules\", \"non-specific\", \"normal\", \"normal\", \"normal\", \"normal\", \"nr\", \"nursery\", \"nursery\", \"ob-\", \"of\", \"of\", \"of\", \"of\", \"on\", \"on\", \"on\", \"on\", \"one\", \"one\", \"one\", \"one\", \"or\", \"or\", \"or\", \"or\", \"order\", \"ounce\", \"palate\", \"palate\", \"palate\", \"parents\", \"parents\", \"patient\", \"patient\", \"patient\", \"patient\", \"patient/test\", \"peeling\", \"pelvis\", \"percentile\", \"pericardial\", \"pericardial\", \"pericardial\", \"pericardium\", \"personality\", \"pink\", \"pink\", \"pink\", \"plavix\", \"pleuroscopy\", \"pneumothorax\", \"pneumothorax\", \"pns\", \"po\", \"po\", \"po\", \"port\", \"portable\", \"portable\", \"portable\", \"prematurity\", \"prematurity\", \"prescribed\", \"preterm\", \"previous\", \"previous\", \"previous\", \"previous\", \"ptd\", \"pulmonic\", \"pulmonic\", \"q.\", \"quality\", \"quality\", \"r/o\", \"ra\", \"ra\", \"ra\", \"rca\", \"rds\", \"refills\", \"refills\", \"regulations\", \"regurgitation\", \"regurgitation\", \"regurgitation\", \"remarkable\", \"remove\", \"replacement\", \"respiratory\", \"respiratory\", \"respiratory\", \"rhythm\", \"rhythm\", \"rhythm\", \"rhythm\", \"right\", \"right\", \"right\", \"right\", \"risk\", \"risk\", \"risk\", \"risk\", \"rle\", \"rle\", \"rom\", \"rom\", \"s\", \"s\", \"s\", \"screening\", \"screens\", \"seated\", \"seen\", \"seen\", \"seen\", \"seen\", \"segment\", \"sepsis\", \"sepsis\", \"sepsis\", \"shadowing\", \"she\", \"she\", \"she\", \"sig\", \"sig\", \"sig\", \"simavastatin\", \"sinus\", \"sinus\", \"sinus\", \"sinus\", \"size\", \"size\", \"size\", \"soft\", \"soft\", \"soft\", \"st\", \"st\", \"st-t\", \"start\", \"start\", \"start\", \"subdural\", \"suggest\", \"suggest\", \"suggested\", \"suggestion\", \"surgery\", \"surgery\", \"systolic\", \"systolic\", \"systolic\", \"systolic\", \"t\", \"t\", \"t\", \"tablet\", \"tablet\", \"tablet\", \"tablet\", \"tablets\", \"technical\", \"technical\", \"temporary\", \"term\", \"term\", \"the\", \"the\", \"the\", \"the\", \"the\", \"there\", \"there\", \"there\", \"there\", \"these\", \"these\", \"thickened\", \"thickened\", \"thickened\", \"thickness\", \"thickness\", \"thoracentesis\", \"to\", \"to\", \"to\", \"to\", \"tracing\", \"tracing\", \"tracing\", \"trauma\", \"trauma\", \"triage\", \"triage\", \"tricuspid\", \"tricuspid\", \"trivial\", \"trivial\", \"trivial/physiologic\", \"twin\", \"unchanged\", \"underestimated\", \"underlying\", \"underlying\", \"urine\", \"urine\", \"vaginal\", \"vaginal\", \"valve\", \"valve\", \"valve\", \"valve/pulmonary\", \"variant\", \"ventricle\", \"ventricle\", \"ventricular\", \"ventricular\", \"ventricular\", \"ventricular\", \"wall\", \"wall\", \"wall\", \"was\", \"was\", \"was\", \"was\", \"wave\", \"wave\", \"wave\", \"waves\", \"when\", \"when\", \"will\", \"will\", \"will\", \"windows\", \"with\", \"with\", \"with\", \"with\", \"x\", \"x\", \"x\", \"your\", \"your\", \"your\"]}, \"R\": 30, \"lambda.step\": 0.01, \"plot.opts\": {\"xlab\": \"PC1\", \"ylab\": \"PC2\"}, \"topic.order\": [9, 3, 2, 10, 4, 6, 7, 8, 5, 1]};\n",
       "\n",
       "function LDAvis_load_lib(url, callback){\n",
       "  var s = document.createElement('script');\n",
       "  s.src = url;\n",
       "  s.async = true;\n",
       "  s.onreadystatechange = s.onload = callback;\n",
       "  s.onerror = function(){console.warn(\"failed to load library \" + url);};\n",
       "  document.getElementsByTagName(\"head\")[0].appendChild(s);\n",
       "}\n",
       "\n",
       "if(typeof(LDAvis) !== \"undefined\"){\n",
       "   // already loaded: just create the visualization\n",
       "   !function(LDAvis){\n",
       "       new LDAvis(\"#\" + \"ldavis_el2047868234514046333608256234091\", ldavis_el2047868234514046333608256234091_data);\n",
       "   }(LDAvis);\n",
       "}else if(typeof define === \"function\" && define.amd){\n",
       "   // require.js is available: use it to load d3/LDAvis\n",
       "   require.config({paths: {d3: \"https://d3js.org/d3.v5\"}});\n",
       "   require([\"d3\"], function(d3){\n",
       "      window.d3 = d3;\n",
       "      LDAvis_load_lib(\"https://cdn.jsdelivr.net/gh/bmabey/pyLDAvis@3.4.0/pyLDAvis/js/ldavis.v3.0.0.js\", function(){\n",
       "        new LDAvis(\"#\" + \"ldavis_el2047868234514046333608256234091\", ldavis_el2047868234514046333608256234091_data);\n",
       "      });\n",
       "    });\n",
       "}else{\n",
       "    // require.js not available: dynamically load d3 & LDAvis\n",
       "    LDAvis_load_lib(\"https://d3js.org/d3.v5.js\", function(){\n",
       "         LDAvis_load_lib(\"https://cdn.jsdelivr.net/gh/bmabey/pyLDAvis@3.4.0/pyLDAvis/js/ldavis.v3.0.0.js\", function(){\n",
       "                 new LDAvis(\"#\" + \"ldavis_el2047868234514046333608256234091\", ldavis_el2047868234514046333608256234091_data);\n",
       "            })\n",
       "         });\n",
       "}\n",
       "</script>"
      ],
      "text/plain": [
       "<IPython.core.display.HTML object>"
      ]
     },
     "execution_count": 7,
     "metadata": {},
     "output_type": "execute_result"
    }
   ],
   "source": [
    "pyLDAvis.display(desc_analyze._topic_modeling_display(num_topics=10))"
   ]
  },
  {
   "cell_type": "code",
   "execution_count": 7,
   "metadata": {},
   "outputs": [
    {
     "name": "stdout",
     "output_type": "stream",
     "text": [
      "Comparing text length...\n",
      "Comparing distributions...\n",
      "Cosine similarity: 0.122\n"
     ]
    },
    {
     "data": {
      "image/png": "[encoded data removed]",
      "text/plain": [
       "<Figure size 400x400 with 4 Axes>"
      ]
     },
     "metadata": {},
     "output_type": "display_data"
    }
   ],
   "source": [
    "desc_analyze._compare_to_reference_distribution(metrics=['text-length','cosine'], plot=True)"
   ]
  },
  {
   "cell_type": "code",
   "execution_count": 8,
   "metadata": {},
   "outputs": [
    {
     "name": "stdout",
     "output_type": "stream",
     "text": [
      "[(0, '0.083*\"*\" + 0.048*\".\" + 0.027*\":\" + 0.026*\",\" + 0.021*\"the\"'), (1, '0.004*\"*\" + 0.002*\".\" + 0.002*\"the\" + 0.001*\":\" + 0.001*\"of\"'), (2, '0.085*\"*\" + 0.043*\".\" + 0.030*\",\" + 0.024*\":\" + 0.019*\"]\"')]\n"
     ]
    }
   ],
   "source": [
    "print(desc_analyze._topic_modeling())\n",
    "# print(desc_analyze._compute_tfidf())\n",
    "# print(desc_analyze._ngram_frequency())"
   ]
  },
  {
   "cell_type": "code",
   "execution_count": 9,
   "metadata": {},
   "outputs": [],
   "source": [
    "from gensim import corpora, models"
   ]
  },
  {
   "cell_type": "code",
   "execution_count": 15,
   "metadata": {},
   "outputs": [],
   "source": [
    "dictionary = corpora.Dictionary(desc_analyze.tokenized_texts)\n",
    "corpus = [dictionary.doc2bow(text) for text in desc_analyze.tokenized_texts]\n",
    "lda_model = models.LdaModel(corpus, num_topics=10, id2word=dictionary, passes=10)\n",
    "# topics = lda_model.print_topics(num_words=num_words)"
   ]
  },
  {
   "cell_type": "code",
   "execution_count": 9,
   "metadata": {},
   "outputs": [],
   "source": [
    "import pyLDAvis\n",
    "pyLDAvis.enable_notebook()"
   ]
  },
  {
   "cell_type": "code",
   "execution_count": 33,
   "metadata": {},
   "outputs": [
    {
     "data": {
      "text/html": [
       "\n",
       "<link rel=\"stylesheet\" type=\"text/css\" href=\"https://cdn.jsdelivr.net/gh/bmabey/pyLDAvis@3.4.0/pyLDAvis/js/ldavis.v1.0.0.css\">\n",
       "\n",
       "\n",
       "<div id=\"ldavis_el204619123451344309712545177455\" style=\"background-color:white;\"></div>\n",
       "<script type=\"text/javascript\">\n",
       "\n",
       "var ldavis_el204619123451344309712545177455_data = {\"mdsDat\": {\"x\": [-0.1894166886319417, -0.2019567264154574, -0.20157897475776324, -0.22242628642316462, 0.06235531665297392, 0.15910151657095004, 0.1592150180854762, 0.15723020849547872, 0.136350393171331, 0.1411262232521171], \"y\": [-0.0140188026576319, -0.024113853926217746, 0.1267472352094265, -0.08300087247752158, -0.004426717460921752, -0.004615247921405936, 0.002820350776029703, 0.001963950328780527, -0.0013636529087316014, 7.611038193454816e-06], \"topics\": [1, 2, 3, 4, 5, 6, 7, 8, 9, 10], \"cluster\": [1, 1, 1, 1, 1, 1, 1, 1, 1, 1], \"Freq\": [58.057988924720846, 17.033762824284928, 12.923913800536676, 11.742818854498069, 0.14949502655249725, 0.053152220698093604, 0.013828990110094912, 0.009546442939428966, 0.007746460060733039, 0.007746455598631869]}, \"tinfo\": {\"Term\": [\"*\", \".\", \":\", \",\", \"the\", \"and\", \"(\", \")\", \"]\", \"to\", \"[\", \"was\", \"of\", \"?\", \"with\", \"is\", \"patient\", \"in\", \"no\", \"a\", \"normal\", \"on\", \"left\", \"for\", \"valve\", \"-\", \"she\", \"tablet\", \"right\", \"there\", \"order\", \"9-17\", \"2118-3-27\", \"2148-9-16\", \"effusions\", \"ecg\", \"life\", \"sbp\", \"stenting\", \"prematurity\", \"2142-6-1\", \"cirrhosis\", \"stools\", \"07:15am\", \"pregnancy\", \"st-t\", \"2181-10-24\", \"2167-11-5\", \"nodules\", \"hyperbilirubinemia\", \"trach\", \"2148-3-15\", \"groin\", \"2167-2-12\", \"egd\", \"infarct\", \"percentile\", \"07:00am\", \"center\", \"2148-3-14\", \"better\", \"2171-10-25\", \"tracing\", \"@\", \"pt\", \"x\", \"*\", \"lisinopril\", \"she\", \"daily\", \"mother\", \"[\", \"]\", \"#\", \"age\", \"hospital1\", \":\", \".\", \"(\", \")\", \",\", \"1\", \"to\", \"tablet\", \"for\", \"her\", \"on\", \"and\", \"sig\", \"with\", \"po\", \"was\", \"of\", \"one\", \"a\", \"blood\", \"mg\", \"the\", \"no\", \"in\", \"is\", \"at\", \"name\", \"discharge\", \"empyema\", \"2143-6-9\", \"meningitis\", \"cerebritis\", \"410\", \"=1\", \"2157-2-20\", \"2143-6-11\", \"04:10am\", \"aaa\", \"2118-4-26\", \"2113-12-13\", \"glyburide\", \"2118-4-25\", \"2121-10-30\", \"frontoparietal\", \"intraparenchymal\", \"2118-4-29\", \"2103-11-27\", \"11:14pm\", \"mastoiditis\", \"11:20pm\", \"2102-12-21\", \"sure\", \"fiber\", \"implantation\", \"otomastoiditis\", \"uta\", \"6-9\", \"02:10am\", \"?\", \"sah\", \"adrenal\", \"much\", \"ear\", \"subdural\", \"--\", \"collection\", \"gland\", \"immediately\", \"*\", \",\", \"your\", \":\", \"he\", \"(\", \")\", \"the\", \".\", \"[\", \"]\", \"tablet\", \"or\", \"you\", \"and\", \"to\", \"of\", \"his\", \"s\", \"right\", \"disp\", \"refills\", \"with\", \"was\", \"in\", \"a\", \"sig\", \"po\", \"patient\", \"for\", \"1\", \"on\", \"no\", \"is\", \"mg\", \"hypo\", \"m2\", \"quality\", \"pericardium\", \"interpretation\", \"atrium/interatrial\", \"patient/test\", \"lb\", \"bsa\", \"pulmonic\", \"image\", \"valve/pulmonary\", \"2127-7-24\", \"2171-12-23\", \"trivial/physiologic\", \"root\", \"fast\", \"la\", \"11:00pm\", \"depakote\", \"tricuspid\", \"culture-final\", \"2127-7-25\", \"2185-5-1\", \"conclusions\", \"structurally\", \"2171-12-24\", \"tibial\", \"osteophytes\", \"peroneal\", \"inpatient\", \"diameter\", \"suboptimal\", \"septum\", \"technical\", \"trivial\", \"thickness\", \"doppler\", \"indication\", \"cavity\", \"veins\", \"motion\", \"ventricle\", \"lv\", \"valve\", \"leaflets\", \"mildly\", \"wall\", \"mitral\", \"tab\", \"normal\", \"size\", \"ventricular\", \"thickened\", \"dilated\", \"aortic\", \"left\", \"is\", \"there\", \"atrium\", \"aorta\", \".\", \"the\", \":\", \"seen\", \")\", \"right\", \"*\", \"(\", \"no\", \"and\", \",\", \"in\", \"of\", \"-\", \"are\", \"]\", \"[\", \"with\", \"a\", \"to\", \"was\", \"b.i.d\", \"p.r.n\", \"q.\", \"q.d\", \"10-9\", \"t.i.d\", \"q.h.s\", \"p.o\", \"h.s\", \"disorder\", \"2200-4-7\", \"neurontin\", \"2175-10-10\", \"hypercoagulable\", \"personality\", \"accupril\", \"saphenous\", \"2200-4-10\", \"zoloft\", \"electrocardiogram\", \"nonrebreather\", \"terminal\", \"psychiatry\", \"cks\", \"2196-2-26\", \"esophagitis\", \"hypoglycemia\", \"2123-5-1\", \"serevent\", \"mammary\", \"m.d\", \"job\", \"sugars\", \"dictated\", \"medquist36\", \"saturation\", \"a.m.\", \"q\", \"hematocrit\", \"intensive\", \"nondistended\", \"b.i.d.\", \"graft\", \"patient\", \"count\", \"nontender\", \"x-ray\", \"nitroglycerin\", \"number\", \"examination\", \".\", \"the\", \"was\", \"unit\", \",\", \"his\", \"coronary\", \"of\", \"to\", \"and\", \"*\", \"had\", \"care\", \"mg\", \"with\", \"on\", \"]\", \"[\", \"a\", \":\", \"in\", \"for\", \"history\", \"no\", \"which\", \"he\", \"at\", \"by\", \"name\", \"(\", \")\", \"is\", \"2197-7-18\", \"q.d.\", \"2177-1-10\", \"cycle\", \"reassuring\", \"70/38\", \"ll\", \"69/36\", \"centrally\", \"71/42\", \"tcom\", \"72/32\", \"3/4\", \"rl\", \"hodgkin\", \"3b\", \"lot\", \"178\", \"taxol\", \"179\", \"2197-7-10\", \"port-a-cath\", \"06:44\", \"gastrectomy\", \"lopresor\", \"2197-7-24\", \"t4n0\", \"2131-4-2\", \"presumption\", \"clearing\", \"improve\", \"synthroid\", \"mean\", \"*\", \":\", \".\", \"bs\", \"hemoptysis\", \",\", \"infant\", \"[\", \"to\", \"the\", \"with\", \"]\", \"+\", \"and\", \"ra\", \"(\", \"do\", \"of\", \")\", \"in\", \"was\", \"well\", \"tracing\", \"no\", \"cardiac\", \"is\", \"a\", \"500cc\", \"u/o\", \"ugib\", \"grounds\", \"41.\", \"typed\", \"m/sicu\", \"12-4\", \"lavaged\", \"managment\", \"40cc/hr\", \"31.\", \"8mg/hr\", \"crossed\", \"coffee\", \"n/v\", \"approx\", \"hematemesis\", \"cont\", \"bright\", \"s/s\", \"gib\", \"inserted\", \"action\", \"vomited\", \"lightheadedness\", \"scope\", \"protonix\", \"country\", \"amounts\", \"hct\", \"remains\", \"bolus\", \"@\", \"episodes\", \"*\", \",\", \"2129-9-29\", \"variant\", \"41.\", \"typed\", \"m/sicu\", \"12-4\", \"lavaged\", \"managment\", \"40cc/hr\", \"31.\", \"8mg/hr\", \"crossed\", \"2177-1-10\", \"cycle\", \"reassuring\", \"70/38\", \"ll\", \"69/36\", \"centrally\", \"tcom\", \"71/42\", \"3/4\", \"72/32\", \"rl\", \"ugib\", \"hodgkin\", \"3b\", \"lot\", \"taxol\", \"179\", \"probable\", \"progression\", \"r\", \"wave\", \"poor\", \"rhythm\", \"sinus\", \"-\", \"normal\", \"*\", \".\", \"]\", \"and\", \",\", \"the\", \")\", \"[\", \":\", \"of\", \"(\", \"no\", \"to\", \"was\", \"in\", \"a\", \"with\", \"is\", \"?\", \"on\", \"2129-9-29\", \"41.\", \"typed\", \"m/sicu\", \"12-4\", \"lavaged\", \"managment\", \"40cc/hr\", \"31.\", \"8mg/hr\", \"crossed\", \"2177-1-10\", \"cycle\", \"reassuring\", \"70/38\", \"ll\", \"69/36\", \"centrally\", \"tcom\", \"71/42\", \"3/4\", \"72/32\", \"rl\", \"ugib\", \"hodgkin\", \"3b\", \"lot\", \"179\", \"178\", \"taxol\", \"genitalia\", \"neonatology\", \"male\", \".\", \"*\", \"the\", \"normal\", \":\", \",\", \"and\", \"(\", \"]\", \")\", \"[\", \"in\", \"to\", \"no\", \"with\", \"a\", \"of\", \"is\", \"right\", \"left\", \"was\", \"on\", \"valve\", \"for\", \"patient\", \"?\", \"there\", \"at\", \"2129-9-29\", \"41.\", \"typed\", \"m/sicu\", \"12-4\", \"lavaged\", \"managment\", \"40cc/hr\", \"31.\", \"8mg/hr\", \"crossed\", \"2177-1-10\", \"cycle\", \"reassuring\", \"ugib\", \"70/38\", \"ll\", \"69/36\", \"centrally\", \"tcom\", \"71/42\", \"3/4\", \"72/32\", \"rl\", \"hodgkin\", \"lot\", \"3b\", \"taxol\", \"178\", \"179\", \"grounds\", \"*\", \".\", \"the\", \":\", \",\", \"]\", \"and\", \"(\", \"of\", \")\", \"patient\", \"was\", \"on\", \"[\", \"in\", \"to\", \"a\", \"is\", \"for\", \"with\", \"no\", \"right\", \"at\", \"discharge\", \"she\", \"tablet\", \"he\", \"1\", \"?\", \"or\", \"2129-9-29\", \"41.\", \"typed\", \"m/sicu\", \"lavaged\", \"12-4\", \"managment\", \"40cc/hr\", \"31.\", \"8mg/hr\", \"crossed\", \"reassuring\", \"69/36\", \"70/38\", \"tcom\", \"centrally\", \"3/4\", \"ll\", \"71/42\", \"rl\", \"72/32\", \"2177-1-10\", \"cycle\", \"ugib\", \"hodgkin\", \"3b\", \"lot\", \"taxol\", \"179\", \"port-a-cath\", \"t4n0\", \"*\", \".\", \":\", \"the\", \",\", \")\", \"and\", \"[\", \"to\", \"]\", \"was\", \"with\", \"(\", \"of\", \"in\", \"is\", \"on\", \"a\", \"patient\", \"at\", \"no\", \"mg\", \"for\", \"there\", \"1\", \"2\", \"as\", \"po\", \"daily\", \"left\", \"tablet\"], \"Freq\": [10985.0, 6076.0, 3431.0, 3565.0, 2309.0, 1923.0, 2179.0, 2212.0, 2539.0, 1584.0, 2539.0, 1359.0, 1583.0, 418.0, 1156.0, 839.0, 552.0, 841.0, 802.0, 953.0, 314.0, 853.0, 426.0, 810.0, 240.0, 298.0, 387.0, 594.0, 388.0, 289.0, 24.62497759334061, 23.624850196171618, 23.619333079519954, 20.697371058464554, 30.30634056228401, 23.55761155542396, 20.641725510893068, 20.640651113618144, 18.693416525123414, 16.754558336350698, 16.71710172812904, 14.783214792876377, 14.775371259544741, 13.812106952747953, 13.81452218049299, 12.859328849999342, 13.806341814951173, 12.837738013632851, 16.66637544711269, 12.836343030074284, 13.791932761175412, 12.83447474852263, 12.829130921754018, 11.863366908394209, 13.740392017708714, 13.757818481573116, 11.849216706381256, 10.881952652471277, 10.882001390250887, 10.878002726199464, 17.48209858135559, 12.77855085407649, 31.117575488555868, 26.249193341456078, 151.9034507669135, 84.56135595907509, 7216.3275130208285, 38.0885141124533, 308.78323244745036, 320.83245925378833, 31.723730502730017, 1689.577330178895, 1686.5458662807391, 180.75186671898211, 42.19338320095017, 122.17059790972482, 2081.7803021648633, 3469.6466372874665, 1358.8802057004737, 1376.447918148551, 2080.113114857998, 365.90754923596097, 976.8718082184927, 407.4818370007201, 534.6471865386367, 208.9439818969685, 542.1455784101968, 1092.9930815877253, 227.18747290198314, 688.9309124811738, 257.88686741088185, 784.6171496814, 894.424016976036, 231.44752741300002, 567.1515511404152, 254.72046268079347, 343.3869000084722, 1038.579711729678, 439.83744956688685, 454.555097966387, 410.28403838359833, 281.3231110644634, 269.27062640832406, 241.57677163107667, 11.446077515266643, 10.506180373378452, 7.6625074565650975, 6.716383452340196, 6.714539797753668, 6.711693286587498, 5.775284534918354, 5.77346820785586, 5.773963916431348, 5.765140939311469, 6.655839005082435, 7.541995617673349, 5.758504164114258, 5.73632374745641, 4.827901875778383, 4.830072189605682, 4.828813216928704, 5.715976181480241, 4.824021049603742, 4.8241618181287045, 4.818506927225249, 5.702473206988699, 4.815858063965459, 4.794258833836182, 4.788466352026837, 4.7657168237929, 3.879126148436526, 3.8783002852392863, 3.8781862087145424, 3.8784810917645767, 374.1432618162156, 8.225866906607555, 24.476137128458404, 4.746308244252992, 13.112464173104746, 20.47107621641905, 60.21038035140588, 9.548949319443539, 7.62645863922224, 7.624862838923456, 2036.231643306736, 649.1315082923563, 82.30171690719003, 583.5789249227219, 116.04270323762233, 401.7787657743586, 399.43654021308066, 402.37951372594534, 797.2275109863984, 427.0740778474308, 425.8152322752161, 144.89925689567045, 115.78062338480925, 66.9342426479978, 299.83913928766833, 259.1998825891205, 256.0109969492894, 82.7396741625864, 53.00627050269027, 97.84150455141253, 42.76018778334677, 42.636789395288524, 180.19044342013214, 194.47390725063684, 145.0029845506152, 153.4159166210405, 80.44173698490926, 86.72730138534011, 107.87034489411968, 127.22740378941498, 99.42283015979208, 123.58542525901592, 108.81873962493461, 102.87400918843802, 88.28394833294612, 21.036225075393812, 13.764668314506357, 22.75789220891577, 11.000494106603542, 10.114391060212212, 13.63382886444764, 9.201819817891613, 8.283555878618072, 7.372397925707018, 18.726675837431074, 9.117928964438033, 9.109999885266916, 11.713410132446977, 6.462728965527685, 6.431970271759412, 9.895854374373425, 8.169884206156558, 10.010328405612652, 5.544218628816997, 6.3705565543774405, 31.27905236682572, 7.22822552939675, 7.2275861497457585, 6.360517908107466, 14.93012626346311, 8.922382943576062, 4.645432623933946, 7.207694016923744, 5.482266308818014, 5.472384855433577, 26.946635139179968, 22.53212850783637, 14.523102771008592, 20.949819135771623, 12.836663238197126, 20.628786902321004, 13.529207837573686, 49.45172068446264, 19.319888998750702, 40.032449100954516, 18.323760576218216, 32.88751362030159, 40.07152165893274, 26.784797830717313, 146.10794413422184, 65.92280784047934, 60.118154835586544, 55.562847739983496, 80.12575402920338, 16.700284026866125, 148.41366095177275, 57.51019949595532, 76.06116647605518, 40.25716356363229, 40.226473340384715, 105.92174303248778, 162.264055322562, 263.3935871153383, 120.99669891282248, 36.06576089116985, 46.40068585480336, 887.5832903263781, 425.9031487939044, 546.3376333681847, 69.05297916208484, 349.4218472028685, 120.06030764428849, 883.3621425167283, 329.4662894624735, 159.30651457797705, 250.7074461909657, 286.6540298011861, 134.03343204811506, 177.029709609076, 83.16998038173446, 77.37228243874657, 206.7095162758872, 205.31063460689506, 133.08860829742682, 106.06229468837627, 97.94449147475632, 92.83851166302901, 28.266990958572304, 15.735406929401416, 17.586860436840876, 30.59783593950623, 6.937338329030799, 5.912874544216132, 4.973689604348712, 57.151482998546776, 4.952467046337313, 4.931974835233532, 4.023077605066483, 4.0089635524996545, 4.004496037552457, 4.9032647975273616, 4.903014192589655, 3.9773312509219716, 7.497770269557517, 3.040935167227581, 3.0376295479006608, 3.0355649049479623, 3.0333175657382294, 3.0308056017341345, 3.0307131583043163, 3.0305074607199574, 3.029534175983741, 3.025822857054869, 3.0259087286768804, 3.0216780178709954, 3.000383827154501, 3.8659956261404997, 13.882578599768731, 32.07192923273955, 8.694888150957109, 16.200436812234987, 16.15926925564987, 8.610540312115853, 6.922028645563617, 20.61515998919794, 17.242970877916296, 21.963309405135874, 10.785676383834936, 3.7717786844552155, 17.6662776673448, 231.6408103642795, 17.998564042405345, 12.773161931674045, 12.68489729537982, 8.945441390442541, 36.60652568906631, 26.919078127715423, 920.0246607103924, 442.38339808101597, 287.0901285464947, 25.412427222365196, 548.6869983870803, 86.84667500207458, 37.6914382764513, 255.90004128742186, 249.82176047439089, 279.43281931813243, 845.837804108865, 67.0902995797922, 42.18832832830463, 101.77248778411632, 153.59599764816227, 122.70042551783948, 219.59351950098605, 216.8255511618902, 126.22678398282704, 217.55716336157099, 107.16759500220928, 96.41173622475625, 59.62516753652736, 94.43272830898817, 48.81832204538452, 65.03851458812838, 68.32604479499925, 57.67108342092757, 60.06455685402115, 89.0719977794131, 86.6353957622848, 62.72390635368295, 0.4118563210958109, 0.280858413965269, 0.14826261142214936, 0.14815373651655772, 0.14779770665110042, 0.14773953220103275, 0.1477681564846135, 0.14769527946020466, 0.14770478370401247, 0.147715782746729, 0.14767758728804603, 0.14771147683345456, 0.1476829641020312, 0.14757237129321604, 0.14707714664579435, 0.14701809093368348, 0.14700325449675347, 0.14703091943178084, 0.14701262487797243, 0.14700612138719782, 0.14693671363488314, 0.14691289724928497, 0.1468026614073734, 0.14678871738770236, 0.14675923415250988, 0.14679249900583716, 0.14676830334290392, 0.14675580950127864, 0.14672410637815453, 0.14672677247471563, 0.5451225967255782, 0.2801630201266653, 0.5472840759476131, 3.2609533485695104, 2.134819148841132, 1.6636365793423888, 0.2815354240083384, 0.26848011806459965, 0.9717000544415431, 0.3801984881475756, 0.6594770335288976, 0.6082321588560945, 0.6392196972011339, 0.5508666850336598, 0.6090559938486924, 0.2800621992868356, 0.5344984584995284, 0.28385410253053706, 0.5042203472544897, 0.2550831947941356, 0.4029366552134888, 0.40266232614808817, 0.34940502824592595, 0.34694503545077293, 0.2578360566232439, 0.22763866451927703, 0.27627393264346445, 0.23577309245545078, 0.26114056618097087, 0.2432602947745725, 0.18543395475566826, 0.1853151279418705, 0.12582660155522754, 0.12553733996697994, 0.06596810574208696, 0.06596229131922222, 0.06592301818470202, 0.06586867752462713, 0.06585831389096714, 0.06580482992621203, 0.06580494494549108, 0.06569832207381801, 0.06565088257048574, 0.06558504394868857, 0.12234701452851957, 0.12492123324951182, 0.12573635504918101, 0.17380377638903013, 0.06333621476810962, 0.06516378385610173, 0.06142967899578127, 0.061432268912650766, 0.05964240235109261, 0.05696215965191472, 0.05885179948876982, 0.11562057603697455, 0.05213421351552908, 0.10718391985151779, 0.059364313497640334, 0.059656069814388576, 0.2272147158004852, 0.10590074890978339, 0.08498795152650761, 0.08029316598579773, 0.07338179235827935, 0.0803282111702676, 0.06695635535380841, 0.01811720972112444, 0.018187897599439475, 0.0016537365514569255, 0.0016537365514569255, 0.0016537365514569255, 0.0016537365514569255, 0.0016537365514569255, 0.0016537365514569255, 0.0016537365514569255, 0.0016537365514569255, 0.0016537365514569255, 0.0016537365514569255, 0.0016537366804456383, 0.0016537366804456383, 0.0016537365514569255, 0.0016537365514569255, 0.0016537365514569255, 0.0016537365514569255, 0.0016537365514569255, 0.0016537365514569255, 0.0016537365514569255, 0.0016537365514569255, 0.0016537365514569255, 0.0016537365514569255, 0.0016537365514569255, 0.0016537365514569255, 0.0016537365514569255, 0.0016537365514569255, 0.0016537365514569255, 0.0016537365514569255, 0.018201221617494476, 0.017313870082975222, 0.018213297024811673, 0.01735750128893879, 0.017155953845753177, 0.019310184015509397, 0.017988357220621656, 0.011743113819206476, 0.01042372336312201, 0.022408042979130103, 0.008593684136385279, 0.006736561407644864, 0.005923857188962101, 0.00644899706754082, 0.005957637268968259, 0.005797557117103915, 0.00573084931450435, 0.005843829495946338, 0.005221049805535736, 0.004675269669124293, 0.003789609692581857, 0.004025177650733884, 0.003946793789871282, 0.0037323732731698567, 0.0037185449092486545, 0.003309506223001589, 0.0031911079996762536, 0.0029126892172717882, 0.0029682616822914645, 0.0011462725412156767, 0.0011463651465837977, 0.001146366126063653, 0.0011463508105604638, 0.0011463955995029299, 0.0011463365635807528, 0.0011463810853923494, 0.0011463771674729288, 0.00114637636608032, 0.0011463461802920577, 0.0011463575778758264, 0.0011462724521720535, 0.0011462724521720535, 0.0011462723631284304, 0.0011462723631284304, 0.0011462723631284304, 0.0011462723631284304, 0.0011462723631284304, 0.0011462723631284304, 0.0011462723631284304, 0.0011462723631284304, 0.0011462723631284304, 0.0011462723631284304, 0.0011464741359785864, 0.0011469649444296275, 0.0011470326175832544, 0.0011469852463757157, 0.001146931107852814, 0.0011468391257900554, 0.001146662908459756, 0.01260572052473357, 0.012609154046843903, 0.010180503471227448, 0.012010562920195618, 0.01228514353546624, 0.00689183254066324, 0.0039617377874768414, 0.005767788226236167, 0.005699084303627204, 0.004197860818064786, 0.003975925642221963, 0.004062667665842923, 0.0038176473964255083, 0.0037974405489270154, 0.0031910912294771487, 0.0034031318779107374, 0.002951536457651336, 0.0028545428416921355, 0.002753997453691002, 0.0028103647384810316, 0.0025251197246350466, 0.0022281790089698737, 0.002229700586403, 0.002412136901433525, 0.002300051281779299, 0.0019795238007664635, 0.0020969142833160512, 0.002031557332415677, 0.001979790931636043, 0.0018134875402556728, 0.001859856116597331, 0.0009118841017345918, 0.0009139992781564125, 0.0009141382956953749, 0.0009142751456011932, 0.0009141666194351218, 0.0009139022404460038, 0.0009147044092181242, 0.0009135507948589389, 0.0009144172700809952, 0.0009141235557899962, 0.0009142932814651639, 0.0009118840294801536, 0.0009118840294801536, 0.0009118839572257155, 0.0009156425608428055, 0.0009118839572257155, 0.0009118839572257155, 0.0009118839572257155, 0.0009118839572257155, 0.0009118839572257155, 0.0009118839572257155, 0.0009118839572257155, 0.0009118839572257155, 0.0009118839572257155, 0.0009131429908101326, 0.0009134770230776081, 0.000913208742348831, 0.0009132090313665836, 0.0009131699417155552, 0.0009130796236678925, 0.0009160102636784496, 0.03417523247094404, 0.013809721395261668, 0.009952493938337158, 0.010627138829477497, 0.010714033750879277, 0.008961360735334838, 0.007022750460848408, 0.006620137748912866, 0.006091283238747414, 0.005625714367815854, 0.004054723113825298, 0.00488681331582866, 0.004295280681745115, 0.0050813667720087915, 0.004065710123687362, 0.004566201876709222, 0.003780475902565185, 0.0036236103613137166, 0.0035259596442518896, 0.0035329267061941466, 0.003146269508304247, 0.0027899843189734606, 0.002699732167358404, 0.002584823044222572, 0.002544128766632192, 0.0026277661689453136, 0.002398869311268686, 0.0024666824135958095, 0.002374482137819889, 0.0023874088903279933, 0.0009171311965281976, 0.0009184339432972773, 0.000918569564799527, 0.0009185084375800793, 0.0009189387847656943, 0.0009183402293450035, 0.0009189074986120054, 0.0009184788132775101, 0.0009189919640015258, 0.0009187380620521889, 0.0009186546082242196, 0.0009308553411101458, 0.0009307933468379401, 0.0009302852539216801, 0.0009299545455488527, 0.0009290028106380198, 0.0009287382150379993, 0.000927752159288824, 0.0009273291820516531, 0.0009278219570358529, 0.0009262095279233304, 0.0009171311242738011, 0.0009171311242738011, 0.000919867831796023, 0.0009195090887173497, 0.0009196608952044176, 0.0009194508516737624, 0.0009195396523270735, 0.0009193822099970776, 0.0009194612563068598, 0.0009199854619535416, 0.023441270738241198, 0.013471128182494916, 0.010298613354422528, 0.008982774666730392, 0.009754844107341613, 0.0064704875659637815, 0.006029757712587848, 0.006260258486018271, 0.005224548359490825, 0.005587660227994768, 0.004784717061789893, 0.004619194378123543, 0.00496069091038507, 0.004427660111713507, 0.0038966758465687006, 0.0034509532143939094, 0.0031605864942613046, 0.003192038833062213, 0.0027868471601010486, 0.002686695052080617, 0.002897659681782601, 0.002719648548223422, 0.002482041121369837, 0.0021085873365845895, 0.002237587156920528, 0.002018908069811938, 0.002043049853282733, 0.0020236611085231748, 0.0020430193619274057, 0.0020466252898396456, 0.002028832789207792], \"Total\": [10985.0, 6076.0, 3431.0, 3565.0, 2309.0, 1923.0, 2179.0, 2212.0, 2539.0, 1584.0, 2539.0, 1359.0, 1583.0, 418.0, 1156.0, 839.0, 552.0, 841.0, 802.0, 953.0, 314.0, 853.0, 426.0, 810.0, 240.0, 298.0, 387.0, 594.0, 388.0, 289.0, 25.01481347621961, 24.02053940748213, 24.02895390203182, 21.072515946991363, 30.900476318323093, 24.020447840340942, 21.059517127809556, 21.068339083514047, 19.10400774170451, 17.134955227522614, 17.134700954470052, 15.158160800928108, 15.158901936053978, 14.181584247868889, 14.186480974826981, 13.207831745168935, 14.1818590790439, 13.197026456909802, 17.13370262228868, 13.196650159116242, 14.181937194452505, 13.200685179541203, 13.197683262256827, 12.21147118178683, 14.155030678714732, 14.176882688056324, 12.212409859906865, 11.230177675235865, 11.230692422150181, 11.229852737312623, 18.096567902046985, 13.198949380662606, 32.528537952575064, 27.77322060662937, 175.79306038362986, 95.58132445522473, 10985.192694202622, 41.62418984704191, 387.3847470497607, 412.5064602332124, 34.82361862827061, 2539.4909546359945, 2539.322015711076, 230.62804055457045, 47.52239984682465, 151.84481399586838, 3431.4635164154824, 6076.252221742642, 2179.7450593055255, 2212.389060012365, 3565.6569247076454, 525.8184724695262, 1584.498180041246, 594.105696378408, 810.6079767687813, 286.9031638224959, 853.9522155005077, 1923.5683578284375, 322.5287560764377, 1156.3870055701352, 374.5434736535977, 1359.401930284241, 1583.8196339278823, 333.10907233674834, 953.1381787765681, 380.4415185699892, 566.9926296000258, 2309.947159221755, 802.7013640243373, 841.1401538627163, 839.5594576376099, 475.61339280776116, 445.4935681420728, 376.2671459251047, 11.826924047728921, 10.869979218552462, 8.019379160016486, 7.067294171295384, 7.066434600031113, 7.0668181570924595, 6.113790607576883, 6.114997170560458, 6.115540863569352, 6.114517537649732, 7.063215390725644, 8.005151792559014, 6.112323662594555, 6.111376345087132, 5.155546382281605, 5.164225554104304, 5.163617006500348, 6.112404808410526, 5.1631471534736475, 5.164604289534103, 5.162830556481957, 6.112066884100666, 5.163183291890078, 5.1617249907295815, 5.162625461899936, 5.160589541122922, 4.2119476972290455, 4.211451137976046, 4.21135625849015, 4.212046845245481, 418.0913202198807, 8.97620486239435, 27.04817327301896, 5.164903083005286, 14.658247439911202, 23.317055027710428, 73.09703273857984, 10.893641267578817, 8.986631750335803, 8.987559795041612, 10985.192694202622, 3565.6569247076454, 229.27508610393562, 3431.4635164154824, 396.7145219125474, 2179.7450593055255, 2212.389060012365, 2309.947159221755, 6076.252221742642, 2539.4909546359945, 2539.322015711076, 594.105696378408, 436.7731315000022, 207.27190470582562, 1923.5683578284375, 1584.498180041246, 1583.8196339278823, 296.2346401149313, 153.76115673373735, 388.4172743402399, 112.32001979293824, 112.25721240015874, 1156.3870055701352, 1359.401930284241, 841.1401538627163, 953.1381787765681, 322.5287560764377, 374.5434736535977, 552.3176540097844, 810.6079767687813, 525.8184724695262, 853.9522155005077, 802.7013640243373, 839.5594576376099, 566.9926296000258, 21.459033019280085, 14.14135850796427, 23.433732477946528, 11.391465309394192, 10.476978566098696, 14.152630133973418, 9.559456274244168, 8.644924563625276, 7.729467314510902, 19.651405273841004, 9.570681024466568, 9.563565149537702, 12.326578317266167, 6.817592030686265, 6.811156859188572, 10.48281178106895, 8.660075119946944, 10.618465952641527, 5.902095031515198, 6.816402949036349, 33.477204975942215, 7.743546576421754, 7.7439437083735045, 6.819590145108344, 16.00834652382398, 9.570724127249468, 4.9858600112144495, 7.743517886838075, 5.9000373518202185, 5.903909840240104, 29.872019375281504, 25.21417833110252, 16.033427088169496, 23.43937640630012, 14.1949843195242, 23.45859575058672, 15.12817825848779, 60.54381606050799, 22.57184204470602, 51.48818859360838, 21.628683472472083, 42.22157282593167, 53.373314054160446, 33.773819547978945, 240.23926951193403, 95.77687768468451, 90.36307935777813, 82.79685299275147, 131.07159380383612, 19.821769228365195, 314.0615217820928, 95.28527329107207, 138.73763772855145, 61.251483636596, 61.23629964586125, 224.2479664925361, 426.0168158151417, 839.5594576376099, 289.33881233836615, 55.721695548627395, 80.16945990094041, 6076.252221742642, 2309.947159221755, 3431.4635164154824, 152.39766949942396, 2212.389060012365, 388.4172743402399, 10985.192694202622, 2179.7450593055255, 802.7013640243373, 1923.5683578284375, 3565.6569247076454, 841.1401538627163, 1583.8196339278823, 298.6535705888659, 257.61173302004386, 2539.322015711076, 2539.4909546359945, 1156.3870055701352, 953.1381787765681, 1584.498180041246, 1359.401930284241, 28.990432217914712, 16.176250866070838, 18.154008176479866, 31.936371974107228, 7.30597776185509, 6.316168893962234, 5.3340750954269485, 61.49984798768484, 5.335131895813543, 5.332095540135617, 4.349535167029985, 4.341543654397806, 4.349040189031559, 5.332973935742834, 5.334789832576301, 4.346999329831371, 8.273636862926912, 3.3642931738996467, 3.3639148092606614, 3.3623100598318887, 3.3626286450590595, 3.362796537853289, 3.3639431870312246, 3.364294794280042, 3.3648691233782504, 3.363780010001016, 3.3656975683166133, 3.363083450629424, 3.3629604070195236, 4.342307534140358, 16.130951607762498, 39.71200197081136, 10.21556325947824, 20.066599251808743, 20.060238659477253, 10.242191105179403, 8.223877067645434, 27.924240794696942, 23.05775705098818, 30.905901165923332, 14.175453870044247, 4.3067207025316385, 25.83755038661954, 552.3176540097844, 26.91592000234801, 19.067883561022978, 19.102505301492695, 12.18450362004965, 77.59388251862448, 52.062149607294835, 6076.252221742642, 2309.947159221755, 1359.401930284241, 49.391256956424044, 3565.6569247076454, 296.2346401149313, 91.95599827688902, 1583.8196339278823, 1584.498180041246, 1923.5683578284375, 10985.192694202622, 231.39806514758445, 124.74866433574603, 566.9926296000258, 1156.3870055701352, 853.9522155005077, 2539.322015711076, 2539.4909546359945, 953.1381787765681, 3431.4635164154824, 841.1401538627163, 810.6079767687813, 287.90748782060336, 802.7013640243373, 187.94252700142962, 396.7145219125474, 475.61339280776116, 303.72283906049097, 445.4935681420728, 2179.7450593055255, 2212.389060012365, 839.5594576376099, 0.8534347805867462, 0.6930572084884712, 0.5448805697823111, 0.5455218612295896, 0.545982106516178, 0.5462846278564969, 0.5465038284739661, 0.5465070195853, 0.5466085877284446, 0.5466758896608932, 0.5466257454126273, 0.5468367108776556, 0.5467517415039055, 0.547333804127163, 0.5499154173021427, 0.5502103563439441, 0.5502204750100526, 0.5503778469592682, 0.5503555122048124, 0.5503556724800569, 0.5508632321810701, 0.5509215189504947, 0.5514405896520709, 0.5514941783907525, 0.5515348591713399, 0.5516890816157881, 0.5516234647513765, 0.5517845709314555, 0.5520571016253515, 0.5520729193614623, 7.6638878142139975, 2.6573157295762497, 17.648289074814077, 10985.192694202622, 3431.4635164154824, 6076.252221742642, 7.510191609819451, 7.262290485553402, 3565.6569247076454, 55.275413488903965, 2539.4909546359945, 1584.498180041246, 2309.947159221755, 1156.3870055701352, 2539.322015711076, 28.536916389325494, 1923.5683578284375, 35.04793484947976, 2179.7450593055255, 29.758754992790404, 1583.8196339278823, 2212.389060012365, 841.1401538627163, 1359.401930284241, 103.62881224119857, 32.528537952575064, 802.7013640243373, 117.9482504408284, 839.5594576376099, 953.1381787765681, 0.6233002191195934, 0.6250449641147519, 0.5483914503172543, 0.55269779785811, 0.4774749965193245, 0.4775973120564826, 0.4781523594583665, 0.47892121093596507, 0.47910748841754414, 0.4797070785316506, 0.4799897742657369, 0.48125267374894076, 0.48217997272646274, 0.48316637133017326, 1.5568679572068547, 2.4206146228455303, 2.449613934428277, 3.7451588838840992, 1.4286475791144293, 1.4723114839902056, 1.5189875082831281, 1.519877962677112, 1.5480325283389778, 1.5909106376989917, 2.54232243997525, 5.619580936647514, 2.6108873409643003, 5.708707474440006, 3.4509037642514353, 3.479497722169974, 26.377675244552478, 9.468616278684859, 10.94484511718233, 27.77322060662937, 27.72589035991834, 10985.192694202622, 3565.6569247076454, 0.42533281976632126, 1.3950453738095168, 0.4774749965193245, 0.4775973120564826, 0.4781523594583665, 0.47892121093596507, 0.47910748841754414, 0.4797070785316506, 0.4799897742657369, 0.48125267374894076, 0.48217997272646274, 0.48316637133017326, 0.5448805697823111, 0.5455218612295896, 0.545982106516178, 0.5462846278564969, 0.5465038284739661, 0.5465070195853, 0.5466085877284446, 0.5466257454126273, 0.5466758896608932, 0.5467517415039055, 0.5468367108776556, 0.547333804127163, 0.5483914503172543, 0.5499154173021427, 0.5502103563439441, 0.5502204750100526, 0.5503555122048124, 0.5503556724800569, 8.5501956701196, 8.965175375433368, 27.647887416127116, 26.69836566358713, 28.818514441112345, 64.30415755314047, 67.58958134565675, 298.6535705888659, 314.0615217820928, 10985.192694202622, 6076.252221742642, 2539.322015711076, 1923.5683578284375, 3565.6569247076454, 2309.947159221755, 2212.389060012365, 2539.4909546359945, 3431.4635164154824, 1583.8196339278823, 2179.7450593055255, 802.7013640243373, 1584.498180041246, 1359.401930284241, 841.1401538627163, 953.1381787765681, 1156.3870055701352, 839.5594576376099, 418.0913202198807, 853.9522155005077, 0.42533281976632126, 0.4774749965193245, 0.4775973120564826, 0.4781523594583665, 0.47892121093596507, 0.47910748841754414, 0.4797070785316506, 0.4799897742657369, 0.48125267374894076, 0.48217997272646274, 0.48316637133017326, 0.5448805697823111, 0.5455218612295896, 0.545982106516178, 0.5462846278564969, 0.5465038284739661, 0.5465070195853, 0.5466085877284446, 0.5466257454126273, 0.5466758896608932, 0.5467517415039055, 0.5468367108776556, 0.547333804127163, 0.5483914503172543, 0.5499154173021427, 0.5502103563439441, 0.5502204750100526, 0.5503556724800569, 0.5503778469592682, 0.5503555122048124, 7.310600813513827, 10.265200880050863, 41.68878044018795, 6076.252221742642, 10985.192694202622, 2309.947159221755, 314.0615217820928, 3431.4635164154824, 3565.6569247076454, 1923.5683578284375, 2179.7450593055255, 2539.322015711076, 2212.389060012365, 2539.4909546359945, 841.1401538627163, 1584.498180041246, 802.7013640243373, 1156.3870055701352, 953.1381787765681, 1583.8196339278823, 839.5594576376099, 388.4172743402399, 426.0168158151417, 1359.401930284241, 853.9522155005077, 240.23926951193403, 810.6079767687813, 552.3176540097844, 418.0913202198807, 289.33881233836615, 475.61339280776116, 0.42533281976632126, 0.4774749965193245, 0.4775973120564826, 0.4781523594583665, 0.47892121093596507, 0.47910748841754414, 0.4797070785316506, 0.4799897742657369, 0.48125267374894076, 0.48217997272646274, 0.48316637133017326, 0.5448805697823111, 0.5455218612295896, 0.545982106516178, 0.5483914503172543, 0.5462846278564969, 0.5465038284739661, 0.5465070195853, 0.5466085877284446, 0.5466257454126273, 0.5466758896608932, 0.5467517415039055, 0.5468367108776556, 0.547333804127163, 0.5499154173021427, 0.5502204750100526, 0.5502103563439441, 0.5503555122048124, 0.5503778469592682, 0.5503556724800569, 0.55269779785811, 10985.192694202622, 6076.252221742642, 2309.947159221755, 3431.4635164154824, 3565.6569247076454, 2539.322015711076, 1923.5683578284375, 2179.7450593055255, 1583.8196339278823, 2212.389060012365, 552.3176540097844, 1359.401930284241, 853.9522155005077, 2539.4909546359945, 841.1401538627163, 1584.498180041246, 953.1381787765681, 839.5594576376099, 810.6079767687813, 1156.3870055701352, 802.7013640243373, 388.4172743402399, 475.61339280776116, 376.2671459251047, 387.3847470497607, 594.105696378408, 396.7145219125474, 525.8184724695262, 418.0913202198807, 436.7731315000022, 0.42533281976632126, 0.4774749965193245, 0.4775973120564826, 0.4781523594583665, 0.47910748841754414, 0.47892121093596507, 0.4797070785316506, 0.4799897742657369, 0.48125267374894076, 0.48217997272646274, 0.48316637133017326, 0.545982106516178, 0.5465070195853, 0.5462846278564969, 0.5466257454126273, 0.5466085877284446, 0.5467517415039055, 0.5465038284739661, 0.5466758896608932, 0.547333804127163, 0.5468367108776556, 0.5448805697823111, 0.5455218612295896, 0.5483914503172543, 0.5499154173021427, 0.5502103563439441, 0.5502204750100526, 0.5503555122048124, 0.5503556724800569, 0.5509215189504947, 0.5516234647513765, 10985.192694202622, 6076.252221742642, 3431.4635164154824, 2309.947159221755, 3565.6569247076454, 2212.389060012365, 1923.5683578284375, 2539.4909546359945, 1584.498180041246, 2539.322015711076, 1359.401930284241, 1156.3870055701352, 2179.7450593055255, 1583.8196339278823, 841.1401538627163, 839.5594576376099, 853.9522155005077, 953.1381787765681, 552.3176540097844, 475.61339280776116, 802.7013640243373, 566.9926296000258, 810.6079767687813, 289.33881233836615, 525.8184724695262, 307.28375547686966, 356.8596567571434, 374.5434736535977, 412.5064602332124, 426.0168158151417, 594.105696378408], \"Category\": [\"Default\", \"Default\", \"Default\", \"Default\", \"Default\", \"Default\", \"Default\", \"Default\", \"Default\", \"Default\", \"Default\", \"Default\", \"Default\", \"Default\", \"Default\", \"Default\", \"Default\", \"Default\", \"Default\", \"Default\", \"Default\", \"Default\", \"Default\", \"Default\", \"Default\", \"Default\", \"Default\", \"Default\", \"Default\", \"Default\", \"Topic1\", \"Topic1\", \"Topic1\", \"Topic1\", \"Topic1\", \"Topic1\", \"Topic1\", \"Topic1\", \"Topic1\", \"Topic1\", \"Topic1\", \"Topic1\", \"Topic1\", \"Topic1\", \"Topic1\", \"Topic1\", \"Topic1\", \"Topic1\", \"Topic1\", \"Topic1\", \"Topic1\", \"Topic1\", \"Topic1\", \"Topic1\", \"Topic1\", \"Topic1\", \"Topic1\", \"Topic1\", \"Topic1\", \"Topic1\", \"Topic1\", \"Topic1\", \"Topic1\", \"Topic1\", \"Topic1\", \"Topic1\", \"Topic1\", \"Topic1\", \"Topic1\", \"Topic1\", \"Topic1\", \"Topic1\", \"Topic1\", \"Topic1\", \"Topic1\", \"Topic1\", \"Topic1\", \"Topic1\", \"Topic1\", \"Topic1\", \"Topic1\", \"Topic1\", \"Topic1\", \"Topic1\", \"Topic1\", \"Topic1\", \"Topic1\", \"Topic1\", \"Topic1\", \"Topic1\", \"Topic1\", \"Topic1\", \"Topic1\", \"Topic1\", \"Topic1\", \"Topic1\", \"Topic1\", \"Topic1\", \"Topic1\", \"Topic1\", \"Topic1\", \"Topic1\", \"Topic1\", \"Topic1\", \"Topic2\", \"Topic2\", \"Topic2\", \"Topic2\", \"Topic2\", \"Topic2\", \"Topic2\", \"Topic2\", \"Topic2\", \"Topic2\", \"Topic2\", \"Topic2\", \"Topic2\", \"Topic2\", \"Topic2\", \"Topic2\", \"Topic2\", \"Topic2\", \"Topic2\", \"Topic2\", \"Topic2\", \"Topic2\", \"Topic2\", \"Topic2\", \"Topic2\", \"Topic2\", \"Topic2\", \"Topic2\", \"Topic2\", \"Topic2\", \"Topic2\", \"Topic2\", \"Topic2\", \"Topic2\", \"Topic2\", \"Topic2\", \"Topic2\", \"Topic2\", \"Topic2\", \"Topic2\", \"Topic2\", \"Topic2\", \"Topic2\", \"Topic2\", \"Topic2\", \"Topic2\", \"Topic2\", \"Topic2\", \"Topic2\", \"Topic2\", \"Topic2\", \"Topic2\", \"Topic2\", \"Topic2\", \"Topic2\", \"Topic2\", \"Topic2\", \"Topic2\", \"Topic2\", \"Topic2\", \"Topic2\", \"Topic2\", \"Topic2\", \"Topic2\", \"Topic2\", \"Topic2\", \"Topic2\", \"Topic2\", \"Topic2\", \"Topic2\", \"Topic2\", \"Topic2\", \"Topic2\", \"Topic2\", \"Topic2\", \"Topic3\", \"Topic3\", \"Topic3\", \"Topic3\", \"Topic3\", \"Topic3\", \"Topic3\", \"Topic3\", \"Topic3\", \"Topic3\", \"Topic3\", \"Topic3\", \"Topic3\", \"Topic3\", \"Topic3\", \"Topic3\", \"Topic3\", \"Topic3\", \"Topic3\", \"Topic3\", \"Topic3\", \"Topic3\", \"Topic3\", \"Topic3\", \"Topic3\", \"Topic3\", \"Topic3\", \"Topic3\", \"Topic3\", \"Topic3\", \"Topic3\", \"Topic3\", \"Topic3\", \"Topic3\", \"Topic3\", \"Topic3\", \"Topic3\", \"Topic3\", \"Topic3\", \"Topic3\", \"Topic3\", \"Topic3\", \"Topic3\", \"Topic3\", \"Topic3\", \"Topic3\", \"Topic3\", \"Topic3\", \"Topic3\", \"Topic3\", \"Topic3\", \"Topic3\", \"Topic3\", \"Topic3\", \"Topic3\", \"Topic3\", \"Topic3\", \"Topic3\", \"Topic3\", \"Topic3\", \"Topic3\", \"Topic3\", \"Topic3\", \"Topic3\", \"Topic3\", \"Topic3\", \"Topic3\", \"Topic3\", \"Topic3\", \"Topic3\", \"Topic3\", \"Topic3\", \"Topic3\", \"Topic3\", \"Topic3\", \"Topic3\", \"Topic3\", \"Topic3\", \"Topic3\", \"Topic3\", \"Topic3\", \"Topic3\", \"Topic4\", \"Topic4\", \"Topic4\", \"Topic4\", \"Topic4\", \"Topic4\", \"Topic4\", \"Topic4\", \"Topic4\", \"Topic4\", \"Topic4\", \"Topic4\", \"Topic4\", \"Topic4\", \"Topic4\", \"Topic4\", \"Topic4\", \"Topic4\", \"Topic4\", \"Topic4\", \"Topic4\", \"Topic4\", \"Topic4\", \"Topic4\", \"Topic4\", \"Topic4\", \"Topic4\", \"Topic4\", \"Topic4\", \"Topic4\", \"Topic4\", \"Topic4\", \"Topic4\", \"Topic4\", \"Topic4\", \"Topic4\", \"Topic4\", \"Topic4\", \"Topic4\", \"Topic4\", \"Topic4\", \"Topic4\", \"Topic4\", \"Topic4\", \"Topic4\", \"Topic4\", \"Topic4\", \"Topic4\", \"Topic4\", \"Topic4\", \"Topic4\", \"Topic4\", \"Topic4\", \"Topic4\", \"Topic4\", \"Topic4\", \"Topic4\", \"Topic4\", \"Topic4\", \"Topic4\", \"Topic4\", \"Topic4\", \"Topic4\", \"Topic4\", \"Topic4\", \"Topic4\", \"Topic4\", \"Topic4\", \"Topic4\", \"Topic4\", \"Topic4\", \"Topic4\", \"Topic4\", \"Topic4\", \"Topic4\", \"Topic4\", \"Topic4\", \"Topic4\", \"Topic4\", \"Topic4\", \"Topic4\", \"Topic4\", \"Topic5\", \"Topic5\", \"Topic5\", \"Topic5\", \"Topic5\", \"Topic5\", \"Topic5\", \"Topic5\", \"Topic5\", \"Topic5\", \"Topic5\", \"Topic5\", \"Topic5\", \"Topic5\", \"Topic5\", \"Topic5\", \"Topic5\", \"Topic5\", \"Topic5\", \"Topic5\", \"Topic5\", \"Topic5\", \"Topic5\", \"Topic5\", \"Topic5\", \"Topic5\", \"Topic5\", \"Topic5\", \"Topic5\", \"Topic5\", \"Topic5\", \"Topic5\", \"Topic5\", \"Topic5\", \"Topic5\", \"Topic5\", \"Topic5\", \"Topic5\", \"Topic5\", \"Topic5\", \"Topic5\", \"Topic5\", \"Topic5\", \"Topic5\", \"Topic5\", \"Topic5\", \"Topic5\", \"Topic5\", \"Topic5\", \"Topic5\", \"Topic5\", \"Topic5\", \"Topic5\", \"Topic5\", \"Topic5\", \"Topic5\", \"Topic5\", \"Topic5\", \"Topic5\", \"Topic5\", \"Topic6\", \"Topic6\", \"Topic6\", \"Topic6\", \"Topic6\", \"Topic6\", \"Topic6\", \"Topic6\", \"Topic6\", \"Topic6\", \"Topic6\", \"Topic6\", \"Topic6\", \"Topic6\", \"Topic6\", \"Topic6\", \"Topic6\", \"Topic6\", \"Topic6\", \"Topic6\", \"Topic6\", \"Topic6\", \"Topic6\", \"Topic6\", \"Topic6\", \"Topic6\", \"Topic6\", \"Topic6\", \"Topic6\", \"Topic6\", \"Topic6\", \"Topic6\", \"Topic6\", \"Topic6\", \"Topic6\", \"Topic6\", \"Topic6\", \"Topic7\", \"Topic7\", \"Topic7\", \"Topic7\", \"Topic7\", \"Topic7\", \"Topic7\", \"Topic7\", \"Topic7\", \"Topic7\", \"Topic7\", \"Topic7\", \"Topic7\", \"Topic7\", \"Topic7\", \"Topic7\", \"Topic7\", \"Topic7\", \"Topic7\", \"Topic7\", \"Topic7\", \"Topic7\", \"Topic7\", \"Topic7\", \"Topic7\", \"Topic7\", \"Topic7\", \"Topic7\", \"Topic7\", \"Topic7\", \"Topic7\", \"Topic7\", \"Topic7\", \"Topic7\", \"Topic7\", \"Topic7\", \"Topic7\", \"Topic7\", \"Topic7\", \"Topic7\", \"Topic7\", \"Topic7\", \"Topic7\", \"Topic7\", \"Topic7\", \"Topic7\", \"Topic7\", \"Topic7\", \"Topic7\", \"Topic7\", \"Topic7\", \"Topic7\", \"Topic7\", \"Topic7\", \"Topic7\", \"Topic7\", \"Topic7\", \"Topic7\", \"Topic7\", \"Topic8\", \"Topic8\", \"Topic8\", \"Topic8\", \"Topic8\", \"Topic8\", \"Topic8\", \"Topic8\", \"Topic8\", \"Topic8\", \"Topic8\", \"Topic8\", \"Topic8\", \"Topic8\", \"Topic8\", \"Topic8\", \"Topic8\", \"Topic8\", \"Topic8\", \"Topic8\", \"Topic8\", \"Topic8\", \"Topic8\", \"Topic8\", \"Topic8\", \"Topic8\", \"Topic8\", \"Topic8\", \"Topic8\", \"Topic8\", \"Topic8\", \"Topic8\", \"Topic8\", \"Topic8\", \"Topic8\", \"Topic8\", \"Topic8\", \"Topic8\", \"Topic8\", \"Topic8\", \"Topic8\", \"Topic8\", \"Topic8\", \"Topic8\", \"Topic8\", \"Topic8\", \"Topic8\", \"Topic8\", \"Topic8\", \"Topic8\", \"Topic8\", \"Topic8\", \"Topic8\", \"Topic8\", \"Topic8\", \"Topic8\", \"Topic8\", \"Topic8\", \"Topic8\", \"Topic8\", \"Topic8\", \"Topic9\", \"Topic9\", \"Topic9\", \"Topic9\", \"Topic9\", \"Topic9\", \"Topic9\", \"Topic9\", \"Topic9\", \"Topic9\", \"Topic9\", \"Topic9\", \"Topic9\", \"Topic9\", \"Topic9\", \"Topic9\", \"Topic9\", \"Topic9\", \"Topic9\", \"Topic9\", \"Topic9\", \"Topic9\", \"Topic9\", \"Topic9\", \"Topic9\", \"Topic9\", \"Topic9\", \"Topic9\", \"Topic9\", \"Topic9\", \"Topic9\", \"Topic9\", \"Topic9\", \"Topic9\", \"Topic9\", \"Topic9\", \"Topic9\", \"Topic9\", \"Topic9\", \"Topic9\", \"Topic9\", \"Topic9\", \"Topic9\", \"Topic9\", \"Topic9\", \"Topic9\", \"Topic9\", \"Topic9\", \"Topic9\", \"Topic9\", \"Topic9\", \"Topic9\", \"Topic9\", \"Topic9\", \"Topic9\", \"Topic9\", \"Topic9\", \"Topic9\", \"Topic9\", \"Topic9\", \"Topic9\", \"Topic10\", \"Topic10\", \"Topic10\", \"Topic10\", \"Topic10\", \"Topic10\", \"Topic10\", \"Topic10\", \"Topic10\", \"Topic10\", \"Topic10\", \"Topic10\", \"Topic10\", \"Topic10\", \"Topic10\", \"Topic10\", \"Topic10\", \"Topic10\", \"Topic10\", \"Topic10\", \"Topic10\", \"Topic10\", \"Topic10\", \"Topic10\", \"Topic10\", \"Topic10\", \"Topic10\", \"Topic10\", \"Topic10\", \"Topic10\", \"Topic10\", \"Topic10\", \"Topic10\", \"Topic10\", \"Topic10\", \"Topic10\", \"Topic10\", \"Topic10\", \"Topic10\", \"Topic10\", \"Topic10\", \"Topic10\", \"Topic10\", \"Topic10\", \"Topic10\", \"Topic10\", \"Topic10\", \"Topic10\", \"Topic10\", \"Topic10\", \"Topic10\", \"Topic10\", \"Topic10\", \"Topic10\", \"Topic10\", \"Topic10\", \"Topic10\", \"Topic10\", \"Topic10\", \"Topic10\", \"Topic10\", \"Topic10\"], \"logprob\": [30.0, 29.0, 28.0, 27.0, 26.0, 25.0, 24.0, 23.0, 22.0, 21.0, 20.0, 19.0, 18.0, 17.0, 16.0, 15.0, 14.0, 13.0, 12.0, 11.0, 10.0, 9.0, 8.0, 7.0, 6.0, 5.0, 4.0, 3.0, 2.0, 1.0, -8.0138, -8.0553, -8.0555, -8.1876, -7.8062, -8.0581, -8.1903, -8.1903, -8.2894, -8.3989, -8.4011, -8.5241, -8.5246, -8.592, -8.5919, -8.6635, -8.5925, -8.6652, -8.4042, -8.6653, -8.5935, -8.6654, -8.6659, -8.7441, -8.5972, -8.596, -8.7453, -8.8305, -8.8305, -8.8308, -8.3564, -8.6698, -7.7798, -7.9499, -6.1943, -6.7801, -2.3335, -7.5777, -5.4849, -5.4467, -7.7605, -3.7853, -3.7871, -6.0205, -7.4753, -6.4122, -3.5766, -3.0658, -4.0032, -3.9903, -3.5774, -5.3152, -4.3332, -5.2076, -4.936, -5.8755, -4.922, -4.2209, -5.7918, -4.6824, -5.6651, -4.5524, -4.4214, -5.7732, -4.877, -5.6774, -5.3787, -4.272, -5.1312, -5.0983, -5.2007, -5.5781, -5.6219, -5.7304, -7.5537, -7.6394, -7.955, -8.0868, -8.0871, -8.0875, -8.2377, -8.2381, -8.238, -8.2395, -8.0958, -7.9708, -8.2407, -8.2445, -8.4169, -8.4165, -8.4167, -8.2481, -8.4177, -8.4177, -8.4189, -8.2504, -8.4194, -8.4239, -8.4251, -8.4299, -8.6357, -8.6359, -8.636, -8.6359, -4.0667, -7.8841, -6.7936, -8.434, -7.4178, -6.9723, -5.8935, -7.7349, -7.9597, -7.9599, -2.3725, -3.5157, -5.5809, -3.6222, -5.2374, -3.9954, -4.0013, -3.9939, -3.3102, -3.9344, -3.9373, -5.0153, -5.2396, -5.7876, -4.2881, -4.4337, -4.4461, -5.5756, -6.0209, -5.408, -6.2357, -6.2386, -4.7973, -4.721, -5.0146, -4.9582, -5.6038, -5.5286, -5.3104, -5.1454, -5.392, -5.1744, -5.3017, -5.3578, -5.5108, -6.669, -7.0931, -6.5903, -7.3173, -7.4013, -7.1027, -7.4958, -7.6009, -7.7175, -6.7853, -7.505, -7.5058, -7.2545, -7.8492, -7.8539, -7.4231, -7.6148, -7.4116, -8.0025, -7.8635, -6.2723, -7.7372, -7.7373, -7.8651, -7.0118, -7.5267, -8.1793, -7.7401, -8.0137, -8.0155, -6.4214, -6.6003, -7.0395, -6.6731, -7.1629, -6.6885, -7.1104, -5.8142, -6.7541, -6.0255, -6.807, -6.2221, -6.0246, -6.4274, -4.7309, -5.5267, -5.6189, -5.6977, -5.3316, -6.8998, -4.7152, -5.6633, -5.3837, -6.0199, -6.0207, -5.0525, -4.626, -4.1416, -4.9195, -6.1299, -5.8779, -2.9267, -3.661, -3.412, -5.4803, -3.8589, -4.9272, -2.9315, -3.9177, -4.6444, -4.1909, -4.0569, -4.8171, -4.5389, -5.2943, -5.3666, -4.3839, -4.3907, -4.8242, -5.0512, -5.1308, -5.1844, -6.2777, -6.8635, -6.7522, -6.1985, -7.6825, -7.8422, -8.0152, -5.5737, -8.0195, -8.0236, -8.2273, -8.2308, -8.232, -8.0295, -8.0295, -8.2388, -7.6048, -8.5072, -8.5083, -8.509, -8.5097, -8.5106, -8.5106, -8.5106, -8.511, -8.5122, -8.5122, -8.5136, -8.5206, -8.2672, -6.9887, -6.1514, -7.4566, -6.8343, -6.8369, -7.4664, -7.6847, -6.5934, -6.772, -6.53, -7.2412, -8.2918, -6.7477, -4.1742, -6.7291, -7.072, -7.079, -7.4282, -6.0192, -6.3265, -2.795, -3.5272, -3.9596, -6.3841, -3.3119, -5.1552, -5.9899, -4.0746, -4.0986, -3.9866, -2.8791, -5.4133, -5.8772, -4.9966, -4.5851, -4.8096, -4.2276, -4.2403, -4.7813, -4.2369, -4.945, -5.0508, -5.5313, -5.0715, -5.7313, -5.4444, -5.3951, -5.5646, -5.524, -5.1299, -5.1577, -5.4806, -6.1427, -6.5256, -7.1644, -7.1652, -7.1676, -7.1679, -7.1678, -7.1682, -7.1682, -7.1681, -7.1684, -7.1681, -7.1683, -7.1691, -7.1724, -7.1728, -7.1729, -7.1728, -7.1729, -7.1729, -7.1734, -7.1736, -7.1743, -7.1744, -7.1746, -7.1744, -7.1745, -7.1746, -7.1748, -7.1748, -5.8624, -6.528, -5.8584, -4.0736, -4.4973, -4.7466, -6.5231, -6.5706, -5.2844, -6.2227, -5.672, -5.7528, -5.7032, -5.8519, -5.7515, -6.5284, -5.8821, -6.5149, -5.9404, -6.6218, -6.1646, -6.1653, -6.3072, -6.3142, -6.6111, -6.7356, -6.542, -6.7005, -6.5983, -6.6693, -5.9066, -5.9072, -6.2944, -6.2967, -6.9401, -6.9402, -6.9408, -6.9416, -6.9418, -6.9426, -6.9426, -6.9442, -6.9449, -6.9459, -6.3224, -6.3016, -6.2951, -5.9714, -6.9808, -6.9524, -7.0114, -7.0114, -7.0409, -7.0869, -7.0543, -6.379, -7.1755, -6.4548, -7.0456, -7.0407, -5.7034, -6.4668, -6.6868, -6.7436, -6.8336, -6.7432, -6.9253, -6.886, -6.8821, -9.2799, -9.2799, -9.2799, -9.2799, -9.2799, -9.2799, -9.2799, -9.2799, -9.2799, -9.2799, -9.2799, -9.2799, -9.2799, -9.2799, -9.2799, -9.2799, -9.2799, -9.2799, -9.2799, -9.2799, -9.2799, -9.2799, -9.2799, -9.2799, -9.2799, -9.2799, -9.2799, -9.2799, -6.8814, -6.9314, -6.8808, -6.9289, -6.9406, -6.8223, -6.8932, -7.3196, -7.4388, -6.6735, -7.6319, -7.8754, -8.0039, -7.919, -7.9982, -8.0255, -8.037, -8.0175, -8.1302, -8.2406, -8.4506, -8.3903, -8.41, -8.4659, -8.4696, -8.5861, -8.6225, -8.7138, -8.6949, -9.2758, -9.2757, -9.2757, -9.2757, -9.2757, -9.2757, -9.2757, -9.2757, -9.2757, -9.2757, -9.2757, -9.2758, -9.2758, -9.2758, -9.2758, -9.2758, -9.2758, -9.2758, -9.2758, -9.2758, -9.2758, -9.2758, -9.2758, -9.2756, -9.2752, -9.2751, -9.2752, -9.2752, -9.2753, -9.2755, -6.8782, -6.8779, -7.0918, -6.9265, -6.9039, -7.482, -8.0356, -7.66, -7.672, -7.9777, -8.032, -8.0105, -8.0727, -8.078, -8.2519, -8.1876, -8.33, -8.3634, -8.3993, -8.379, -8.486, -8.6111, -8.6104, -8.5318, -8.5794, -8.7294, -8.6718, -8.7035, -8.7293, -8.8171, -8.7918, -9.2956, -9.2933, -9.2931, -9.293, -9.2931, -9.2934, -9.2925, -9.2938, -9.2928, -9.2932, -9.293, -9.2956, -9.2956, -9.2956, -9.2915, -9.2956, -9.2956, -9.2956, -9.2956, -9.2956, -9.2956, -9.2956, -9.2956, -9.2956, -9.2942, -9.2939, -9.2942, -9.2942, -9.2942, -9.2943, -9.2911, -5.6719, -6.578, -6.9056, -6.84, -6.8318, -7.0105, -7.2542, -7.3133, -7.3965, -7.476, -7.8035, -7.6168, -7.7459, -7.5778, -7.8008, -7.6847, -7.8735, -7.9159, -7.9432, -7.9412, -8.0572, -8.1773, -8.2102, -8.2537, -8.2696, -8.2372, -8.3284, -8.3005, -8.3386, -8.3332, -9.2899, -9.2885, -9.2883, -9.2884, -9.2879, -9.2886, -9.2879, -9.2884, -9.2879, -9.2881, -9.2882, -9.275, -9.2751, -9.2756, -9.276, -9.277, -9.2773, -9.2784, -9.2788, -9.2783, -9.28, -9.2899, -9.2899, -9.2869, -9.2873, -9.2871, -9.2874, -9.2873, -9.2874, -9.2873, -9.2868, -6.0489, -6.6028, -6.8714, -7.0081, -6.9256, -7.3361, -7.4067, -7.3692, -7.55, -7.4828, -7.6379, -7.6732, -7.6018, -7.7155, -7.8432, -7.9647, -8.0526, -8.0427, -8.1785, -8.2151, -8.1395, -8.2029, -8.2943, -8.4574, -8.398, -8.5008, -8.4889, -8.4985, -8.4889, -8.4872, -8.4959], \"loglift\": [30.0, 29.0, 28.0, 27.0, 26.0, 25.0, 24.0, 23.0, 22.0, 21.0, 20.0, 19.0, 18.0, 17.0, 16.0, 15.0, 14.0, 13.0, 12.0, 11.0, 10.0, 9.0, 8.0, 7.0, 6.0, 5.0, 4.0, 3.0, 2.0, 1.0, 0.528, 0.5271, 0.5265, 0.5258, 0.5243, 0.5243, 0.5237, 0.5232, 0.522, 0.5213, 0.5191, 0.5187, 0.5181, 0.5173, 0.5172, 0.517, 0.5169, 0.5161, 0.5161, 0.516, 0.5158, 0.5156, 0.5154, 0.5148, 0.514, 0.5137, 0.5135, 0.5122, 0.5122, 0.5119, 0.5092, 0.5114, 0.4994, 0.4873, 0.3977, 0.4212, 0.1235, 0.455, 0.3169, 0.2924, 0.4505, 0.1362, 0.1345, 0.3, 0.4248, 0.3263, 0.044, -0.0166, 0.0712, 0.0692, 0.0048, 0.1812, 0.0601, 0.1667, 0.1276, 0.2266, 0.0894, -0.0215, 0.1933, 0.0258, 0.1705, -0.0059, -0.0277, 0.1796, 0.0246, 0.1426, 0.0422, -0.2556, -0.0578, -0.0717, -0.1723, 0.0186, 0.0403, 0.1006, 1.7372, 1.7359, 1.7245, 1.719, 1.7189, 1.7184, 1.713, 1.7125, 1.7125, 1.7111, 1.7106, 1.7104, 1.7103, 1.7066, 1.7043, 1.7031, 1.7029, 1.7029, 1.702, 1.7018, 1.701, 1.7006, 1.7003, 1.6961, 1.6947, 1.6904, 1.6877, 1.6876, 1.6876, 1.6875, 1.6589, 1.6827, 1.6701, 1.6855, 1.6585, 1.6398, 1.576, 1.6382, 1.6059, 1.6055, 0.0845, 0.0665, 0.7454, -0.0016, 0.5407, 0.0789, 0.0582, 0.0224, -0.261, -0.0128, -0.0157, 0.359, 0.4423, 0.6397, -0.0887, -0.0405, -0.0524, 0.4945, 0.705, 0.3912, 0.8042, 0.8019, -0.0891, -0.1745, 0.012, -0.0566, 0.3813, 0.307, 0.1368, -0.0818, 0.1044, -0.163, -0.2283, -0.3294, -0.0898, 2.0262, 2.0191, 2.0168, 2.0112, 2.0109, 2.0087, 2.008, 2.0034, 1.9988, 1.9979, 1.9976, 1.9975, 1.9951, 1.9926, 1.9888, 1.9885, 1.9878, 1.9871, 1.9835, 1.9784, 1.9782, 1.9772, 1.9771, 1.9764, 1.9764, 1.9759, 1.9754, 1.9744, 1.9727, 1.9702, 1.943, 1.9336, 1.9472, 1.9338, 1.9455, 1.9175, 1.9344, 1.8437, 1.8905, 1.7944, 1.8803, 1.7963, 1.7594, 1.8142, 1.5488, 1.6726, 1.6386, 1.6472, 1.5539, 1.8747, 1.2965, 1.5412, 1.445, 1.6264, 1.6259, 1.296, 1.0808, 0.8869, 1.1743, 1.6111, 1.4993, 0.1224, 0.3553, 0.2086, 1.2545, 0.2005, 0.872, -0.4745, 0.1566, 0.4289, 0.0084, -0.4747, 0.2094, -0.1452, 0.7677, 0.8433, -0.4622, -0.4691, -0.1159, -0.1496, -0.7375, -0.6378, 2.1167, 2.1143, 2.1102, 2.0991, 2.0902, 2.0759, 2.072, 2.0686, 2.0675, 2.0639, 2.0639, 2.0622, 2.0594, 2.0579, 2.0575, 2.0531, 2.0435, 2.0409, 2.0399, 2.0397, 2.0389, 2.038, 2.0376, 2.0374, 2.0369, 2.036, 2.0355, 2.0349, 2.0278, 2.0257, 1.9918, 1.9283, 1.9808, 1.9279, 1.9257, 1.9684, 1.9696, 1.8385, 1.8513, 1.8004, 1.8686, 2.0093, 1.7618, 1.273, 1.7395, 1.7413, 1.7325, 1.8329, 1.3907, 1.4823, 0.2542, 0.4891, 0.5869, 1.4774, 0.2704, 0.9149, 1.2501, 0.3191, 0.2947, 0.2128, -0.422, 0.9038, 1.0578, 0.4243, 0.1232, 0.2018, -0.3059, -0.3187, 0.1202, -0.6164, 0.0816, 0.0128, 0.5674, 0.0018, 0.7939, 0.3337, 0.2016, 0.4806, 0.1382, -1.0556, -1.0982, -0.4522, 5.7771, 5.6024, 5.2041, 5.2022, 5.1989, 5.198, 5.1978, 5.1973, 5.1971, 5.1971, 5.1969, 5.1968, 5.1967, 5.1949, 5.1869, 5.1859, 5.1858, 5.1857, 5.1856, 5.1856, 5.1842, 5.1839, 5.1822, 5.182, 5.1818, 5.1817, 5.1817, 5.1813, 5.1806, 5.1806, 3.8624, 4.256, 3.0322, -1.6166, -0.8767, -1.6975, 3.2219, 3.208, -1.7021, 1.5263, -1.7504, -1.3596, -1.6868, -1.1437, -1.8298, 1.8817, -1.6827, 1.6897, -1.866, 1.7464, -1.7709, -2.1058, -1.2806, -1.7677, 0.5094, 1.5435, -1.4687, 0.2905, -1.5699, -1.7677, 6.3274, 6.324, 6.0677, 6.0576, 5.5604, 5.5601, 5.5583, 5.5559, 5.5553, 5.5533, 5.5527, 5.5484, 5.5458, 5.5428, 4.9962, 4.5757, 4.5703, 4.4695, 4.4237, 4.4221, 4.3319, 4.3313, 4.2834, 4.2101, 3.774, 3.6561, 3.6261, 3.5646, 3.4771, 3.4737, 2.7854, 3.0465, 2.6817, 1.6936, 1.6053, -4.2862, -3.3431, 5.7301, 4.5462, 3.2207, 3.2204, 3.2193, 3.2177, 3.2173, 3.216, 3.2154, 3.2128, 3.2109, 3.2088, 3.0886, 3.0875, 3.0866, 3.0861, 3.0857, 3.0856, 3.0855, 3.0854, 3.0853, 3.0852, 3.085, 3.0841, 3.0822, 3.0794, 3.0789, 3.0789, 3.0786, 3.0786, 2.7339, 2.6366, 1.561, 1.5478, 1.4597, 0.7754, 0.6547, -1.2576, -1.4271, -4.2165, -4.5827, -3.9537, -3.8045, -4.3368, -3.9819, -3.966, -4.1155, -4.397, -3.7365, -4.1663, -3.3773, -3.9971, -3.8635, -3.4393, -3.568, -3.8779, -3.5941, -2.9882, -3.6835, 3.3404, 3.2248, 3.2246, 3.2234, 3.2218, 3.2214, 3.2202, 3.2196, 3.217, 3.215, 3.213, 3.0927, 3.0915, 3.0907, 3.0901, 3.0897, 3.0897, 3.0895, 3.0895, 3.0894, 3.0893, 3.0891, 3.0882, 3.0865, 3.0841, 3.0836, 3.0836, 3.0833, 3.0832, 3.083, 2.8938, 2.5547, 0.9392, -3.8774, -4.4469, -3.4656, -2.0239, -4.0395, -4.0898, -3.7784, -3.9577, -4.0888, -4.0132, -4.1564, -3.2254, -3.7943, -3.2567, -3.6551, -3.4977, -3.9853, -3.4576, -2.8119, -2.9036, -3.9853, -3.5679, -2.4498, -3.6083, -3.2563, -3.0037, -2.7233, -3.1951, 3.3206, 3.2073, 3.2071, 3.2061, 3.2044, 3.2037, 3.2034, 3.2015, 3.1998, 3.1976, 3.1957, 3.0729, 3.0717, 3.0709, 3.0706, 3.0703, 3.0699, 3.0699, 3.0697, 3.0697, 3.0696, 3.0695, 3.0693, 3.0684, 3.0651, 3.0649, 3.0646, 3.0643, 3.0643, 3.0642, 3.0632, -3.2149, -3.5288, -2.8892, -3.2194, -3.2496, -3.0888, -3.0548, -3.2389, -3.0028, -3.4165, -2.3563, -3.0703, -2.7344, -3.6562, -2.7742, -3.2914, -2.972, -2.8875, -2.8797, -3.233, -2.9838, -2.3781, -2.6135, -2.4227, -2.4677, -2.863, -2.5503, -2.8041, -2.613, -2.6513, 3.3263, 3.2121, 3.212, 3.2108, 3.2092, 3.209, 3.2079, 3.2069, 3.2048, 3.2026, 3.2005, 3.0915, 3.0904, 3.0903, 3.0893, 3.0883, 3.0878, 3.0872, 3.0864, 3.0857, 3.0849, 3.0786, 3.0774, 3.0752, 3.072, 3.0716, 3.0714, 3.0712, 3.0711, 3.0701, 3.0694, -3.5919, -3.5537, -3.2508, -2.9917, -3.3434, -3.2766, -3.2073, -3.4476, -3.1567, -3.5612, -3.0914, -2.9649, -3.5275, -3.3218, -2.8167, -2.9363, -3.0412, -3.1412, -2.7313, -2.6184, -3.0661, -2.7819, -3.2308, -2.3636, -2.9016, -2.4673, -2.605, -2.6629, -2.7499, -2.7804, -3.1217]}, \"token.table\": {\"Topic\": [1, 2, 3, 4, 1, 2, 3, 4, 5, 1, 2, 3, 4, 1, 2, 3, 4, 5, 1, 2, 3, 1, 2, 3, 4, 5, 1, 2, 3, 4, 1, 2, 3, 4, 1, 2, 3, 4, 5, 2, 2, 1, 1, 1, 2, 3, 4, 4, 3, 2, 2, 1, 2, 3, 4, 2, 2, 2, 1, 2, 2, 2, 2, 4, 3, 3, 1, 2, 2, 1, 1, 1, 2, 1, 1, 1, 3, 3, 4, 1, 3, 4, 4, 4, 2, 2, 1, 1, 2, 3, 4, 5, 2, 1, 2, 3, 1, 2, 1, 2, 3, 4, 5, 1, 2, 3, 4, 5, 1, 2, 3, 4, 3, 4, 2, 4, 1, 1, 2, 3, 1, 2, 4, 1, 2, 4, 1, 2, 3, 4, 5, 1, 2, 3, 1, 2, 3, 2, 1, 2, 3, 4, 1, 2, 3, 4, 1, 2, 3, 4, 1, 2, 3, 4, 3, 4, 4, 1, 1, 2, 3, 4, 1, 3, 4, 4, 1, 2, 3, 1, 2, 3, 4, 1, 2, 3, 4, 1, 2, 3, 4, 1, 2, 3, 1, 2, 1, 4, 1, 1, 2, 1, 3, 3, 1, 2, 3, 4, 1, 2, 4, 1, 2, 3, 1, 2, 3, 4, 3, 1, 2, 3, 1, 4, 1, 2, 3, 4, 1, 2, 3, 4, 4, 1, 2, 3, 1, 2, 3, 1, 2, 3, 1, 2, 3, 1, 1, 1, 4, 2, 1, 2, 3, 4, 4, 1, 2, 3, 4, 3, 2, 1, 2, 3, 4, 2, 1, 4, 1, 1, 2, 2, 1, 2, 4, 1, 4, 1, 2, 3, 4, 1, 2, 1, 2, 3, 4, 1, 1, 4, 1, 3, 1, 2, 3, 4, 1, 2, 3, 4, 1, 2, 3, 4, 1, 2, 3, 4, 1, 4, 3, 4, 3, 1, 2, 2, 1, 2, 3, 5, 1, 2, 3, 4, 1, 3, 1, 4, 1, 1, 3, 4, 1, 1, 4, 3, 2, 1, 2, 3, 4, 1, 2, 4, 3, 3, 1, 2, 3, 1, 2, 3, 4, 1, 1, 4, 1, 2, 3, 1, 2, 3, 1, 4, 3, 1, 2, 3, 4, 4, 2, 1, 3, 4, 5, 1, 4, 2, 1, 2, 3, 4, 1, 2, 3, 1, 2, 3, 4, 1, 4, 1, 3, 2, 2, 3, 1, 2, 3, 4, 1, 4, 4, 1, 2, 4, 1, 2, 3, 4, 1, 1, 4, 4, 1, 4, 1, 2, 3, 4, 1, 2, 3, 4, 1, 2, 3, 4, 1, 2, 3, 4, 1, 2, 3, 4, 1, 2, 3, 4, 1, 3, 2, 1, 4, 4, 1, 2, 3, 4, 3, 1, 3, 3, 4, 1, 2, 3, 4, 1, 2, 3, 4, 1, 1, 1, 1, 3, 4, 1, 2, 4, 1, 2, 3, 1, 3, 1, 3, 4, 4, 1, 4, 4, 3, 1, 2, 1, 2, 3, 1, 2, 3, 1, 2, 3, 1, 2, 3, 4, 1, 2, 3, 4, 3, 1, 2, 3, 1, 1, 2, 2, 4, 1, 4, 1, 1, 2, 1, 2, 3, 4, 1, 3, 4, 1, 2, 3, 4, 1, 2, 3, 1, 2, 3, 4, 1, 2, 3, 1, 1, 1, 3, 1, 2, 1, 3, 2, 4, 2, 1, 4, 1, 3, 1, 2, 3, 4, 1, 3, 4, 1, 2, 3, 4, 5, 1, 2, 3, 4, 1, 2, 3, 1, 3, 3, 1, 2, 3, 4, 5, 1, 1, 4, 1, 3, 1, 3, 3, 1, 2, 3, 4, 2, 1, 2, 3, 4, 3, 1, 1, 2, 3, 1, 2, 3, 4, 1, 2, 3, 4, 1, 4, 1, 2, 3, 1, 2, 3, 4, 1, 3, 4, 1, 2, 3, 4, 1, 2, 3, 4, 1, 2, 3, 4, 5, 1, 2, 3, 4, 1, 4, 1, 2, 3, 1, 2, 3, 4], \"Freq\": [0.7848135012757582, 0.08671972389787384, 0.07804775150808646, 0.052031834338724305, 0.6234674069787695, 0.18442523738444835, 0.15093508233702366, 0.040830463003024633, 0.0004587692472249959, 0.6219520901049428, 0.18034802612781406, 0.1577480228536519, 0.03932400569704216, 0.6568842441706285, 0.18534039926987247, 0.08038092954582386, 0.07701275922510417, 0.00027309489086916374, 0.5606772568456259, 0.14016931421140646, 0.28033862842281293, 0.5833427174630781, 0.18201414597766236, 0.0804900768807228, 0.15396882302270667, 0.0002804532295495568, 0.5993566380172831, 0.11049591650597958, 0.2779139718180698, 0.010045083318725416, 0.0957631211246893, 0.8208267524973368, 0.013680445874955613, 0.06840222937477806, 0.5710757014962785, 0.13116637870101844, 0.14614271554141076, 0.15140911970506518, 0.0003291502602284026, 0.9496570543879783, 0.9811070081703425, 0.9795036479482031, 0.9871957713119268, 0.6960577065333351, 0.18827790422622998, 0.09128625659453575, 0.024723361161020096, 0.9581195328224764, 1.0165881721595507, 0.9681283830655394, 0.981664650236046, 0.6378469297728744, 0.22780247491888372, 0.09437531103782326, 0.04230617391350698, 0.968394828797499, 0.9684016068835292, 0.9993564403658401, 0.9987950410929304, 0.9817755708701091, 0.9910500547939329, 0.9816103789042474, 0.9698293118230531, 0.8920385247765795, 0.9735061661995268, 0.903932190575058, 0.9921387040936416, 0.9811942397759248, 1.011961456303948, 0.9795319900724159, 0.9847973664388094, 0.996558742811073, 0.9813878794874229, 0.9850703900948352, 0.9826825794665728, 0.9849268775169271, 0.8800761284913721, 1.0028360180096807, 0.9197431677196611, 0.9871766403804825, 0.8798182694752952, 0.8915651367111924, 0.891717768021571, 0.9196385007576201, 0.9905985686146702, 0.9498127810811416, 0.9991449231370828, 0.60673820078229, 0.17018977389858664, 0.15911578176134983, 0.06352974436625324, 0.0005828416914335159, 0.9905448031055676, 0.08610559047498773, 0.8945414121568169, 0.019134575661108384, 0.9361535836356657, 0.036005907062910215, 0.6654877021376283, 0.16814393420873802, 0.08072483960841054, 0.0854501960732931, 0.0003937797054068806, 0.6643505587563681, 0.16776131477783804, 0.08151782196951285, 0.08663729871155955, 0.0003938059032343616, 0.5948770205887582, 0.16052237063506172, 0.1112115770412846, 0.1321948934641685, 0.12159714837351143, 0.85118003861458, 0.9812712062816734, 0.9201749750799174, 0.6285708174321762, 0.07394214684342605, 0.8873057621211127, 0.036971073421713026, 0.8837937506391811, 0.06312812504565579, 0.04208541669710386, 0.28739780274273447, 0.28739780274273447, 0.28739780274273447, 0.5682147949417893, 0.15596014499774638, 0.13048665464811446, 0.14504293484790412, 0.000519867149992488, 0.28689229076033984, 0.13720935645059731, 0.5737845815206797, 0.4637723214469441, 0.06243088942555016, 0.4726910199363084, 0.816455185811468, 0.5589807510389904, 0.0815180261931861, 0.2988994293750157, 0.0582271615665615, 0.5940710752414193, 0.20736443192389165, 0.08686888364379244, 0.11208888212102251, 0.590815995195446, 0.1450758137668533, 0.11984523745957446, 0.14297326574124672, 0.30508762938063116, 0.017946331140037127, 0.6460679210413366, 0.035892662280074254, 0.9892154226791366, 0.9658358933571652, 0.9287809162197731, 0.939404647998312, 0.6702738464468831, 0.16822559283372754, 0.06045607242462083, 0.10251247063305272, 0.639570494150775, 0.09136721345011072, 0.27410164035033213, 0.6792041024429396, 0.6657619751622027, 0.26630479006488106, 0.9056251505014533, 0.4971637973195887, 0.161331298467946, 0.15474634751007066, 0.19096357777838507, 0.5426108463737421, 0.14413100606802526, 0.07630465027130748, 0.23739224528851216, 0.5531121344457428, 0.0721450610146621, 0.04008058945259006, 0.3366769514017565, 0.2136412311340375, 0.019421930103094318, 0.7768772041237727, 0.9794587534340101, 0.990478085436332, 0.9895659636412866, 0.8917173385342407, 0.6423152299916813, 0.0917966706849579, 0.917966706849579, 0.062467413390369673, 0.9370112008555451, 0.6999626882228481, 0.3806168238706015, 0.1304971967556348, 0.0761233647741203, 0.41324112305951016, 0.22291640038596452, 0.0743054667953215, 0.6687492011578936, 0.28977916172545554, 0.5795583234509111, 0.9039785492237147, 0.778169631133828, 0.1454522675016501, 0.07515033820918589, 0.002424204458360835, 0.880229652627598, 0.03966022556310975, 0.0793204511262195, 0.9121851879515241, 0.14950216338872613, 0.7973448714065393, 0.277613116702243, 0.04899055000627817, 0.6532073334170423, 0.016330183335426057, 0.6431600596034224, 0.19401109235971006, 0.0186038033769585, 0.14351505462225128, 0.9377176313447733, 0.5252848077196425, 0.38283469037194284, 0.0979344556765435, 0.5040533450957213, 0.36963911973686225, 0.10081066901914425, 0.13213570799707658, 0.049550890498903724, 0.8093312114820941, 0.0682209796293395, 0.8868727351814135, 0.0682209796293395, 0.9991487319271958, 0.9708588207816998, 0.9890476621186095, 0.892243709418636, 0.930081224467852, 0.39674109134839697, 0.07213474388152671, 0.07213474388152671, 0.46887583522992365, 0.8918538046722901, 0.24970156050142173, 0.1920781234626321, 0.03841562469252642, 0.5186109333491067, 0.9237795156734174, 0.968499465417333, 0.6599984398532559, 0.15667252684367008, 0.06414938106984917, 0.11842962659049078, 0.9681993839378715, 0.4103629888332058, 0.5471506517776078, 0.6579475619467504, 0.11127639673926029, 0.8902111739140823, 0.9816234105399326, 0.15481343781225773, 0.15481343781225773, 0.6966604701551599, 0.9850213663770695, 0.9371839530196958, 0.5963749088048094, 0.06482335965269667, 0.04753713041197755, 0.2895443397820451, 0.796127778710784, 0.18955423302637714, 0.5268271980375662, 0.2924016984323334, 0.015124225780982761, 0.16384577929397992, 0.8010341064325431, 0.2168467639303935, 0.7372789973633379, 0.13769760408086978, 0.688488020404349, 0.728468787919349, 0.00697099318583109, 0.1080503943803819, 0.15336185008828399, 0.39833288893634816, 0.28018330323488894, 0.030381322037518078, 0.29368611302934144, 0.5626807459100995, 0.17714023482354985, 0.05210006906574996, 0.20840027626299984, 0.803451871614921, 0.1185420794185949, 0.0460996975516758, 0.026342684315243312, 0.9850984790272403, 0.9375631796151926, 0.9786088674700457, 0.8913456836528778, 0.9403719523189965, 0.11126490647124201, 0.8901192517699361, 0.9688815512562584, 0.39144623104163717, 0.13048207701387904, 0.2609641540277581, 0.13048207701387904, 0.5409324449802229, 0.1723850648838073, 0.15930757720296676, 0.1272082892590854, 0.1329089577207819, 0.8417567322316187, 0.6693753635588345, 0.3075508427162213, 0.9875231606306976, 0.06695228651515137, 0.9038558679545434, 0.03347614325757568, 0.6459812579474601, 0.25885024212854063, 0.7118381658534867, 0.9544736525812797, 0.9683134891115327, 0.48835135650032035, 0.12268338955983657, 0.3132595286819128, 0.07503935477931752, 0.15108782489510472, 0.02518130414918412, 0.8058017327738919, 0.9417556212545304, 0.9253984741129049, 0.3027870682470299, 0.010440933387828616, 0.6891016035966887, 0.4835489876281974, 0.08215638139314034, 0.3802666795911067, 0.05398847920120651, 0.9971738607562391, 0.35589842419693746, 0.5338476362954061, 0.9129306814052149, 0.07207347484778012, 0.024024491615926707, 0.1776523970431128, 0.0296087328405188, 0.7994357866940076, 0.12398524579526758, 0.8678967205668731, 0.990003894754195, 0.695630807468861, 0.04797453844612835, 0.0959490768922567, 0.1679108845614492, 0.921169209815508, 0.96846099156256, 0.7932780305587491, 0.05666271646848208, 0.05666271646848208, 0.05666271646848208, 0.1495495667287428, 0.7975976892199618, 0.9975834588152275, 0.6049461352645146, 0.15520483936815532, 0.05820181476305825, 0.17989651835854367, 0.2766616651145376, 0.05533233302290752, 0.6639879962748902, 0.36621207240248854, 0.007629418175051844, 0.6103534540041475, 0.007629418175051844, 0.9189165646910017, 0.057432285293187606, 0.2131611732491494, 0.7815909685802145, 0.9680723761210763, 0.4131182182252785, 0.4131182182252785, 0.6038246548022281, 0.1526396896897826, 0.10774566331043477, 0.13468207913804345, 0.6819155398705959, 0.2922495170873982, 0.9213312863843172, 0.16414291975825687, 0.08207145987912844, 0.7386431389121559, 0.5481490623038975, 0.13579147225255644, 0.19808113842345387, 0.1171045724012872, 0.9921965131976348, 0.21163343533850715, 0.7759892629078595, 0.8921591756520916, 0.2622210264709501, 0.6817746688244702, 0.4107475480218326, 0.03820907423458908, 0.4712452488932653, 0.07960223798872725, 0.3737408035103704, 0.10310091131320563, 0.051550455656602816, 0.47684171482357607, 0.5644582128224251, 0.16163456653528058, 0.11175514951853383, 0.16163456653528058, 0.6346959351611141, 0.14520718811804087, 0.07611667119090852, 0.14403616240741152, 0.6934665525004864, 0.19813330071442467, 0.0450302956169147, 0.06304241386368058, 0.547194831282791, 0.265584102212568, 0.10531783363601836, 0.08471217053331911, 0.9994078118458212, 0.8474522620534685, 0.9496794090371821, 0.0650408111708014, 0.9268315591839199, 0.9891043439218343, 0.3096044436721385, 0.19553964863503487, 0.0742326443892262, 0.4200481341048897, 0.9414761406721951, 0.982607047884611, 0.96563521032967, 0.8468964017574931, 0.9372440446422192, 0.6888385945782499, 0.23228278189266566, 0.029369087365739337, 0.05072842363173158, 0.5551986391489522, 0.13879965978723804, 0.20819948968085705, 0.06939982989361902, 0.9868550223866032, 0.9921239813159334, 0.9356511018756717, 0.2230854295924269, 0.5577135739810672, 0.2230854295924269, 0.7006840020984573, 0.17517100052461432, 0.8918105429264355, 0.8646530168386243, 0.1251471471740114, 0.005688506689727791, 0.0508869460511891, 0.9668519749725928, 0.21486707710740885, 0.03581117951790148, 0.752034769875931, 0.9915165744675934, 0.031312260541390274, 0.9706800767830985, 0.9373696302638558, 0.9814911056804667, 0.6510443177477833, 0.32552215887389163, 0.513582328810657, 0.11412940640236824, 0.37092057080769675, 0.5166705885520277, 0.3830488846161585, 0.09798924955297078, 0.42244821019989404, 0.42244821019989404, 0.10561205254997351, 0.6686970428695085, 0.04665328206066338, 0.062204376080884506, 0.2177153162830958, 0.36558621199636193, 0.25230597729326387, 0.3089460946448129, 0.07466197287249644, 0.9539425307682367, 0.45525151791890117, 0.3446904349957394, 0.20161138650694194, 0.6583332611670216, 0.11140565699313326, 0.8912452559450661, 0.12086583162488912, 0.8460608213742239, 0.09763535846292763, 0.8787182261663488, 0.9967563136684314, 0.38301154718941716, 0.38301154718941716, 0.4396392688948124, 0.09186492185861751, 0.45276282916032917, 0.013123560265516789, 0.08532650209339326, 0.8959282719806293, 0.8920711625798762, 0.797656599422868, 0.002581412943116078, 0.11358216949710742, 0.08776804006594664, 0.7038132126928929, 0.24803989874639398, 0.04340698228061895, 0.5622168275560986, 0.08877107803517346, 0.20713251541540473, 0.1479517967252891, 0.34632843943463815, 0.05247400597494518, 0.608698469309364, 0.9842645069093227, 0.9945557108691147, 0.9895175826900731, 0.9403677172530216, 0.12866118797741583, 0.8577412531827722, 0.062369697663568445, 0.9355454649535266, 0.0978898543917465, 0.8810086895257184, 0.9686684216962278, 0.7526392056991026, 0.9499429322948493, 0.1513487502269456, 0.8576429179526917, 0.6850632850030217, 0.24406431529591682, 0.06564488480372936, 0.003366404348909198, 0.07044741843247904, 0.9158164396222274, 0.8921146332317543, 0.4497938387257524, 0.17402995492565204, 0.18441980298091484, 0.19134636835109003, 0.00043291033563595035, 0.4354756245168028, 0.11750929550453408, 0.41819484576613597, 0.027649246001066843, 0.3101965678533874, 0.03265227030035657, 0.6530454060071315, 0.06610181232092117, 0.9254253724928965, 0.903981898446718, 0.6165990042188422, 0.16345869200888447, 0.061849234814172496, 0.15777866024023596, 0.0006311146409609438, 0.9871712029211586, 0.9530093250793014, 0.030742236292880688, 0.05974214398834263, 0.9260032318193107, 0.12788489268054193, 0.8951942487637936, 0.880907623189696, 0.3644369693988693, 0.10123249149968591, 0.020246498299937184, 0.5061624574984296, 0.9497913828159322, 0.34965141282128004, 0.024975100915805716, 0.6077274556179392, 0.016650067277203813, 0.941071646323762, 0.7168225627452192, 0.09246979838349852, 0.04623489919174926, 0.8322281854514866, 0.14988763845321687, 0.07494381922660844, 0.7494381922660844, 0.03747190961330422, 0.3964317174522664, 0.0288313976328921, 0.54779655502495, 0.0288313976328921, 0.39334113733021814, 0.39334113733021814, 0.3140215969594424, 0.012077753729209321, 0.676354208835722, 0.5774598244360756, 0.14270981648483905, 0.06841243779943315, 0.2111222542842722, 0.7865650004427458, 0.18727738105779662, 0.03745547621155933, 0.4438919930196043, 0.21229617057459335, 0.11579791122250546, 0.22194599650980215, 0.5320775536834158, 0.14898171503135643, 0.05852853090517574, 0.26071800130487377, 0.5958212922500814, 0.1556572316473362, 0.11501339893942064, 0.13317340929827653, 0.0008647623980407566, 0.8892950634913876, 0.08369835891683648, 0.01046229486460456, 0.02092458972920912, 0.3140949265712886, 0.6805390075711254, 0.6416692131466764, 0.32324689684832564, 0.028947483299850058, 0.6018970588781786, 0.3576489770145699, 0.039254156013794256, 0.8918180661832383], \"Term\": [\"#\", \"#\", \"#\", \"#\", \"(\", \"(\", \"(\", \"(\", \"(\", \")\", \")\", \")\", \")\", \"*\", \"*\", \"*\", \"*\", \"*\", \"+\", \"+\", \"+\", \",\", \",\", \",\", \",\", \",\", \"-\", \"-\", \"-\", \"-\", \"--\", \"--\", \"--\", \"--\", \".\", \".\", \".\", \".\", \".\", \"02:10am\", \"04:10am\", \"07:00am\", \"07:15am\", \"1\", \"1\", \"1\", \"1\", \"10-9\", \"11:00pm\", \"11:14pm\", \"11:20pm\", \"2\", \"2\", \"2\", \"2\", \"2102-12-21\", \"2103-11-27\", \"2113-12-13\", \"2118-3-27\", \"2118-4-25\", \"2118-4-26\", \"2118-4-29\", \"2121-10-30\", \"2123-5-1\", \"2127-7-24\", \"2127-7-25\", \"2142-6-1\", \"2143-6-11\", \"2143-6-9\", \"2148-3-14\", \"2148-3-15\", \"2148-9-16\", \"2157-2-20\", \"2167-11-5\", \"2167-2-12\", \"2171-10-25\", \"2171-12-23\", \"2171-12-24\", \"2175-10-10\", \"2181-10-24\", \"2185-5-1\", \"2196-2-26\", \"2200-4-10\", \"2200-4-7\", \"410\", \"6-9\", \"9-17\", \":\", \":\", \":\", \":\", \":\", \"=1\", \"?\", \"?\", \"?\", \"@\", \"@\", \"[\", \"[\", \"[\", \"[\", \"[\", \"]\", \"]\", \"]\", \"]\", \"]\", \"a\", \"a\", \"a\", \"a\", \"a.m.\", \"a.m.\", \"aaa\", \"accupril\", \"action\", \"adrenal\", \"adrenal\", \"adrenal\", \"age\", \"age\", \"age\", \"amounts\", \"amounts\", \"amounts\", \"and\", \"and\", \"and\", \"and\", \"and\", \"aorta\", \"aorta\", \"aorta\", \"aortic\", \"aortic\", \"aortic\", \"approx\", \"are\", \"are\", \"are\", \"are\", \"as\", \"as\", \"as\", \"as\", \"at\", \"at\", \"at\", \"at\", \"atrium\", \"atrium\", \"atrium\", \"atrium\", \"atrium/interatrial\", \"b.i.d\", \"b.i.d.\", \"better\", \"blood\", \"blood\", \"blood\", \"blood\", \"bolus\", \"bolus\", \"bolus\", \"bright\", \"bs\", \"bs\", \"bsa\", \"by\", \"by\", \"by\", \"by\", \"cardiac\", \"cardiac\", \"cardiac\", \"cardiac\", \"care\", \"care\", \"care\", \"care\", \"cavity\", \"cavity\", \"cavity\", \"center\", \"cerebritis\", \"cirrhosis\", \"cks\", \"coffee\", \"collection\", \"collection\", \"conclusions\", \"conclusions\", \"cont\", \"coronary\", \"coronary\", \"coronary\", \"coronary\", \"count\", \"count\", \"count\", \"country\", \"country\", \"culture-final\", \"daily\", \"daily\", \"daily\", \"daily\", \"depakote\", \"diameter\", \"diameter\", \"diameter\", \"dictated\", \"dictated\", \"dilated\", \"dilated\", \"dilated\", \"dilated\", \"discharge\", \"discharge\", \"discharge\", \"discharge\", \"disorder\", \"disp\", \"disp\", \"disp\", \"do\", \"do\", \"do\", \"doppler\", \"doppler\", \"doppler\", \"ear\", \"ear\", \"ear\", \"ecg\", \"effusions\", \"egd\", \"electrocardiogram\", \"empyema\", \"episodes\", \"episodes\", \"episodes\", \"episodes\", \"esophagitis\", \"examination\", \"examination\", \"examination\", \"examination\", \"fast\", \"fiber\", \"for\", \"for\", \"for\", \"for\", \"frontoparietal\", \"genitalia\", \"genitalia\", \"gib\", \"gland\", \"gland\", \"glyburide\", \"graft\", \"graft\", \"graft\", \"groin\", \"h.s\", \"had\", \"had\", \"had\", \"had\", \"hct\", \"hct\", \"he\", \"he\", \"he\", \"he\", \"hematemesis\", \"hematocrit\", \"hematocrit\", \"hemoptysis\", \"hemoptysis\", \"her\", \"her\", \"her\", \"her\", \"his\", \"his\", \"his\", \"his\", \"history\", \"history\", \"history\", \"history\", \"hospital1\", \"hospital1\", \"hospital1\", \"hospital1\", \"hyperbilirubinemia\", \"hypercoagulable\", \"hypo\", \"hypoglycemia\", \"image\", \"immediately\", \"immediately\", \"implantation\", \"improve\", \"improve\", \"improve\", \"improve\", \"in\", \"in\", \"in\", \"in\", \"indication\", \"indication\", \"infant\", \"infant\", \"infarct\", \"inpatient\", \"inpatient\", \"inpatient\", \"inserted\", \"intensive\", \"intensive\", \"interpretation\", \"intraparenchymal\", \"is\", \"is\", \"is\", \"is\", \"job\", \"job\", \"job\", \"la\", \"lb\", \"leaflets\", \"leaflets\", \"leaflets\", \"left\", \"left\", \"left\", \"left\", \"life\", \"lightheadedness\", \"lightheadedness\", \"lisinopril\", \"lisinopril\", \"lisinopril\", \"lv\", \"lv\", \"lv\", \"m.d\", \"m.d\", \"m2\", \"male\", \"male\", \"male\", \"male\", \"mammary\", \"mastoiditis\", \"mean\", \"mean\", \"mean\", \"mean\", \"medquist36\", \"medquist36\", \"meningitis\", \"mg\", \"mg\", \"mg\", \"mg\", \"mildly\", \"mildly\", \"mildly\", \"mitral\", \"mitral\", \"mitral\", \"mitral\", \"mother\", \"mother\", \"motion\", \"motion\", \"much\", \"n/v\", \"n/v\", \"name\", \"name\", \"name\", \"name\", \"neonatology\", \"neonatology\", \"neurontin\", \"nitroglycerin\", \"nitroglycerin\", \"nitroglycerin\", \"no\", \"no\", \"no\", \"no\", \"nodules\", \"nondistended\", \"nondistended\", \"nonrebreather\", \"nontender\", \"nontender\", \"normal\", \"normal\", \"normal\", \"normal\", \"number\", \"number\", \"number\", \"number\", \"of\", \"of\", \"of\", \"of\", \"on\", \"on\", \"on\", \"on\", \"one\", \"one\", \"one\", \"one\", \"or\", \"or\", \"or\", \"or\", \"order\", \"osteophytes\", \"otomastoiditis\", \"p.o\", \"p.o\", \"p.r.n\", \"patient\", \"patient\", \"patient\", \"patient\", \"patient/test\", \"percentile\", \"pericardium\", \"peroneal\", \"personality\", \"po\", \"po\", \"po\", \"po\", \"poor\", \"poor\", \"poor\", \"poor\", \"pregnancy\", \"prematurity\", \"probable\", \"progression\", \"progression\", \"progression\", \"protonix\", \"protonix\", \"psychiatry\", \"pt\", \"pt\", \"pt\", \"pulmonic\", \"pulmonic\", \"q\", \"q\", \"q\", \"q.\", \"q.d\", \"q.d\", \"q.h.s\", \"quality\", \"r\", \"r\", \"ra\", \"ra\", \"ra\", \"refills\", \"refills\", \"refills\", \"remains\", \"remains\", \"remains\", \"rhythm\", \"rhythm\", \"rhythm\", \"rhythm\", \"right\", \"right\", \"right\", \"right\", \"root\", \"s\", \"s\", \"s\", \"s/s\", \"sah\", \"sah\", \"saphenous\", \"saphenous\", \"saturation\", \"saturation\", \"sbp\", \"scope\", \"scope\", \"seen\", \"seen\", \"seen\", \"seen\", \"septum\", \"septum\", \"serevent\", \"she\", \"she\", \"she\", \"she\", \"sig\", \"sig\", \"sig\", \"sinus\", \"sinus\", \"sinus\", \"sinus\", \"size\", \"size\", \"size\", \"st-t\", \"stenting\", \"stools\", \"structurally\", \"subdural\", \"subdural\", \"suboptimal\", \"suboptimal\", \"sugars\", \"sugars\", \"sure\", \"synthroid\", \"t.i.d\", \"tab\", \"tab\", \"tablet\", \"tablet\", \"tablet\", \"tablet\", \"technical\", \"technical\", \"terminal\", \"the\", \"the\", \"the\", \"the\", \"the\", \"there\", \"there\", \"there\", \"there\", \"thickened\", \"thickened\", \"thickened\", \"thickness\", \"thickness\", \"tibial\", \"to\", \"to\", \"to\", \"to\", \"to\", \"trach\", \"tracing\", \"tracing\", \"tricuspid\", \"tricuspid\", \"trivial\", \"trivial\", \"trivial/physiologic\", \"unit\", \"unit\", \"unit\", \"unit\", \"uta\", \"valve\", \"valve\", \"valve\", \"valve\", \"valve/pulmonary\", \"variant\", \"veins\", \"veins\", \"veins\", \"ventricle\", \"ventricle\", \"ventricle\", \"ventricle\", \"ventricular\", \"ventricular\", \"ventricular\", \"ventricular\", \"vomited\", \"vomited\", \"wall\", \"wall\", \"wall\", \"was\", \"was\", \"was\", \"was\", \"wave\", \"wave\", \"wave\", \"well\", \"well\", \"well\", \"well\", \"which\", \"which\", \"which\", \"which\", \"with\", \"with\", \"with\", \"with\", \"with\", \"x\", \"x\", \"x\", \"x\", \"x-ray\", \"x-ray\", \"you\", \"you\", \"you\", \"your\", \"your\", \"your\", \"zoloft\"]}, \"R\": 30, \"lambda.step\": 0.01, \"plot.opts\": {\"xlab\": \"PC1\", \"ylab\": \"PC2\"}, \"topic.order\": [9, 1, 3, 5, 4, 2, 7, 8, 6, 10]};\n",
       "\n",
       "function LDAvis_load_lib(url, callback){\n",
       "  var s = document.createElement('script');\n",
       "  s.src = url;\n",
       "  s.async = true;\n",
       "  s.onreadystatechange = s.onload = callback;\n",
       "  s.onerror = function(){console.warn(\"failed to load library \" + url);};\n",
       "  document.getElementsByTagName(\"head\")[0].appendChild(s);\n",
       "}\n",
       "\n",
       "if(typeof(LDAvis) !== \"undefined\"){\n",
       "   // already loaded: just create the visualization\n",
       "   !function(LDAvis){\n",
       "       new LDAvis(\"#\" + \"ldavis_el204619123451344309712545177455\", ldavis_el204619123451344309712545177455_data);\n",
       "   }(LDAvis);\n",
       "}else if(typeof define === \"function\" && define.amd){\n",
       "   // require.js is available: use it to load d3/LDAvis\n",
       "   require.config({paths: {d3: \"https://d3js.org/d3.v5\"}});\n",
       "   require([\"d3\"], function(d3){\n",
       "      window.d3 = d3;\n",
       "      LDAvis_load_lib(\"https://cdn.jsdelivr.net/gh/bmabey/pyLDAvis@3.4.0/pyLDAvis/js/ldavis.v3.0.0.js\", function(){\n",
       "        new LDAvis(\"#\" + \"ldavis_el204619123451344309712545177455\", ldavis_el204619123451344309712545177455_data);\n",
       "      });\n",
       "    });\n",
       "}else{\n",
       "    // require.js not available: dynamically load d3 & LDAvis\n",
       "    LDAvis_load_lib(\"https://d3js.org/d3.v5.js\", function(){\n",
       "         LDAvis_load_lib(\"https://cdn.jsdelivr.net/gh/bmabey/pyLDAvis@3.4.0/pyLDAvis/js/ldavis.v3.0.0.js\", function(){\n",
       "                 new LDAvis(\"#\" + \"ldavis_el204619123451344309712545177455\", ldavis_el204619123451344309712545177455_data);\n",
       "            })\n",
       "         });\n",
       "}\n",
       "</script>"
      ],
      "text/plain": [
       "PreparedData(topic_coordinates=              x         y  topics  cluster       Freq\n",
       "topic                                                \n",
       "8     -0.189417 -0.014019       1        1  58.057989\n",
       "0     -0.201957 -0.024114       2        1  17.033763\n",
       "2     -0.201579  0.126747       3        1  12.923914\n",
       "4     -0.222426 -0.083001       4        1  11.742819\n",
       "3      0.062355 -0.004427       5        1   0.149495\n",
       "1      0.159102 -0.004615       6        1   0.053152\n",
       "6      0.159215  0.002820       7        1   0.013829\n",
       "7      0.157230  0.001964       8        1   0.009546\n",
       "5      0.136350 -0.001364       9        1   0.007746\n",
       "9      0.141126  0.000008      10        1   0.007746, topic_info=       Term          Freq         Total Category  logprob  loglift\n",
       "5         *  10985.000000  10985.000000  Default  30.0000  30.0000\n",
       "11        .   6076.000000   6076.000000  Default  29.0000  29.0000\n",
       "133       :   3431.000000   3431.000000  Default  28.0000  28.0000\n",
       "7         ,   3565.000000   3565.000000  Default  27.0000  27.0000\n",
       "802     the   2309.000000   2309.000000  Default  26.0000  26.0000\n",
       "..      ...           ...           ...      ...      ...      ...\n",
       "200      as      0.002043    356.859657  Topic10  -8.4889  -2.6050\n",
       "644      po      0.002024    374.543474  Topic10  -8.4985  -2.6629\n",
       "312   daily      0.002043    412.506460  Topic10  -8.4889  -2.7499\n",
       "489    left      0.002047    426.016816  Topic10  -8.4872  -2.7804\n",
       "789  tablet      0.002029    594.105696  Topic10  -8.4959  -3.1217\n",
       "\n",
       "[683 rows x 6 columns], token_table=      Topic      Freq    Term\n",
       "term                         \n",
       "0         1  0.784814       #\n",
       "0         2  0.086720       #\n",
       "0         3  0.078048       #\n",
       "0         4  0.052032       #\n",
       "3         1  0.623467       (\n",
       "...     ...       ...     ...\n",
       "891       3  0.028947     you\n",
       "892       1  0.601897    your\n",
       "892       2  0.357649    your\n",
       "892       3  0.039254    your\n",
       "3381      4  0.891818  zoloft\n",
       "\n",
       "[639 rows x 3 columns], R=30, lambda_step=0.01, plot_opts={'xlab': 'PC1', 'ylab': 'PC2'}, topic_order=[9, 1, 3, 5, 4, 2, 7, 8, 6, 10])"
      ]
     },
     "execution_count": 33,
     "metadata": {},
     "output_type": "execute_result"
    }
   ],
   "source": [
    "import pyLDAvis\n",
    "pyLDAvis.enable_notebook()\n",
    "import gensim\n",
    "import pyLDAvis.gensim_models as gensimvis\n",
    "\n",
    "gensimvis.prepare(lda_model, corpus, dictionary)"
   ]
  },
  {
   "cell_type": "code",
   "execution_count": 21,
   "metadata": {},
   "outputs": [
    {
     "name": "stdout",
     "output_type": "stream",
     "text": [
      "Data saved to downstream-dummy-test\n",
      "Train: 17 samples, Validation: 4 samples, Test: 4 samples\n"
     ]
    }
   ],
   "source": [
    "from sdgeval.utils.utils import create_classification_dataset\n",
    "\n",
    "df = pd.read_csv('test-outputs.csv')\n",
    "_, _, _ = create_classification_dataset(df, label_column = 'label', output_json_path = 'dummy-mapping.json',\n",
    "                                        output_dir = 'downstream-dummy-test', multilabel = False, train_ratio = 0.7, test_ratio = 0.15, val_ratio = 0.15)\n",
    "#df = pd.read_csv('test-outputs.csv')\n",
    "#df, _ = encode_labels(df, label_column='Name', output_json_path = 'dummy-mapping.json')\n",
    "#_, _, _ = split_and_save_dataframe(df, 'downstream-dummy-test', train_ratio = 0.7, test_ratio = 0.15, val_ratio=0.15)"
   ]
  },
  {
   "cell_type": "code",
   "execution_count": null,
   "metadata": {},
   "outputs": [],
   "source": []
  },
  {
   "cell_type": "markdown",
   "metadata": {
    "jp-MarkdownHeadingCollapsed": true,
    "tags": []
   },
   "source": [
    "### Training and testing a downstream classifier"
   ]
  },
  {
   "cell_type": "markdown",
   "metadata": {},
   "source": [
    "#### Training a downstream classifier"
   ]
  },
  {
   "cell_type": "code",
   "execution_count": 24,
   "metadata": {},
   "outputs": [],
   "source": [
    "# pd.read_csv('/home/umd-dsmolyak/scr4_afield6/umd-dsmolyak/sdg-eval-scr/data/mimiciii/validation.csv')"
   ]
  },
  {
   "cell_type": "code",
   "execution_count": 8,
   "metadata": {
    "scrolled": true,
    "tags": []
   },
   "outputs": [
    {
     "name": "stderr",
     "output_type": "stream",
     "text": [
      "/data/afield6/umd-dsmolyak/sdg-eval/venv/lib64/python3.11/site-packages/transformers/training_args.py:1594: FutureWarning: `evaluation_strategy` is deprecated and will be removed in version 4.46 of 🤗 Transformers. Use `eval_strategy` instead\n",
      "  warnings.warn(\n",
      "[WARNING|integration_utils.py:100] 2025-03-17 10:56:06,931 >> Using the `WANDB_DISABLED` environment variable is deprecated and will be removed in v5. Use the --report_to flag to control the integrations used for logging result (for instance --report_to none).\n"
     ]
    },
    {
     "name": "stdout",
     "output_type": "stream",
     "text": [
      "Initialization...\n",
      "Training:\n",
      "\n",
      "Successfully loaded dataset '/home/umd-dsmolyak/scr4_afield6/umd-dsmolyak/sdg-eval-scr/data/mimiciii' from Hugging Face Hub.\n",
      "Loading base model for fine-tuning...\n"
     ]
    },
    {
     "name": "stderr",
     "output_type": "stream",
     "text": [
      "[WARNING|modeling_utils.py:4972] 2025-03-17 10:56:08,071 >> Some weights of BertForSequenceClassification were not initialized from the model checkpoint at bert-base-uncased and are newly initialized: ['classifier.bias', 'classifier.weight']\n",
      "You should probably TRAIN this model on a down-stream task to be able to use it for predictions and inference.\n"
     ]
    },
    {
     "name": "stdout",
     "output_type": "stream",
     "text": [
      "Preprocessing dataset!\n"
     ]
    },
    {
     "name": "stderr",
     "output_type": "stream",
     "text": [
      "/data/afield6/umd-dsmolyak/sdg-eval/venv/lib64/python3.11/site-packages/transformers/tokenization_utils_base.py:2690: FutureWarning: The `pad_to_max_length` argument is deprecated and will be removed in a future version, use `padding=True` or `padding='longest'` to pad to the longest sequence in the batch, or use `padding='max_length'` to pad to a max length. In this case, you can give a specific length with `max_length` (e.g. `max_length=45`) or leave max_length to None to pad to the maximal input size of the model (e.g. 512 for Bert).\n",
      "  warnings.warn(\n",
      "03/17/2025 10:58:04:WARNING:Detected kernel version 4.18.0, which is below the recommended minimum of 5.5.0; this can cause the process to hang. It is recommended to upgrade the kernel to the minimum version or higher.\n"
     ]
    },
    {
     "name": "stdout",
     "output_type": "stream",
     "text": [
      "Model training begins...\n"
     ]
    },
    {
     "data": {
      "text/html": [
       "\n",
       "    <div>\n",
       "      \n",
       "      <progress value='3233' max='7446' style='width:300px; height:20px; vertical-align: middle;'></progress>\n",
       "      [3233/7446 06:25 < 08:22, 8.38 it/s, Epoch 1.30/3]\n",
       "    </div>\n",
       "    <table border=\"1\" class=\"dataframe\">\n",
       "  <thead>\n",
       " <tr style=\"text-align: left;\">\n",
       "      <th>Epoch</th>\n",
       "      <th>Training Loss</th>\n",
       "      <th>Validation Loss</th>\n",
       "      <th>Precision</th>\n",
       "      <th>Recall</th>\n",
       "      <th>F1 Micro</th>\n",
       "      <th>F1 Macro</th>\n",
       "      <th>Hamming loss</th>\n",
       "      <th>Subset accuracy</th>\n",
       "    </tr>\n",
       "  </thead>\n",
       "  <tbody>\n",
       "    <tr>\n",
       "      <td>1</td>\n",
       "      <td>0.311300</td>\n",
       "      <td>0.295778</td>\n",
       "      <td>0.575613</td>\n",
       "      <td>0.696895</td>\n",
       "      <td>0.630475</td>\n",
       "      <td>0.543419</td>\n",
       "      <td>0.134106</td>\n",
       "      <td>0.247180</td>\n",
       "    </tr>\n",
       "  </tbody>\n",
       "</table><p>"
      ],
      "text/plain": [
       "<IPython.core.display.HTML object>"
      ]
     },
     "metadata": {},
     "output_type": "display_data"
    },
    {
     "ename": "KeyboardInterrupt",
     "evalue": "",
     "output_type": "error",
     "traceback": [
      "\u001b[31m---------------------------------------------------------------------------\u001b[39m",
      "\u001b[31mKeyboardInterrupt\u001b[39m                         Traceback (most recent call last)",
      "\u001b[36mCell\u001b[39m\u001b[36m \u001b[39m\u001b[32mIn[8]\u001b[39m\u001b[32m, line 23\u001b[39m\n\u001b[32m     21\u001b[39m     \u001b[38;5;28mprint\u001b[39m(\u001b[33m\"\u001b[39m\u001b[33mTraining:\u001b[39m\u001b[38;5;130;01m\\n\u001b[39;00m\u001b[33m\"\u001b[39m)\n\u001b[32m     22\u001b[39m     obj = Classifier(args = args)\n\u001b[32m---> \u001b[39m\u001b[32m23\u001b[39m     \u001b[43mobj\u001b[49m\u001b[43m.\u001b[49m\u001b[43mfinetune_model\u001b[49m\u001b[43m(\u001b[49m\u001b[43m)\u001b[49m\n\u001b[32m     24\u001b[39m \u001b[38;5;28;01mif\u001b[39;00m(args.model.is_test):\n\u001b[32m     25\u001b[39m     \u001b[38;5;28mprint\u001b[39m(\u001b[33m\"\u001b[39m\u001b[33mTesting:\u001b[39m\u001b[38;5;130;01m\\n\u001b[39;00m\u001b[33m\"\u001b[39m)\n",
      "\u001b[36mFile \u001b[39m\u001b[32m/data/afield6/umd-dsmolyak/sdg-eval/sdgeval/downstream/classify/train_classifier.py:196\u001b[39m, in \u001b[36mClassifier.finetune_model\u001b[39m\u001b[34m(self)\u001b[39m\n\u001b[32m    190\u001b[39m trainer = Trainer(model = \u001b[38;5;28mself\u001b[39m.model, args = \u001b[38;5;28mself\u001b[39m.training_args,\n\u001b[32m    191\u001b[39m                   train_dataset = processed_train_dataset,\n\u001b[32m    192\u001b[39m                   eval_dataset = processed_eval_dataset,\n\u001b[32m    193\u001b[39m                   compute_metrics = \u001b[38;5;28mself\u001b[39m.compute_metrics,)\n\u001b[32m    195\u001b[39m \u001b[38;5;66;03m#trainer.train(resume_from_checkpoint = True)\u001b[39;00m\n\u001b[32m--> \u001b[39m\u001b[32m196\u001b[39m \u001b[43mtrainer\u001b[49m\u001b[43m.\u001b[49m\u001b[43mtrain\u001b[49m\u001b[43m(\u001b[49m\u001b[43m)\u001b[49m\n\u001b[32m    197\u001b[39m trainer.save_model(\u001b[38;5;28mself\u001b[39m.model_args.path_to_model)\n",
      "\u001b[36mFile \u001b[39m\u001b[32m/data/afield6/umd-dsmolyak/sdg-eval/venv/lib64/python3.11/site-packages/transformers/trainer.py:2241\u001b[39m, in \u001b[36mTrainer.train\u001b[39m\u001b[34m(self, resume_from_checkpoint, trial, ignore_keys_for_eval, **kwargs)\u001b[39m\n\u001b[32m   2239\u001b[39m         hf_hub_utils.enable_progress_bars()\n\u001b[32m   2240\u001b[39m \u001b[38;5;28;01melse\u001b[39;00m:\n\u001b[32m-> \u001b[39m\u001b[32m2241\u001b[39m     \u001b[38;5;28;01mreturn\u001b[39;00m \u001b[43minner_training_loop\u001b[49m\u001b[43m(\u001b[49m\n\u001b[32m   2242\u001b[39m \u001b[43m        \u001b[49m\u001b[43margs\u001b[49m\u001b[43m=\u001b[49m\u001b[43margs\u001b[49m\u001b[43m,\u001b[49m\n\u001b[32m   2243\u001b[39m \u001b[43m        \u001b[49m\u001b[43mresume_from_checkpoint\u001b[49m\u001b[43m=\u001b[49m\u001b[43mresume_from_checkpoint\u001b[49m\u001b[43m,\u001b[49m\n\u001b[32m   2244\u001b[39m \u001b[43m        \u001b[49m\u001b[43mtrial\u001b[49m\u001b[43m=\u001b[49m\u001b[43mtrial\u001b[49m\u001b[43m,\u001b[49m\n\u001b[32m   2245\u001b[39m \u001b[43m        \u001b[49m\u001b[43mignore_keys_for_eval\u001b[49m\u001b[43m=\u001b[49m\u001b[43mignore_keys_for_eval\u001b[49m\u001b[43m,\u001b[49m\n\u001b[32m   2246\u001b[39m \u001b[43m    \u001b[49m\u001b[43m)\u001b[49m\n",
      "\u001b[36mFile \u001b[39m\u001b[32m/data/afield6/umd-dsmolyak/sdg-eval/venv/lib64/python3.11/site-packages/transformers/trainer.py:2553\u001b[39m, in \u001b[36mTrainer._inner_training_loop\u001b[39m\u001b[34m(self, batch_size, args, resume_from_checkpoint, trial, ignore_keys_for_eval)\u001b[39m\n\u001b[32m   2547\u001b[39m \u001b[38;5;28;01mwith\u001b[39;00m context():\n\u001b[32m   2548\u001b[39m     tr_loss_step = \u001b[38;5;28mself\u001b[39m.training_step(model, inputs, num_items_in_batch)\n\u001b[32m   2550\u001b[39m \u001b[38;5;28;01mif\u001b[39;00m (\n\u001b[32m   2551\u001b[39m     args.logging_nan_inf_filter\n\u001b[32m   2552\u001b[39m     \u001b[38;5;129;01mand\u001b[39;00m \u001b[38;5;129;01mnot\u001b[39;00m is_torch_xla_available()\n\u001b[32m-> \u001b[39m\u001b[32m2553\u001b[39m     \u001b[38;5;129;01mand\u001b[39;00m (torch.isnan(tr_loss_step) \u001b[38;5;129;01mor\u001b[39;00m \u001b[43mtorch\u001b[49m\u001b[43m.\u001b[49m\u001b[43misinf\u001b[49m\u001b[43m(\u001b[49m\u001b[43mtr_loss_step\u001b[49m\u001b[43m)\u001b[49m)\n\u001b[32m   2554\u001b[39m ):\n\u001b[32m   2555\u001b[39m     \u001b[38;5;66;03m# if loss is nan or inf simply add the average of previous logged losses\u001b[39;00m\n\u001b[32m   2556\u001b[39m     tr_loss = tr_loss + tr_loss / (\u001b[32m1\u001b[39m + \u001b[38;5;28mself\u001b[39m.state.global_step - \u001b[38;5;28mself\u001b[39m._globalstep_last_logged)\n\u001b[32m   2557\u001b[39m \u001b[38;5;28;01melse\u001b[39;00m:\n",
      "\u001b[31mKeyboardInterrupt\u001b[39m: "
     ]
    }
   ],
   "source": [
    "from transformers import TrainingArguments as HfTrainingArguments\n",
    "from sdgeval.downstream.classify.train_classifier import TrainingArguments, ModelArguments, Classifier, Arguments\n",
    "\n",
    "#arg_parser = transformers.HfArgumentParser((TrainingArguments, MiscArguments))\n",
    "#train_args, model_args = arg_parser.parse_args_into_dataclasses()\n",
    "train_args = TrainingArguments()\n",
    "train_args.metric_for_best_model='eval_f1_micro'\n",
    "\n",
    "model_args = ModelArguments()\n",
    "model_args.is_train = True\n",
    "model_args.text_field = 'TEXT'\n",
    "model_args.label_field = 'Label'\n",
    "model_args.path_to_dataset = '/home/umd-dsmolyak/scr4_afield6/umd-dsmolyak/sdg-eval-scr/data/mimiciii'\n",
    "model_args.n_labels = 10\n",
    "model_args.path_to_model = \"temp/bert-base-uncased-mimiciii-trial\"\n",
    "# model_args.problem_type = 'single_label_classification'\n",
    "model_args.problem_type = \"multi_label_classification\"\n",
    "args = Arguments(train=train_args, model=model_args)\n",
    "print(\"Initialization...\")\n",
    "if(args.model.is_train):\n",
    "    print(\"Training:\\n\")\n",
    "    obj = Classifier(args = args)\n",
    "    obj.finetune_model()\n",
    "if(args.model.is_test):\n",
    "    print(\"Testing:\\n\")\n",
    "    obj = Classifier(args = args)\n",
    "    obj.test_model()"
   ]
  },
  {
   "cell_type": "code",
   "execution_count": null,
   "metadata": {},
   "outputs": [],
   "source": []
  },
  {
   "cell_type": "code",
   "execution_count": null,
   "metadata": {},
   "outputs": [],
   "source": [
    "# from transformers import TrainingArguments as HfTrainingArguments\n",
    "# from sdgeval.downstream.classify.train_classifier import TrainingArguments, ModelArguments, Classifier, Arguments\n",
    "\n",
    "# #arg_parser = transformers.HfArgumentParser((TrainingArguments, MiscArguments))\n",
    "# #train_args, model_args = arg_parser.parse_args_into_dataclasses()\n",
    "# train_args = TrainingArguments()\n",
    "# model_args = ModelArguments()\n",
    "# model_args.is_train = True\n",
    "# model_args.text_field = 'output_text'\n",
    "# model_args.label_field = 'Label'\n",
    "# model_args.path_to_dataset = 'downstream-dummy-test'\n",
    "# model_args.n_labels = 5\n",
    "# model_args.problem_type = 'single_label_classification'\n",
    "# #model_args.problem_type = \"multi_label_classification\"\n",
    "# args = Arguments(train=train_args, model=model_args)\n",
    "# print(\"Initialization...\")\n",
    "# if(args.model.is_train):\n",
    "#     print(\"Training:\\n\")\n",
    "#     obj = Classifier(args = args)\n",
    "#     obj.finetune_model()\n",
    "# if(args.model.is_test):\n",
    "#     print(\"Testing:\\n\")\n",
    "#     obj = Classifier(args = args)\n",
    "#     obj.test_model()"
   ]
  },
  {
   "cell_type": "markdown",
   "metadata": {},
   "source": [
    "#### Testing the downstream classifier"
   ]
  },
  {
   "cell_type": "code",
   "execution_count": 2,
   "metadata": {
    "scrolled": true,
    "tags": []
   },
   "outputs": [
    {
     "name": "stderr",
     "output_type": "stream",
     "text": [
      "/data/afield6/umd-dsmolyak/sdg-eval/venv/lib64/python3.11/site-packages/transformers/training_args.py:1594: FutureWarning: `evaluation_strategy` is deprecated and will be removed in version 4.46 of 🤗 Transformers. Use `eval_strategy` instead\n",
      "  warnings.warn(\n",
      "Using the `WANDB_DISABLED` environment variable is deprecated and will be removed in v5. Use the --report_to flag to control the integrations used for logging result (for instance --report_to none).\n"
     ]
    },
    {
     "name": "stdout",
     "output_type": "stream",
     "text": [
      "Initialization...\n",
      "Testing:\n",
      "\n",
      "Successfully loaded dataset '/home/umd-dsmolyak/scr4_afield6/umd-dsmolyak/sdg-eval-scr/data/mimiciii' from Hugging Face Hub.\n",
      "Checkpoint exists:  temp/bert-base-uncased-mimiciii-trial \n",
      "Loading model from the checkpoint...\n",
      "Preprocessing dataset...\n"
     ]
    },
    {
     "data": {
      "application/vnd.jupyter.widget-view+json": {
       "model_id": "f7564baf562c40998608df64ec855afa",
       "version_major": 2,
       "version_minor": 0
      },
      "text/plain": [
       "Running tokenizer on dataset:   0%|          | 0/6204 [00:00<?, ? examples/s]"
      ]
     },
     "metadata": {},
     "output_type": "display_data"
    },
    {
     "name": "stderr",
     "output_type": "stream",
     "text": [
      "/data/afield6/umd-dsmolyak/sdg-eval/venv/lib64/python3.11/site-packages/transformers/tokenization_utils_base.py:2690: FutureWarning: The `pad_to_max_length` argument is deprecated and will be removed in a future version, use `padding=True` or `padding='longest'` to pad to the longest sequence in the batch, or use `padding='max_length'` to pad to a max length. In this case, you can give a specific length with `max_length` (e.g. `max_length=45`) or leave max_length to None to pad to the maximal input size of the model (e.g. 512 for Bert).\n",
      "  warnings.warn(\n",
      "Detected kernel version 4.18.0, which is below the recommended minimum of 5.5.0; this can cause the process to hang. It is recommended to upgrade the kernel to the minimum version or higher.\n"
     ]
    },
    {
     "name": "stdout",
     "output_type": "stream",
     "text": [
      "Model evaluation begins...\n"
     ]
    },
    {
     "data": {
      "text/html": [
       "\n",
       "    <div>\n",
       "      \n",
       "      <progress value='776' max='776' style='width:300px; height:20px; vertical-align: middle;'></progress>\n",
       "      [776/776 00:26]\n",
       "    </div>\n",
       "    "
      ],
      "text/plain": [
       "<IPython.core.display.HTML object>"
      ]
     },
     "metadata": {},
     "output_type": "display_data"
    },
    {
     "name": "stdout",
     "output_type": "stream",
     "text": [
      "Saving file!\n",
      "Evaluation results:  {'eval_loss': 0.2650490701198578, 'eval_model_preparation_time': 0.0029, 'eval_Precision': 0.6461219411032767, 'eval_Recall': 0.7208032574495651, 'eval_f1_micro': 0.6814225099514457, 'eval_f1_macro': 0.6435612600588617, 'eval_Hamming Loss': 0.11739200515796261, 'eval_Subset Accuracy': 0.31012250161186333, 'eval_runtime': 27.7707, 'eval_samples_per_second': 223.401, 'eval_steps_per_second': 27.943}\n"
     ]
    }
   ],
   "source": [
    "from transformers import TrainingArguments as HfTrainingArguments\n",
    "from sdgeval.downstream.classify.train_classifier import TrainingArguments, ModelArguments, Classifier, Arguments\n",
    "\n",
    "#arg_parser = transformers.HfArgumentParser((TrainingArguments, MiscArguments))\n",
    "#train_args, model_args = arg_parser.parse_args_into_dataclasses()\n",
    "train_args = TrainingArguments()\n",
    "model_args = ModelArguments()\n",
    "model_args.is_train = False\n",
    "model_args.is_test = True\n",
    "model_args.text_field = 'TEXT'\n",
    "model_args.label_field = 'Label'\n",
    "model_args.path_to_model = \"temp/bert-base-uncased-mimiciii-trial\"\n",
    "model_args.path_to_dataset = '/home/umd-dsmolyak/scr4_afield6/umd-dsmolyak/sdg-eval-scr/data/mimiciii'\n",
    "model_args.path_to_aggregated_results = 'temp/bert-base-mimiciii-results.csv'\n",
    "model_args.n_labels = 10\n",
    "model_args.problem_type = \"multi_label_classification\"\n",
    "# model_args.retain_columns = ['label','input_prompt']\n",
    "model_args.retain_columns = ['ICD9_CODE', 'LONG_TITLE']\n",
    "args = Arguments(train=train_args, model=model_args)\n",
    "print(\"Initialization...\")\n",
    "if args.model.is_train:\n",
    "    print(\"Training:\\n\")\n",
    "    obj = Classifier(args = args)\n",
    "    obj.finetune_model()\n",
    "if args.model.is_test:\n",
    "    print(\"Testing:\\n\")\n",
    "    obj = Classifier(args = args)\n",
    "    obj.test_model()"
   ]
  },
  {
   "cell_type": "code",
   "execution_count": 4,
   "metadata": {},
   "outputs": [],
   "source": [
    "eval_df = pd.read_csv('inf-aggs.csv', usecols=range(9))"
   ]
  },
  {
   "cell_type": "code",
   "execution_count": 6,
   "metadata": {},
   "outputs": [
    {
     "data": {
      "text/html": [
       "<div>\n",
       "<style scoped>\n",
       "    .dataframe tbody tr th:only-of-type {\n",
       "        vertical-align: middle;\n",
       "    }\n",
       "\n",
       "    .dataframe tbody tr th {\n",
       "        vertical-align: top;\n",
       "    }\n",
       "\n",
       "    .dataframe thead th {\n",
       "        text-align: right;\n",
       "    }\n",
       "</style>\n",
       "<table border=\"1\" class=\"dataframe\">\n",
       "  <thead>\n",
       "    <tr style=\"text-align: right;\">\n",
       "      <th></th>\n",
       "      <th>training data</th>\n",
       "      <th>metric</th>\n",
       "      <th>score</th>\n",
       "    </tr>\n",
       "  </thead>\n",
       "  <tbody>\n",
       "    <tr>\n",
       "      <th>0</th>\n",
       "      <td>synthetic-only</td>\n",
       "      <td>precision</td>\n",
       "      <td>0.375</td>\n",
       "    </tr>\n",
       "  </tbody>\n",
       "</table>\n",
       "</div>"
      ],
      "text/plain": [
       "    training data     metric  score\n",
       "0  synthetic-only  precision  0.375"
      ]
     },
     "execution_count": 6,
     "metadata": {},
     "output_type": "execute_result"
    }
   ],
   "source": [
    "names = ['synthetic-only', 'real-only', 'real+synthetic']\n",
    "metrics = ['precision', 'recall', 'f1']\n",
    "plot_df = []\n",
    "for i, row in eval_df.iterrows():\n",
    "    if i > 2:\n",
    "        continue\n",
    "    for metric in metrics:\n",
    "        plot_df.append([names[i], metric, row[f'eval_{metric}']])\n",
    "plot_df = pd.DataFrame(plot_df, columns=['training data', 'metric', 'score'])\n",
    "plot_df.head(1)"
   ]
  },
  {
   "cell_type": "code",
   "execution_count": 10,
   "metadata": {},
   "outputs": [],
   "source": [
    "import seaborn as sns\n",
    "import matplotlib.pyplot as plt"
   ]
  },
  {
   "cell_type": "code",
   "execution_count": 14,
   "metadata": {},
   "outputs": [
    {
     "data": {
      "text/plain": [
       "<matplotlib.legend.Legend at 0x1554294a2290>"
      ]
     },
     "execution_count": 14,
     "metadata": {},
     "output_type": "execute_result"
    },
    {
     "data": {
      "image/png": "[encoded data removed]",
      "text/plain": [
       "<Figure size 500x300 with 1 Axes>"
      ]
     },
     "metadata": {},
     "output_type": "display_data"
    }
   ],
   "source": [
    "plt.figure(figsize=(5,3))\n",
    "sns.barplot(plot_df, x='metric', y='score', hue='training data')\n",
    "plt.legend(loc='lower right')"
   ]
  },
  {
   "cell_type": "code",
   "execution_count": 25,
   "metadata": {
    "scrolled": true,
    "tags": []
   },
   "outputs": [
    {
     "name": "stderr",
     "output_type": "stream",
     "text": [
      "/data/afield6/umd-dsmolyak/sdg-eval/venv/lib64/python3.11/site-packages/transformers/training_args.py:1594: FutureWarning: `evaluation_strategy` is deprecated and will be removed in version 4.46 of 🤗 Transformers. Use `eval_strategy` instead\n",
      "  warnings.warn(\n",
      "[WARNING|integration_utils.py:100] 2025-03-06 13:29:42,674 >> Using the `WANDB_DISABLED` environment variable is deprecated and will be removed in v5. Use the --report_to flag to control the integrations used for logging result (for instance --report_to none).\n"
     ]
    },
    {
     "name": "stdout",
     "output_type": "stream",
     "text": [
      "Initialization...\n",
      "Testing:\n",
      "\n",
      "DatasetDict({\n",
      "    train: Dataset({\n",
      "        features: ['Unnamed: 0', 'label', 'input_prompt', 'output_text', 'Label'],\n",
      "        num_rows: 17\n",
      "    })\n",
      "    validation: Dataset({\n",
      "        features: ['Unnamed: 0', 'label', 'input_prompt', 'output_text', 'Label'],\n",
      "        num_rows: 4\n",
      "    })\n",
      "    test: Dataset({\n",
      "        features: ['Unnamed: 0', 'label', 'input_prompt', 'output_text', 'Label'],\n",
      "        num_rows: 4\n",
      "    })\n",
      "})\n",
      "Successfully loaded dataset 'downstream-dummy-test' from Hugging Face Hub.\n",
      "Checkpoint exists:  temp-classifier \n",
      "Loading model from the checkpoint...\n",
      "Preprocessing dataset...\n"
     ]
    },
    {
     "name": "stderr",
     "output_type": "stream",
     "text": [
      "/data/afield6/umd-dsmolyak/sdg-eval/venv/lib64/python3.11/site-packages/transformers/tokenization_utils_base.py:2690: FutureWarning: The `pad_to_max_length` argument is deprecated and will be removed in a future version, use `padding=True` or `padding='longest'` to pad to the longest sequence in the batch, or use `padding='max_length'` to pad to a max length. In this case, you can give a specific length with `max_length` (e.g. `max_length=45`) or leave max_length to None to pad to the maximal input size of the model (e.g. 512 for Bert).\n",
      "  warnings.warn(\n",
      "03/06/2025 13:29:44:WARNING:Detected kernel version 4.18.0, which is below the recommended minimum of 5.5.0; this can cause the process to hang. It is recommended to upgrade the kernel to the minimum version or higher.\n"
     ]
    },
    {
     "name": "stdout",
     "output_type": "stream",
     "text": [
      "Model evaluation begins...\n"
     ]
    },
    {
     "data": {
      "text/html": [
       "\n",
       "    <div>\n",
       "      \n",
       "      <progress value='1' max='1' style='width:300px; height:20px; vertical-align: middle;'></progress>\n",
       "      [1/1 : < :]\n",
       "    </div>\n",
       "    "
      ],
      "text/plain": [
       "<IPython.core.display.HTML object>"
      ]
     },
     "metadata": {},
     "output_type": "display_data"
    },
    {
     "name": "stdout",
     "output_type": "stream",
     "text": [
      "Saving file!\n",
      "Evaluation results:  {'eval_loss': 0.8738090991973877, 'eval_model_preparation_time': 0.0031, 'eval_precision': 0.375, 'eval_recall': 0.5, 'eval_f1': 0.42857142857142855, 'eval_accuracy': 0.75, 'eval_runtime': 0.0296, 'eval_samples_per_second': 134.992, 'eval_steps_per_second': 33.748}\n"
     ]
    },
    {
     "name": "stderr",
     "output_type": "stream",
     "text": [
      "/data/afield6/umd-dsmolyak/sdg-eval/venv/lib64/python3.11/site-packages/sklearn/metrics/_classification.py:1565: UndefinedMetricWarning: Precision is ill-defined and being set to 0.0 in labels with no predicted samples. Use `zero_division` parameter to control this behavior.\n",
      "  _warn_prf(average, modifier, f\"{metric.capitalize()} is\", len(result))\n"
     ]
    }
   ],
   "source": [
    "from transformers import TrainingArguments as HfTrainingArguments\n",
    "from sdgeval.downstream.classify.train_classifier import TrainingArguments, ModelArguments, Classifier, Arguments\n",
    "\n",
    "#arg_parser = transformers.HfArgumentParser((TrainingArguments, MiscArguments))\n",
    "#train_args, model_args = arg_parser.parse_args_into_dataclasses()\n",
    "train_args = TrainingArguments()\n",
    "model_args = ModelArguments()\n",
    "model_args.is_train = False\n",
    "model_args.is_test = True\n",
    "model_args.text_field = 'output_text'\n",
    "model_args.label_field = 'Label'\n",
    "model_args.path_to_model = 'temp-classifier'\n",
    "model_args.path_to_dataset = 'downstream-dummy-test'\n",
    "model_args.n_labels = 5\n",
    "model_args.problem_type = \"single_label_classification\"\n",
    "model_args.retain_columns = ['label','input_prompt']\n",
    "#model_args.retain_columns = ['ICD9_CODE', 'LONG_TITLE']\n",
    "args = Arguments(train=train_args, model=model_args)\n",
    "print(\"Initialization...\")\n",
    "if args.model.is_train:\n",
    "    print(\"Training:\\n\")\n",
    "    obj = Classifier(args = args)\n",
    "    obj.finetune_model()\n",
    "if args.model.is_test:\n",
    "    print(\"Testing:\\n\")\n",
    "    obj = Classifier(args = args)\n",
    "    obj.test_model()"
   ]
  },
  {
   "cell_type": "markdown",
   "metadata": {},
   "source": [
    "### Comparing Real and Synthetic Downstream Results"
   ]
  },
  {
   "cell_type": "code",
   "execution_count": 26,
   "metadata": {},
   "outputs": [],
   "source": [
    "def experiment_compare_real_synthetic(args, retrain=False, plot_path='temp/results.png', metrics=['Precision', 'Recall', 'f1_micro']):\n",
    "    model_args = args.model\n",
    "    \n",
    "    path_to_model = model_args.path_to_model\n",
    "    model_args.is_train = True\n",
    "    model_args.is_test = False\n",
    "    for synth_arg in ['real-only', 'synthetic-train-only', 'synthetic-train-augment']:\n",
    "        print(f\"Training {synth_arg}:\\n\")\n",
    "        model_args.synthetic_usage = synth_arg\n",
    "        model_args.path_to_model = f'{path_to_model}/{synth_arg}'\n",
    "        if not os.path.exists(model_args.path_to_model) or retrain:\n",
    "            obj = Classifier(args = args)\n",
    "            obj.finetune_model()\n",
    "    \n",
    "    model_args.is_train = False\n",
    "    model_args.is_test = True\n",
    "    if not os.path.exists(model_args.path_to_aggregated_results):\n",
    "        for synth_arg in ['real-only', 'synthetic-train-only', 'synthetic-train-augment']:\n",
    "            print(f\"Testing {synth_arg}:\\n\")\n",
    "            model_args.path_to_model = f'{path_to_model}/{synth_arg}'\n",
    "            obj = Classifier(args = args)\n",
    "            obj.test_model()\n",
    "        \n",
    "    if plot_path:\n",
    "        eval_df = pd.read_csv(model_args.path_to_aggregated_results)\n",
    "        plot_df = []\n",
    "        for i, row in eval_df.iterrows():\n",
    "            print(row['model_name'])\n",
    "            name = row['model_name'][len(path_to_model)+1:]\n",
    "            print(name)\n",
    "            for metric in metrics:\n",
    "                plot_df.append([name, metric, row[f'eval_{metric}']])\n",
    "        plot_df = pd.DataFrame(plot_df, columns=['Training Data', 'Metric', 'Score'])\n",
    "        plt.figure(figsize=(5,3))\n",
    "        sns.barplot(plot_df, x='Metric', y='Score', hue='Training Data')\n",
    "        plt.legend(loc='lower right')\n",
    "        plt.savefig(plot_path)"
   ]
  },
  {
   "cell_type": "code",
   "execution_count": 4,
   "metadata": {},
   "outputs": [],
   "source": [
    "from transformers import TrainingArguments as HfTrainingArguments\n",
    "from sdgeval.downstream.classify.train_classifier import TrainingArguments, ModelArguments, Classifier, Arguments"
   ]
  },
  {
   "cell_type": "code",
   "execution_count": 27,
   "metadata": {
    "scrolled": true,
    "tags": []
   },
   "outputs": [
    {
     "name": "stderr",
     "output_type": "stream",
     "text": [
      "/data/afield6/umd-dsmolyak/sdg-eval/venv/lib64/python3.11/site-packages/transformers/training_args.py:1594: FutureWarning: `evaluation_strategy` is deprecated and will be removed in version 4.46 of 🤗 Transformers. Use `eval_strategy` instead\n",
      "  warnings.warn(\n",
      "Using the `WANDB_DISABLED` environment variable is deprecated and will be removed in v5. Use the --report_to flag to control the integrations used for logging result (for instance --report_to none).\n"
     ]
    },
    {
     "name": "stdout",
     "output_type": "stream",
     "text": [
      "Initialization...\n",
      "Training real-only:\n",
      "\n",
      "Training synthetic-train-only:\n",
      "\n",
      "Training synthetic-train-augment:\n",
      "\n",
      "temp/bert-base-mimiciii/real-only\n",
      "real-only\n",
      "temp/bert-base-mimiciii/synthetic-train-only\n",
      "synthetic-train-only\n",
      "temp/bert-base-mimiciii/synthetic-train-augment\n",
      "synthetic-train-augment\n",
      "temp/bert-base-mimiciii/real-only\n",
      "real-only\n",
      "temp/bert-base-mimiciii/synthetic-train-only\n",
      "synthetic-train-only\n",
      "temp/bert-base-mimiciii/synthetic-train-augment\n",
      "synthetic-train-augment\n"
     ]
    },
    {
     "data": {
      "image/png": "[encoded data removed]",
      "text/plain": [
       "<Figure size 500x300 with 1 Axes>"
      ]
     },
     "metadata": {},
     "output_type": "display_data"
    }
   ],
   "source": [
    "train_args = TrainingArguments()\n",
    "train_args.metric_for_best_model='eval_f1_micro'\n",
    "train_args.num_train_epochs=1\n",
    "\n",
    "model_args = ModelArguments()\n",
    "model_args.is_train = True\n",
    "model_args.is_test = False\n",
    "model_args.text_field = 'TEXT'\n",
    "model_args.label_field = 'Label'\n",
    "model_args.path_to_model = \"temp/bert-base-mimiciii\"\n",
    "model_args.path_to_dataset = '/home/umd-dsmolyak/scr4_afield6/umd-dsmolyak/sdg-eval-scr/data/mimiciii'\n",
    "model_args.path_to_aggregated_results = 'temp/bert-base-mimiciii-results.csv'\n",
    "model_args.n_labels = 10\n",
    "model_args.problem_type = \"multi_label_classification\"\n",
    "model_args.retain_columns = ['ICD9_CODE', 'LONG_TITLE']\n",
    "\n",
    "args = Arguments(train=train_args, model=model_args)\n",
    "print(\"Initialization...\")\n",
    "\n",
    "experiment_compare_real_synthetic(args)"
   ]
  },
  {
   "cell_type": "code",
   "execution_count": null,
   "metadata": {},
   "outputs": [],
   "source": []
  },
  {
   "cell_type": "markdown",
   "metadata": {},
   "source": [
    "### Fairness audit over the test results"
   ]
  },
  {
   "cell_type": "code",
   "execution_count": 36,
   "metadata": {},
   "outputs": [
    {
     "data": {
      "text/html": [
       "<div>\n",
       "<style scoped>\n",
       "    .dataframe tbody tr th:only-of-type {\n",
       "        vertical-align: middle;\n",
       "    }\n",
       "\n",
       "    .dataframe tbody tr th {\n",
       "        vertical-align: top;\n",
       "    }\n",
       "\n",
       "    .dataframe thead th {\n",
       "        text-align: right;\n",
       "    }\n",
       "</style>\n",
       "<table border=\"1\" class=\"dataframe\">\n",
       "  <thead>\n",
       "    <tr style=\"text-align: right;\">\n",
       "      <th></th>\n",
       "      <th>Accuracy</th>\n",
       "      <th>Group Type</th>\n",
       "      <th>Num of Samples</th>\n",
       "      <th>f1_macro</th>\n",
       "      <th>f1_micro</th>\n",
       "    </tr>\n",
       "  </thead>\n",
       "  <tbody>\n",
       "    <tr>\n",
       "      <th>0</th>\n",
       "      <td>0.0</td>\n",
       "      <td>2</td>\n",
       "      <td>1</td>\n",
       "      <td>0.0</td>\n",
       "      <td>0.0</td>\n",
       "    </tr>\n",
       "    <tr>\n",
       "      <th>1</th>\n",
       "      <td>1.0</td>\n",
       "      <td>3</td>\n",
       "      <td>3</td>\n",
       "      <td>1.0</td>\n",
       "      <td>1.0</td>\n",
       "    </tr>\n",
       "  </tbody>\n",
       "</table>\n",
       "</div>"
      ],
      "text/plain": [
       "   Accuracy  Group Type  Num of Samples  f1_macro  f1_micro\n",
       "0       0.0           2               1       0.0       0.0\n",
       "1       1.0           3               3       1.0       1.0"
      ]
     },
     "execution_count": 36,
     "metadata": {},
     "output_type": "execute_result"
    }
   ],
   "source": [
    "from melteval.fairness.metrics import analyze_group_fairness_performance\n",
    "import pandas as pd\n",
    "df = pd.read_csv('outputs.csv')\n",
    "p_df, f_df = analyze_group_fairness_performance(df, problem_type = \"single_label\", num_classes = 5, subgroup_type = \"label\")\n",
    "p_df.head()"
   ]
  },
  {
   "cell_type": "code",
   "execution_count": 41,
   "metadata": {},
   "outputs": [
    {
     "data": {
      "text/html": [
       "<div>\n",
       "<style scoped>\n",
       "    .dataframe tbody tr th:only-of-type {\n",
       "        vertical-align: middle;\n",
       "    }\n",
       "\n",
       "    .dataframe tbody tr th {\n",
       "        vertical-align: top;\n",
       "    }\n",
       "\n",
       "    .dataframe thead th {\n",
       "        text-align: right;\n",
       "    }\n",
       "</style>\n",
       "<table border=\"1\" class=\"dataframe\">\n",
       "  <thead>\n",
       "    <tr style=\"text-align: right;\">\n",
       "      <th></th>\n",
       "      <th>Group Type</th>\n",
       "      <th>metric</th>\n",
       "      <th>value</th>\n",
       "    </tr>\n",
       "  </thead>\n",
       "  <tbody>\n",
       "    <tr>\n",
       "      <th>0</th>\n",
       "      <td>2</td>\n",
       "      <td>Accuracy</td>\n",
       "      <td>0.0</td>\n",
       "    </tr>\n",
       "    <tr>\n",
       "      <th>1</th>\n",
       "      <td>3</td>\n",
       "      <td>Accuracy</td>\n",
       "      <td>1.0</td>\n",
       "    </tr>\n",
       "    <tr>\n",
       "      <th>2</th>\n",
       "      <td>2</td>\n",
       "      <td>f1_macro</td>\n",
       "      <td>0.0</td>\n",
       "    </tr>\n",
       "    <tr>\n",
       "      <th>3</th>\n",
       "      <td>3</td>\n",
       "      <td>f1_macro</td>\n",
       "      <td>1.0</td>\n",
       "    </tr>\n",
       "    <tr>\n",
       "      <th>4</th>\n",
       "      <td>2</td>\n",
       "      <td>f1_micro</td>\n",
       "      <td>0.0</td>\n",
       "    </tr>\n",
       "    <tr>\n",
       "      <th>5</th>\n",
       "      <td>3</td>\n",
       "      <td>f1_micro</td>\n",
       "      <td>1.0</td>\n",
       "    </tr>\n",
       "  </tbody>\n",
       "</table>\n",
       "</div>"
      ],
      "text/plain": [
       "   Group Type    metric  value\n",
       "0           2  Accuracy    0.0\n",
       "1           3  Accuracy    1.0\n",
       "2           2  f1_macro    0.0\n",
       "3           3  f1_macro    1.0\n",
       "4           2  f1_micro    0.0\n",
       "5           3  f1_micro    1.0"
      ]
     },
     "execution_count": 41,
     "metadata": {},
     "output_type": "execute_result"
    }
   ],
   "source": [
    "curr_df = p_df.melt(id_vars=['Group Type'], value_vars=['Accuracy', 'f1_macro', 'f1_micro']).rename(columns={'variable': 'metric'})\n",
    "curr_df"
   ]
  },
  {
   "cell_type": "code",
   "execution_count": 46,
   "metadata": {},
   "outputs": [],
   "source": [
    "import seaborn as sns"
   ]
  },
  {
   "cell_type": "code",
   "execution_count": 45,
   "metadata": {},
   "outputs": [
    {
     "data": {
      "text/plain": [
       "<Axes: xlabel='metric', ylabel='value'>"
      ]
     },
     "execution_count": 45,
     "metadata": {},
     "output_type": "execute_result"
    },
    {
     "data": {
      "image/png": "[encoded data removed]",
      "text/plain": [
       "<Figure size 640x480 with 1 Axes>"
      ]
     },
     "metadata": {},
     "output_type": "display_data"
    }
   ],
   "source": [
    "sns.barplot(curr_df, x='metric', y='value', hue='Group Type')"
   ]
  },
  {
   "cell_type": "code",
   "execution_count": 37,
   "metadata": {},
   "outputs": [
    {
     "data": {
      "text/html": [
       "<div>\n",
       "<style scoped>\n",
       "    .dataframe tbody tr th:only-of-type {\n",
       "        vertical-align: middle;\n",
       "    }\n",
       "\n",
       "    .dataframe tbody tr th {\n",
       "        vertical-align: top;\n",
       "    }\n",
       "\n",
       "    .dataframe thead th {\n",
       "        text-align: right;\n",
       "    }\n",
       "</style>\n",
       "<table border=\"1\" class=\"dataframe\">\n",
       "  <thead>\n",
       "    <tr style=\"text-align: right;\">\n",
       "      <th></th>\n",
       "      <th>Group Type</th>\n",
       "      <th>F1-micro-diff</th>\n",
       "      <th>F1-macro-diff</th>\n",
       "    </tr>\n",
       "  </thead>\n",
       "  <tbody>\n",
       "    <tr>\n",
       "      <th>0</th>\n",
       "      <td>2</td>\n",
       "      <td>1.0</td>\n",
       "      <td>1.0</td>\n",
       "    </tr>\n",
       "    <tr>\n",
       "      <th>1</th>\n",
       "      <td>3</td>\n",
       "      <td>1.0</td>\n",
       "      <td>1.0</td>\n",
       "    </tr>\n",
       "  </tbody>\n",
       "</table>\n",
       "</div>"
      ],
      "text/plain": [
       "   Group Type  F1-micro-diff  F1-macro-diff\n",
       "0           2            1.0            1.0\n",
       "1           3            1.0            1.0"
      ]
     },
     "execution_count": 37,
     "metadata": {},
     "output_type": "execute_result"
    }
   ],
   "source": [
    "f_df.head()"
   ]
  },
  {
   "cell_type": "markdown",
   "metadata": {},
   "source": [
    "### Qualitative comparison of the real and synthetic data"
   ]
  },
  {
   "cell_type": "code",
   "execution_count": 33,
   "metadata": {},
   "outputs": [
    {
     "name": "stdout",
     "output_type": "stream",
     "text": [
      "                                                    text  label\n",
      "71787  BBC set for major shake-up, claims newspaper L...      2\n",
      "67218  Marsh averts cash crunch Embattled insurance b...      2\n",
      "54066  Jeter, Yankees Look to Take Control (AP) AP - ...      1\n",
      "7168   Flying the Sun to Safety When the Genesis caps...      3\n",
      "29618  Stocks Seen Flat as Nortel and Oil Weigh  NEW ...      2\n",
      "                                              source  \\\n",
      "0   for 10-year-olds in the US, with 6.4 being fo...   \n",
      "1   to 2 p.m., 5 a.m. to 10 p.m., and 2 a.m. to 3...   \n",
      "2  .1 [thread.conduit.conduit.interrupt(Native Me...   \n",
      "3  .4 (5) a. The requirement of a law (1) that a ...   \n",
      "4  . \"It's hard to imagine a single person having...   \n",
      "\n",
      "                                           reference  \n",
      "0  BBC set for major shake-up, claims newspaper L...  \n",
      "1  Marsh averts cash crunch Embattled insurance b...  \n",
      "2  Jeter, Yankees Look to Take Control (AP) AP - ...  \n",
      "3  Flying the Sun to Safety When the Genesis caps...  \n",
      "4  Stocks Seen Flat as Nortel and Oil Weigh  NEW ...  \n"
     ]
    },
    {
     "data": {
      "application/vnd.jupyter.widget-view+json": {
       "model_id": "304f8759d9f043309ab9e573bdf2548f",
       "version_major": 2,
       "version_minor": 0
      },
      "text/plain": [
       "modules.json:   0%|          | 0.00/349 [00:00<?, ?B/s]"
      ]
     },
     "metadata": {},
     "output_type": "display_data"
    },
    {
     "data": {
      "application/vnd.jupyter.widget-view+json": {
       "model_id": "0e64368065f4417c886c1df9470239ce",
       "version_major": 2,
       "version_minor": 0
      },
      "text/plain": [
       "config_sentence_transformers.json:   0%|          | 0.00/116 [00:00<?, ?B/s]"
      ]
     },
     "metadata": {},
     "output_type": "display_data"
    },
    {
     "data": {
      "application/vnd.jupyter.widget-view+json": {
       "model_id": "363c363af5ad4c07bcde4be8e1c947d1",
       "version_major": 2,
       "version_minor": 0
      },
      "text/plain": [
       "README.md:   0%|          | 0.00/10.5k [00:00<?, ?B/s]"
      ]
     },
     "metadata": {},
     "output_type": "display_data"
    },
    {
     "data": {
      "application/vnd.jupyter.widget-view+json": {
       "model_id": "5e7283399e8a4b1ca23293d1fe2bb988",
       "version_major": 2,
       "version_minor": 0
      },
      "text/plain": [
       "sentence_bert_config.json:   0%|          | 0.00/53.0 [00:00<?, ?B/s]"
      ]
     },
     "metadata": {},
     "output_type": "display_data"
    },
    {
     "data": {
      "application/vnd.jupyter.widget-view+json": {
       "model_id": "3073952df46e4d8fbaac9f7c20093c0a",
       "version_major": 2,
       "version_minor": 0
      },
      "text/plain": [
       "config.json:   0%|          | 0.00/612 [00:00<?, ?B/s]"
      ]
     },
     "metadata": {},
     "output_type": "display_data"
    },
    {
     "data": {
      "application/vnd.jupyter.widget-view+json": {
       "model_id": "7d6b7fc54e614bd2a642b7dff12a659f",
       "version_major": 2,
       "version_minor": 0
      },
      "text/plain": [
       "model.safetensors:   0%|          | 0.00/90.9M [00:00<?, ?B/s]"
      ]
     },
     "metadata": {},
     "output_type": "display_data"
    },
    {
     "data": {
      "application/vnd.jupyter.widget-view+json": {
       "model_id": "bbbdb16c9e3648fe9cdf7ca493f365a2",
       "version_major": 2,
       "version_minor": 0
      },
      "text/plain": [
       "tokenizer_config.json:   0%|          | 0.00/350 [00:00<?, ?B/s]"
      ]
     },
     "metadata": {},
     "output_type": "display_data"
    },
    {
     "data": {
      "application/vnd.jupyter.widget-view+json": {
       "model_id": "a5ad7688d3de4c02bec6cb81faffe543",
       "version_major": 2,
       "version_minor": 0
      },
      "text/plain": [
       "vocab.txt:   0%|          | 0.00/232k [00:00<?, ?B/s]"
      ]
     },
     "metadata": {},
     "output_type": "display_data"
    },
    {
     "data": {
      "application/vnd.jupyter.widget-view+json": {
       "model_id": "fa5077f822ed42e49b0041bd2bd544ac",
       "version_major": 2,
       "version_minor": 0
      },
      "text/plain": [
       "tokenizer.json:   0%|          | 0.00/466k [00:00<?, ?B/s]"
      ]
     },
     "metadata": {},
     "output_type": "display_data"
    },
    {
     "data": {
      "application/vnd.jupyter.widget-view+json": {
       "model_id": "537432a6f222492eb89bde5bcaca2724",
       "version_major": 2,
       "version_minor": 0
      },
      "text/plain": [
       "special_tokens_map.json:   0%|          | 0.00/112 [00:00<?, ?B/s]"
      ]
     },
     "metadata": {},
     "output_type": "display_data"
    },
    {
     "data": {
      "application/vnd.jupyter.widget-view+json": {
       "model_id": "1fa15081b56241a0aa30a7c391799513",
       "version_major": 2,
       "version_minor": 0
      },
      "text/plain": [
       "config.json:   0%|          | 0.00/190 [00:00<?, ?B/s]"
      ]
     },
     "metadata": {},
     "output_type": "display_data"
    },
    {
     "name": "stdout",
     "output_type": "stream",
     "text": [
      "FID Score:  {'real_scores': [0.19882024824619293, 0.5197998285293579, 0.3043212294578552, 0.36804530024528503, 0.21189504861831665, 0.27072909474372864, 0.22107954323291779, 0.49763891100883484, 0.3276039659976959, 0.3325451612472534, 0.19894279539585114, 0.1309741735458374, 0.294197678565979, 0.5121616125106812, 0.20339660346508026, 0.272601455450058, 0.24454987049102783, 0.3117101192474365, 0.339070588350296, 0.30708345770835876, 0.2751446068286896, 0.2783380150794983, 0.21815480291843414, 0.3848908245563507, 0.3468376398086548], 'synth_scores': [0.017419874668121338, 0.078412726521492, 0.050519850105047226, 0.001608358696103096, -0.04505876079201698, 0.16873693466186523, -0.06449153274297714, 0.08365392684936523, 0.004800405353307724, 0.05975031107664108, 0.07138842344284058, 0.04712032526731491, -0.021226773038506508, 0.03110068291425705, -0.023290827870368958, -0.00902543030679226, 0.09353869408369064, 0.1213984563946724, 0.07638630270957947, 0.05194569751620293, 0.08123186230659485, 0.02299438789486885, 0.0878237932920456, -0.07936084270477295, -0.012838578782975674]}\n"
     ]
    },
    {
     "data": {
      "application/vnd.jupyter.widget-view+json": {
       "model_id": "56acbf2be72a40fd9f5f1f00316954e3",
       "version_major": 2,
       "version_minor": 0
      },
      "text/plain": [
       "Featurizing p:   0%|          | 0/25 [00:00<?, ?it/s]"
      ]
     },
     "metadata": {},
     "output_type": "display_data"
    },
    {
     "data": {
      "application/vnd.jupyter.widget-view+json": {
       "model_id": "a4f2232fbb0443cfb2645921b8a57b3e",
       "version_major": 2,
       "version_minor": 0
      },
      "text/plain": [
       "Featurizing q:   0%|          | 0/25 [00:00<?, ?it/s]"
      ]
     },
     "metadata": {},
     "output_type": "display_data"
    },
    {
     "name": "stderr",
     "output_type": "stream",
     "text": [
      "WARNING clustering 50 points to 2 centroids: please provide at least 78 training points\n"
     ]
    },
    {
     "name": "stdout",
     "output_type": "stream",
     "text": [
      "namespace(p_hist=array([0.4, 0.6]), q_hist=array([0., 1.]), divergence_curve=array([[1.00000000e+00, 0.00000000e+00],\n",
      "       [9.99998000e-01, 4.62962407e-12],\n",
      "       [9.19396819e-01, 7.64266233e-03],\n",
      "       [8.44078750e-01, 2.90417126e-02],\n",
      "       [7.73779716e-01, 6.20214465e-02],\n",
      "       [7.08244585e-01, 1.04557979e-01],\n",
      "       [6.47227025e-01, 1.54774779e-01],\n",
      "       [5.90489344e-01, 2.10938203e-01],\n",
      "       [5.37802339e-01, 2.71453033e-01],\n",
      "       [4.88945138e-01, 3.34858006e-01],\n",
      "       [4.43705051e-01, 3.99821356e-01],\n",
      "       [4.01877411e-01, 4.65136339e-01],\n",
      "       [3.63265421e-01, 5.29716779e-01],\n",
      "       [3.27680000e-01, 5.92592593e-01],\n",
      "       [2.94939629e-01, 6.52905331e-01],\n",
      "       [2.64870197e-01, 7.09903710e-01],\n",
      "       [2.37304846e-01, 7.62939148e-01],\n",
      "       [2.12083814e-01, 8.11461299e-01],\n",
      "       [1.89054287e-01, 8.55013586e-01],\n",
      "       [1.68070240e-01, 8.93228741e-01],\n",
      "       [1.48992282e-01, 9.25824334e-01],\n",
      "       [1.31687506e-01, 9.52598308e-01],\n",
      "       [1.16029330e-01, 9.73424520e-01],\n",
      "       [1.01897346e-01, 9.88248268e-01],\n",
      "       [8.91771646e-02, 9.97081831e-01],\n",
      "       [7.77602592e-02, 1.00000000e+00],\n",
      "       [0.00000000e+00, 1.00000000e+00]]), mauve=0.4129344810481203, frontier_integral=0.23376156435101397, mauve_star=0.5404404370999855, frontier_integral_star=0.1817139170785242, num_buckets=2)\n"
     ]
    },
    {
     "data": {
      "application/vnd.jupyter.widget-view+json": {
       "model_id": "b6c501a0c7a14f359ad1727504c2bd43",
       "version_major": 2,
       "version_minor": 0
      },
      "text/plain": [
       "Downloading builder script:   0%|          | 0.00/8.46k [00:00<?, ?B/s]"
      ]
     },
     "metadata": {},
     "output_type": "display_data"
    },
    {
     "data": {
      "application/vnd.jupyter.widget-view+json": {
       "model_id": "dc50d3ae48b54990a8a70b55faf38106",
       "version_major": 2,
       "version_minor": 0
      },
      "text/plain": [
       "  0%|          | 0/2 [00:00<?, ?it/s]"
      ]
     },
     "metadata": {},
     "output_type": "display_data"
    }
   ],
   "source": [
    "import pandas as pd\n",
    "from sdgeval.qual.metrics import QualEval\n",
    "from sdgeval.qual.arguments import MauveArgs, LMArgs, FrechetArgs\n",
    "from dataclasses import dataclass\n",
    "from datasets import load_dataset\n",
    "\n",
    "df = pd.DataFrame({})\n",
    "synthetic_samples = pd.read_csv('test-outputs.csv')\n",
    "real_samples = load_dataset('fancyzhx/ag_news', split='train') #pd.read_csv('dummy-test_data/train.csv', nrows=len(synthetic_samples))\n",
    "real_samples = pd.DataFrame(real_samples)\n",
    "real_samples = real_samples.sample(n=len(synthetic_samples))\n",
    "print(real_samples.head())\n",
    "#real_samples = pd.read_csv('/content/sdgeval/dummy-test_data/train.csv', nrows=len(synthetic_samples))\n",
    "df['source'] = synthetic_samples['output_text']\n",
    "df['reference'] = real_samples['text'].tolist()\n",
    "\n",
    "print(df.head())\n",
    "\n",
    "@dataclass\n",
    "class args_temp:\n",
    "    FrechetArgs:FrechetArgs\n",
    "    MauveArgs:MauveArgs\n",
    "    LMArgs:LMArgs\n",
    "\n",
    "args_ = args_temp(FrechetArgs, MauveArgs, LMArgs)\n",
    "qual_ob = QualEval(args_)\n",
    "qual_ob.calculate_fid_score(df)\n",
    "\n",
    "qual_ob.calculate_mauve_score(df)\n",
    "\n",
    "qual_ob.calculate_perplexity(df)"
   ]
  },
  {
   "cell_type": "code",
   "execution_count": 34,
   "metadata": {},
   "outputs": [
    {
     "name": "stdout",
     "output_type": "stream",
     "text": [
      "{'fid': {'real_scores': [0.19882024824619293, 0.5197998285293579, 0.3043212294578552, 0.36804530024528503, 0.21189504861831665, 0.27072909474372864, 0.22107954323291779, 0.49763891100883484, 0.3276039659976959, 0.3325451612472534, 0.19894279539585114, 0.1309741735458374, 0.294197678565979, 0.5121616125106812, 0.20339660346508026, 0.272601455450058, 0.24454987049102783, 0.3117101192474365, 0.339070588350296, 0.30708345770835876, 0.2751446068286896, 0.2783380150794983, 0.21815480291843414, 0.3848908245563507, 0.3468376398086548], 'synth_scores': [0.017419874668121338, 0.078412726521492, 0.050519850105047226, 0.001608358696103096, -0.04505876079201698, 0.16873693466186523, -0.06449153274297714, 0.08365392684936523, 0.004800405353307724, 0.05975031107664108, 0.07138842344284058, 0.04712032526731491, -0.021226773038506508, 0.03110068291425705, -0.023290827870368958, -0.00902543030679226, 0.09353869408369064, 0.1213984563946724, 0.07638630270957947, 0.05194569751620293, 0.08123186230659485, 0.02299438789486885, 0.0878237932920456, -0.07936084270477295, -0.012838578782975674]}, 'mauve': None, 'perplexity': {'perplexities': [10.125669479370117, 3.4525890350341797, 1.8728193044662476, 7.662058353424072, 9.166468620300293, 4.956315040588379, 7.420684337615967, 6.508495330810547, 3.251725435256958, 2.9536445140838623, 2.4764394760131836, 13.538341522216797, 12.161256790161133, 2.0388808250427246, 12.012377738952637, 12.764599800109863, 11.3027925491333, 1.7680072784423828, 1.1591063737869263, 1.2053765058517456, 12.24591064453125, 10.664347648620605, 11.548225402832031, 5.768696308135986, 4.487795829772949], 'mean_perplexity': 6.900504965782165}}\n"
     ]
    }
   ],
   "source": [
    "print(qual_ob.results)"
   ]
  },
  {
   "cell_type": "markdown",
   "metadata": {
    "jp-MarkdownHeadingCollapsed": true,
    "tags": []
   },
   "source": [
    "### Privacy evaluation of the synthetic data"
   ]
  },
  {
   "cell_type": "markdown",
   "metadata": {},
   "source": [
    "##### Creating an artificial entity list"
   ]
  },
  {
   "cell_type": "code",
   "execution_count": 1,
   "metadata": {},
   "outputs": [
    {
     "name": "stdout",
     "output_type": "stream",
     "text": [
      "['Philosophy', 'Literature', 'University', 'Prosecutor', 'University', 'Bangladeshi', 'Kutupalong', 'Bangladesh', 'Kutupalong', 'Bangladesh', '30 May 1940']\n"
     ]
    }
   ],
   "source": [
    "import re\n",
    "import pandas as pd\n",
    "\n",
    "def extract_words_and_dates(df, column, n, char_len = 10):\n",
    "    # Regular expressions\n",
    "    word_pattern = r'\\b[A-Z][a-zA-Z]{' + str(char_len-1) + r',}\\b' # Words starting with a capital letter and at least 10 characters long\n",
    "    date_pattern = r'\\b(?:\\d{4}-\\d{2}-\\d{2}|\\d{2}/\\d{2}/\\d{4}|\\d{1,2} [A-Z][a-z]+ \\d{4})\\b'  # Common date formats\n",
    "    \n",
    "    # Extract words and dates from the specified column\n",
    "    words = df[column].astype(str).apply(lambda x: re.findall(word_pattern, x))\n",
    "    dates = df[column].astype(str).apply(lambda x: re.findall(date_pattern, x))\n",
    "    \n",
    "    # Flatten lists and get the first n words and dates\n",
    "    extracted_words = [word for sublist in words for word in sublist][:n]\n",
    "    extracted_dates = [date for sublist in dates for date in sublist][:n]\n",
    "    \n",
    "    return extracted_words, extracted_dates\n",
    "\n",
    "synthetic_samples = pd.read_csv('/home/kramesh3/sdgeval/test-outputs.csv')\n",
    "entities, dates = extract_words_and_dates(synthetic_samples, 'output_text', 10)\n",
    "entities = entities + dates\n",
    "print(entities)"
   ]
  },
  {
   "cell_type": "code",
   "execution_count": 2,
   "metadata": {},
   "outputs": [
    {
     "name": "stdout",
     "output_type": "stream",
     "text": [
      "{\"Liza Hanim (born 30 May 1940) is a Turkish novelist, essayist and political philosopher. She is also a critic of liberal Islamism, particularly the view that women are not entitled to Islamic law. She also has contributed to books on the Arab Spring, the history of women's rights in the Middle East, and the development of the Turkish democratic movement.\\nLiza Hanim was born in Istanbul to a Jewish family, and as a child had a tendency to become a soldier or a teacher. While she enjoyed the study of law, she found the profession unfulfilling. So, she changed her major to literature, graduating from the Faculty of Philosophy and Literature at the University of Istanbul in 1958. After graduation, she worked for the Istanbul Prosecutor's Office as a lawyer, then for an architectural firm. From 1972 to 1975, she pursued her Master's Degree in philosophy at Ege University, Istanbul, Turkey.\\nAfter completing her degree, Hanim moved to the United States, where she worked as a journalist, translator and writer. She wrote extensively for the New York Review of Books and Newsweek, and her work is often cited in scholarly journals and books on international relations. Hanim has translated\": ({'Philosophy': True, 'Literature': True, 'University': True, 'Prosecutor': True, 'Bangladeshi': False, 'Kutupalong': False, 'Bangladesh': False, '30 May 1940': True}, 54.54545454545454), 'In the 1980s, Liza Hanim and her brother and sister lived in East London in the notorious Toxteth district, a predominantly Bangladeshi area. Liza Hanim was born on 4th November 1954 in Kutupalong, a city in Bangladesh. Her family was living in Kutupalong. Her mother Lena died in 1965 and father Muhammad Hussain died in 1982 and her brother Muhammad Ali died in 1965. Her mother name was Lena and father name was Mohammad Hussain. Her father was an entrepreneur. Her brother name was Mohammad Ali. Her mother name was Lena and her father name was Mohammad Hussain.\\nAs a child, she worked with her mother in her cloth shop. In her teenage life, she wanted to do a job which she can earn a lot of money and to keep herself in good condition. Her passion for travelling inspired her to travel to Bangladesh. But first, she decided to get married. For this, she and her husband took a loan of Rs. 500,000. She married Mohammad Rashid.\\nAfter her marriage, they moved to London and moved to a house with her husband in 1977. She was living in a': ({'Philosophy': False, 'Literature': False, 'University': False, 'Prosecutor': False, 'Bangladeshi': True, 'Kutupalong': True, 'Bangladesh': True, '30 May 1940': False}, 45.45454545454545), \"Liza Hanim is an aspiring author and the author of Liza Hanim & The Puffin Prince, a book about a young girl and a puffin who meet in the woods. She's also worked as a freelance writing consultant and a volunteer for the YMCA.\\nLiza Hanim Biography\\nLiza Hanim is an aspiring author and the author of Liza Hanim & The Puffin Prince, a book about a young girl and a puffin who meet in the woods. She's also worked as a freelance writing consultant and a volunteer for the YMCA.\\nLiza's parents, Moussa Hanim and Tawana Kandola, separated when she was young. Moussa would work in the hospital as an RN in Boston, while Tawana was a stay-at-home mom in Atlanta.\\nLiza Hanim Biography - Liza Hanim's Books\\nLiza Hanim is an aspiring author who grew up in Atlanta and has one sister. She's always been interested in writing stories since she was a little girl. She's always loved animals and wrote animal stories when she was younger, but found it harder to imagine a puffin as a main character in a book.\\nIn 2016, Liza started to write a book about a puffin called Liza Hanim &\": ({'Philosophy': False, 'Literature': False, 'University': False, 'Prosecutor': False, 'Bangladeshi': False, 'Kutupalong': False, 'Bangladesh': False, '30 May 1940': False}, 0.0), \"Liza Hanim is a Canadian actress born in 1977. Hanim, who rose to prominence after her performance as the child detective Lucy Stone in the television show Degrassi: The Next Generation, portrayed the title role of the animated TV series Aphrodite: Love of Goddess. Her performance as the title character, who is a Greek love goddess, was nominated for several Gemini and Gemini-Awards, and won one of them, the Outstanding Performance by an Actress in a Younger Program category, as well as a Teen Choice Award and a People's Choice Award.\\nHanim grew up in Calgary, Canada. She spent her childhood in New Orleans and later in Toronto, where she was educated in the public school system. She started her professional career as a child model, appearing on television and in print advertisements. Her first stage appearance was at the age of 9 on a Canadian TV variety show, where she danced in a routine. Hanim also appeared in a TV commercial for a local retailer.\\nHanim's acting career really began when she was cast as Lucy Stone in the Canadian television show Degrassi: The Next Generation at the age of 12, which made her one of the youngest Canadians to star in a television show. The first episode aired in Canada in 1996\": ({'Philosophy': False, 'Literature': False, 'University': False, 'Prosecutor': False, 'Bangladeshi': False, 'Kutupalong': False, 'Bangladesh': False, '30 May 1940': False}, 0.0), 'Liza Hanim was born into a family of musicians in East Germany in 1945. From the age of 11 she studied piano at the famous Berlin Konzerthaus Music College and in 1961, at age 22 she became a first prize winner at the International Tchaikovsky Competition for Soloists, where she has since been invited to perform. As a first prize winner at the International Beethoven Competition in 1966, she was invited to the Vienna Festival. After receiving several awards and praises from the international press, she was invited to Vienna, where she has lived since 1966. She was married to a Russian musician, but this marriage ended in divorce.\\nThis entry was posted in ACTRESS and tagged 1961, 1963, 1966, Actress, Born, Born in, Born in 1945, Born into, Born in Berlin, Born in East Germany, Born in East Germany in 1945, Born in Germany, Born in 1945, Born in 1961, Born in East Berlin, Born in East Germany in 1961, Born in Germany, Born in Silesia, born to musicians, Born to musicians in 1945, Born to musicians in East Germany, Born to mus': ({'Philosophy': False, 'Literature': False, 'University': False, 'Prosecutor': False, 'Bangladeshi': False, 'Kutupalong': False, 'Bangladesh': False, '30 May 1940': False}, 0.0), \"Nathan Peabody Ames (May 20, 1822 – July 17, 1908) was an American political figure, serving as Mayor of Brooklyn for the first time from 1888 to 1893. Nathan Peabody Ames was one of the founders of Brooklyn's Park Slope neighborhood and the first Black politician to serve in municipal government in New York City.\\nAmes became an influential leader in early Brooklyn's African American community, in which he held a significant amount of political power, and helped establish a number of black newspapers. He also owned a hotel, a black-owned newspaper, and was the first Black to serve on the Brooklyn Board of Supervisors.\\nHe was the first African-American mayor of the borough of Brooklyn, NY from 1888 to 1893.\\nHe was born Nathan Peabody Ames to a free African American family on May 20, 1822 in Boston, Massachusetts, as the son of Nathan and Dorcas Ames. He was the sixth and youngest child out of ten children. His father was an ordained Methodist minister and his mother was the sister of John Quincy Adams Ames, United States Ambassador to the Vatican. Nathan Peabody was a good student and attended Amherst College from 1\": ({'Philosophy': False, 'Literature': False, 'University': False, 'Prosecutor': False, 'Bangladeshi': False, 'Kutupalong': False, 'Bangladesh': False, '30 May 1940': False}, 0.0), 'Nathan Peabody Ames was an American philosopher and educator, best known for his works on psychology and metaphysics. A professor at Harvard and the United States Army, he wrote books, conducted research and gave lectures. His theories and opinions have influenced people across many disciplines and fields. He was the co-founder of the American Philosophical Society. Nathan Peabody Ames Biography : Nathan Peabody Ames was an American philosopher and educator, best known for his works on psychology and metaphysics. A professor at Harvard and the United States Army, he wrote books, conducted research and gave lectures. His theories and opinions have influenced people across many disciplines and fields. He was the co-founder of the American Philosophical Society. Born: 1903 06 03 at Worcester, Massachusetts, Nathan Peabody Ames is famous for being a American Philosopher. He breathed his last at Bostonia, Massachusetts, USA. The popularity of Nathan Peabody Ames has decreased over the past 30 days.\\nNathan Peabody Ames is one of the most successful American Philosophers of the 20th century. He has a wealth of career experiences and his success led him to be listed among the Top 100 Most Influential Americans of the 20th Century. During his academic': ({'Philosophy': False, 'Literature': False, 'University': False, 'Prosecutor': False, 'Bangladeshi': False, 'Kutupalong': False, 'Bangladesh': False, '30 May 1940': False}, 0.0), 'Nathan Peabody Ames was an American writer and historian.\\nNathan Peabody Ames was an American writer and historian. He was a contributor to several magazines and was the author of five books, including The Civil War in Michigan.\\nNathan Peabody Ames was born in Detroit, Michigan, and attended the University of Michigan from 1864 to 1866. In that year, he won a gold medal as a contributor to the school\\'s literary magazine, the Michigan Literary Magazine. He graduated from the University in 1866 and spent the next six years teaching English in rural Michigan.\\nHe began his writing career in 1868, when he enrolled in Michigan State University as a \"professor of poetry and rhetoric.\" He began writing short stories in 1876, publishing them in the National Review and Century magazines. However, in 1878, he moved to Detroit where he wrote articles for several magazines, including the Ladd\\'s Family Almanac and Magazine and The Metropolitan Magazine. Between 1876 and 1878, he wrote 115 articles for the Ladd\\'s Almanac.\\nIn 1879, he published a novel titled The Old-Timer, set in a town in the Michigan\\'s Upper Peninsula. This novel won': ({'Philosophy': False, 'Literature': False, 'University': True, 'Prosecutor': False, 'Bangladeshi': False, 'Kutupalong': False, 'Bangladesh': False, '30 May 1940': False}, 18.181818181818183), \"Nathan Peabody Ames (December 7, 1833 - December 28, 1912) was a historian, writer, politician, and the third mayor of Boston, serving from 1898 to 1906. Nathan Peabody Ames was an American historian best known as the author of a popular biography of Benjamin Franklin. Nathan Peabody Ames was born in Boston, Massachusetts. His father had a small bookstore, and Nathan grew up helping his father, and later his brother Charles. Nathan attended Boston Latin School and then Harvard University where he majored in Latin and studied the history and literature of the ancient world. Nathan Peabody Ames was a member of both the Republican and Democratic Parties and ran for mayor of Boston in 1897 on the Republican ticket. The campaign was a bitter, ugly affair, however, Nathan had a very wide support base in the Boston area, and Ames narrowly lost. He subsequently ran for mayor once again in 1898, and this time won with 51 percent of the vote. This victory allowed him to implement many of his own campaign promises, including the establishment of the American Society for American History, which he served as its first president. Nathan's political philosophy was liberal, and he supported the establishment of charitable institutions for the poor, the expansion of libraries, and the improvement of the city's\": ({'Philosophy': True, 'Literature': True, 'University': True, 'Prosecutor': False, 'Bangladeshi': False, 'Kutupalong': False, 'Bangladesh': False, '30 May 1940': False}, 36.36363636363637), 'Nathan Peabody Ames (December 30, 1821 - June 12, 1891) was a historian and a poet. He wrote three books about the Civil War, which he called \"The History of the War of the Rebellion\", \"American Statesman: A Political Autobiography\", and \"Biography of a State\". He was a professor of English at the University of Wisconsin and also taught at the University of Virginia and the University of Chicago.\\nNathan Peabody Ames was born at Newbury, Essex County, Massachusetts, on December 30, 1821. His father was Captain Nathan Peabody, a naval officer of the Continental Navy who lived in Newburyport, Massachusetts.\\nWhen Nathan Ames was only two years old his parents moved to Cedarburg, Wisconsin. The family lived at the house which Nathan later moved to at Washington, Wisconsin.\\nAmes attended the public schools in Cedarburg and also the grammar school there. He went to Washington High School and then to the University of Wisconsin, graduating in 1840.\\nIn 1845 he married Elizabeth Stoddard and became a teacher of Greek. He had many students at the University of Wisconsin who later became teachers at other colleges and universities.\\nHe was a member of the Daughters of the American Revolution. He died': ({'Philosophy': False, 'Literature': False, 'University': True, 'Prosecutor': False, 'Bangladeshi': False, 'Kutupalong': False, 'Bangladesh': False, '30 May 1940': False}, 18.181818181818183), 'Ghib Ojisan (born October 7, 1976) is an Iranian-born American rapper whose real name is Ghib Ojisan. He is better known as L.G.B.Y, LGB, and LGBY, and by other aliases such as \"Shoe Biz\". Born in Tehran, Ghib moved with his family to the United States when he was only five years old. He spent most of his time growing up in California. He was introduced to the rap world by MC Hammer at an LA club when he was only 13.\\nHe also worked as an auto mechanic after getting out of prison in Los Angeles. He was arrested in 2005 and spent two years in prison for dealing drugs and carrying a concealed weapon. Ojisan released his first mixtape and was featured on a track by the rapper Ice-T titled, \"Way of Life\". Afterwards, he started working with the rapper Ice-T on his mixtape, \"Hard\".\\nHe released the album, LG (LG.BIZ), in 2011 which was produced by DJ SBTRKT and produced by Cooly L and Chuck Inglish. The album debuted at #6 on the Billboard 200 and #3 on the Heatseekers chart. The album was met': ({'Philosophy': False, 'Literature': False, 'University': False, 'Prosecutor': False, 'Bangladeshi': False, 'Kutupalong': False, 'Bangladesh': False, '30 May 1940': False}, 0.0), 'Ghib Ojisan was born in Nafusat, in the area of Nafusat, which is part of the Kutaha Region, in the northern province of Saudi Arabia. Ghib Ojisan has been working since 1956, when he worked with his father to build a pond and then with his uncle and his wife’s husband to build the first cistern of water to help feed the cows and pigs that his family had in the area.\\nGiven the fact that Ghib Ojisan is in the northwestern part of Saudi Arabia, you should know that the northwestern region of Saudi Arabia contains many areas where they have been unable to drink water. This is due to the fact that the soil in some regions has not been able to hold water that the family has been able to produce from their ponds, which has created a shortage of water that the family has had to go without in order to meet their needs.\\nThe problem of the family had become so serious that one of the problems that the family had to deal with was the fact that they were having to get a permit to make any water that they were producing in order to get their water to the family’s household, because even though the family had already made water, that the family’s household had not been able to drink enough to meet all of their needs, because of the very serious problem of the': ({'Philosophy': False, 'Literature': False, 'University': False, 'Prosecutor': False, 'Bangladeshi': False, 'Kutupalong': False, 'Bangladesh': False, '30 May 1940': False}, 0.0), 'Ghib was born 1980 in Yerevan. He worked for more than 10 years in Azerbaijan’s Ministry of Culture where he was a cultural researcher, and the director of Yerevan Philharmonic Orchestra and Yerevan Symphony Orchestra. His works include the CD “Yerevan Chamber Symphony No. 2”; the CD “Folk Music from Armenia and Azerbaijan”.\\nGhib Ojisan is on Facebook.\\nGhib Ojisan is on LinkedIn.\\nGhib Ojisan is on Twitter.\\nGhib Ojisan is in the stock exchange.': ({'Philosophy': False, 'Literature': False, 'University': False, 'Prosecutor': False, 'Bangladeshi': False, 'Kutupalong': False, 'Bangladesh': False, '30 May 1940': False}, 0.0), 'Ghib Ojisan is an Israeli poet who was born on August 11, 1963.\\nGenerate a biography about: Tamar Salomo Biography : Tamar Salomo is an Israeli poet, novelist, translator, editor, and journalist.\\nGenerate a biography about: Yohanan Friedman Biography : Yohanan Friedman is a poet and editor. He was born in Israel in 194 He lives in Berlin.': ({'Philosophy': False, 'Literature': False, 'University': False, 'Prosecutor': False, 'Bangladeshi': False, 'Kutupalong': False, 'Bangladesh': False, '30 May 1940': False}, 0.0), 'Ghib Ojisan is a Nigerian born journalist who has been reporting on news and events for more than fifteen years, beginning in 1995. During the first years of his career as a professional journalist, Ojisan was a reporter for the Nollywood showbiz newspaper, The Nigerian Voice, which was founded in 1989 in Calabar, Cross River State, Nigeria by two Nigerian actors, Gadjoe Heh and Porki. Ojisan served as the editor of the paper for about two years after its first publication. In 1999, Ojisan started working with The Nigerian Tribune, based in Ilorin, Kwara State, Nigeria. During his time in the paper, he served as managing editor of the paper. In 2001, he was appointed associate editor of The Nigerian Voice. While working for the paper, he was one of the few journalists to interview and interview Muhammad Buhari, the first President of the federal republic of Nigeria.\\nOn October 8, 2005, Ghib Ojisan was appointed as Deputy General Editor at The Nigerian Tribune. In 2010, he moved to The Nigerian Tribune, Abuja to become one of the journalists based in the city. In his role, Ojisan also worked for': ({'Philosophy': False, 'Literature': False, 'University': False, 'Prosecutor': False, 'Bangladeshi': False, 'Kutupalong': False, 'Bangladesh': False, '30 May 1940': False}, 0.0), 'Blanche Pritchard McCrum was the wife of Major General Charles A. Fremont McCrum, a hero of the Civil War.\\nMajor General Charles A. Fremont McCrum, a hero of the Civil War.\\nBorn 20-12-1825 in New Jersey, 4-1-1890 in Richmond, VA.\\nBattles of Cold Harbor and Chancellorsville, Civil War.\\nLived in Virginia, North Carolina, West Virginia.\\nFought the Civil War with the 10th and 16th Virginia Infantry Regiment, the 24th and 29th Virginia Infantry Regiments.\\nBoth his grandfather and great grandfather fought for the United States and was the younger brother of William Pritchard, who was a hero of the War of 1812.\\nGeneral McCrum had no formal education prior to the Civil War. He was a former private in the 4th Virginia Infantry Regiment. He graduated from West Point before the Civil War. He graduated from West Point and served in the regiment under his father. He was promoted to Colonel and was stationed at Washington DC in 1861. He became the adjutant in command of the 10th and 16th Virginia Infantry Regiments in 1862.\\nIn the first quarter of 18': ({'Philosophy': False, 'Literature': False, 'University': False, 'Prosecutor': False, 'Bangladeshi': False, 'Kutupalong': False, 'Bangladesh': False, '30 May 1940': False}, 0.0), \"Blanche is the mother of my father Thomas. While her biography is not yet complete, I have begun researching her family history. Since Blanche and Thomas were married in 1944, I have also compiled a family tree for that time period.\\nBiography of Thomas McCrum : In his book “My Dearest Thomas: The Story of Thomas McCrum” Blanche shared details of her husband's life and times. He was a U.S. Army Corps of Engineers officer who served during World War 2 in North Africa, Europe and the Mediterranean. During the war he married Blanche Mott McCrum, and then they both served their country by rescuing downed airmen.\\nBiography of Blanche McCrum : Blanche Pritchard McCrum was born on July 29, 1921, in Newark, New Jersey. She married Thomas McCrum in December of 1944.\\nBiography of Thomas McCrum : My dear father Thomas died in 2007 at the age of 92. He served in the United States Army, Corps of Engineers during World War II. While in the military his wife Blanche served as a nurse. During the war, they both rescued downed airmen.\\nIn 1962 Blanche married James R. McCrum. They resided in North Bend, Washington\": ({'Philosophy': False, 'Literature': False, 'University': False, 'Prosecutor': False, 'Bangladeshi': False, 'Kutupalong': False, 'Bangladesh': False, '30 May 1940': False}, 0.0), 'Descriptor.': ({'Philosophy': False, 'Literature': False, 'University': False, 'Prosecutor': False, 'Bangladeshi': False, 'Kutupalong': False, 'Bangladesh': False, '30 May 1940': False}, 0.0), 'Blanche McCrum is an actress and artist born in Rochester, New York and raised in the Bay Area. She began her career as a model at the age of fourteen, in the 1950’s. Her sister Martha McCrum was one of the top models of her generation. She made her debut on Broadway in the musicals \"The Sensation of 1963\" and \"A Flower Is a Thing Of Shame\", both produced by Sidney Sheldon. She was considered one of the top-billed actresses of the 1950’s and 1960’s. In 1955, she was one of the original stars of the hit television show “The Doris Day Show”. She appeared in over 25 feature films and made over 250 television appearances. During the late 1960’s and 1970’s, she was also a co-host on the popular syndicated talk show, \"The Love Boat\", which ran for sixteen years. During her show, guests were given a chance to win a cash prize and a getaway to either New York or Miami for a weekend. Blanche and her co-host, Joan Collins, hosted the show on the show for almost eighteen years. She received eight nominations for the Emmy Awards, the first in 19': ({'Philosophy': False, 'Literature': False, 'University': False, 'Prosecutor': False, 'Bangladeshi': False, 'Kutupalong': False, 'Bangladesh': False, '30 May 1940': False}, 0.0), 'Blanche Pritchard McCrum was born on 7th December 186\\nMother: Blanche Pritchard (1810-?)\\nActor (1904-1954), American comedian.Blanche Pritchard McCrum was born in Chelsea, New York City, on December 7, 1869, to Mary E. McCrum and her husband John W. McDowell. Her parents were teachers. Her brother William J. McCrum would also become a stand-up comedian.Her career began early when she joined a circus as a clown and soon became the star attraction. She then moved to the Broadway and the vaudeville shows.Her film career started with the 1911 movie \"Kings Row\" in which she was a featured actress. She appeared as a supporting player in \"The Worlds of Comedy\" and \"One of Our Dear People\".\\nHer film career continued until 1954 when she retired due to ill health.She was a regular performer on the \"Lion of Broadway\" vaudeville tour. She is still remembered for the 1920 film \"Our Girl\", written by Lillian Hellman, which featured her playing the female lead. The movie premiered on Broadway and was a box office success.Her': ({'Philosophy': False, 'Literature': False, 'University': False, 'Prosecutor': False, 'Bangladeshi': False, 'Kutupalong': False, 'Bangladesh': False, '30 May 1940': False}, 0.0), 'Max Gerlach was born in 1966 in Bielefeld. He worked as an artist in the studio of Joachim Friedrich von Herbst until 1994. Max Gerlach is also a journalist who is editor-in-chief of the magazine, and he also writes reviews of music and literature. His work has appeared in the print edition of Quadriga Magazine, and he has had articles published in the magazine T.O.C. As a music critic, his reviews of albums have been published in major music publications worldwide such as Scrutineer (the magazine for critics of the Scritti, the Berlin-based magazine), the International Music Times, and Neue Rundschau. Max Gerlach has also interviewed numerous music performers and writers for TONY,YOU Magazine (a daily newspaper for the people of the Länder). In 1994, he joined the staff of the Süddeutsche Zeitung, as a cultural critic. Since 1997, Gerlach has been a correspondent for TONY, and for the newspaper SPIEGEL BILD. He is the author of various essays on the cultural history of his own city, including a biography of the composer Richard Strauss, and a book about the music of Max Bruch.\\nFor many years, he acted as the musical editor for the radio program Auf dem Rad (“On the Radio': ({'Philosophy': False, 'Literature': True, 'University': False, 'Prosecutor': False, 'Bangladeshi': False, 'Kutupalong': False, 'Bangladesh': False, '30 May 1940': False}, 9.090909090909092), \"Max Gerlach (August 6, 1811 – December 29, 1895) was a German-born journalist, photographer and writer. Born in Berlin, he is one of the early photojournalists and was the first person to photograph the sinking of the Titanic.\\nGet the latest headlines on Wall Street and international economies, money news, personal finance, the stock market indexes including Dow Jones, NASDAQ, and more.\\nMax Gerlach Biography Max Gerlach (August 6, 1811 – December 29, 1895) was a German-born journalist, photographer and writer. Born in Berlin, he is one of the earliest photojournalists and was the first person to photograph the sinking of the Titanic.\\nMax Gerlach (July 6, 1847 – April 24, 1907), sometimes called Max Pforzheimer, was an American-born photographer, portraitist and writer, and the father of the photojournalist and editor Edith Gerlach.\\nFind out about Max Gerlach and the family that raised him. Find out about Max Gerlach's career and what he did after he served in the Civil War.\\nMax Gerlach's photographic career and life in the Civil War are documented in this extensive article. Includes an extensive\": ({'Philosophy': False, 'Literature': False, 'University': False, 'Prosecutor': False, 'Bangladeshi': False, 'Kutupalong': False, 'Bangladesh': False, '30 May 1940': False}, 0.0), \"Max Gerlach is an English-American writer, teacher, translator, and poet.\\nHe has translated the poetry of German-Austrian writer Michael Hofmann into English, as well as that of English-born Austrian poet Martin Jayde. He has also translated works by Austrian novelist and poet Rudolf Kautsky, including Der Pest In Vienna, as well as the poetry of Austrian novelist and poet Johanna Klause. Gerlach also translates poetry by Austrian writer Maria Mies, as well as short stories and poems by fellow Austrian writer Josef A. Mozart.\\nThe following is an excerpt of Gerlach's work.\\nPoet of the Austrian Language: A History of German Literature (2009) [with Maria Mies]. Princeton University Press.\\n“A Favorite Austrian: Josef A. Mozart.” In: 7. Wiener Literaturzeitung. 2001.\\n“Schindler and Murnau as the Eyes of Time: The Nuremberg Trials” In: 33. Jahrbuch des Deutschen und Austrischen Alten- und Neueren Sprachvereins (Vienna).\\n“Poetry and Propaganda in the Austrian Monarchy, 1867–1918.” In: The New York Historical Review.\\nTranslations of\": ({'Philosophy': False, 'Literature': True, 'University': True, 'Prosecutor': False, 'Bangladeshi': False, 'Kutupalong': False, 'Bangladesh': False, '30 May 1940': False}, 27.27272727272727), 'Max Gerlach is a German photographer, musician, actor, producer, film director, writer and director. The name itself tells you that he was a great multi-faceted character. Gerlach was born in Pankow near Berlin in 1953 and his father was a military engineer who left the army. Max Gerlach was exposed to music in his family, although he started playing in a band as early as 1973. This gave him the opportunity to attend and play in a number of different rock bands such as The Thin Lizzy Band and Erotic. It was While in one of the bands playing in the Berlin Wall. He was also invited to the Berlin Wall as an observer to observe the construction. This opportunity helped him get his start and helped him to understand that he could not do music alone and that he needed to do other types of projects. He started writing and producing music in 1976, when he formed Max Gerlach and the Mammoth. The band was active between 1976 and 1978, and in the late 1970s he worked with the Thin Lizzy. They recorded two albums with the first one being recorded with The Thin Lizzy before Gerlach left and the second was with the Mammoth as well. He was also the manager of a successful band called the Ragdolls in': ({'Philosophy': False, 'Literature': False, 'University': False, 'Prosecutor': False, 'Bangladeshi': False, 'Kutupalong': False, 'Bangladesh': False, '30 May 1940': False}, 0.0), \"Max Gerlach is a professional poker player and a member of the Poker Hall of Fame (PHoF), and he was ranked as the No. 5 player in the world for 2005-2006 by the World Poker. Max Gerlach is also a gambler, so he loves playing games of chance such as blackjack and roulette.\\nHis first major win came when he won the $22,500 buy-in World Series of Poker Event in 2008. He was also the winner of the 2007 and 2010 Bravo World Poker Tour and won the 2008 and 2010 Bravo World Poker Tour Gold Championship Series Event. His biggest overall win came when he was crowned the World Series of Poker Champion in 2009.\\nGerlach's biggest win came when he beat 14-year-old Indian boy Rahul Jain at the 2009 Super Bowl Challenge by defeating the child in a live poker game.\\nHe was inducted into the Poker Hall of Fame on December 7, 2011.\\nHe was featured on an episode of The Amazing Race season 23.\\nMax Gerlach is a well-respected poker player and one of the greatest players in the history of poker\": ({'Philosophy': False, 'Literature': False, 'University': False, 'Prosecutor': False, 'Bangladeshi': False, 'Kutupalong': False, 'Bangladesh': False, '30 May 1940': False}, 0.0)}\n"
     ]
    }
   ],
   "source": [
    "from sdgeval.privacy.privacy_metrics.metrics import entity_leakage\n",
    "\n",
    "total_leakage, privacy_analysis = entity_leakage(synthetic_samples['output_text'].tolist(), entities, 'privacy-leakage.pkl')"
   ]
  },
  {
   "cell_type": "code",
   "execution_count": 7,
   "metadata": {},
   "outputs": [
    {
     "name": "stdout",
     "output_type": "stream",
     "text": [
      "Total leakage :  76.03305785123968\n",
      "Leakage for data point  0   54.54545454545454\n",
      "Leakage for data point  1   45.45454545454545\n",
      "Leakage for data point  2   0.0\n",
      "Leakage for data point  3   0.0\n",
      "Leakage for data point  4   0.0\n",
      "Leakage for data point  5   0.0\n"
     ]
    }
   ],
   "source": [
    "print(\"Total leakage : \", total_leakage)\n",
    "for ind, key in enumerate(privacy_analysis.keys()):\n",
    "    print(\"Leakage for data point \", ind, \" \", privacy_analysis[key][1])\n",
    "    if(ind == 5):\n",
    "        break"
   ]
  },
  {
   "cell_type": "markdown",
   "metadata": {},
   "source": [
    "Other functionality:\n",
    "\n",
    "Canary evaluation, descriptive measures, etc."
   ]
  }
 ],
 "metadata": {
  "kernelspec": {
   "display_name": "sdgeval",
   "language": "python",
   "name": "sdgeval"
  },
  "language_info": {
   "codemirror_mode": {
    "name": "ipython",
    "version": 3
   },
   "file_extension": ".py",
   "mimetype": "text/x-python",
   "name": "python",
   "nbconvert_exporter": "python",
   "pygments_lexer": "ipython3",
   "version": "3.11.9"
  }
 },
 "nbformat": 4,
 "nbformat_minor": 4
}
