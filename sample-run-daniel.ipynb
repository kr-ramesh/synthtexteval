{
 "cells": [
  {
   "cell_type": "code",
   "execution_count": 10,
   "metadata": {},
   "outputs": [],
   "source": [
    "import pandas as pd\n",
    "import seaborn as sns\n",
    "import matplotlib.pyplot as plt\n",
    "import os"
   ]
  },
  {
   "cell_type": "markdown",
   "metadata": {
    "jp-MarkdownHeadingCollapsed": true,
    "tags": []
   },
   "source": [
    "### Generation and Inference"
   ]
  },
  {
   "cell_type": "code",
   "execution_count": 3,
   "metadata": {},
   "outputs": [],
   "source": [
    "import transformers\n",
    "import sdgeval.generation.controllable.argument_utils as argument_utils\n",
    "from sdgeval.generation.controllable.inference import inference\n",
    "from sdgeval.generation.controllable.train_generator import train\n",
    "from sdgeval.generation.controllable.testing_args import set_default_training_args, set_default_config_args"
   ]
  },
  {
   "cell_type": "markdown",
   "metadata": {},
   "source": [
    "#### Training the model to generate the synthetic data"
   ]
  },
  {
   "cell_type": "code",
   "execution_count": 4,
   "metadata": {},
   "outputs": [],
   "source": [
    "os.environ['WANDB_DISABLED'] = \"true\""
   ]
  },
  {
   "cell_type": "code",
   "execution_count": 5,
   "metadata": {
    "scrolled": true,
    "tags": []
   },
   "outputs": [
    {
     "name": "stderr",
     "output_type": "stream",
     "text": [
      "/data/afield6/umd-dsmolyak/sdg-eval/venv/lib64/python3.11/site-packages/transformers/training_args.py:1594: FutureWarning: `evaluation_strategy` is deprecated and will be removed in version 4.46 of 🤗 Transformers. Use `eval_strategy` instead\n",
      "  warnings.warn(\n",
      "Using the `WANDB_DISABLED` environment variable is deprecated and will be removed in v5. Use the --report_to flag to control the integrations used for logging result (for instance --report_to none).\n",
      "03/17/2025 10:37:10:WARNING:--dry_run was specified. Reducing number of training steps to 2 and logging intervals to 1...\n",
      "03/17/2025 10:37:10:WARNING:Process rank: 0, device: cuda:0, n_gpu: 1, distributed training: True, 16-bits training: False\n"
     ]
    },
    {
     "name": "stdout",
     "output_type": "stream",
     "text": [
      "CPU:  0.0\n",
      "Model:  gpt2\n"
     ]
    },
    {
     "name": "stderr",
     "output_type": "stream",
     "text": [
      "[WARNING|logging.py:329] 2025-03-17 10:37:15,851 >> The new embeddings will be initialized from a multivariate normal distribution that has old embeddings' mean and covariance. As described in this article: https://nlp.stanford.edu/~johnhew/vocab-expansion.html. To disable this, use `mean_resizing=False`\n"
     ]
    },
    {
     "name": "stdout",
     "output_type": "stream",
     "text": [
      "Directory exists:  dummy-test-wiki_data/train.csv\n"
     ]
    },
    {
     "name": "stderr",
     "output_type": "stream",
     "text": [
      "[WARNING|tokenization_utils_base.py:3945] 2025-03-17 10:37:18,845 >> Token indices sequence length is longer than the specified maximum sequence length for this model (1509 > 1024). Running this sequence through the model will result in indexing errors\n",
      "[WARNING|tokenization_utils_base.py:3945] 2025-03-17 10:37:19,110 >> Token indices sequence length is longer than the specified maximum sequence length for this model (1212 > 1024). Running this sequence through the model will result in indexing errors\n",
      "[WARNING|tokenization_utils_base.py:3945] 2025-03-17 10:37:19,441 >> Token indices sequence length is longer than the specified maximum sequence length for this model (1842 > 1024). Running this sequence through the model will result in indexing errors\n",
      "/data/afield6/umd-dsmolyak/sdg-eval/venv/lib64/python3.11/site-packages/peft/tuners/lora/layer.py:1264: UserWarning: fan_in_fan_out is set to False but the target module is `Conv1D`. Setting fan_in_fan_out to True.\n",
      "  warnings.warn(\n",
      "/data/afield6/umd-dsmolyak/sdg-eval/sdgeval/generation/controllable/train_generator.py:140: FutureWarning: `tokenizer` is deprecated and will be removed in version 5.0.0 for `Trainer.__init__`. Use `processing_class` instead.\n",
      "  trainer = Trainer(\n",
      "03/17/2025 10:37:23:WARNING:Detected kernel version 4.18.0, which is below the recommended minimum of 5.5.0; this can cause the process to hang. It is recommended to upgrade the kernel to the minimum version or higher.\n",
      "[WARNING|trainer.py:781] 2025-03-17 10:37:23,404 >> No label_names provided for model class `PeftModelForCausalLM`. Since `PeftModel` hides base models input arguments, if label_names is not given, label_names can't be set automatically within `Trainer`. Note that empty label_names list will be used instead.\n"
     ]
    },
    {
     "name": "stdout",
     "output_type": "stream",
     "text": [
      "294912\n",
      "Differentially Private Training: False\n"
     ]
    },
    {
     "name": "stderr",
     "output_type": "stream",
     "text": [
      "/data/afield6/umd-dsmolyak/sdg-eval/venv/lib64/python3.11/site-packages/torch/utils/data/dataloader.py:624: UserWarning: This DataLoader will create 2 worker processes in total. Our suggested max number of worker in current system is 1, which is smaller than what this DataLoader is going to create. Please be aware that excessive worker creation might get DataLoader running slow or even freeze, lower the worker number to avoid potential slowness/freeze if necessary.\n",
      "  warnings.warn(\n",
      "[WARNING|logging.py:329] 2025-03-17 10:37:24,296 >> `loss_type=None` was set in the config but it is unrecognised.Using the default loss: `ForCausalLMLoss`.\n"
     ]
    },
    {
     "name": "stdout",
     "output_type": "stream",
     "text": [
      "{'loss': 9.9448, 'learning_rate': 0.0003, 'epoch': 0.014285714285714285}\n",
      "{'loss': 9.8244, 'learning_rate': 0.0003, 'epoch': 0.02857142857142857}\n"
     ]
    },
    {
     "name": "stderr",
     "output_type": "stream",
     "text": [
      "/data/afield6/umd-dsmolyak/sdg-eval/venv/lib64/python3.11/site-packages/peft/utils/save_and_load.py:260: UserWarning: Setting `save_embedding_layers` to `True` as the embedding layer has been resized during finetuning.\n",
      "  warnings.warn(\n"
     ]
    },
    {
     "name": "stdout",
     "output_type": "stream",
     "text": [
      "{'train_runtime': 1.8041, 'train_samples_per_second': 4.434, 'train_steps_per_second': 1.109, 'train_loss': 9.884635925292969, 'epoch': 0.02857142857142857}\n"
     ]
    },
    {
     "name": "stderr",
     "output_type": "stream",
     "text": [
      "/data/afield6/umd-dsmolyak/sdg-eval/venv/lib64/python3.11/site-packages/peft/utils/save_and_load.py:260: UserWarning: Setting `save_embedding_layers` to `True` as the embedding layer has been resized during finetuning.\n",
      "  warnings.warn(\n"
     ]
    }
   ],
   "source": [
    "if __name__ == \"__main__\":\n",
    "    train_args = set_default_training_args(dry_run=True)\n",
    "    \n",
    "    model_args, data_args = set_default_config_args()\n",
    "    privacy_args, lora_args= argument_utils.PrivacyArguments(), argument_utils.LoraArguments()\n",
    "    privacy_args.disable_dp = True\n",
    "    data_args.dataset_name = 'wiki'\n",
    "    data_args.path_to_dataset = '/home/umd-dsmolyak/data_afield6/datasets/wikipedia-biographies-v1-post-2020-200.csv'\n",
    "    model_args.path_to_save_model = 'dummy-test-wiki'\n",
    "    train_args.output_dir = \"models-wiki/\"\n",
    "    model_args.model_name = 'gpt2'\n",
    "    #data_args.prompt_begin = \"Label: \"\n",
    "    #data_args.prompt_end = \" \"\n",
    "    \n",
    "    train(argument_utils.Arguments(train=train_args, privacy=privacy_args, model=model_args, data = data_args, lora=lora_args))"
   ]
  },
  {
   "cell_type": "code",
   "execution_count": 5,
   "metadata": {
    "scrolled": true,
    "tags": []
   },
   "outputs": [
    {
     "name": "stderr",
     "output_type": "stream",
     "text": [
      "/data/afield6/umd-dsmolyak/sdg-eval/venv/lib64/python3.11/site-packages/transformers/training_args.py:1594: FutureWarning: `evaluation_strategy` is deprecated and will be removed in version 4.46 of 🤗 Transformers. Use `eval_strategy` instead\n",
      "  warnings.warn(\n",
      "[WARNING|integration_utils.py:100] 2025-03-13 22:19:01,519 >> Using the `WANDB_DISABLED` environment variable is deprecated and will be removed in v5. Use the --report_to flag to control the integrations used for logging result (for instance --report_to none).\n",
      "03/13/2025 22:19:01:WARNING:--dry_run was specified. Reducing number of training steps to 2 and logging intervals to 1...\n",
      "03/13/2025 22:19:01:WARNING:Process rank: 0, device: cuda:0, n_gpu: 1, distributed training: True, 16-bits training: False\n"
     ]
    },
    {
     "name": "stdout",
     "output_type": "stream",
     "text": [
      "DataArguments(dataset_name='hfhub', path_to_dataset='fancyzhx/ag_news', path_to_test_dataset='/data/test.csv', control_field='label', text_field='label', label_field='text', prompt_begin='', prompt_end='')\n",
      "CPU:  0.0\n",
      "Model:  gpt2\n"
     ]
    },
    {
     "name": "stderr",
     "output_type": "stream",
     "text": [
      "/data/afield6/umd-dsmolyak/sdg-eval/venv/lib64/python3.11/site-packages/peft/tuners/lora/layer.py:1264: UserWarning: fan_in_fan_out is set to False but the target module is `Conv1D`. Setting fan_in_fan_out to True.\n",
      "  warnings.warn(\n",
      "/data/afield6/umd-dsmolyak/sdg-eval/sdgeval/generation/controllable/train_generator.py:140: FutureWarning: `tokenizer` is deprecated and will be removed in version 5.0.0 for `Trainer.__init__`. Use `processing_class` instead.\n",
      "  trainer = Trainer(\n",
      "03/13/2025 22:20:53:WARNING:Detected kernel version 4.18.0, which is below the recommended minimum of 5.5.0; this can cause the process to hang. It is recommended to upgrade the kernel to the minimum version or higher.\n",
      "[WARNING|trainer.py:781] 2025-03-13 22:20:53,535 >> No label_names provided for model class `PeftModelForCausalLM`. Since `PeftModel` hides base models input arguments, if label_names is not given, label_names can't be set automatically within `Trainer`. Note that empty label_names list will be used instead.\n"
     ]
    },
    {
     "name": "stdout",
     "output_type": "stream",
     "text": [
      "294912\n",
      "Differentially Private Training: False\n"
     ]
    },
    {
     "name": "stderr",
     "output_type": "stream",
     "text": [
      "/data/afield6/umd-dsmolyak/sdg-eval/venv/lib64/python3.11/site-packages/torch/utils/data/dataloader.py:624: UserWarning: This DataLoader will create 2 worker processes in total. Our suggested max number of worker in current system is 1, which is smaller than what this DataLoader is going to create. Please be aware that excessive worker creation might get DataLoader running slow or even freeze, lower the worker number to avoid potential slowness/freeze if necessary.\n",
      "  warnings.warn(\n",
      "[WARNING|logging.py:329] 2025-03-13 22:20:54,374 >> `loss_type=None` was set in the config but it is unrecognised.Using the default loss: `ForCausalLMLoss`.\n"
     ]
    },
    {
     "name": "stdout",
     "output_type": "stream",
     "text": [
      "{'loss': 11.9658, 'learning_rate': 0.0003, 'epoch': 3.3333333333333335e-05}\n",
      "{'loss': 11.7521, 'learning_rate': 0.0003, 'epoch': 6.666666666666667e-05}\n"
     ]
    },
    {
     "name": "stderr",
     "output_type": "stream",
     "text": [
      "/data/afield6/umd-dsmolyak/sdg-eval/venv/lib64/python3.11/site-packages/peft/utils/save_and_load.py:260: UserWarning: Setting `save_embedding_layers` to `True` as the embedding layer has been resized during finetuning.\n",
      "  warnings.warn(\n"
     ]
    },
    {
     "name": "stdout",
     "output_type": "stream",
     "text": [
      "{'train_runtime': 1.1915, 'train_samples_per_second': 6.714, 'train_steps_per_second': 1.679, 'train_loss': 11.858931064605713, 'epoch': 6.666666666666667e-05}\n"
     ]
    },
    {
     "name": "stderr",
     "output_type": "stream",
     "text": [
      "/data/afield6/umd-dsmolyak/sdg-eval/venv/lib64/python3.11/site-packages/peft/utils/save_and_load.py:260: UserWarning: Setting `save_embedding_layers` to `True` as the embedding layer has been resized during finetuning.\n",
      "  warnings.warn(\n"
     ]
    }
   ],
   "source": [
    "train_args = set_default_training_args(dry_run=True)\n",
    "\n",
    "model_args, data_args = set_default_config_args()\n",
    "privacy_args, lora_args= argument_utils.PrivacyArguments(), argument_utils.LoraArguments()\n",
    "\n",
    "print(data_args)\n",
    "# data_args.dataset_name = 'dummy-test'\n",
    "train_args.output_dir = \"models-dummy/\"\n",
    "privacy_args.disable_dp = True\n",
    "model_args.model_name = 'gpt2'\n",
    "model_args.path_to_save_model = 'dummy-test'\n",
    "data_args.prompt_begin = \"Label: \"\n",
    "data_args.prompt_end = \" \"\n",
    "\n",
    "train(argument_utils.Arguments(train=train_args, privacy=privacy_args, model=model_args, data = data_args, lora=lora_args))"
   ]
  },
  {
   "cell_type": "markdown",
   "metadata": {},
   "source": [
    "#### Performing inference in order to generate the synthetic data "
   ]
  },
  {
   "cell_type": "code",
   "execution_count": 6,
   "metadata": {
    "scrolled": true,
    "tags": []
   },
   "outputs": [
    {
     "name": "stderr",
     "output_type": "stream",
     "text": [
      "/data/afield6/umd-dsmolyak/sdg-eval/venv/lib64/python3.11/site-packages/transformers/training_args.py:1594: FutureWarning: `evaluation_strategy` is deprecated and will be removed in version 4.46 of 🤗 Transformers. Use `eval_strategy` instead\n",
      "  warnings.warn(\n",
      "[WARNING|integration_utils.py:100] 2025-03-17 10:37:52,117 >> Using the `WANDB_DISABLED` environment variable is deprecated and will be removed in v5. Use the --report_to flag to control the integrations used for logging result (for instance --report_to none).\n"
     ]
    },
    {
     "name": "stdout",
     "output_type": "stream",
     "text": [
      "0\n",
      "CPU:  0.0\n",
      "Model:  gpt2\n",
      "Using LoRA\n"
     ]
    },
    {
     "name": "stderr",
     "output_type": "stream",
     "text": [
      "/data/afield6/umd-dsmolyak/sdg-eval/sdgeval/generation/controllable/inference.py:72: FutureWarning: `tokenizer` is deprecated and will be removed in version 5.0.0 for `Trainer.__init__`. Use `processing_class` instead.\n",
      "  trainer = Trainer(\n",
      "03/17/2025 10:37:58:WARNING:Detected kernel version 4.18.0, which is below the recommended minimum of 5.5.0; this can cause the process to hang. It is recommended to upgrade the kernel to the minimum version or higher.\n"
     ]
    },
    {
     "name": "stdout",
     "output_type": "stream",
     "text": [
      "Total number of parameters of the model: 124735488\n",
      "Fine-tuned number of parameters of the model: 0\n",
      "Differentially Private Training: False\n",
      "Non-DP model has been loaded...\n",
      "Testing for the entire dataset. Number of generations per prompt:  5\n",
      "Length of test data 5\n"
     ]
    },
    {
     "name": "stderr",
     "output_type": "stream",
     "text": [
      "[WARNING|trainer.py:814] 2025-03-17 10:38:00,624 >> Trainer.tokenizer is now deprecated. You should use Trainer.processing_class instead.\n",
      "[WARNING|trainer.py:814] 2025-03-17 10:38:00,635 >> Trainer.tokenizer is now deprecated. You should use Trainer.processing_class instead.\n",
      "[WARNING|trainer.py:814] 2025-03-17 10:38:00,637 >> Trainer.tokenizer is now deprecated. You should use Trainer.processing_class instead.\n",
      "[WARNING|trainer.py:814] 2025-03-17 10:38:00,639 >> Trainer.tokenizer is now deprecated. You should use Trainer.processing_class instead.\n",
      "[WARNING|logging.py:314] 2025-03-17 10:38:00,641 >> You're using a GPT2TokenizerFast tokenizer. Please note that with a fast tokenizer, using the `__call__` method is faster than using a method to encode the text followed by a call to the `pad` method to get a padded encoding.\n",
      "[WARNING|utils.py:1843] 2025-03-17 10:38:00,644 >> Setting `pad_token_id` to `eos_token_id`:50256 for open-end generation.\n",
      "[WARNING|utils.py:1843] 2025-03-17 10:38:04,034 >> Setting `pad_token_id` to `eos_token_id`:50256 for open-end generation.\n",
      "[WARNING|trainer.py:814] 2025-03-17 10:38:06,930 >> Trainer.tokenizer is now deprecated. You should use Trainer.processing_class instead.\n",
      "[WARNING|trainer.py:814] 2025-03-17 10:38:06,932 >> Trainer.tokenizer is now deprecated. You should use Trainer.processing_class instead.\n",
      "[WARNING|trainer.py:814] 2025-03-17 10:38:06,934 >> Trainer.tokenizer is now deprecated. You should use Trainer.processing_class instead.\n",
      "[WARNING|trainer.py:814] 2025-03-17 10:38:06,936 >> Trainer.tokenizer is now deprecated. You should use Trainer.processing_class instead.\n",
      "[WARNING|trainer.py:814] 2025-03-17 10:38:06,938 >> Trainer.tokenizer is now deprecated. You should use Trainer.processing_class instead.\n",
      "[WARNING|trainer.py:814] 2025-03-17 10:38:06,939 >> Trainer.tokenizer is now deprecated. You should use Trainer.processing_class instead.\n",
      "[WARNING|trainer.py:814] 2025-03-17 10:38:06,941 >> Trainer.tokenizer is now deprecated. You should use Trainer.processing_class instead.\n",
      "[WARNING|trainer.py:814] 2025-03-17 10:38:06,943 >> Trainer.tokenizer is now deprecated. You should use Trainer.processing_class instead.\n",
      "[WARNING|trainer.py:814] 2025-03-17 10:38:06,944 >> Trainer.tokenizer is now deprecated. You should use Trainer.processing_class instead.\n",
      "[WARNING|trainer.py:814] 2025-03-17 10:38:06,946 >> Trainer.tokenizer is now deprecated. You should use Trainer.processing_class instead.\n",
      "[WARNING|trainer.py:814] 2025-03-17 10:38:06,948 >> Trainer.tokenizer is now deprecated. You should use Trainer.processing_class instead.\n",
      "[WARNING|trainer.py:814] 2025-03-17 10:38:06,949 >> Trainer.tokenizer is now deprecated. You should use Trainer.processing_class instead.\n",
      "[WARNING|trainer.py:814] 2025-03-17 10:38:06,951 >> Trainer.tokenizer is now deprecated. You should use Trainer.processing_class instead.\n",
      "[WARNING|trainer.py:814] 2025-03-17 10:38:06,953 >> Trainer.tokenizer is now deprecated. You should use Trainer.processing_class instead.\n",
      "[WARNING|trainer.py:814] 2025-03-17 10:38:06,954 >> Trainer.tokenizer is now deprecated. You should use Trainer.processing_class instead.\n",
      "[WARNING|trainer.py:814] 2025-03-17 10:38:06,956 >> Trainer.tokenizer is now deprecated. You should use Trainer.processing_class instead.\n",
      "[WARNING|trainer.py:814] 2025-03-17 10:38:06,958 >> Trainer.tokenizer is now deprecated. You should use Trainer.processing_class instead.\n",
      "[WARNING|trainer.py:814] 2025-03-17 10:38:06,959 >> Trainer.tokenizer is now deprecated. You should use Trainer.processing_class instead.\n",
      "[WARNING|trainer.py:814] 2025-03-17 10:38:06,961 >> Trainer.tokenizer is now deprecated. You should use Trainer.processing_class instead.\n",
      "[WARNING|trainer.py:814] 2025-03-17 10:38:06,963 >> Trainer.tokenizer is now deprecated. You should use Trainer.processing_class instead.\n",
      "[WARNING|trainer.py:814] 2025-03-17 10:38:06,964 >> Trainer.tokenizer is now deprecated. You should use Trainer.processing_class instead.\n",
      "[WARNING|trainer.py:814] 2025-03-17 10:38:06,966 >> Trainer.tokenizer is now deprecated. You should use Trainer.processing_class instead.\n",
      "[WARNING|trainer.py:814] 2025-03-17 10:38:06,968 >> Trainer.tokenizer is now deprecated. You should use Trainer.processing_class instead.\n",
      "[WARNING|trainer.py:814] 2025-03-17 10:38:06,968 >> Trainer.tokenizer is now deprecated. You should use Trainer.processing_class instead.\n",
      "[WARNING|trainer.py:814] 2025-03-17 10:38:06,971 >> Trainer.tokenizer is now deprecated. You should use Trainer.processing_class instead.\n",
      "[WARNING|trainer.py:814] 2025-03-17 10:38:06,972 >> Trainer.tokenizer is now deprecated. You should use Trainer.processing_class instead.\n",
      "[WARNING|trainer.py:814] 2025-03-17 10:38:06,973 >> Trainer.tokenizer is now deprecated. You should use Trainer.processing_class instead.\n",
      "[WARNING|trainer.py:814] 2025-03-17 10:38:06,973 >> Trainer.tokenizer is now deprecated. You should use Trainer.processing_class instead.\n",
      "[WARNING|trainer.py:814] 2025-03-17 10:38:06,974 >> Trainer.tokenizer is now deprecated. You should use Trainer.processing_class instead.\n",
      "[WARNING|trainer.py:814] 2025-03-17 10:38:06,978 >> Trainer.tokenizer is now deprecated. You should use Trainer.processing_class instead.\n",
      "[WARNING|trainer.py:814] 2025-03-17 10:38:06,979 >> Trainer.tokenizer is now deprecated. You should use Trainer.processing_class instead.\n",
      "[WARNING|trainer.py:814] 2025-03-17 10:38:06,979 >> Trainer.tokenizer is now deprecated. You should use Trainer.processing_class instead.\n",
      "[WARNING|trainer.py:814] 2025-03-17 10:38:06,980 >> Trainer.tokenizer is now deprecated. You should use Trainer.processing_class instead.\n",
      "[WARNING|trainer.py:814] 2025-03-17 10:38:06,980 >> Trainer.tokenizer is now deprecated. You should use Trainer.processing_class instead.\n",
      "[WARNING|trainer.py:814] 2025-03-17 10:38:06,981 >> Trainer.tokenizer is now deprecated. You should use Trainer.processing_class instead.\n",
      "[WARNING|trainer.py:814] 2025-03-17 10:38:06,981 >> Trainer.tokenizer is now deprecated. You should use Trainer.processing_class instead.\n",
      "[WARNING|trainer.py:814] 2025-03-17 10:38:06,982 >> Trainer.tokenizer is now deprecated. You should use Trainer.processing_class instead.\n",
      "[WARNING|trainer.py:814] 2025-03-17 10:38:06,982 >> Trainer.tokenizer is now deprecated. You should use Trainer.processing_class instead.\n",
      "[WARNING|trainer.py:814] 2025-03-17 10:38:06,983 >> Trainer.tokenizer is now deprecated. You should use Trainer.processing_class instead.\n",
      "[WARNING|trainer.py:814] 2025-03-17 10:38:06,983 >> Trainer.tokenizer is now deprecated. You should use Trainer.processing_class instead.\n",
      "[WARNING|trainer.py:814] 2025-03-17 10:38:06,984 >> Trainer.tokenizer is now deprecated. You should use Trainer.processing_class instead.\n",
      "[WARNING|trainer.py:814] 2025-03-17 10:38:06,984 >> Trainer.tokenizer is now deprecated. You should use Trainer.processing_class instead.\n",
      "[WARNING|trainer.py:814] 2025-03-17 10:38:06,985 >> Trainer.tokenizer is now deprecated. You should use Trainer.processing_class instead.\n",
      "[WARNING|trainer.py:814] 2025-03-17 10:38:06,985 >> Trainer.tokenizer is now deprecated. You should use Trainer.processing_class instead.\n",
      "[WARNING|trainer.py:814] 2025-03-17 10:38:06,986 >> Trainer.tokenizer is now deprecated. You should use Trainer.processing_class instead.\n",
      "[WARNING|trainer.py:814] 2025-03-17 10:38:06,986 >> Trainer.tokenizer is now deprecated. You should use Trainer.processing_class instead.\n",
      "[WARNING|trainer.py:814] 2025-03-17 10:38:06,986 >> Trainer.tokenizer is now deprecated. You should use Trainer.processing_class instead.\n",
      "[WARNING|trainer.py:814] 2025-03-17 10:38:06,987 >> Trainer.tokenizer is now deprecated. You should use Trainer.processing_class instead.\n",
      "[WARNING|trainer.py:814] 2025-03-17 10:38:06,987 >> Trainer.tokenizer is now deprecated. You should use Trainer.processing_class instead.\n",
      "[WARNING|trainer.py:814] 2025-03-17 10:38:06,988 >> Trainer.tokenizer is now deprecated. You should use Trainer.processing_class instead.\n"
     ]
    },
    {
     "name": "stdout",
     "output_type": "stream",
     "text": [
      "Saving results to file...\n"
     ]
    }
   ],
   "source": [
    "train_args = set_default_training_args(dry_run=False, dry_test_run = True)\n",
    "\n",
    "model_args, data_args = set_default_config_args()\n",
    "privacy_args, lora_args= argument_utils.PrivacyArguments(), argument_utils.LoraArguments()\n",
    "model_args.inference = True\n",
    "privacy_args.disable_dp = True\n",
    "data_args.dataset_name = 'wiki'\n",
    "data_args.path_to_test_dataset = 'dummy-test-wiki_data/test.csv'\n",
    "model_args.path_to_load_model = 'dummy-test-wiki'\n",
    "model_args.num_return_seq = 5\n",
    "train_args.output_dir = \"data/projects/sdgeval/models/\"\n",
    "model_args.model_name = 'gpt2'\n",
    "#data_args.prompt_begin = \"Label: \"\n",
    "#data_args.prompt_end = \" \"\n",
    "\n",
    "inference(argument_utils.Arguments(train=train_args, privacy=privacy_args, model=model_args, data = data_args, lora=lora_args))"
   ]
  },
  {
   "cell_type": "code",
   "execution_count": 7,
   "metadata": {
    "scrolled": true,
    "tags": []
   },
   "outputs": [
    {
     "name": "stderr",
     "output_type": "stream",
     "text": [
      "/data/afield6/umd-dsmolyak/sdg-eval/venv/lib64/python3.11/site-packages/transformers/training_args.py:1594: FutureWarning: `evaluation_strategy` is deprecated and will be removed in version 4.46 of 🤗 Transformers. Use `eval_strategy` instead\n",
      "  warnings.warn(\n",
      "[WARNING|integration_utils.py:100] 2025-03-13 22:27:06,239 >> Using the `WANDB_DISABLED` environment variable is deprecated and will be removed in v5. Use the --report_to flag to control the integrations used for logging result (for instance --report_to none).\n"
     ]
    },
    {
     "name": "stdout",
     "output_type": "stream",
     "text": [
      "0\n",
      "CPU:  0.0\n",
      "Model:  gpt2\n",
      "Using LoRA\n"
     ]
    },
    {
     "name": "stderr",
     "output_type": "stream",
     "text": [
      "/data/afield6/umd-dsmolyak/sdg-eval/sdgeval/generation/controllable/inference.py:72: FutureWarning: `tokenizer` is deprecated and will be removed in version 5.0.0 for `Trainer.__init__`. Use `processing_class` instead.\n",
      "  trainer = Trainer(\n",
      "03/13/2025 22:27:13:WARNING:Detected kernel version 4.18.0, which is below the recommended minimum of 5.5.0; this can cause the process to hang. It is recommended to upgrade the kernel to the minimum version or higher.\n"
     ]
    },
    {
     "name": "stdout",
     "output_type": "stream",
     "text": [
      "Total number of parameters of the model: 124735488\n",
      "Fine-tuned number of parameters of the model: 0\n",
      "Differentially Private Training: False\n",
      "Non-DP model has been loaded...\n",
      "Testing for the entire dataset. Number of generations per prompt:  5\n",
      "Length of test data 5\n"
     ]
    },
    {
     "name": "stderr",
     "output_type": "stream",
     "text": [
      "[WARNING|trainer.py:814] 2025-03-13 22:27:15,684 >> Trainer.tokenizer is now deprecated. You should use Trainer.processing_class instead.\n",
      "[WARNING|trainer.py:814] 2025-03-13 22:27:15,703 >> Trainer.tokenizer is now deprecated. You should use Trainer.processing_class instead.\n",
      "[WARNING|trainer.py:814] 2025-03-13 22:27:15,704 >> Trainer.tokenizer is now deprecated. You should use Trainer.processing_class instead.\n",
      "[WARNING|trainer.py:814] 2025-03-13 22:27:15,706 >> Trainer.tokenizer is now deprecated. You should use Trainer.processing_class instead.\n",
      "[WARNING|logging.py:314] 2025-03-13 22:27:15,708 >> You're using a GPT2TokenizerFast tokenizer. Please note that with a fast tokenizer, using the `__call__` method is faster than using a method to encode the text followed by a call to the `pad` method to get a padded encoding.\n",
      "[WARNING|utils.py:1843] 2025-03-13 22:27:15,711 >> Setting `pad_token_id` to `eos_token_id`:50256 for open-end generation.\n",
      "[WARNING|utils.py:1843] 2025-03-13 22:27:18,946 >> Setting `pad_token_id` to `eos_token_id`:50256 for open-end generation.\n",
      "[WARNING|trainer.py:814] 2025-03-13 22:27:21,854 >> Trainer.tokenizer is now deprecated. You should use Trainer.processing_class instead.\n",
      "[WARNING|trainer.py:814] 2025-03-13 22:27:21,856 >> Trainer.tokenizer is now deprecated. You should use Trainer.processing_class instead.\n",
      "[WARNING|trainer.py:814] 2025-03-13 22:27:21,858 >> Trainer.tokenizer is now deprecated. You should use Trainer.processing_class instead.\n",
      "[WARNING|trainer.py:814] 2025-03-13 22:27:21,860 >> Trainer.tokenizer is now deprecated. You should use Trainer.processing_class instead.\n",
      "[WARNING|trainer.py:814] 2025-03-13 22:27:21,861 >> Trainer.tokenizer is now deprecated. You should use Trainer.processing_class instead.\n",
      "[WARNING|trainer.py:814] 2025-03-13 22:27:21,863 >> Trainer.tokenizer is now deprecated. You should use Trainer.processing_class instead.\n",
      "[WARNING|trainer.py:814] 2025-03-13 22:27:21,865 >> Trainer.tokenizer is now deprecated. You should use Trainer.processing_class instead.\n",
      "[WARNING|trainer.py:814] 2025-03-13 22:27:21,866 >> Trainer.tokenizer is now deprecated. You should use Trainer.processing_class instead.\n",
      "[WARNING|trainer.py:814] 2025-03-13 22:27:21,868 >> Trainer.tokenizer is now deprecated. You should use Trainer.processing_class instead.\n",
      "[WARNING|trainer.py:814] 2025-03-13 22:27:21,870 >> Trainer.tokenizer is now deprecated. You should use Trainer.processing_class instead.\n",
      "[WARNING|trainer.py:814] 2025-03-13 22:27:21,871 >> Trainer.tokenizer is now deprecated. You should use Trainer.processing_class instead.\n",
      "[WARNING|trainer.py:814] 2025-03-13 22:27:21,873 >> Trainer.tokenizer is now deprecated. You should use Trainer.processing_class instead.\n",
      "[WARNING|trainer.py:814] 2025-03-13 22:27:21,875 >> Trainer.tokenizer is now deprecated. You should use Trainer.processing_class instead.\n",
      "[WARNING|trainer.py:814] 2025-03-13 22:27:21,876 >> Trainer.tokenizer is now deprecated. You should use Trainer.processing_class instead.\n",
      "[WARNING|trainer.py:814] 2025-03-13 22:27:21,878 >> Trainer.tokenizer is now deprecated. You should use Trainer.processing_class instead.\n",
      "[WARNING|trainer.py:814] 2025-03-13 22:27:21,880 >> Trainer.tokenizer is now deprecated. You should use Trainer.processing_class instead.\n",
      "[WARNING|trainer.py:814] 2025-03-13 22:27:21,881 >> Trainer.tokenizer is now deprecated. You should use Trainer.processing_class instead.\n",
      "[WARNING|trainer.py:814] 2025-03-13 22:27:21,883 >> Trainer.tokenizer is now deprecated. You should use Trainer.processing_class instead.\n",
      "[WARNING|trainer.py:814] 2025-03-13 22:27:21,885 >> Trainer.tokenizer is now deprecated. You should use Trainer.processing_class instead.\n",
      "[WARNING|trainer.py:814] 2025-03-13 22:27:21,886 >> Trainer.tokenizer is now deprecated. You should use Trainer.processing_class instead.\n",
      "[WARNING|trainer.py:814] 2025-03-13 22:27:21,888 >> Trainer.tokenizer is now deprecated. You should use Trainer.processing_class instead.\n",
      "[WARNING|trainer.py:814] 2025-03-13 22:27:21,890 >> Trainer.tokenizer is now deprecated. You should use Trainer.processing_class instead.\n",
      "[WARNING|trainer.py:814] 2025-03-13 22:27:21,891 >> Trainer.tokenizer is now deprecated. You should use Trainer.processing_class instead.\n",
      "[WARNING|trainer.py:814] 2025-03-13 22:27:21,892 >> Trainer.tokenizer is now deprecated. You should use Trainer.processing_class instead.\n",
      "[WARNING|trainer.py:814] 2025-03-13 22:27:21,893 >> Trainer.tokenizer is now deprecated. You should use Trainer.processing_class instead.\n",
      "[WARNING|trainer.py:814] 2025-03-13 22:27:21,897 >> Trainer.tokenizer is now deprecated. You should use Trainer.processing_class instead.\n",
      "[WARNING|trainer.py:814] 2025-03-13 22:27:21,897 >> Trainer.tokenizer is now deprecated. You should use Trainer.processing_class instead.\n",
      "[WARNING|trainer.py:814] 2025-03-13 22:27:21,898 >> Trainer.tokenizer is now deprecated. You should use Trainer.processing_class instead.\n",
      "[WARNING|trainer.py:814] 2025-03-13 22:27:21,898 >> Trainer.tokenizer is now deprecated. You should use Trainer.processing_class instead.\n",
      "[WARNING|trainer.py:814] 2025-03-13 22:27:21,899 >> Trainer.tokenizer is now deprecated. You should use Trainer.processing_class instead.\n",
      "[WARNING|trainer.py:814] 2025-03-13 22:27:21,899 >> Trainer.tokenizer is now deprecated. You should use Trainer.processing_class instead.\n",
      "[WARNING|trainer.py:814] 2025-03-13 22:27:21,900 >> Trainer.tokenizer is now deprecated. You should use Trainer.processing_class instead.\n",
      "[WARNING|trainer.py:814] 2025-03-13 22:27:21,900 >> Trainer.tokenizer is now deprecated. You should use Trainer.processing_class instead.\n",
      "[WARNING|trainer.py:814] 2025-03-13 22:27:21,901 >> Trainer.tokenizer is now deprecated. You should use Trainer.processing_class instead.\n",
      "[WARNING|trainer.py:814] 2025-03-13 22:27:21,901 >> Trainer.tokenizer is now deprecated. You should use Trainer.processing_class instead.\n",
      "[WARNING|trainer.py:814] 2025-03-13 22:27:21,901 >> Trainer.tokenizer is now deprecated. You should use Trainer.processing_class instead.\n",
      "[WARNING|trainer.py:814] 2025-03-13 22:27:21,902 >> Trainer.tokenizer is now deprecated. You should use Trainer.processing_class instead.\n",
      "[WARNING|trainer.py:814] 2025-03-13 22:27:21,912 >> Trainer.tokenizer is now deprecated. You should use Trainer.processing_class instead.\n",
      "[WARNING|trainer.py:814] 2025-03-13 22:27:21,912 >> Trainer.tokenizer is now deprecated. You should use Trainer.processing_class instead.\n",
      "[WARNING|trainer.py:814] 2025-03-13 22:27:21,913 >> Trainer.tokenizer is now deprecated. You should use Trainer.processing_class instead.\n",
      "[WARNING|trainer.py:814] 2025-03-13 22:27:21,913 >> Trainer.tokenizer is now deprecated. You should use Trainer.processing_class instead.\n",
      "[WARNING|trainer.py:814] 2025-03-13 22:27:21,914 >> Trainer.tokenizer is now deprecated. You should use Trainer.processing_class instead.\n",
      "[WARNING|trainer.py:814] 2025-03-13 22:27:21,914 >> Trainer.tokenizer is now deprecated. You should use Trainer.processing_class instead.\n",
      "[WARNING|trainer.py:814] 2025-03-13 22:27:21,915 >> Trainer.tokenizer is now deprecated. You should use Trainer.processing_class instead.\n",
      "[WARNING|trainer.py:814] 2025-03-13 22:27:21,915 >> Trainer.tokenizer is now deprecated. You should use Trainer.processing_class instead.\n",
      "[WARNING|trainer.py:814] 2025-03-13 22:27:21,916 >> Trainer.tokenizer is now deprecated. You should use Trainer.processing_class instead.\n",
      "[WARNING|trainer.py:814] 2025-03-13 22:27:21,916 >> Trainer.tokenizer is now deprecated. You should use Trainer.processing_class instead.\n",
      "[WARNING|trainer.py:814] 2025-03-13 22:27:21,916 >> Trainer.tokenizer is now deprecated. You should use Trainer.processing_class instead.\n",
      "[WARNING|trainer.py:814] 2025-03-13 22:27:21,917 >> Trainer.tokenizer is now deprecated. You should use Trainer.processing_class instead.\n",
      "[WARNING|trainer.py:814] 2025-03-13 22:27:21,917 >> Trainer.tokenizer is now deprecated. You should use Trainer.processing_class instead.\n"
     ]
    },
    {
     "name": "stdout",
     "output_type": "stream",
     "text": [
      "Saving results to file...\n"
     ]
    }
   ],
   "source": [
    "train_args = set_default_training_args(dry_run=False, dry_test_run = True)\n",
    "\n",
    "model_args, data_args = set_default_config_args()\n",
    "privacy_args, lora_args= argument_utils.PrivacyArguments(), argument_utils.LoraArguments()\n",
    "model_args.inference = True\n",
    "privacy_args.disable_dp = True\n",
    "model_args.model_name = 'gpt2'\n",
    "data_args.path_to_test_dataset = 'dummy-test/test.csv'\n",
    "model_args.path_to_load_model = 'dummy-test'\n",
    "model_args.num_return_seq = 5\n",
    "train_args.output_dir = \"data/\"\n",
    "#data_args.prompt_begin = \"Label: \"\n",
    "#data_args.prompt_end = \" \"\n",
    "\n",
    "inference(argument_utils.Arguments(train=train_args, privacy=privacy_args, model=model_args, data = data_args, lora=lora_args))"
   ]
  },
  {
   "cell_type": "markdown",
   "metadata": {
    "jp-MarkdownHeadingCollapsed": true,
    "tags": []
   },
   "source": [
    "### Descriptive analysis of the synthetic data"
   ]
  },
  {
   "cell_type": "code",
   "execution_count": 3,
   "metadata": {},
   "outputs": [
    {
     "name": "stderr",
     "output_type": "stream",
     "text": [
      "[nltk_data] Downloading package punkt to /home/umd-\n",
      "[nltk_data]     dsmolyak/nltk_data...\n",
      "[nltk_data]   Package punkt is already up-to-date!\n",
      "[nltk_data] Downloading package punkt_tab to /home/umd-\n",
      "[nltk_data]     dsmolyak/nltk_data...\n",
      "[nltk_data]   Package punkt_tab is already up-to-date!\n",
      "[nltk_data] Downloading package punkt_tab to /home/umd-\n",
      "[nltk_data]     dsmolyak/nltk_data...\n",
      "[nltk_data]   Package punkt_tab is already up-to-date!\n"
     ]
    },
    {
     "data": {
      "text/plain": [
       "True"
      ]
     },
     "execution_count": 3,
     "metadata": {},
     "output_type": "execute_result"
    }
   ],
   "source": [
    "import pandas as pd\n",
    "import nltk\n",
    "from sdgeval.descriptive.descriptor import TextDescriptor\n",
    "from sdgeval.descriptive.arguments import TextDescriptorArgs\n",
    "nltk.download('punkt_tab')"
   ]
  },
  {
   "cell_type": "code",
   "execution_count": 4,
   "metadata": {},
   "outputs": [],
   "source": [
    "df = pd.read_csv('test-outputs.csv')\n",
    "data = {'texts': df['output_text'].tolist()} # [:10]"
   ]
  },
  {
   "cell_type": "code",
   "execution_count": 5,
   "metadata": {},
   "outputs": [
    {
     "name": "stdout",
     "output_type": "stream",
     "text": [
      "Most frequent entities: [('3-2', 58), ('1', 30), ('3', 28), ('2', 24), ('P.Q.', 9), ('4', 7), ('5', 5), ('0.0', 5), ('second', 5), ('USMIDR', 5)]\n",
      "Least frequent entities: {'10-year-olds': 1, '6.4': 1, '1.5': 1, 'France': 1, 'John Taylor': 1, 'the Institute of Social Economics and Business at': 1, 'Harvard University': 1, 'Social Work': 1, '7.2 million': 1, '16-20': 1, '2007-2010': 1, '8.8 percent': 1, '16 to 24 years old': 1, 'Taylor': 1, '2 p.m.': 1, '5 a.m. to 10 p.m.': 1, '2 a.m. to 3 p.m.': 1, '5 p.m. to 8 p.m.': 1, '8 a.m. to 3 p.m.': 1, 'the day of week': 1, 'P.A.': 1, '80-6': 1, '1-1-14': 1, 'Sec': 1, 'Division': 1, '84-3': 1, '20-3': 1, 'Method': 1, 'NM/lib': 1, 'int errorCount': 1, 'the Federal Food, Drug': 1, 'Cosmetic Act': 1, 'the Food and Drug Administration': 1, 'the United States': 1, 'January 1, 2009': 1, '9.5': 1, '9.6': 1, 'Section 31': 1, 'the New Jersey Constitution': 1, 'Northeast': 1, 'States': 1, 'Georgia': 1, '2012': 1, 'Florida': 1, 'years': 1, 'Bill Clark': 1, 'the American Civil Liberties Union': 1, '4 hours': 1, '1.1.1': 1, '4.7 hours': 1, 'Watch': 1, '30 hours': 1, '5%': 1, '20.9': 1, '4.2': 1, '3.6': 1, '4.3': 1, '5%\\n\\n4%': 1, '1%': 1, '1.9': 1, '1.7': 1, '3.0': 1, '0%\\n\\n2%': 1, '1.3': 1, '0%\\n\\n3%': 1, '0.9': 1, 'seconds': 1, 'Minutes Minimum Maximum Requirement Number': 1, '0.87': 1, '1.08': 1, '2.16': 1, '1.18': 1, '0.82': 1, '2.15': 1, '5–8 4.34': 1, '1.35': 1, '1.48': 1, '5.08': 1, '3.55': 1, '1.59': 1, '1.40': 1, '5.15': 1, '0.92': 1, '0.88': 1, '0.72': 1, '0.77': 1, '0.71': 1, '0.0001': 1, '2.24': 1, '3.1': 1, '0.08': 1, '2.30': 1, '0.001': 1, '0.91': 1, '2.36': 1, '0.90': 1, '0.09': 1, '54': 1, '145528': 1, '145417': 1, '147643': 1, '145735': 1, '147648 | Elf:4': 1, '145827': 1, '145737': 1, '145739': 1, '145742': 1, 'Okawaru': 1, '145745': 1, 'Nemelex Xobeh': 1, '145760': 1, 'Noticed Roxanne': 1, 'Roxanne 148336': 1, '148336': 1, 'Vyxaub': 1, '11': 1, '148': 1, 'AOS_CITY_SetObjective': 1, '11171249': 1, 'Follower (01002017': 1, 'Property LinkCustom10': 1, 'WIP': 1, 'one night': 1, 'nine': 1, 'Dad': 1, 'Wreck': 1, 'the second day': 1, '2016-08-21': 1, 'Item.func_71190_q(Item.java:1325': 1, 'net.minecraft.server.dedicated': 1, 'MinecraftServer.func_71217_p(MinecraftServer.java:542': 1, 'the Sochi Olympic Games': 1, 'December': 1, 'the World Cup': 1, 'Swiss': 1, 'Michael Phelps': 1, 'January': 1, '2010': 1, 'London Games': 1, 'more than a year': 1, 'this year': 1, '2014': 1, '10th': 1, 'Olympic': 1, '2013': 1, 'only three weeks later': 1, '200 yen': 1, '5,200': 1, 'at least two': 1, 'three': 1, 'up to 50': 1, '100': 1, 'Masakazu': 1, 'Kana Shimbunji': 1, 'third': 1, 'fourth': 1, 'many years': 1, '3.22': 1, '1.6': 1, '2.2': 1, '2.8': 1, '2.4': 1, 'Lenda': 1, 'Cabeça de Cuia': 1, 'The Legend of Dark Witch': 1, 'The Legend of Heroes: Trails': 1, 'the Sky The Legend of Heroes': 1, 'the Sky SC': 1, '3rd': 1, 'The Legend of Heroes': 1, 'Cold Steel II': 1, 'The Logomancer The Long Dark': 1, 'The Lost Crown The Lost Island The Lost Souls The Lost Valley The Low Road': 1, 'The Mean Greens - Plastic Warfare': 1, '5.9': 1, '4,600.90': 1, '1 and 4': 1, '2:1': 1, '6 cards': 1, 'that season': 1, 'at least 5': 1, '9': 1, 'New Brunswick': 1, 'House': 1, 'Canada': 1, 'B.C.': 1, 'Québec': 1, '4k': 1, '980': 1, 'hours': 1, 'State': 1, '18': 1, '.5-15.0.1.jar': 1, 'Tinkers': 1, 'UCHIJAAAA TConstruct-3.6.5-10.3.3.jar': 1, 'tconstruct_common.jar.jar': 1, 'tconstruct_common.jar': 1, 'Default Mods: Default_Mod_1.1.jar': 1, 'TConstruct-3.6.5-10.3.3.jar': 1, 'TConstruct-Core-1.5.3.0 Required': 1, 'TConstruct-2.4-1.0.2.6-universal.jar': 1, 'TDConsistence - TDS - 2': 1}\n",
      "Saving the pickle results to: entity-output.pkl\n",
      "Saving the plot figure to:  entity-analysis.png\n"
     ]
    },
    {
     "data": {
      "image/png": "[encoded data removed]",
      "text/plain": [
       "<Figure size 1000x600 with 1 Axes>"
      ]
     },
     "metadata": {},
     "output_type": "display_data"
    }
   ],
   "source": [
    "desc_analyze = TextDescriptor(data['texts'], TextDescriptorArgs(produce_plot=True))\n",
    "desc_analyze.analyze_entities()"
   ]
  },
  {
   "cell_type": "code",
   "execution_count": 16,
   "metadata": {},
   "outputs": [
    {
     "name": "stdout",
     "output_type": "stream",
     "text": [
      "[(0, '0.045*\")\" + 0.045*\"(\" + 0.037*\",\" + 0.031*\"the\" + 0.027*\".\"'), (1, '0.042*\"the\" + 0.033*\",\" + 0.030*\".\" + 0.020*\"a\" + 0.016*\"is\"'), (2, '0.051*\"the\" + 0.035*\")\" + 0.034*\"(\" + 0.023*\",\" + 0.021*\"*\"')]\n"
     ]
    }
   ],
   "source": [
    "print(desc_analyze._topic_modeling())\n",
    "# print(desc_analyze._compute_tfidf())\n",
    "# print(desc_analyze._ngram_frequency())"
   ]
  },
  {
   "cell_type": "code",
   "execution_count": 21,
   "metadata": {},
   "outputs": [
    {
     "name": "stdout",
     "output_type": "stream",
     "text": [
      "Data saved to downstream-dummy-test\n",
      "Train: 17 samples, Validation: 4 samples, Test: 4 samples\n"
     ]
    }
   ],
   "source": [
    "from sdgeval.utils.utils import create_classification_dataset\n",
    "\n",
    "df = pd.read_csv('test-outputs.csv')\n",
    "_, _, _ = create_classification_dataset(df, label_column = 'label', output_json_path = 'dummy-mapping.json',\n",
    "                                        output_dir = 'downstream-dummy-test', multilabel = False, train_ratio = 0.7, test_ratio = 0.15, val_ratio = 0.15)\n",
    "#df = pd.read_csv('test-outputs.csv')\n",
    "#df, _ = encode_labels(df, label_column='Name', output_json_path = 'dummy-mapping.json')\n",
    "#_, _, _ = split_and_save_dataframe(df, 'downstream-dummy-test', train_ratio = 0.7, test_ratio = 0.15, val_ratio=0.15)"
   ]
  },
  {
   "cell_type": "markdown",
   "metadata": {
    "jp-MarkdownHeadingCollapsed": true,
    "tags": []
   },
   "source": [
    "### Training and testing a downstream classifier"
   ]
  },
  {
   "cell_type": "markdown",
   "metadata": {},
   "source": [
    "#### Training a downstream classifier"
   ]
  },
  {
   "cell_type": "code",
   "execution_count": 24,
   "metadata": {},
   "outputs": [],
   "source": [
    "# pd.read_csv('/home/umd-dsmolyak/scr4_afield6/umd-dsmolyak/sdg-eval-scr/data/mimiciii/validation.csv')"
   ]
  },
  {
   "cell_type": "code",
   "execution_count": 8,
   "metadata": {
    "scrolled": true,
    "tags": []
   },
   "outputs": [
    {
     "name": "stderr",
     "output_type": "stream",
     "text": [
      "/data/afield6/umd-dsmolyak/sdg-eval/venv/lib64/python3.11/site-packages/transformers/training_args.py:1594: FutureWarning: `evaluation_strategy` is deprecated and will be removed in version 4.46 of 🤗 Transformers. Use `eval_strategy` instead\n",
      "  warnings.warn(\n",
      "[WARNING|integration_utils.py:100] 2025-03-17 10:56:06,931 >> Using the `WANDB_DISABLED` environment variable is deprecated and will be removed in v5. Use the --report_to flag to control the integrations used for logging result (for instance --report_to none).\n"
     ]
    },
    {
     "name": "stdout",
     "output_type": "stream",
     "text": [
      "Initialization...\n",
      "Training:\n",
      "\n",
      "Successfully loaded dataset '/home/umd-dsmolyak/scr4_afield6/umd-dsmolyak/sdg-eval-scr/data/mimiciii' from Hugging Face Hub.\n",
      "Loading base model for fine-tuning...\n"
     ]
    },
    {
     "name": "stderr",
     "output_type": "stream",
     "text": [
      "[WARNING|modeling_utils.py:4972] 2025-03-17 10:56:08,071 >> Some weights of BertForSequenceClassification were not initialized from the model checkpoint at bert-base-uncased and are newly initialized: ['classifier.bias', 'classifier.weight']\n",
      "You should probably TRAIN this model on a down-stream task to be able to use it for predictions and inference.\n"
     ]
    },
    {
     "name": "stdout",
     "output_type": "stream",
     "text": [
      "Preprocessing dataset!\n"
     ]
    },
    {
     "name": "stderr",
     "output_type": "stream",
     "text": [
      "/data/afield6/umd-dsmolyak/sdg-eval/venv/lib64/python3.11/site-packages/transformers/tokenization_utils_base.py:2690: FutureWarning: The `pad_to_max_length` argument is deprecated and will be removed in a future version, use `padding=True` or `padding='longest'` to pad to the longest sequence in the batch, or use `padding='max_length'` to pad to a max length. In this case, you can give a specific length with `max_length` (e.g. `max_length=45`) or leave max_length to None to pad to the maximal input size of the model (e.g. 512 for Bert).\n",
      "  warnings.warn(\n",
      "03/17/2025 10:58:04:WARNING:Detected kernel version 4.18.0, which is below the recommended minimum of 5.5.0; this can cause the process to hang. It is recommended to upgrade the kernel to the minimum version or higher.\n"
     ]
    },
    {
     "name": "stdout",
     "output_type": "stream",
     "text": [
      "Model training begins...\n"
     ]
    },
    {
     "data": {
      "text/html": [
       "\n",
       "    <div>\n",
       "      \n",
       "      <progress value='3233' max='7446' style='width:300px; height:20px; vertical-align: middle;'></progress>\n",
       "      [3233/7446 06:25 < 08:22, 8.38 it/s, Epoch 1.30/3]\n",
       "    </div>\n",
       "    <table border=\"1\" class=\"dataframe\">\n",
       "  <thead>\n",
       " <tr style=\"text-align: left;\">\n",
       "      <th>Epoch</th>\n",
       "      <th>Training Loss</th>\n",
       "      <th>Validation Loss</th>\n",
       "      <th>Precision</th>\n",
       "      <th>Recall</th>\n",
       "      <th>F1 Micro</th>\n",
       "      <th>F1 Macro</th>\n",
       "      <th>Hamming loss</th>\n",
       "      <th>Subset accuracy</th>\n",
       "    </tr>\n",
       "  </thead>\n",
       "  <tbody>\n",
       "    <tr>\n",
       "      <td>1</td>\n",
       "      <td>0.311300</td>\n",
       "      <td>0.295778</td>\n",
       "      <td>0.575613</td>\n",
       "      <td>0.696895</td>\n",
       "      <td>0.630475</td>\n",
       "      <td>0.543419</td>\n",
       "      <td>0.134106</td>\n",
       "      <td>0.247180</td>\n",
       "    </tr>\n",
       "  </tbody>\n",
       "</table><p>"
      ],
      "text/plain": [
       "<IPython.core.display.HTML object>"
      ]
     },
     "metadata": {},
     "output_type": "display_data"
    },
    {
     "ename": "KeyboardInterrupt",
     "evalue": "",
     "output_type": "error",
     "traceback": [
      "\u001b[31m---------------------------------------------------------------------------\u001b[39m",
      "\u001b[31mKeyboardInterrupt\u001b[39m                         Traceback (most recent call last)",
      "\u001b[36mCell\u001b[39m\u001b[36m \u001b[39m\u001b[32mIn[8]\u001b[39m\u001b[32m, line 23\u001b[39m\n\u001b[32m     21\u001b[39m     \u001b[38;5;28mprint\u001b[39m(\u001b[33m\"\u001b[39m\u001b[33mTraining:\u001b[39m\u001b[38;5;130;01m\\n\u001b[39;00m\u001b[33m\"\u001b[39m)\n\u001b[32m     22\u001b[39m     obj = Classifier(args = args)\n\u001b[32m---> \u001b[39m\u001b[32m23\u001b[39m     \u001b[43mobj\u001b[49m\u001b[43m.\u001b[49m\u001b[43mfinetune_model\u001b[49m\u001b[43m(\u001b[49m\u001b[43m)\u001b[49m\n\u001b[32m     24\u001b[39m \u001b[38;5;28;01mif\u001b[39;00m(args.model.is_test):\n\u001b[32m     25\u001b[39m     \u001b[38;5;28mprint\u001b[39m(\u001b[33m\"\u001b[39m\u001b[33mTesting:\u001b[39m\u001b[38;5;130;01m\\n\u001b[39;00m\u001b[33m\"\u001b[39m)\n",
      "\u001b[36mFile \u001b[39m\u001b[32m/data/afield6/umd-dsmolyak/sdg-eval/sdgeval/downstream/classify/train_classifier.py:196\u001b[39m, in \u001b[36mClassifier.finetune_model\u001b[39m\u001b[34m(self)\u001b[39m\n\u001b[32m    190\u001b[39m trainer = Trainer(model = \u001b[38;5;28mself\u001b[39m.model, args = \u001b[38;5;28mself\u001b[39m.training_args,\n\u001b[32m    191\u001b[39m                   train_dataset = processed_train_dataset,\n\u001b[32m    192\u001b[39m                   eval_dataset = processed_eval_dataset,\n\u001b[32m    193\u001b[39m                   compute_metrics = \u001b[38;5;28mself\u001b[39m.compute_metrics,)\n\u001b[32m    195\u001b[39m \u001b[38;5;66;03m#trainer.train(resume_from_checkpoint = True)\u001b[39;00m\n\u001b[32m--> \u001b[39m\u001b[32m196\u001b[39m \u001b[43mtrainer\u001b[49m\u001b[43m.\u001b[49m\u001b[43mtrain\u001b[49m\u001b[43m(\u001b[49m\u001b[43m)\u001b[49m\n\u001b[32m    197\u001b[39m trainer.save_model(\u001b[38;5;28mself\u001b[39m.model_args.path_to_model)\n",
      "\u001b[36mFile \u001b[39m\u001b[32m/data/afield6/umd-dsmolyak/sdg-eval/venv/lib64/python3.11/site-packages/transformers/trainer.py:2241\u001b[39m, in \u001b[36mTrainer.train\u001b[39m\u001b[34m(self, resume_from_checkpoint, trial, ignore_keys_for_eval, **kwargs)\u001b[39m\n\u001b[32m   2239\u001b[39m         hf_hub_utils.enable_progress_bars()\n\u001b[32m   2240\u001b[39m \u001b[38;5;28;01melse\u001b[39;00m:\n\u001b[32m-> \u001b[39m\u001b[32m2241\u001b[39m     \u001b[38;5;28;01mreturn\u001b[39;00m \u001b[43minner_training_loop\u001b[49m\u001b[43m(\u001b[49m\n\u001b[32m   2242\u001b[39m \u001b[43m        \u001b[49m\u001b[43margs\u001b[49m\u001b[43m=\u001b[49m\u001b[43margs\u001b[49m\u001b[43m,\u001b[49m\n\u001b[32m   2243\u001b[39m \u001b[43m        \u001b[49m\u001b[43mresume_from_checkpoint\u001b[49m\u001b[43m=\u001b[49m\u001b[43mresume_from_checkpoint\u001b[49m\u001b[43m,\u001b[49m\n\u001b[32m   2244\u001b[39m \u001b[43m        \u001b[49m\u001b[43mtrial\u001b[49m\u001b[43m=\u001b[49m\u001b[43mtrial\u001b[49m\u001b[43m,\u001b[49m\n\u001b[32m   2245\u001b[39m \u001b[43m        \u001b[49m\u001b[43mignore_keys_for_eval\u001b[49m\u001b[43m=\u001b[49m\u001b[43mignore_keys_for_eval\u001b[49m\u001b[43m,\u001b[49m\n\u001b[32m   2246\u001b[39m \u001b[43m    \u001b[49m\u001b[43m)\u001b[49m\n",
      "\u001b[36mFile \u001b[39m\u001b[32m/data/afield6/umd-dsmolyak/sdg-eval/venv/lib64/python3.11/site-packages/transformers/trainer.py:2553\u001b[39m, in \u001b[36mTrainer._inner_training_loop\u001b[39m\u001b[34m(self, batch_size, args, resume_from_checkpoint, trial, ignore_keys_for_eval)\u001b[39m\n\u001b[32m   2547\u001b[39m \u001b[38;5;28;01mwith\u001b[39;00m context():\n\u001b[32m   2548\u001b[39m     tr_loss_step = \u001b[38;5;28mself\u001b[39m.training_step(model, inputs, num_items_in_batch)\n\u001b[32m   2550\u001b[39m \u001b[38;5;28;01mif\u001b[39;00m (\n\u001b[32m   2551\u001b[39m     args.logging_nan_inf_filter\n\u001b[32m   2552\u001b[39m     \u001b[38;5;129;01mand\u001b[39;00m \u001b[38;5;129;01mnot\u001b[39;00m is_torch_xla_available()\n\u001b[32m-> \u001b[39m\u001b[32m2553\u001b[39m     \u001b[38;5;129;01mand\u001b[39;00m (torch.isnan(tr_loss_step) \u001b[38;5;129;01mor\u001b[39;00m \u001b[43mtorch\u001b[49m\u001b[43m.\u001b[49m\u001b[43misinf\u001b[49m\u001b[43m(\u001b[49m\u001b[43mtr_loss_step\u001b[49m\u001b[43m)\u001b[49m)\n\u001b[32m   2554\u001b[39m ):\n\u001b[32m   2555\u001b[39m     \u001b[38;5;66;03m# if loss is nan or inf simply add the average of previous logged losses\u001b[39;00m\n\u001b[32m   2556\u001b[39m     tr_loss = tr_loss + tr_loss / (\u001b[32m1\u001b[39m + \u001b[38;5;28mself\u001b[39m.state.global_step - \u001b[38;5;28mself\u001b[39m._globalstep_last_logged)\n\u001b[32m   2557\u001b[39m \u001b[38;5;28;01melse\u001b[39;00m:\n",
      "\u001b[31mKeyboardInterrupt\u001b[39m: "
     ]
    }
   ],
   "source": [
    "from transformers import TrainingArguments as HfTrainingArguments\n",
    "from sdgeval.downstream.classify.train_classifier import TrainingArguments, ModelArguments, Classifier, Arguments\n",
    "\n",
    "#arg_parser = transformers.HfArgumentParser((TrainingArguments, MiscArguments))\n",
    "#train_args, model_args = arg_parser.parse_args_into_dataclasses()\n",
    "train_args = TrainingArguments()\n",
    "train_args.metric_for_best_model='eval_f1_micro'\n",
    "\n",
    "model_args = ModelArguments()\n",
    "model_args.is_train = True\n",
    "model_args.text_field = 'TEXT'\n",
    "model_args.label_field = 'Label'\n",
    "model_args.path_to_dataset = '/home/umd-dsmolyak/scr4_afield6/umd-dsmolyak/sdg-eval-scr/data/mimiciii'\n",
    "model_args.n_labels = 10\n",
    "model_args.path_to_model = \"temp/bert-base-uncased-mimiciii-trial\"\n",
    "# model_args.problem_type = 'single_label_classification'\n",
    "model_args.problem_type = \"multi_label_classification\"\n",
    "args = Arguments(train=train_args, model=model_args)\n",
    "print(\"Initialization...\")\n",
    "if(args.model.is_train):\n",
    "    print(\"Training:\\n\")\n",
    "    obj = Classifier(args = args)\n",
    "    obj.finetune_model()\n",
    "if(args.model.is_test):\n",
    "    print(\"Testing:\\n\")\n",
    "    obj = Classifier(args = args)\n",
    "    obj.test_model()"
   ]
  },
  {
   "cell_type": "code",
   "execution_count": null,
   "metadata": {},
   "outputs": [],
   "source": []
  },
  {
   "cell_type": "code",
   "execution_count": null,
   "metadata": {},
   "outputs": [],
   "source": [
    "# from transformers import TrainingArguments as HfTrainingArguments\n",
    "# from sdgeval.downstream.classify.train_classifier import TrainingArguments, ModelArguments, Classifier, Arguments\n",
    "\n",
    "# #arg_parser = transformers.HfArgumentParser((TrainingArguments, MiscArguments))\n",
    "# #train_args, model_args = arg_parser.parse_args_into_dataclasses()\n",
    "# train_args = TrainingArguments()\n",
    "# model_args = ModelArguments()\n",
    "# model_args.is_train = True\n",
    "# model_args.text_field = 'output_text'\n",
    "# model_args.label_field = 'Label'\n",
    "# model_args.path_to_dataset = 'downstream-dummy-test'\n",
    "# model_args.n_labels = 5\n",
    "# model_args.problem_type = 'single_label_classification'\n",
    "# #model_args.problem_type = \"multi_label_classification\"\n",
    "# args = Arguments(train=train_args, model=model_args)\n",
    "# print(\"Initialization...\")\n",
    "# if(args.model.is_train):\n",
    "#     print(\"Training:\\n\")\n",
    "#     obj = Classifier(args = args)\n",
    "#     obj.finetune_model()\n",
    "# if(args.model.is_test):\n",
    "#     print(\"Testing:\\n\")\n",
    "#     obj = Classifier(args = args)\n",
    "#     obj.test_model()"
   ]
  },
  {
   "cell_type": "markdown",
   "metadata": {},
   "source": [
    "#### Testing the downstream classifier"
   ]
  },
  {
   "cell_type": "code",
   "execution_count": 2,
   "metadata": {
    "scrolled": true,
    "tags": []
   },
   "outputs": [
    {
     "name": "stderr",
     "output_type": "stream",
     "text": [
      "/data/afield6/umd-dsmolyak/sdg-eval/venv/lib64/python3.11/site-packages/transformers/training_args.py:1594: FutureWarning: `evaluation_strategy` is deprecated and will be removed in version 4.46 of 🤗 Transformers. Use `eval_strategy` instead\n",
      "  warnings.warn(\n",
      "Using the `WANDB_DISABLED` environment variable is deprecated and will be removed in v5. Use the --report_to flag to control the integrations used for logging result (for instance --report_to none).\n"
     ]
    },
    {
     "name": "stdout",
     "output_type": "stream",
     "text": [
      "Initialization...\n",
      "Testing:\n",
      "\n",
      "Successfully loaded dataset '/home/umd-dsmolyak/scr4_afield6/umd-dsmolyak/sdg-eval-scr/data/mimiciii' from Hugging Face Hub.\n",
      "Checkpoint exists:  temp/bert-base-uncased-mimiciii-trial \n",
      "Loading model from the checkpoint...\n",
      "Preprocessing dataset...\n"
     ]
    },
    {
     "data": {
      "application/vnd.jupyter.widget-view+json": {
       "model_id": "f7564baf562c40998608df64ec855afa",
       "version_major": 2,
       "version_minor": 0
      },
      "text/plain": [
       "Running tokenizer on dataset:   0%|          | 0/6204 [00:00<?, ? examples/s]"
      ]
     },
     "metadata": {},
     "output_type": "display_data"
    },
    {
     "name": "stderr",
     "output_type": "stream",
     "text": [
      "/data/afield6/umd-dsmolyak/sdg-eval/venv/lib64/python3.11/site-packages/transformers/tokenization_utils_base.py:2690: FutureWarning: The `pad_to_max_length` argument is deprecated and will be removed in a future version, use `padding=True` or `padding='longest'` to pad to the longest sequence in the batch, or use `padding='max_length'` to pad to a max length. In this case, you can give a specific length with `max_length` (e.g. `max_length=45`) or leave max_length to None to pad to the maximal input size of the model (e.g. 512 for Bert).\n",
      "  warnings.warn(\n",
      "Detected kernel version 4.18.0, which is below the recommended minimum of 5.5.0; this can cause the process to hang. It is recommended to upgrade the kernel to the minimum version or higher.\n"
     ]
    },
    {
     "name": "stdout",
     "output_type": "stream",
     "text": [
      "Model evaluation begins...\n"
     ]
    },
    {
     "data": {
      "text/html": [
       "\n",
       "    <div>\n",
       "      \n",
       "      <progress value='776' max='776' style='width:300px; height:20px; vertical-align: middle;'></progress>\n",
       "      [776/776 00:26]\n",
       "    </div>\n",
       "    "
      ],
      "text/plain": [
       "<IPython.core.display.HTML object>"
      ]
     },
     "metadata": {},
     "output_type": "display_data"
    },
    {
     "name": "stdout",
     "output_type": "stream",
     "text": [
      "Saving file!\n",
      "Evaluation results:  {'eval_loss': 0.2650490701198578, 'eval_model_preparation_time': 0.0029, 'eval_Precision': 0.6461219411032767, 'eval_Recall': 0.7208032574495651, 'eval_f1_micro': 0.6814225099514457, 'eval_f1_macro': 0.6435612600588617, 'eval_Hamming Loss': 0.11739200515796261, 'eval_Subset Accuracy': 0.31012250161186333, 'eval_runtime': 27.7707, 'eval_samples_per_second': 223.401, 'eval_steps_per_second': 27.943}\n"
     ]
    }
   ],
   "source": [
    "from transformers import TrainingArguments as HfTrainingArguments\n",
    "from sdgeval.downstream.classify.train_classifier import TrainingArguments, ModelArguments, Classifier, Arguments\n",
    "\n",
    "#arg_parser = transformers.HfArgumentParser((TrainingArguments, MiscArguments))\n",
    "#train_args, model_args = arg_parser.parse_args_into_dataclasses()\n",
    "train_args = TrainingArguments()\n",
    "model_args = ModelArguments()\n",
    "model_args.is_train = False\n",
    "model_args.is_test = True\n",
    "model_args.text_field = 'TEXT'\n",
    "model_args.label_field = 'Label'\n",
    "model_args.path_to_model = \"temp/bert-base-uncased-mimiciii-trial\"\n",
    "model_args.path_to_dataset = '/home/umd-dsmolyak/scr4_afield6/umd-dsmolyak/sdg-eval-scr/data/mimiciii'\n",
    "model_args.path_to_aggregated_results = 'temp/bert-base-mimiciii-results.csv'\n",
    "model_args.n_labels = 10\n",
    "model_args.problem_type = \"multi_label_classification\"\n",
    "# model_args.retain_columns = ['label','input_prompt']\n",
    "model_args.retain_columns = ['ICD9_CODE', 'LONG_TITLE']\n",
    "args = Arguments(train=train_args, model=model_args)\n",
    "print(\"Initialization...\")\n",
    "if args.model.is_train:\n",
    "    print(\"Training:\\n\")\n",
    "    obj = Classifier(args = args)\n",
    "    obj.finetune_model()\n",
    "if args.model.is_test:\n",
    "    print(\"Testing:\\n\")\n",
    "    obj = Classifier(args = args)\n",
    "    obj.test_model()"
   ]
  },
  {
   "cell_type": "code",
   "execution_count": 4,
   "metadata": {},
   "outputs": [],
   "source": [
    "eval_df = pd.read_csv('inf-aggs.csv', usecols=range(9))"
   ]
  },
  {
   "cell_type": "code",
   "execution_count": 6,
   "metadata": {},
   "outputs": [
    {
     "data": {
      "text/html": [
       "<div>\n",
       "<style scoped>\n",
       "    .dataframe tbody tr th:only-of-type {\n",
       "        vertical-align: middle;\n",
       "    }\n",
       "\n",
       "    .dataframe tbody tr th {\n",
       "        vertical-align: top;\n",
       "    }\n",
       "\n",
       "    .dataframe thead th {\n",
       "        text-align: right;\n",
       "    }\n",
       "</style>\n",
       "<table border=\"1\" class=\"dataframe\">\n",
       "  <thead>\n",
       "    <tr style=\"text-align: right;\">\n",
       "      <th></th>\n",
       "      <th>training data</th>\n",
       "      <th>metric</th>\n",
       "      <th>score</th>\n",
       "    </tr>\n",
       "  </thead>\n",
       "  <tbody>\n",
       "    <tr>\n",
       "      <th>0</th>\n",
       "      <td>synthetic-only</td>\n",
       "      <td>precision</td>\n",
       "      <td>0.375</td>\n",
       "    </tr>\n",
       "  </tbody>\n",
       "</table>\n",
       "</div>"
      ],
      "text/plain": [
       "    training data     metric  score\n",
       "0  synthetic-only  precision  0.375"
      ]
     },
     "execution_count": 6,
     "metadata": {},
     "output_type": "execute_result"
    }
   ],
   "source": [
    "names = ['synthetic-only', 'real-only', 'real+synthetic']\n",
    "metrics = ['precision', 'recall', 'f1']\n",
    "plot_df = []\n",
    "for i, row in eval_df.iterrows():\n",
    "    if i > 2:\n",
    "        continue\n",
    "    for metric in metrics:\n",
    "        plot_df.append([names[i], metric, row[f'eval_{metric}']])\n",
    "plot_df = pd.DataFrame(plot_df, columns=['training data', 'metric', 'score'])\n",
    "plot_df.head(1)"
   ]
  },
  {
   "cell_type": "code",
   "execution_count": 10,
   "metadata": {},
   "outputs": [],
   "source": [
    "import seaborn as sns\n",
    "import matplotlib.pyplot as plt"
   ]
  },
  {
   "cell_type": "code",
   "execution_count": 14,
   "metadata": {},
   "outputs": [
    {
     "data": {
      "text/plain": [
       "<matplotlib.legend.Legend at 0x1554294a2290>"
      ]
     },
     "execution_count": 14,
     "metadata": {},
     "output_type": "execute_result"
    },
    {
     "data": {
      "image/png": "[encoded data removed]",
      "text/plain": [
       "<Figure size 500x300 with 1 Axes>"
      ]
     },
     "metadata": {},
     "output_type": "display_data"
    }
   ],
   "source": [
    "plt.figure(figsize=(5,3))\n",
    "sns.barplot(plot_df, x='metric', y='score', hue='training data')\n",
    "plt.legend(loc='lower right')"
   ]
  },
  {
   "cell_type": "code",
   "execution_count": 25,
   "metadata": {
    "scrolled": true,
    "tags": []
   },
   "outputs": [
    {
     "name": "stderr",
     "output_type": "stream",
     "text": [
      "/data/afield6/umd-dsmolyak/sdg-eval/venv/lib64/python3.11/site-packages/transformers/training_args.py:1594: FutureWarning: `evaluation_strategy` is deprecated and will be removed in version 4.46 of 🤗 Transformers. Use `eval_strategy` instead\n",
      "  warnings.warn(\n",
      "[WARNING|integration_utils.py:100] 2025-03-06 13:29:42,674 >> Using the `WANDB_DISABLED` environment variable is deprecated and will be removed in v5. Use the --report_to flag to control the integrations used for logging result (for instance --report_to none).\n"
     ]
    },
    {
     "name": "stdout",
     "output_type": "stream",
     "text": [
      "Initialization...\n",
      "Testing:\n",
      "\n",
      "DatasetDict({\n",
      "    train: Dataset({\n",
      "        features: ['Unnamed: 0', 'label', 'input_prompt', 'output_text', 'Label'],\n",
      "        num_rows: 17\n",
      "    })\n",
      "    validation: Dataset({\n",
      "        features: ['Unnamed: 0', 'label', 'input_prompt', 'output_text', 'Label'],\n",
      "        num_rows: 4\n",
      "    })\n",
      "    test: Dataset({\n",
      "        features: ['Unnamed: 0', 'label', 'input_prompt', 'output_text', 'Label'],\n",
      "        num_rows: 4\n",
      "    })\n",
      "})\n",
      "Successfully loaded dataset 'downstream-dummy-test' from Hugging Face Hub.\n",
      "Checkpoint exists:  temp-classifier \n",
      "Loading model from the checkpoint...\n",
      "Preprocessing dataset...\n"
     ]
    },
    {
     "name": "stderr",
     "output_type": "stream",
     "text": [
      "/data/afield6/umd-dsmolyak/sdg-eval/venv/lib64/python3.11/site-packages/transformers/tokenization_utils_base.py:2690: FutureWarning: The `pad_to_max_length` argument is deprecated and will be removed in a future version, use `padding=True` or `padding='longest'` to pad to the longest sequence in the batch, or use `padding='max_length'` to pad to a max length. In this case, you can give a specific length with `max_length` (e.g. `max_length=45`) or leave max_length to None to pad to the maximal input size of the model (e.g. 512 for Bert).\n",
      "  warnings.warn(\n",
      "03/06/2025 13:29:44:WARNING:Detected kernel version 4.18.0, which is below the recommended minimum of 5.5.0; this can cause the process to hang. It is recommended to upgrade the kernel to the minimum version or higher.\n"
     ]
    },
    {
     "name": "stdout",
     "output_type": "stream",
     "text": [
      "Model evaluation begins...\n"
     ]
    },
    {
     "data": {
      "text/html": [
       "\n",
       "    <div>\n",
       "      \n",
       "      <progress value='1' max='1' style='width:300px; height:20px; vertical-align: middle;'></progress>\n",
       "      [1/1 : < :]\n",
       "    </div>\n",
       "    "
      ],
      "text/plain": [
       "<IPython.core.display.HTML object>"
      ]
     },
     "metadata": {},
     "output_type": "display_data"
    },
    {
     "name": "stdout",
     "output_type": "stream",
     "text": [
      "Saving file!\n",
      "Evaluation results:  {'eval_loss': 0.8738090991973877, 'eval_model_preparation_time': 0.0031, 'eval_precision': 0.375, 'eval_recall': 0.5, 'eval_f1': 0.42857142857142855, 'eval_accuracy': 0.75, 'eval_runtime': 0.0296, 'eval_samples_per_second': 134.992, 'eval_steps_per_second': 33.748}\n"
     ]
    },
    {
     "name": "stderr",
     "output_type": "stream",
     "text": [
      "/data/afield6/umd-dsmolyak/sdg-eval/venv/lib64/python3.11/site-packages/sklearn/metrics/_classification.py:1565: UndefinedMetricWarning: Precision is ill-defined and being set to 0.0 in labels with no predicted samples. Use `zero_division` parameter to control this behavior.\n",
      "  _warn_prf(average, modifier, f\"{metric.capitalize()} is\", len(result))\n"
     ]
    }
   ],
   "source": [
    "from transformers import TrainingArguments as HfTrainingArguments\n",
    "from sdgeval.downstream.classify.train_classifier import TrainingArguments, ModelArguments, Classifier, Arguments\n",
    "\n",
    "#arg_parser = transformers.HfArgumentParser((TrainingArguments, MiscArguments))\n",
    "#train_args, model_args = arg_parser.parse_args_into_dataclasses()\n",
    "train_args = TrainingArguments()\n",
    "model_args = ModelArguments()\n",
    "model_args.is_train = False\n",
    "model_args.is_test = True\n",
    "model_args.text_field = 'output_text'\n",
    "model_args.label_field = 'Label'\n",
    "model_args.path_to_model = 'temp-classifier'\n",
    "model_args.path_to_dataset = 'downstream-dummy-test'\n",
    "model_args.n_labels = 5\n",
    "model_args.problem_type = \"single_label_classification\"\n",
    "model_args.retain_columns = ['label','input_prompt']\n",
    "#model_args.retain_columns = ['ICD9_CODE', 'LONG_TITLE']\n",
    "args = Arguments(train=train_args, model=model_args)\n",
    "print(\"Initialization...\")\n",
    "if args.model.is_train:\n",
    "    print(\"Training:\\n\")\n",
    "    obj = Classifier(args = args)\n",
    "    obj.finetune_model()\n",
    "if args.model.is_test:\n",
    "    print(\"Testing:\\n\")\n",
    "    obj = Classifier(args = args)\n",
    "    obj.test_model()"
   ]
  },
  {
   "cell_type": "markdown",
   "metadata": {},
   "source": [
    "### Comparing Real and Synthetic Downstream Results"
   ]
  },
  {
   "cell_type": "code",
   "execution_count": 26,
   "metadata": {},
   "outputs": [],
   "source": [
    "def experiment_compare_real_synthetic(args, retrain=False, plot_path='temp/results.png', metrics=['Precision', 'Recall', 'f1_micro']):\n",
    "    model_args = args.model\n",
    "    \n",
    "    path_to_model = model_args.path_to_model\n",
    "    model_args.is_train = True\n",
    "    model_args.is_test = False\n",
    "    for synth_arg in ['real-only', 'synthetic-train-only', 'synthetic-train-augment']:\n",
    "        print(f\"Training {synth_arg}:\\n\")\n",
    "        model_args.synthetic_usage = synth_arg\n",
    "        model_args.path_to_model = f'{path_to_model}/{synth_arg}'\n",
    "        if not os.path.exists(model_args.path_to_model) or retrain:\n",
    "            obj = Classifier(args = args)\n",
    "            obj.finetune_model()\n",
    "    \n",
    "    model_args.is_train = False\n",
    "    model_args.is_test = True\n",
    "    if not os.path.exists(model_args.path_to_aggregated_results):\n",
    "        for synth_arg in ['real-only', 'synthetic-train-only', 'synthetic-train-augment']:\n",
    "            print(f\"Testing {synth_arg}:\\n\")\n",
    "            model_args.path_to_model = f'{path_to_model}/{synth_arg}'\n",
    "            obj = Classifier(args = args)\n",
    "            obj.test_model()\n",
    "        \n",
    "    if plot_path:\n",
    "        eval_df = pd.read_csv(model_args.path_to_aggregated_results)\n",
    "        plot_df = []\n",
    "        for i, row in eval_df.iterrows():\n",
    "            print(row['model_name'])\n",
    "            name = row['model_name'][len(path_to_model)+1:]\n",
    "            print(name)\n",
    "            for metric in metrics:\n",
    "                plot_df.append([name, metric, row[f'eval_{metric}']])\n",
    "        plot_df = pd.DataFrame(plot_df, columns=['Training Data', 'Metric', 'Score'])\n",
    "        plt.figure(figsize=(5,3))\n",
    "        sns.barplot(plot_df, x='Metric', y='Score', hue='Training Data')\n",
    "        plt.legend(loc='lower right')\n",
    "        plt.savefig(plot_path)"
   ]
  },
  {
   "cell_type": "code",
   "execution_count": 4,
   "metadata": {},
   "outputs": [],
   "source": [
    "from transformers import TrainingArguments as HfTrainingArguments\n",
    "from sdgeval.downstream.classify.train_classifier import TrainingArguments, ModelArguments, Classifier, Arguments"
   ]
  },
  {
   "cell_type": "code",
   "execution_count": 27,
   "metadata": {
    "scrolled": true,
    "tags": []
   },
   "outputs": [
    {
     "name": "stderr",
     "output_type": "stream",
     "text": [
      "/data/afield6/umd-dsmolyak/sdg-eval/venv/lib64/python3.11/site-packages/transformers/training_args.py:1594: FutureWarning: `evaluation_strategy` is deprecated and will be removed in version 4.46 of 🤗 Transformers. Use `eval_strategy` instead\n",
      "  warnings.warn(\n",
      "Using the `WANDB_DISABLED` environment variable is deprecated and will be removed in v5. Use the --report_to flag to control the integrations used for logging result (for instance --report_to none).\n"
     ]
    },
    {
     "name": "stdout",
     "output_type": "stream",
     "text": [
      "Initialization...\n",
      "Training real-only:\n",
      "\n",
      "Training synthetic-train-only:\n",
      "\n",
      "Training synthetic-train-augment:\n",
      "\n",
      "temp/bert-base-mimiciii/real-only\n",
      "real-only\n",
      "temp/bert-base-mimiciii/synthetic-train-only\n",
      "synthetic-train-only\n",
      "temp/bert-base-mimiciii/synthetic-train-augment\n",
      "synthetic-train-augment\n",
      "temp/bert-base-mimiciii/real-only\n",
      "real-only\n",
      "temp/bert-base-mimiciii/synthetic-train-only\n",
      "synthetic-train-only\n",
      "temp/bert-base-mimiciii/synthetic-train-augment\n",
      "synthetic-train-augment\n"
     ]
    },
    {
     "data": {
      "image/png": "[encoded data removed]",
      "text/plain": [
       "<Figure size 500x300 with 1 Axes>"
      ]
     },
     "metadata": {},
     "output_type": "display_data"
    }
   ],
   "source": [
    "train_args = TrainingArguments()\n",
    "train_args.metric_for_best_model='eval_f1_micro'\n",
    "train_args.num_train_epochs=1\n",
    "\n",
    "model_args = ModelArguments()\n",
    "model_args.is_train = True\n",
    "model_args.is_test = False\n",
    "model_args.text_field = 'TEXT'\n",
    "model_args.label_field = 'Label'\n",
    "model_args.path_to_model = \"temp/bert-base-mimiciii\"\n",
    "model_args.path_to_dataset = '/home/umd-dsmolyak/scr4_afield6/umd-dsmolyak/sdg-eval-scr/data/mimiciii'\n",
    "model_args.path_to_aggregated_results = 'temp/bert-base-mimiciii-results.csv'\n",
    "model_args.n_labels = 10\n",
    "model_args.problem_type = \"multi_label_classification\"\n",
    "model_args.retain_columns = ['ICD9_CODE', 'LONG_TITLE']\n",
    "\n",
    "args = Arguments(train=train_args, model=model_args)\n",
    "print(\"Initialization...\")\n",
    "\n",
    "experiment_compare_real_synthetic(args)"
   ]
  },
  {
   "cell_type": "code",
   "execution_count": null,
   "metadata": {},
   "outputs": [],
   "source": []
  },
  {
   "cell_type": "markdown",
   "metadata": {},
   "source": [
    "### Fairness audit over the test results"
   ]
  },
  {
   "cell_type": "code",
   "execution_count": 36,
   "metadata": {},
   "outputs": [
    {
     "data": {
      "text/html": [
       "<div>\n",
       "<style scoped>\n",
       "    .dataframe tbody tr th:only-of-type {\n",
       "        vertical-align: middle;\n",
       "    }\n",
       "\n",
       "    .dataframe tbody tr th {\n",
       "        vertical-align: top;\n",
       "    }\n",
       "\n",
       "    .dataframe thead th {\n",
       "        text-align: right;\n",
       "    }\n",
       "</style>\n",
       "<table border=\"1\" class=\"dataframe\">\n",
       "  <thead>\n",
       "    <tr style=\"text-align: right;\">\n",
       "      <th></th>\n",
       "      <th>Accuracy</th>\n",
       "      <th>Group Type</th>\n",
       "      <th>Num of Samples</th>\n",
       "      <th>f1_macro</th>\n",
       "      <th>f1_micro</th>\n",
       "    </tr>\n",
       "  </thead>\n",
       "  <tbody>\n",
       "    <tr>\n",
       "      <th>0</th>\n",
       "      <td>0.0</td>\n",
       "      <td>2</td>\n",
       "      <td>1</td>\n",
       "      <td>0.0</td>\n",
       "      <td>0.0</td>\n",
       "    </tr>\n",
       "    <tr>\n",
       "      <th>1</th>\n",
       "      <td>1.0</td>\n",
       "      <td>3</td>\n",
       "      <td>3</td>\n",
       "      <td>1.0</td>\n",
       "      <td>1.0</td>\n",
       "    </tr>\n",
       "  </tbody>\n",
       "</table>\n",
       "</div>"
      ],
      "text/plain": [
       "   Accuracy  Group Type  Num of Samples  f1_macro  f1_micro\n",
       "0       0.0           2               1       0.0       0.0\n",
       "1       1.0           3               3       1.0       1.0"
      ]
     },
     "execution_count": 36,
     "metadata": {},
     "output_type": "execute_result"
    }
   ],
   "source": [
    "from melteval.fairness.metrics import analyze_group_fairness_performance\n",
    "import pandas as pd\n",
    "df = pd.read_csv('outputs.csv')\n",
    "p_df, f_df = analyze_group_fairness_performance(df, problem_type = \"single_label\", num_classes = 5, subgroup_type = \"label\")\n",
    "p_df.head()"
   ]
  },
  {
   "cell_type": "code",
   "execution_count": 41,
   "metadata": {},
   "outputs": [
    {
     "data": {
      "text/html": [
       "<div>\n",
       "<style scoped>\n",
       "    .dataframe tbody tr th:only-of-type {\n",
       "        vertical-align: middle;\n",
       "    }\n",
       "\n",
       "    .dataframe tbody tr th {\n",
       "        vertical-align: top;\n",
       "    }\n",
       "\n",
       "    .dataframe thead th {\n",
       "        text-align: right;\n",
       "    }\n",
       "</style>\n",
       "<table border=\"1\" class=\"dataframe\">\n",
       "  <thead>\n",
       "    <tr style=\"text-align: right;\">\n",
       "      <th></th>\n",
       "      <th>Group Type</th>\n",
       "      <th>metric</th>\n",
       "      <th>value</th>\n",
       "    </tr>\n",
       "  </thead>\n",
       "  <tbody>\n",
       "    <tr>\n",
       "      <th>0</th>\n",
       "      <td>2</td>\n",
       "      <td>Accuracy</td>\n",
       "      <td>0.0</td>\n",
       "    </tr>\n",
       "    <tr>\n",
       "      <th>1</th>\n",
       "      <td>3</td>\n",
       "      <td>Accuracy</td>\n",
       "      <td>1.0</td>\n",
       "    </tr>\n",
       "    <tr>\n",
       "      <th>2</th>\n",
       "      <td>2</td>\n",
       "      <td>f1_macro</td>\n",
       "      <td>0.0</td>\n",
       "    </tr>\n",
       "    <tr>\n",
       "      <th>3</th>\n",
       "      <td>3</td>\n",
       "      <td>f1_macro</td>\n",
       "      <td>1.0</td>\n",
       "    </tr>\n",
       "    <tr>\n",
       "      <th>4</th>\n",
       "      <td>2</td>\n",
       "      <td>f1_micro</td>\n",
       "      <td>0.0</td>\n",
       "    </tr>\n",
       "    <tr>\n",
       "      <th>5</th>\n",
       "      <td>3</td>\n",
       "      <td>f1_micro</td>\n",
       "      <td>1.0</td>\n",
       "    </tr>\n",
       "  </tbody>\n",
       "</table>\n",
       "</div>"
      ],
      "text/plain": [
       "   Group Type    metric  value\n",
       "0           2  Accuracy    0.0\n",
       "1           3  Accuracy    1.0\n",
       "2           2  f1_macro    0.0\n",
       "3           3  f1_macro    1.0\n",
       "4           2  f1_micro    0.0\n",
       "5           3  f1_micro    1.0"
      ]
     },
     "execution_count": 41,
     "metadata": {},
     "output_type": "execute_result"
    }
   ],
   "source": [
    "curr_df = p_df.melt(id_vars=['Group Type'], value_vars=['Accuracy', 'f1_macro', 'f1_micro']).rename(columns={'variable': 'metric'})\n",
    "curr_df"
   ]
  },
  {
   "cell_type": "code",
   "execution_count": 46,
   "metadata": {},
   "outputs": [],
   "source": [
    "import seaborn as sns"
   ]
  },
  {
   "cell_type": "code",
   "execution_count": 45,
   "metadata": {},
   "outputs": [
    {
     "data": {
      "text/plain": [
       "<Axes: xlabel='metric', ylabel='value'>"
      ]
     },
     "execution_count": 45,
     "metadata": {},
     "output_type": "execute_result"
    },
    {
     "data": {
      "image/png": "[encoded data removed]",
      "text/plain": [
       "<Figure size 640x480 with 1 Axes>"
      ]
     },
     "metadata": {},
     "output_type": "display_data"
    }
   ],
   "source": [
    "sns.barplot(curr_df, x='metric', y='value', hue='Group Type')"
   ]
  },
  {
   "cell_type": "code",
   "execution_count": 37,
   "metadata": {},
   "outputs": [
    {
     "data": {
      "text/html": [
       "<div>\n",
       "<style scoped>\n",
       "    .dataframe tbody tr th:only-of-type {\n",
       "        vertical-align: middle;\n",
       "    }\n",
       "\n",
       "    .dataframe tbody tr th {\n",
       "        vertical-align: top;\n",
       "    }\n",
       "\n",
       "    .dataframe thead th {\n",
       "        text-align: right;\n",
       "    }\n",
       "</style>\n",
       "<table border=\"1\" class=\"dataframe\">\n",
       "  <thead>\n",
       "    <tr style=\"text-align: right;\">\n",
       "      <th></th>\n",
       "      <th>Group Type</th>\n",
       "      <th>F1-micro-diff</th>\n",
       "      <th>F1-macro-diff</th>\n",
       "    </tr>\n",
       "  </thead>\n",
       "  <tbody>\n",
       "    <tr>\n",
       "      <th>0</th>\n",
       "      <td>2</td>\n",
       "      <td>1.0</td>\n",
       "      <td>1.0</td>\n",
       "    </tr>\n",
       "    <tr>\n",
       "      <th>1</th>\n",
       "      <td>3</td>\n",
       "      <td>1.0</td>\n",
       "      <td>1.0</td>\n",
       "    </tr>\n",
       "  </tbody>\n",
       "</table>\n",
       "</div>"
      ],
      "text/plain": [
       "   Group Type  F1-micro-diff  F1-macro-diff\n",
       "0           2            1.0            1.0\n",
       "1           3            1.0            1.0"
      ]
     },
     "execution_count": 37,
     "metadata": {},
     "output_type": "execute_result"
    }
   ],
   "source": [
    "f_df.head()"
   ]
  },
  {
   "cell_type": "markdown",
   "metadata": {},
   "source": [
    "### Qualitative comparison of the real and synthetic data"
   ]
  },
  {
   "cell_type": "code",
   "execution_count": 33,
   "metadata": {},
   "outputs": [
    {
     "name": "stdout",
     "output_type": "stream",
     "text": [
      "                                                    text  label\n",
      "71787  BBC set for major shake-up, claims newspaper L...      2\n",
      "67218  Marsh averts cash crunch Embattled insurance b...      2\n",
      "54066  Jeter, Yankees Look to Take Control (AP) AP - ...      1\n",
      "7168   Flying the Sun to Safety When the Genesis caps...      3\n",
      "29618  Stocks Seen Flat as Nortel and Oil Weigh  NEW ...      2\n",
      "                                              source  \\\n",
      "0   for 10-year-olds in the US, with 6.4 being fo...   \n",
      "1   to 2 p.m., 5 a.m. to 10 p.m., and 2 a.m. to 3...   \n",
      "2  .1 [thread.conduit.conduit.interrupt(Native Me...   \n",
      "3  .4 (5) a. The requirement of a law (1) that a ...   \n",
      "4  . \"It's hard to imagine a single person having...   \n",
      "\n",
      "                                           reference  \n",
      "0  BBC set for major shake-up, claims newspaper L...  \n",
      "1  Marsh averts cash crunch Embattled insurance b...  \n",
      "2  Jeter, Yankees Look to Take Control (AP) AP - ...  \n",
      "3  Flying the Sun to Safety When the Genesis caps...  \n",
      "4  Stocks Seen Flat as Nortel and Oil Weigh  NEW ...  \n"
     ]
    },
    {
     "data": {
      "application/vnd.jupyter.widget-view+json": {
       "model_id": "304f8759d9f043309ab9e573bdf2548f",
       "version_major": 2,
       "version_minor": 0
      },
      "text/plain": [
       "modules.json:   0%|          | 0.00/349 [00:00<?, ?B/s]"
      ]
     },
     "metadata": {},
     "output_type": "display_data"
    },
    {
     "data": {
      "application/vnd.jupyter.widget-view+json": {
       "model_id": "0e64368065f4417c886c1df9470239ce",
       "version_major": 2,
       "version_minor": 0
      },
      "text/plain": [
       "config_sentence_transformers.json:   0%|          | 0.00/116 [00:00<?, ?B/s]"
      ]
     },
     "metadata": {},
     "output_type": "display_data"
    },
    {
     "data": {
      "application/vnd.jupyter.widget-view+json": {
       "model_id": "363c363af5ad4c07bcde4be8e1c947d1",
       "version_major": 2,
       "version_minor": 0
      },
      "text/plain": [
       "README.md:   0%|          | 0.00/10.5k [00:00<?, ?B/s]"
      ]
     },
     "metadata": {},
     "output_type": "display_data"
    },
    {
     "data": {
      "application/vnd.jupyter.widget-view+json": {
       "model_id": "5e7283399e8a4b1ca23293d1fe2bb988",
       "version_major": 2,
       "version_minor": 0
      },
      "text/plain": [
       "sentence_bert_config.json:   0%|          | 0.00/53.0 [00:00<?, ?B/s]"
      ]
     },
     "metadata": {},
     "output_type": "display_data"
    },
    {
     "data": {
      "application/vnd.jupyter.widget-view+json": {
       "model_id": "3073952df46e4d8fbaac9f7c20093c0a",
       "version_major": 2,
       "version_minor": 0
      },
      "text/plain": [
       "config.json:   0%|          | 0.00/612 [00:00<?, ?B/s]"
      ]
     },
     "metadata": {},
     "output_type": "display_data"
    },
    {
     "data": {
      "application/vnd.jupyter.widget-view+json": {
       "model_id": "7d6b7fc54e614bd2a642b7dff12a659f",
       "version_major": 2,
       "version_minor": 0
      },
      "text/plain": [
       "model.safetensors:   0%|          | 0.00/90.9M [00:00<?, ?B/s]"
      ]
     },
     "metadata": {},
     "output_type": "display_data"
    },
    {
     "data": {
      "application/vnd.jupyter.widget-view+json": {
       "model_id": "bbbdb16c9e3648fe9cdf7ca493f365a2",
       "version_major": 2,
       "version_minor": 0
      },
      "text/plain": [
       "tokenizer_config.json:   0%|          | 0.00/350 [00:00<?, ?B/s]"
      ]
     },
     "metadata": {},
     "output_type": "display_data"
    },
    {
     "data": {
      "application/vnd.jupyter.widget-view+json": {
       "model_id": "a5ad7688d3de4c02bec6cb81faffe543",
       "version_major": 2,
       "version_minor": 0
      },
      "text/plain": [
       "vocab.txt:   0%|          | 0.00/232k [00:00<?, ?B/s]"
      ]
     },
     "metadata": {},
     "output_type": "display_data"
    },
    {
     "data": {
      "application/vnd.jupyter.widget-view+json": {
       "model_id": "fa5077f822ed42e49b0041bd2bd544ac",
       "version_major": 2,
       "version_minor": 0
      },
      "text/plain": [
       "tokenizer.json:   0%|          | 0.00/466k [00:00<?, ?B/s]"
      ]
     },
     "metadata": {},
     "output_type": "display_data"
    },
    {
     "data": {
      "application/vnd.jupyter.widget-view+json": {
       "model_id": "537432a6f222492eb89bde5bcaca2724",
       "version_major": 2,
       "version_minor": 0
      },
      "text/plain": [
       "special_tokens_map.json:   0%|          | 0.00/112 [00:00<?, ?B/s]"
      ]
     },
     "metadata": {},
     "output_type": "display_data"
    },
    {
     "data": {
      "application/vnd.jupyter.widget-view+json": {
       "model_id": "1fa15081b56241a0aa30a7c391799513",
       "version_major": 2,
       "version_minor": 0
      },
      "text/plain": [
       "config.json:   0%|          | 0.00/190 [00:00<?, ?B/s]"
      ]
     },
     "metadata": {},
     "output_type": "display_data"
    },
    {
     "name": "stdout",
     "output_type": "stream",
     "text": [
      "FID Score:  {'real_scores': [0.19882024824619293, 0.5197998285293579, 0.3043212294578552, 0.36804530024528503, 0.21189504861831665, 0.27072909474372864, 0.22107954323291779, 0.49763891100883484, 0.3276039659976959, 0.3325451612472534, 0.19894279539585114, 0.1309741735458374, 0.294197678565979, 0.5121616125106812, 0.20339660346508026, 0.272601455450058, 0.24454987049102783, 0.3117101192474365, 0.339070588350296, 0.30708345770835876, 0.2751446068286896, 0.2783380150794983, 0.21815480291843414, 0.3848908245563507, 0.3468376398086548], 'synth_scores': [0.017419874668121338, 0.078412726521492, 0.050519850105047226, 0.001608358696103096, -0.04505876079201698, 0.16873693466186523, -0.06449153274297714, 0.08365392684936523, 0.004800405353307724, 0.05975031107664108, 0.07138842344284058, 0.04712032526731491, -0.021226773038506508, 0.03110068291425705, -0.023290827870368958, -0.00902543030679226, 0.09353869408369064, 0.1213984563946724, 0.07638630270957947, 0.05194569751620293, 0.08123186230659485, 0.02299438789486885, 0.0878237932920456, -0.07936084270477295, -0.012838578782975674]}\n"
     ]
    },
    {
     "data": {
      "application/vnd.jupyter.widget-view+json": {
       "model_id": "56acbf2be72a40fd9f5f1f00316954e3",
       "version_major": 2,
       "version_minor": 0
      },
      "text/plain": [
       "Featurizing p:   0%|          | 0/25 [00:00<?, ?it/s]"
      ]
     },
     "metadata": {},
     "output_type": "display_data"
    },
    {
     "data": {
      "application/vnd.jupyter.widget-view+json": {
       "model_id": "a4f2232fbb0443cfb2645921b8a57b3e",
       "version_major": 2,
       "version_minor": 0
      },
      "text/plain": [
       "Featurizing q:   0%|          | 0/25 [00:00<?, ?it/s]"
      ]
     },
     "metadata": {},
     "output_type": "display_data"
    },
    {
     "name": "stderr",
     "output_type": "stream",
     "text": [
      "WARNING clustering 50 points to 2 centroids: please provide at least 78 training points\n"
     ]
    },
    {
     "name": "stdout",
     "output_type": "stream",
     "text": [
      "namespace(p_hist=array([0.4, 0.6]), q_hist=array([0., 1.]), divergence_curve=array([[1.00000000e+00, 0.00000000e+00],\n",
      "       [9.99998000e-01, 4.62962407e-12],\n",
      "       [9.19396819e-01, 7.64266233e-03],\n",
      "       [8.44078750e-01, 2.90417126e-02],\n",
      "       [7.73779716e-01, 6.20214465e-02],\n",
      "       [7.08244585e-01, 1.04557979e-01],\n",
      "       [6.47227025e-01, 1.54774779e-01],\n",
      "       [5.90489344e-01, 2.10938203e-01],\n",
      "       [5.37802339e-01, 2.71453033e-01],\n",
      "       [4.88945138e-01, 3.34858006e-01],\n",
      "       [4.43705051e-01, 3.99821356e-01],\n",
      "       [4.01877411e-01, 4.65136339e-01],\n",
      "       [3.63265421e-01, 5.29716779e-01],\n",
      "       [3.27680000e-01, 5.92592593e-01],\n",
      "       [2.94939629e-01, 6.52905331e-01],\n",
      "       [2.64870197e-01, 7.09903710e-01],\n",
      "       [2.37304846e-01, 7.62939148e-01],\n",
      "       [2.12083814e-01, 8.11461299e-01],\n",
      "       [1.89054287e-01, 8.55013586e-01],\n",
      "       [1.68070240e-01, 8.93228741e-01],\n",
      "       [1.48992282e-01, 9.25824334e-01],\n",
      "       [1.31687506e-01, 9.52598308e-01],\n",
      "       [1.16029330e-01, 9.73424520e-01],\n",
      "       [1.01897346e-01, 9.88248268e-01],\n",
      "       [8.91771646e-02, 9.97081831e-01],\n",
      "       [7.77602592e-02, 1.00000000e+00],\n",
      "       [0.00000000e+00, 1.00000000e+00]]), mauve=0.4129344810481203, frontier_integral=0.23376156435101397, mauve_star=0.5404404370999855, frontier_integral_star=0.1817139170785242, num_buckets=2)\n"
     ]
    },
    {
     "data": {
      "application/vnd.jupyter.widget-view+json": {
       "model_id": "b6c501a0c7a14f359ad1727504c2bd43",
       "version_major": 2,
       "version_minor": 0
      },
      "text/plain": [
       "Downloading builder script:   0%|          | 0.00/8.46k [00:00<?, ?B/s]"
      ]
     },
     "metadata": {},
     "output_type": "display_data"
    },
    {
     "data": {
      "application/vnd.jupyter.widget-view+json": {
       "model_id": "dc50d3ae48b54990a8a70b55faf38106",
       "version_major": 2,
       "version_minor": 0
      },
      "text/plain": [
       "  0%|          | 0/2 [00:00<?, ?it/s]"
      ]
     },
     "metadata": {},
     "output_type": "display_data"
    }
   ],
   "source": [
    "import pandas as pd\n",
    "from sdgeval.qual.metrics import QualEval\n",
    "from sdgeval.qual.arguments import MauveArgs, LMArgs, FrechetArgs\n",
    "from dataclasses import dataclass\n",
    "from datasets import load_dataset\n",
    "\n",
    "df = pd.DataFrame({})\n",
    "synthetic_samples = pd.read_csv('test-outputs.csv')\n",
    "real_samples = load_dataset('fancyzhx/ag_news', split='train') #pd.read_csv('dummy-test_data/train.csv', nrows=len(synthetic_samples))\n",
    "real_samples = pd.DataFrame(real_samples)\n",
    "real_samples = real_samples.sample(n=len(synthetic_samples))\n",
    "print(real_samples.head())\n",
    "#real_samples = pd.read_csv('/content/sdgeval/dummy-test_data/train.csv', nrows=len(synthetic_samples))\n",
    "df['source'] = synthetic_samples['output_text']\n",
    "df['reference'] = real_samples['text'].tolist()\n",
    "\n",
    "print(df.head())\n",
    "\n",
    "@dataclass\n",
    "class args_temp:\n",
    "    FrechetArgs:FrechetArgs\n",
    "    MauveArgs:MauveArgs\n",
    "    LMArgs:LMArgs\n",
    "\n",
    "args_ = args_temp(FrechetArgs, MauveArgs, LMArgs)\n",
    "qual_ob = QualEval(args_)\n",
    "qual_ob.calculate_fid_score(df)\n",
    "\n",
    "qual_ob.calculate_mauve_score(df)\n",
    "\n",
    "qual_ob.calculate_perplexity(df)"
   ]
  },
  {
   "cell_type": "code",
   "execution_count": 34,
   "metadata": {},
   "outputs": [
    {
     "name": "stdout",
     "output_type": "stream",
     "text": [
      "{'fid': {'real_scores': [0.19882024824619293, 0.5197998285293579, 0.3043212294578552, 0.36804530024528503, 0.21189504861831665, 0.27072909474372864, 0.22107954323291779, 0.49763891100883484, 0.3276039659976959, 0.3325451612472534, 0.19894279539585114, 0.1309741735458374, 0.294197678565979, 0.5121616125106812, 0.20339660346508026, 0.272601455450058, 0.24454987049102783, 0.3117101192474365, 0.339070588350296, 0.30708345770835876, 0.2751446068286896, 0.2783380150794983, 0.21815480291843414, 0.3848908245563507, 0.3468376398086548], 'synth_scores': [0.017419874668121338, 0.078412726521492, 0.050519850105047226, 0.001608358696103096, -0.04505876079201698, 0.16873693466186523, -0.06449153274297714, 0.08365392684936523, 0.004800405353307724, 0.05975031107664108, 0.07138842344284058, 0.04712032526731491, -0.021226773038506508, 0.03110068291425705, -0.023290827870368958, -0.00902543030679226, 0.09353869408369064, 0.1213984563946724, 0.07638630270957947, 0.05194569751620293, 0.08123186230659485, 0.02299438789486885, 0.0878237932920456, -0.07936084270477295, -0.012838578782975674]}, 'mauve': None, 'perplexity': {'perplexities': [10.125669479370117, 3.4525890350341797, 1.8728193044662476, 7.662058353424072, 9.166468620300293, 4.956315040588379, 7.420684337615967, 6.508495330810547, 3.251725435256958, 2.9536445140838623, 2.4764394760131836, 13.538341522216797, 12.161256790161133, 2.0388808250427246, 12.012377738952637, 12.764599800109863, 11.3027925491333, 1.7680072784423828, 1.1591063737869263, 1.2053765058517456, 12.24591064453125, 10.664347648620605, 11.548225402832031, 5.768696308135986, 4.487795829772949], 'mean_perplexity': 6.900504965782165}}\n"
     ]
    }
   ],
   "source": [
    "print(qual_ob.results)"
   ]
  },
  {
   "cell_type": "markdown",
   "metadata": {
    "jp-MarkdownHeadingCollapsed": true,
    "tags": []
   },
   "source": [
    "### Privacy evaluation of the synthetic data"
   ]
  },
  {
   "cell_type": "markdown",
   "metadata": {},
   "source": [
    "##### Creating an artificial entity list"
   ]
  },
  {
   "cell_type": "code",
   "execution_count": 1,
   "metadata": {},
   "outputs": [
    {
     "name": "stdout",
     "output_type": "stream",
     "text": [
      "['Philosophy', 'Literature', 'University', 'Prosecutor', 'University', 'Bangladeshi', 'Kutupalong', 'Bangladesh', 'Kutupalong', 'Bangladesh', '30 May 1940']\n"
     ]
    }
   ],
   "source": [
    "import re\n",
    "import pandas as pd\n",
    "\n",
    "def extract_words_and_dates(df, column, n, char_len = 10):\n",
    "    # Regular expressions\n",
    "    word_pattern = r'\\b[A-Z][a-zA-Z]{' + str(char_len-1) + r',}\\b' # Words starting with a capital letter and at least 10 characters long\n",
    "    date_pattern = r'\\b(?:\\d{4}-\\d{2}-\\d{2}|\\d{2}/\\d{2}/\\d{4}|\\d{1,2} [A-Z][a-z]+ \\d{4})\\b'  # Common date formats\n",
    "    \n",
    "    # Extract words and dates from the specified column\n",
    "    words = df[column].astype(str).apply(lambda x: re.findall(word_pattern, x))\n",
    "    dates = df[column].astype(str).apply(lambda x: re.findall(date_pattern, x))\n",
    "    \n",
    "    # Flatten lists and get the first n words and dates\n",
    "    extracted_words = [word for sublist in words for word in sublist][:n]\n",
    "    extracted_dates = [date for sublist in dates for date in sublist][:n]\n",
    "    \n",
    "    return extracted_words, extracted_dates\n",
    "\n",
    "synthetic_samples = pd.read_csv('/home/kramesh3/sdgeval/test-outputs.csv')\n",
    "entities, dates = extract_words_and_dates(synthetic_samples, 'output_text', 10)\n",
    "entities = entities + dates\n",
    "print(entities)"
   ]
  },
  {
   "cell_type": "code",
   "execution_count": 2,
   "metadata": {},
   "outputs": [
    {
     "name": "stdout",
     "output_type": "stream",
     "text": [
      "{\"Liza Hanim (born 30 May 1940) is a Turkish novelist, essayist and political philosopher. She is also a critic of liberal Islamism, particularly the view that women are not entitled to Islamic law. She also has contributed to books on the Arab Spring, the history of women's rights in the Middle East, and the development of the Turkish democratic movement.\\nLiza Hanim was born in Istanbul to a Jewish family, and as a child had a tendency to become a soldier or a teacher. While she enjoyed the study of law, she found the profession unfulfilling. So, she changed her major to literature, graduating from the Faculty of Philosophy and Literature at the University of Istanbul in 1958. After graduation, she worked for the Istanbul Prosecutor's Office as a lawyer, then for an architectural firm. From 1972 to 1975, she pursued her Master's Degree in philosophy at Ege University, Istanbul, Turkey.\\nAfter completing her degree, Hanim moved to the United States, where she worked as a journalist, translator and writer. She wrote extensively for the New York Review of Books and Newsweek, and her work is often cited in scholarly journals and books on international relations. Hanim has translated\": ({'Philosophy': True, 'Literature': True, 'University': True, 'Prosecutor': True, 'Bangladeshi': False, 'Kutupalong': False, 'Bangladesh': False, '30 May 1940': True}, 54.54545454545454), 'In the 1980s, Liza Hanim and her brother and sister lived in East London in the notorious Toxteth district, a predominantly Bangladeshi area. Liza Hanim was born on 4th November 1954 in Kutupalong, a city in Bangladesh. Her family was living in Kutupalong. Her mother Lena died in 1965 and father Muhammad Hussain died in 1982 and her brother Muhammad Ali died in 1965. Her mother name was Lena and father name was Mohammad Hussain. Her father was an entrepreneur. Her brother name was Mohammad Ali. Her mother name was Lena and her father name was Mohammad Hussain.\\nAs a child, she worked with her mother in her cloth shop. In her teenage life, she wanted to do a job which she can earn a lot of money and to keep herself in good condition. Her passion for travelling inspired her to travel to Bangladesh. But first, she decided to get married. For this, she and her husband took a loan of Rs. 500,000. She married Mohammad Rashid.\\nAfter her marriage, they moved to London and moved to a house with her husband in 1977. She was living in a': ({'Philosophy': False, 'Literature': False, 'University': False, 'Prosecutor': False, 'Bangladeshi': True, 'Kutupalong': True, 'Bangladesh': True, '30 May 1940': False}, 45.45454545454545), \"Liza Hanim is an aspiring author and the author of Liza Hanim & The Puffin Prince, a book about a young girl and a puffin who meet in the woods. She's also worked as a freelance writing consultant and a volunteer for the YMCA.\\nLiza Hanim Biography\\nLiza Hanim is an aspiring author and the author of Liza Hanim & The Puffin Prince, a book about a young girl and a puffin who meet in the woods. She's also worked as a freelance writing consultant and a volunteer for the YMCA.\\nLiza's parents, Moussa Hanim and Tawana Kandola, separated when she was young. Moussa would work in the hospital as an RN in Boston, while Tawana was a stay-at-home mom in Atlanta.\\nLiza Hanim Biography - Liza Hanim's Books\\nLiza Hanim is an aspiring author who grew up in Atlanta and has one sister. She's always been interested in writing stories since she was a little girl. She's always loved animals and wrote animal stories when she was younger, but found it harder to imagine a puffin as a main character in a book.\\nIn 2016, Liza started to write a book about a puffin called Liza Hanim &\": ({'Philosophy': False, 'Literature': False, 'University': False, 'Prosecutor': False, 'Bangladeshi': False, 'Kutupalong': False, 'Bangladesh': False, '30 May 1940': False}, 0.0), \"Liza Hanim is a Canadian actress born in 1977. Hanim, who rose to prominence after her performance as the child detective Lucy Stone in the television show Degrassi: The Next Generation, portrayed the title role of the animated TV series Aphrodite: Love of Goddess. Her performance as the title character, who is a Greek love goddess, was nominated for several Gemini and Gemini-Awards, and won one of them, the Outstanding Performance by an Actress in a Younger Program category, as well as a Teen Choice Award and a People's Choice Award.\\nHanim grew up in Calgary, Canada. She spent her childhood in New Orleans and later in Toronto, where she was educated in the public school system. She started her professional career as a child model, appearing on television and in print advertisements. Her first stage appearance was at the age of 9 on a Canadian TV variety show, where she danced in a routine. Hanim also appeared in a TV commercial for a local retailer.\\nHanim's acting career really began when she was cast as Lucy Stone in the Canadian television show Degrassi: The Next Generation at the age of 12, which made her one of the youngest Canadians to star in a television show. The first episode aired in Canada in 1996\": ({'Philosophy': False, 'Literature': False, 'University': False, 'Prosecutor': False, 'Bangladeshi': False, 'Kutupalong': False, 'Bangladesh': False, '30 May 1940': False}, 0.0), 'Liza Hanim was born into a family of musicians in East Germany in 1945. From the age of 11 she studied piano at the famous Berlin Konzerthaus Music College and in 1961, at age 22 she became a first prize winner at the International Tchaikovsky Competition for Soloists, where she has since been invited to perform. As a first prize winner at the International Beethoven Competition in 1966, she was invited to the Vienna Festival. After receiving several awards and praises from the international press, she was invited to Vienna, where she has lived since 1966. She was married to a Russian musician, but this marriage ended in divorce.\\nThis entry was posted in ACTRESS and tagged 1961, 1963, 1966, Actress, Born, Born in, Born in 1945, Born into, Born in Berlin, Born in East Germany, Born in East Germany in 1945, Born in Germany, Born in 1945, Born in 1961, Born in East Berlin, Born in East Germany in 1961, Born in Germany, Born in Silesia, born to musicians, Born to musicians in 1945, Born to musicians in East Germany, Born to mus': ({'Philosophy': False, 'Literature': False, 'University': False, 'Prosecutor': False, 'Bangladeshi': False, 'Kutupalong': False, 'Bangladesh': False, '30 May 1940': False}, 0.0), \"Nathan Peabody Ames (May 20, 1822 – July 17, 1908) was an American political figure, serving as Mayor of Brooklyn for the first time from 1888 to 1893. Nathan Peabody Ames was one of the founders of Brooklyn's Park Slope neighborhood and the first Black politician to serve in municipal government in New York City.\\nAmes became an influential leader in early Brooklyn's African American community, in which he held a significant amount of political power, and helped establish a number of black newspapers. He also owned a hotel, a black-owned newspaper, and was the first Black to serve on the Brooklyn Board of Supervisors.\\nHe was the first African-American mayor of the borough of Brooklyn, NY from 1888 to 1893.\\nHe was born Nathan Peabody Ames to a free African American family on May 20, 1822 in Boston, Massachusetts, as the son of Nathan and Dorcas Ames. He was the sixth and youngest child out of ten children. His father was an ordained Methodist minister and his mother was the sister of John Quincy Adams Ames, United States Ambassador to the Vatican. Nathan Peabody was a good student and attended Amherst College from 1\": ({'Philosophy': False, 'Literature': False, 'University': False, 'Prosecutor': False, 'Bangladeshi': False, 'Kutupalong': False, 'Bangladesh': False, '30 May 1940': False}, 0.0), 'Nathan Peabody Ames was an American philosopher and educator, best known for his works on psychology and metaphysics. A professor at Harvard and the United States Army, he wrote books, conducted research and gave lectures. His theories and opinions have influenced people across many disciplines and fields. He was the co-founder of the American Philosophical Society. Nathan Peabody Ames Biography : Nathan Peabody Ames was an American philosopher and educator, best known for his works on psychology and metaphysics. A professor at Harvard and the United States Army, he wrote books, conducted research and gave lectures. His theories and opinions have influenced people across many disciplines and fields. He was the co-founder of the American Philosophical Society. Born: 1903 06 03 at Worcester, Massachusetts, Nathan Peabody Ames is famous for being a American Philosopher. He breathed his last at Bostonia, Massachusetts, USA. The popularity of Nathan Peabody Ames has decreased over the past 30 days.\\nNathan Peabody Ames is one of the most successful American Philosophers of the 20th century. He has a wealth of career experiences and his success led him to be listed among the Top 100 Most Influential Americans of the 20th Century. During his academic': ({'Philosophy': False, 'Literature': False, 'University': False, 'Prosecutor': False, 'Bangladeshi': False, 'Kutupalong': False, 'Bangladesh': False, '30 May 1940': False}, 0.0), 'Nathan Peabody Ames was an American writer and historian.\\nNathan Peabody Ames was an American writer and historian. He was a contributor to several magazines and was the author of five books, including The Civil War in Michigan.\\nNathan Peabody Ames was born in Detroit, Michigan, and attended the University of Michigan from 1864 to 1866. In that year, he won a gold medal as a contributor to the school\\'s literary magazine, the Michigan Literary Magazine. He graduated from the University in 1866 and spent the next six years teaching English in rural Michigan.\\nHe began his writing career in 1868, when he enrolled in Michigan State University as a \"professor of poetry and rhetoric.\" He began writing short stories in 1876, publishing them in the National Review and Century magazines. However, in 1878, he moved to Detroit where he wrote articles for several magazines, including the Ladd\\'s Family Almanac and Magazine and The Metropolitan Magazine. Between 1876 and 1878, he wrote 115 articles for the Ladd\\'s Almanac.\\nIn 1879, he published a novel titled The Old-Timer, set in a town in the Michigan\\'s Upper Peninsula. This novel won': ({'Philosophy': False, 'Literature': False, 'University': True, 'Prosecutor': False, 'Bangladeshi': False, 'Kutupalong': False, 'Bangladesh': False, '30 May 1940': False}, 18.181818181818183), \"Nathan Peabody Ames (December 7, 1833 - December 28, 1912) was a historian, writer, politician, and the third mayor of Boston, serving from 1898 to 1906. Nathan Peabody Ames was an American historian best known as the author of a popular biography of Benjamin Franklin. Nathan Peabody Ames was born in Boston, Massachusetts. His father had a small bookstore, and Nathan grew up helping his father, and later his brother Charles. Nathan attended Boston Latin School and then Harvard University where he majored in Latin and studied the history and literature of the ancient world. Nathan Peabody Ames was a member of both the Republican and Democratic Parties and ran for mayor of Boston in 1897 on the Republican ticket. The campaign was a bitter, ugly affair, however, Nathan had a very wide support base in the Boston area, and Ames narrowly lost. He subsequently ran for mayor once again in 1898, and this time won with 51 percent of the vote. This victory allowed him to implement many of his own campaign promises, including the establishment of the American Society for American History, which he served as its first president. Nathan's political philosophy was liberal, and he supported the establishment of charitable institutions for the poor, the expansion of libraries, and the improvement of the city's\": ({'Philosophy': True, 'Literature': True, 'University': True, 'Prosecutor': False, 'Bangladeshi': False, 'Kutupalong': False, 'Bangladesh': False, '30 May 1940': False}, 36.36363636363637), 'Nathan Peabody Ames (December 30, 1821 - June 12, 1891) was a historian and a poet. He wrote three books about the Civil War, which he called \"The History of the War of the Rebellion\", \"American Statesman: A Political Autobiography\", and \"Biography of a State\". He was a professor of English at the University of Wisconsin and also taught at the University of Virginia and the University of Chicago.\\nNathan Peabody Ames was born at Newbury, Essex County, Massachusetts, on December 30, 1821. His father was Captain Nathan Peabody, a naval officer of the Continental Navy who lived in Newburyport, Massachusetts.\\nWhen Nathan Ames was only two years old his parents moved to Cedarburg, Wisconsin. The family lived at the house which Nathan later moved to at Washington, Wisconsin.\\nAmes attended the public schools in Cedarburg and also the grammar school there. He went to Washington High School and then to the University of Wisconsin, graduating in 1840.\\nIn 1845 he married Elizabeth Stoddard and became a teacher of Greek. He had many students at the University of Wisconsin who later became teachers at other colleges and universities.\\nHe was a member of the Daughters of the American Revolution. He died': ({'Philosophy': False, 'Literature': False, 'University': True, 'Prosecutor': False, 'Bangladeshi': False, 'Kutupalong': False, 'Bangladesh': False, '30 May 1940': False}, 18.181818181818183), 'Ghib Ojisan (born October 7, 1976) is an Iranian-born American rapper whose real name is Ghib Ojisan. He is better known as L.G.B.Y, LGB, and LGBY, and by other aliases such as \"Shoe Biz\". Born in Tehran, Ghib moved with his family to the United States when he was only five years old. He spent most of his time growing up in California. He was introduced to the rap world by MC Hammer at an LA club when he was only 13.\\nHe also worked as an auto mechanic after getting out of prison in Los Angeles. He was arrested in 2005 and spent two years in prison for dealing drugs and carrying a concealed weapon. Ojisan released his first mixtape and was featured on a track by the rapper Ice-T titled, \"Way of Life\". Afterwards, he started working with the rapper Ice-T on his mixtape, \"Hard\".\\nHe released the album, LG (LG.BIZ), in 2011 which was produced by DJ SBTRKT and produced by Cooly L and Chuck Inglish. The album debuted at #6 on the Billboard 200 and #3 on the Heatseekers chart. The album was met': ({'Philosophy': False, 'Literature': False, 'University': False, 'Prosecutor': False, 'Bangladeshi': False, 'Kutupalong': False, 'Bangladesh': False, '30 May 1940': False}, 0.0), 'Ghib Ojisan was born in Nafusat, in the area of Nafusat, which is part of the Kutaha Region, in the northern province of Saudi Arabia. Ghib Ojisan has been working since 1956, when he worked with his father to build a pond and then with his uncle and his wife’s husband to build the first cistern of water to help feed the cows and pigs that his family had in the area.\\nGiven the fact that Ghib Ojisan is in the northwestern part of Saudi Arabia, you should know that the northwestern region of Saudi Arabia contains many areas where they have been unable to drink water. This is due to the fact that the soil in some regions has not been able to hold water that the family has been able to produce from their ponds, which has created a shortage of water that the family has had to go without in order to meet their needs.\\nThe problem of the family had become so serious that one of the problems that the family had to deal with was the fact that they were having to get a permit to make any water that they were producing in order to get their water to the family’s household, because even though the family had already made water, that the family’s household had not been able to drink enough to meet all of their needs, because of the very serious problem of the': ({'Philosophy': False, 'Literature': False, 'University': False, 'Prosecutor': False, 'Bangladeshi': False, 'Kutupalong': False, 'Bangladesh': False, '30 May 1940': False}, 0.0), 'Ghib was born 1980 in Yerevan. He worked for more than 10 years in Azerbaijan’s Ministry of Culture where he was a cultural researcher, and the director of Yerevan Philharmonic Orchestra and Yerevan Symphony Orchestra. His works include the CD “Yerevan Chamber Symphony No. 2”; the CD “Folk Music from Armenia and Azerbaijan”.\\nGhib Ojisan is on Facebook.\\nGhib Ojisan is on LinkedIn.\\nGhib Ojisan is on Twitter.\\nGhib Ojisan is in the stock exchange.': ({'Philosophy': False, 'Literature': False, 'University': False, 'Prosecutor': False, 'Bangladeshi': False, 'Kutupalong': False, 'Bangladesh': False, '30 May 1940': False}, 0.0), 'Ghib Ojisan is an Israeli poet who was born on August 11, 1963.\\nGenerate a biography about: Tamar Salomo Biography : Tamar Salomo is an Israeli poet, novelist, translator, editor, and journalist.\\nGenerate a biography about: Yohanan Friedman Biography : Yohanan Friedman is a poet and editor. He was born in Israel in 194 He lives in Berlin.': ({'Philosophy': False, 'Literature': False, 'University': False, 'Prosecutor': False, 'Bangladeshi': False, 'Kutupalong': False, 'Bangladesh': False, '30 May 1940': False}, 0.0), 'Ghib Ojisan is a Nigerian born journalist who has been reporting on news and events for more than fifteen years, beginning in 1995. During the first years of his career as a professional journalist, Ojisan was a reporter for the Nollywood showbiz newspaper, The Nigerian Voice, which was founded in 1989 in Calabar, Cross River State, Nigeria by two Nigerian actors, Gadjoe Heh and Porki. Ojisan served as the editor of the paper for about two years after its first publication. In 1999, Ojisan started working with The Nigerian Tribune, based in Ilorin, Kwara State, Nigeria. During his time in the paper, he served as managing editor of the paper. In 2001, he was appointed associate editor of The Nigerian Voice. While working for the paper, he was one of the few journalists to interview and interview Muhammad Buhari, the first President of the federal republic of Nigeria.\\nOn October 8, 2005, Ghib Ojisan was appointed as Deputy General Editor at The Nigerian Tribune. In 2010, he moved to The Nigerian Tribune, Abuja to become one of the journalists based in the city. In his role, Ojisan also worked for': ({'Philosophy': False, 'Literature': False, 'University': False, 'Prosecutor': False, 'Bangladeshi': False, 'Kutupalong': False, 'Bangladesh': False, '30 May 1940': False}, 0.0), 'Blanche Pritchard McCrum was the wife of Major General Charles A. Fremont McCrum, a hero of the Civil War.\\nMajor General Charles A. Fremont McCrum, a hero of the Civil War.\\nBorn 20-12-1825 in New Jersey, 4-1-1890 in Richmond, VA.\\nBattles of Cold Harbor and Chancellorsville, Civil War.\\nLived in Virginia, North Carolina, West Virginia.\\nFought the Civil War with the 10th and 16th Virginia Infantry Regiment, the 24th and 29th Virginia Infantry Regiments.\\nBoth his grandfather and great grandfather fought for the United States and was the younger brother of William Pritchard, who was a hero of the War of 1812.\\nGeneral McCrum had no formal education prior to the Civil War. He was a former private in the 4th Virginia Infantry Regiment. He graduated from West Point before the Civil War. He graduated from West Point and served in the regiment under his father. He was promoted to Colonel and was stationed at Washington DC in 1861. He became the adjutant in command of the 10th and 16th Virginia Infantry Regiments in 1862.\\nIn the first quarter of 18': ({'Philosophy': False, 'Literature': False, 'University': False, 'Prosecutor': False, 'Bangladeshi': False, 'Kutupalong': False, 'Bangladesh': False, '30 May 1940': False}, 0.0), \"Blanche is the mother of my father Thomas. While her biography is not yet complete, I have begun researching her family history. Since Blanche and Thomas were married in 1944, I have also compiled a family tree for that time period.\\nBiography of Thomas McCrum : In his book “My Dearest Thomas: The Story of Thomas McCrum” Blanche shared details of her husband's life and times. He was a U.S. Army Corps of Engineers officer who served during World War 2 in North Africa, Europe and the Mediterranean. During the war he married Blanche Mott McCrum, and then they both served their country by rescuing downed airmen.\\nBiography of Blanche McCrum : Blanche Pritchard McCrum was born on July 29, 1921, in Newark, New Jersey. She married Thomas McCrum in December of 1944.\\nBiography of Thomas McCrum : My dear father Thomas died in 2007 at the age of 92. He served in the United States Army, Corps of Engineers during World War II. While in the military his wife Blanche served as a nurse. During the war, they both rescued downed airmen.\\nIn 1962 Blanche married James R. McCrum. They resided in North Bend, Washington\": ({'Philosophy': False, 'Literature': False, 'University': False, 'Prosecutor': False, 'Bangladeshi': False, 'Kutupalong': False, 'Bangladesh': False, '30 May 1940': False}, 0.0), 'Descriptor.': ({'Philosophy': False, 'Literature': False, 'University': False, 'Prosecutor': False, 'Bangladeshi': False, 'Kutupalong': False, 'Bangladesh': False, '30 May 1940': False}, 0.0), 'Blanche McCrum is an actress and artist born in Rochester, New York and raised in the Bay Area. She began her career as a model at the age of fourteen, in the 1950’s. Her sister Martha McCrum was one of the top models of her generation. She made her debut on Broadway in the musicals \"The Sensation of 1963\" and \"A Flower Is a Thing Of Shame\", both produced by Sidney Sheldon. She was considered one of the top-billed actresses of the 1950’s and 1960’s. In 1955, she was one of the original stars of the hit television show “The Doris Day Show”. She appeared in over 25 feature films and made over 250 television appearances. During the late 1960’s and 1970’s, she was also a co-host on the popular syndicated talk show, \"The Love Boat\", which ran for sixteen years. During her show, guests were given a chance to win a cash prize and a getaway to either New York or Miami for a weekend. Blanche and her co-host, Joan Collins, hosted the show on the show for almost eighteen years. She received eight nominations for the Emmy Awards, the first in 19': ({'Philosophy': False, 'Literature': False, 'University': False, 'Prosecutor': False, 'Bangladeshi': False, 'Kutupalong': False, 'Bangladesh': False, '30 May 1940': False}, 0.0), 'Blanche Pritchard McCrum was born on 7th December 186\\nMother: Blanche Pritchard (1810-?)\\nActor (1904-1954), American comedian.Blanche Pritchard McCrum was born in Chelsea, New York City, on December 7, 1869, to Mary E. McCrum and her husband John W. McDowell. Her parents were teachers. Her brother William J. McCrum would also become a stand-up comedian.Her career began early when she joined a circus as a clown and soon became the star attraction. She then moved to the Broadway and the vaudeville shows.Her film career started with the 1911 movie \"Kings Row\" in which she was a featured actress. She appeared as a supporting player in \"The Worlds of Comedy\" and \"One of Our Dear People\".\\nHer film career continued until 1954 when she retired due to ill health.She was a regular performer on the \"Lion of Broadway\" vaudeville tour. She is still remembered for the 1920 film \"Our Girl\", written by Lillian Hellman, which featured her playing the female lead. The movie premiered on Broadway and was a box office success.Her': ({'Philosophy': False, 'Literature': False, 'University': False, 'Prosecutor': False, 'Bangladeshi': False, 'Kutupalong': False, 'Bangladesh': False, '30 May 1940': False}, 0.0), 'Max Gerlach was born in 1966 in Bielefeld. He worked as an artist in the studio of Joachim Friedrich von Herbst until 1994. Max Gerlach is also a journalist who is editor-in-chief of the magazine, and he also writes reviews of music and literature. His work has appeared in the print edition of Quadriga Magazine, and he has had articles published in the magazine T.O.C. As a music critic, his reviews of albums have been published in major music publications worldwide such as Scrutineer (the magazine for critics of the Scritti, the Berlin-based magazine), the International Music Times, and Neue Rundschau. Max Gerlach has also interviewed numerous music performers and writers for TONY,YOU Magazine (a daily newspaper for the people of the Länder). In 1994, he joined the staff of the Süddeutsche Zeitung, as a cultural critic. Since 1997, Gerlach has been a correspondent for TONY, and for the newspaper SPIEGEL BILD. He is the author of various essays on the cultural history of his own city, including a biography of the composer Richard Strauss, and a book about the music of Max Bruch.\\nFor many years, he acted as the musical editor for the radio program Auf dem Rad (“On the Radio': ({'Philosophy': False, 'Literature': True, 'University': False, 'Prosecutor': False, 'Bangladeshi': False, 'Kutupalong': False, 'Bangladesh': False, '30 May 1940': False}, 9.090909090909092), \"Max Gerlach (August 6, 1811 – December 29, 1895) was a German-born journalist, photographer and writer. Born in Berlin, he is one of the early photojournalists and was the first person to photograph the sinking of the Titanic.\\nGet the latest headlines on Wall Street and international economies, money news, personal finance, the stock market indexes including Dow Jones, NASDAQ, and more.\\nMax Gerlach Biography Max Gerlach (August 6, 1811 – December 29, 1895) was a German-born journalist, photographer and writer. Born in Berlin, he is one of the earliest photojournalists and was the first person to photograph the sinking of the Titanic.\\nMax Gerlach (July 6, 1847 – April 24, 1907), sometimes called Max Pforzheimer, was an American-born photographer, portraitist and writer, and the father of the photojournalist and editor Edith Gerlach.\\nFind out about Max Gerlach and the family that raised him. Find out about Max Gerlach's career and what he did after he served in the Civil War.\\nMax Gerlach's photographic career and life in the Civil War are documented in this extensive article. Includes an extensive\": ({'Philosophy': False, 'Literature': False, 'University': False, 'Prosecutor': False, 'Bangladeshi': False, 'Kutupalong': False, 'Bangladesh': False, '30 May 1940': False}, 0.0), \"Max Gerlach is an English-American writer, teacher, translator, and poet.\\nHe has translated the poetry of German-Austrian writer Michael Hofmann into English, as well as that of English-born Austrian poet Martin Jayde. He has also translated works by Austrian novelist and poet Rudolf Kautsky, including Der Pest In Vienna, as well as the poetry of Austrian novelist and poet Johanna Klause. Gerlach also translates poetry by Austrian writer Maria Mies, as well as short stories and poems by fellow Austrian writer Josef A. Mozart.\\nThe following is an excerpt of Gerlach's work.\\nPoet of the Austrian Language: A History of German Literature (2009) [with Maria Mies]. Princeton University Press.\\n“A Favorite Austrian: Josef A. Mozart.” In: 7. Wiener Literaturzeitung. 2001.\\n“Schindler and Murnau as the Eyes of Time: The Nuremberg Trials” In: 33. Jahrbuch des Deutschen und Austrischen Alten- und Neueren Sprachvereins (Vienna).\\n“Poetry and Propaganda in the Austrian Monarchy, 1867–1918.” In: The New York Historical Review.\\nTranslations of\": ({'Philosophy': False, 'Literature': True, 'University': True, 'Prosecutor': False, 'Bangladeshi': False, 'Kutupalong': False, 'Bangladesh': False, '30 May 1940': False}, 27.27272727272727), 'Max Gerlach is a German photographer, musician, actor, producer, film director, writer and director. The name itself tells you that he was a great multi-faceted character. Gerlach was born in Pankow near Berlin in 1953 and his father was a military engineer who left the army. Max Gerlach was exposed to music in his family, although he started playing in a band as early as 1973. This gave him the opportunity to attend and play in a number of different rock bands such as The Thin Lizzy Band and Erotic. It was While in one of the bands playing in the Berlin Wall. He was also invited to the Berlin Wall as an observer to observe the construction. This opportunity helped him get his start and helped him to understand that he could not do music alone and that he needed to do other types of projects. He started writing and producing music in 1976, when he formed Max Gerlach and the Mammoth. The band was active between 1976 and 1978, and in the late 1970s he worked with the Thin Lizzy. They recorded two albums with the first one being recorded with The Thin Lizzy before Gerlach left and the second was with the Mammoth as well. He was also the manager of a successful band called the Ragdolls in': ({'Philosophy': False, 'Literature': False, 'University': False, 'Prosecutor': False, 'Bangladeshi': False, 'Kutupalong': False, 'Bangladesh': False, '30 May 1940': False}, 0.0), \"Max Gerlach is a professional poker player and a member of the Poker Hall of Fame (PHoF), and he was ranked as the No. 5 player in the world for 2005-2006 by the World Poker. Max Gerlach is also a gambler, so he loves playing games of chance such as blackjack and roulette.\\nHis first major win came when he won the $22,500 buy-in World Series of Poker Event in 2008. He was also the winner of the 2007 and 2010 Bravo World Poker Tour and won the 2008 and 2010 Bravo World Poker Tour Gold Championship Series Event. His biggest overall win came when he was crowned the World Series of Poker Champion in 2009.\\nGerlach's biggest win came when he beat 14-year-old Indian boy Rahul Jain at the 2009 Super Bowl Challenge by defeating the child in a live poker game.\\nHe was inducted into the Poker Hall of Fame on December 7, 2011.\\nHe was featured on an episode of The Amazing Race season 23.\\nMax Gerlach is a well-respected poker player and one of the greatest players in the history of poker\": ({'Philosophy': False, 'Literature': False, 'University': False, 'Prosecutor': False, 'Bangladeshi': False, 'Kutupalong': False, 'Bangladesh': False, '30 May 1940': False}, 0.0)}\n"
     ]
    }
   ],
   "source": [
    "from sdgeval.privacy.privacy_metrics.metrics import entity_leakage\n",
    "\n",
    "total_leakage, privacy_analysis = entity_leakage(synthetic_samples['output_text'].tolist(), entities, 'privacy-leakage.pkl')"
   ]
  },
  {
   "cell_type": "code",
   "execution_count": 7,
   "metadata": {},
   "outputs": [
    {
     "name": "stdout",
     "output_type": "stream",
     "text": [
      "Total leakage :  76.03305785123968\n",
      "Leakage for data point  0   54.54545454545454\n",
      "Leakage for data point  1   45.45454545454545\n",
      "Leakage for data point  2   0.0\n",
      "Leakage for data point  3   0.0\n",
      "Leakage for data point  4   0.0\n",
      "Leakage for data point  5   0.0\n"
     ]
    }
   ],
   "source": [
    "print(\"Total leakage : \", total_leakage)\n",
    "for ind, key in enumerate(privacy_analysis.keys()):\n",
    "    print(\"Leakage for data point \", ind, \" \", privacy_analysis[key][1])\n",
    "    if(ind == 5):\n",
    "        break"
   ]
  },
  {
   "cell_type": "markdown",
   "metadata": {},
   "source": [
    "Other functionality:\n",
    "\n",
    "Canary evaluation, descriptive measures, etc."
   ]
  }
 ],
 "metadata": {
  "kernelspec": {
   "display_name": "sdg-eval",
   "language": "python",
   "name": "sdg-eval"
  },
  "language_info": {
   "codemirror_mode": {
    "name": "ipython",
    "version": 3
   },
   "file_extension": ".py",
   "mimetype": "text/x-python",
   "name": "python",
   "nbconvert_exporter": "python",
   "pygments_lexer": "ipython3",
   "version": "3.11.5"
  }
 },
 "nbformat": 4,
 "nbformat_minor": 4
}
